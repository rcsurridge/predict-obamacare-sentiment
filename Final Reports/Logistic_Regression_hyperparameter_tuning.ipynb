{
 "cells": [
  {
   "cell_type": "markdown",
   "metadata": {},
   "source": [
    "# A Sentiment Analysis of Yelp Reviews"
   ]
  },
  {
   "cell_type": "markdown",
   "metadata": {},
   "source": [
    "### 1. Import necessary packages:"
   ]
  },
  {
   "cell_type": "code",
   "execution_count": 1,
   "metadata": {},
   "outputs": [
    {
     "name": "stderr",
     "output_type": "stream",
     "text": [
      "C:\\Users\\user\\Anaconda3\\lib\\site-packages\\pandas\\compat\\_optional.py:138: UserWarning: Pandas requires version '2.7.0' or newer of 'numexpr' (version '2.6.9' currently installed).\n",
      "  warnings.warn(msg, UserWarning)\n",
      "C:\\Users\\user\\Anaconda3\\lib\\site-packages\\statsmodels\\tools\\_testing.py:19: FutureWarning: pandas.util.testing is deprecated. Use the functions in the public API at pandas.testing instead.\n",
      "  import pandas.util.testing as tm\n",
      "[nltk_data] Downloading package stopwords to\n",
      "[nltk_data]     C:\\Users\\user\\AppData\\Roaming\\nltk_data...\n",
      "[nltk_data]   Package stopwords is already up-to-date!\n"
     ]
    }
   ],
   "source": [
    "import pandas as pd\n",
    "import json\n",
    "import matplotlib.pyplot as plt\n",
    "import seaborn as sns\n",
    "import nltk\n",
    "nltk.download('stopwords')\n",
    "from nltk.corpus import stopwords\n",
    "import string\n",
    "from sklearn.feature_extraction.text import CountVectorizer\n",
    "from sklearn.model_selection import train_test_split\n",
    "from sklearn.metrics import classification_report, confusion_matrix, accuracy_score, f1_score\n",
    "%matplotlib inline"
   ]
  },
  {
   "cell_type": "markdown",
   "metadata": {},
   "source": [
    "### 2b. Load the dataset with a sample of 100,000 Yelp reviews, explore the metadata, and add a column \"length\" that contains the number of words per review:"
   ]
  },
  {
   "cell_type": "code",
   "execution_count": 2,
   "metadata": {},
   "outputs": [
    {
     "name": "stdout",
     "output_type": "stream",
     "text": [
      "\n",
      "Shape of the dataset: (100000, 10)\n",
      "\n",
      "Dataset Summary:\n"
     ]
    },
    {
     "name": "stderr",
     "output_type": "stream",
     "text": [
      "C:\\Users\\user\\Anaconda3\\lib\\site-packages\\ipykernel_launcher.py:18: FutureWarning: Treating datetime data as categorical rather than numeric in `.describe` is deprecated and will be removed in a future version of pandas. Specify `datetime_is_numeric=True` to silence this warning and adopt the future behavior now.\n"
     ]
    },
    {
     "data": {
      "text/html": [
       "<div>\n",
       "<style scoped>\n",
       "    .dataframe tbody tr th:only-of-type {\n",
       "        vertical-align: middle;\n",
       "    }\n",
       "\n",
       "    .dataframe tbody tr th {\n",
       "        vertical-align: top;\n",
       "    }\n",
       "\n",
       "    .dataframe thead th {\n",
       "        text-align: right;\n",
       "    }\n",
       "</style>\n",
       "<table border=\"1\" class=\"dataframe\">\n",
       "  <thead>\n",
       "    <tr style=\"text-align: right;\">\n",
       "      <th></th>\n",
       "      <th>review_id</th>\n",
       "      <th>user_id</th>\n",
       "      <th>business_id</th>\n",
       "      <th>stars</th>\n",
       "      <th>useful</th>\n",
       "      <th>funny</th>\n",
       "      <th>cool</th>\n",
       "      <th>text</th>\n",
       "      <th>date</th>\n",
       "      <th>length</th>\n",
       "    </tr>\n",
       "  </thead>\n",
       "  <tbody>\n",
       "    <tr>\n",
       "      <th>count</th>\n",
       "      <td>100000</td>\n",
       "      <td>100000</td>\n",
       "      <td>100000</td>\n",
       "      <td>100000.000000</td>\n",
       "      <td>100000.000000</td>\n",
       "      <td>100000.000000</td>\n",
       "      <td>100000.000000</td>\n",
       "      <td>100000</td>\n",
       "      <td>100000</td>\n",
       "      <td>100000.000000</td>\n",
       "    </tr>\n",
       "    <tr>\n",
       "      <th>unique</th>\n",
       "      <td>100000</td>\n",
       "      <td>79345</td>\n",
       "      <td>9973</td>\n",
       "      <td>NaN</td>\n",
       "      <td>NaN</td>\n",
       "      <td>NaN</td>\n",
       "      <td>NaN</td>\n",
       "      <td>99964</td>\n",
       "      <td>99906</td>\n",
       "      <td>NaN</td>\n",
       "    </tr>\n",
       "    <tr>\n",
       "      <th>top</th>\n",
       "      <td>KU_O5udG6zpxOg-VcAEodg</td>\n",
       "      <td>_BcWyKQL16ndpBdggh2kNA</td>\n",
       "      <td>GBTPC53ZrG1ZBY3DT8Mbcw</td>\n",
       "      <td>NaN</td>\n",
       "      <td>NaN</td>\n",
       "      <td>NaN</td>\n",
       "      <td>NaN</td>\n",
       "      <td>Service was a little slow to start but improve...</td>\n",
       "      <td>2017-01-15 18:04:45</td>\n",
       "      <td>NaN</td>\n",
       "    </tr>\n",
       "    <tr>\n",
       "      <th>freq</th>\n",
       "      <td>1</td>\n",
       "      <td>65</td>\n",
       "      <td>950</td>\n",
       "      <td>NaN</td>\n",
       "      <td>NaN</td>\n",
       "      <td>NaN</td>\n",
       "      <td>NaN</td>\n",
       "      <td>2</td>\n",
       "      <td>2</td>\n",
       "      <td>NaN</td>\n",
       "    </tr>\n",
       "    <tr>\n",
       "      <th>first</th>\n",
       "      <td>NaN</td>\n",
       "      <td>NaN</td>\n",
       "      <td>NaN</td>\n",
       "      <td>NaN</td>\n",
       "      <td>NaN</td>\n",
       "      <td>NaN</td>\n",
       "      <td>NaN</td>\n",
       "      <td>NaN</td>\n",
       "      <td>2005-03-01 17:47:15</td>\n",
       "      <td>NaN</td>\n",
       "    </tr>\n",
       "    <tr>\n",
       "      <th>last</th>\n",
       "      <td>NaN</td>\n",
       "      <td>NaN</td>\n",
       "      <td>NaN</td>\n",
       "      <td>NaN</td>\n",
       "      <td>NaN</td>\n",
       "      <td>NaN</td>\n",
       "      <td>NaN</td>\n",
       "      <td>NaN</td>\n",
       "      <td>2018-10-04 18:22:35</td>\n",
       "      <td>NaN</td>\n",
       "    </tr>\n",
       "    <tr>\n",
       "      <th>mean</th>\n",
       "      <td>NaN</td>\n",
       "      <td>NaN</td>\n",
       "      <td>NaN</td>\n",
       "      <td>3.842910</td>\n",
       "      <td>0.898980</td>\n",
       "      <td>0.257180</td>\n",
       "      <td>0.347030</td>\n",
       "      <td>NaN</td>\n",
       "      <td>NaN</td>\n",
       "      <td>548.438330</td>\n",
       "    </tr>\n",
       "    <tr>\n",
       "      <th>std</th>\n",
       "      <td>NaN</td>\n",
       "      <td>NaN</td>\n",
       "      <td>NaN</td>\n",
       "      <td>1.354729</td>\n",
       "      <td>2.205186</td>\n",
       "      <td>1.010212</td>\n",
       "      <td>1.066382</td>\n",
       "      <td>NaN</td>\n",
       "      <td>NaN</td>\n",
       "      <td>501.703274</td>\n",
       "    </tr>\n",
       "    <tr>\n",
       "      <th>min</th>\n",
       "      <td>NaN</td>\n",
       "      <td>NaN</td>\n",
       "      <td>NaN</td>\n",
       "      <td>1.000000</td>\n",
       "      <td>0.000000</td>\n",
       "      <td>0.000000</td>\n",
       "      <td>0.000000</td>\n",
       "      <td>NaN</td>\n",
       "      <td>NaN</td>\n",
       "      <td>3.000000</td>\n",
       "    </tr>\n",
       "    <tr>\n",
       "      <th>25%</th>\n",
       "      <td>NaN</td>\n",
       "      <td>NaN</td>\n",
       "      <td>NaN</td>\n",
       "      <td>3.000000</td>\n",
       "      <td>0.000000</td>\n",
       "      <td>0.000000</td>\n",
       "      <td>0.000000</td>\n",
       "      <td>NaN</td>\n",
       "      <td>NaN</td>\n",
       "      <td>226.000000</td>\n",
       "    </tr>\n",
       "    <tr>\n",
       "      <th>50%</th>\n",
       "      <td>NaN</td>\n",
       "      <td>NaN</td>\n",
       "      <td>NaN</td>\n",
       "      <td>4.000000</td>\n",
       "      <td>0.000000</td>\n",
       "      <td>0.000000</td>\n",
       "      <td>0.000000</td>\n",
       "      <td>NaN</td>\n",
       "      <td>NaN</td>\n",
       "      <td>395.000000</td>\n",
       "    </tr>\n",
       "    <tr>\n",
       "      <th>75%</th>\n",
       "      <td>NaN</td>\n",
       "      <td>NaN</td>\n",
       "      <td>NaN</td>\n",
       "      <td>5.000000</td>\n",
       "      <td>1.000000</td>\n",
       "      <td>0.000000</td>\n",
       "      <td>0.000000</td>\n",
       "      <td>NaN</td>\n",
       "      <td>NaN</td>\n",
       "      <td>693.000000</td>\n",
       "    </tr>\n",
       "    <tr>\n",
       "      <th>max</th>\n",
       "      <td>NaN</td>\n",
       "      <td>NaN</td>\n",
       "      <td>NaN</td>\n",
       "      <td>5.000000</td>\n",
       "      <td>320.000000</td>\n",
       "      <td>98.000000</td>\n",
       "      <td>49.000000</td>\n",
       "      <td>NaN</td>\n",
       "      <td>NaN</td>\n",
       "      <td>5000.000000</td>\n",
       "    </tr>\n",
       "  </tbody>\n",
       "</table>\n",
       "</div>"
      ],
      "text/plain": [
       "                     review_id                 user_id  \\\n",
       "count                   100000                  100000   \n",
       "unique                  100000                   79345   \n",
       "top     KU_O5udG6zpxOg-VcAEodg  _BcWyKQL16ndpBdggh2kNA   \n",
       "freq                         1                      65   \n",
       "first                      NaN                     NaN   \n",
       "last                       NaN                     NaN   \n",
       "mean                       NaN                     NaN   \n",
       "std                        NaN                     NaN   \n",
       "min                        NaN                     NaN   \n",
       "25%                        NaN                     NaN   \n",
       "50%                        NaN                     NaN   \n",
       "75%                        NaN                     NaN   \n",
       "max                        NaN                     NaN   \n",
       "\n",
       "                   business_id          stars         useful          funny  \\\n",
       "count                   100000  100000.000000  100000.000000  100000.000000   \n",
       "unique                    9973            NaN            NaN            NaN   \n",
       "top     GBTPC53ZrG1ZBY3DT8Mbcw            NaN            NaN            NaN   \n",
       "freq                       950            NaN            NaN            NaN   \n",
       "first                      NaN            NaN            NaN            NaN   \n",
       "last                       NaN            NaN            NaN            NaN   \n",
       "mean                       NaN       3.842910       0.898980       0.257180   \n",
       "std                        NaN       1.354729       2.205186       1.010212   \n",
       "min                        NaN       1.000000       0.000000       0.000000   \n",
       "25%                        NaN       3.000000       0.000000       0.000000   \n",
       "50%                        NaN       4.000000       0.000000       0.000000   \n",
       "75%                        NaN       5.000000       1.000000       0.000000   \n",
       "max                        NaN       5.000000     320.000000      98.000000   \n",
       "\n",
       "                 cool                                               text  \\\n",
       "count   100000.000000                                             100000   \n",
       "unique            NaN                                              99964   \n",
       "top               NaN  Service was a little slow to start but improve...   \n",
       "freq              NaN                                                  2   \n",
       "first             NaN                                                NaN   \n",
       "last              NaN                                                NaN   \n",
       "mean         0.347030                                                NaN   \n",
       "std          1.066382                                                NaN   \n",
       "min          0.000000                                                NaN   \n",
       "25%          0.000000                                                NaN   \n",
       "50%          0.000000                                                NaN   \n",
       "75%          0.000000                                                NaN   \n",
       "max         49.000000                                                NaN   \n",
       "\n",
       "                       date         length  \n",
       "count                100000  100000.000000  \n",
       "unique                99906            NaN  \n",
       "top     2017-01-15 18:04:45            NaN  \n",
       "freq                      2            NaN  \n",
       "first   2005-03-01 17:47:15            NaN  \n",
       "last    2018-10-04 18:22:35            NaN  \n",
       "mean                    NaN     548.438330  \n",
       "std                     NaN     501.703274  \n",
       "min                     NaN       3.000000  \n",
       "25%                     NaN     226.000000  \n",
       "50%                     NaN     395.000000  \n",
       "75%                     NaN     693.000000  \n",
       "max                     NaN    5000.000000  "
      ]
     },
     "execution_count": 2,
     "metadata": {},
     "output_type": "execute_result"
    }
   ],
   "source": [
    "yelp_data = pd.read_json('C:/Users/user/Downloads/Spring 2023/MACHINE LEARNING/Project/yelp_academic_dataset_review.json', \n",
    "                         lines=True, chunksize=100_000)\n",
    "for chunk in yelp_data:\n",
    "    yelp_sample_hund_thou = chunk\n",
    "    result = chunk.to_json(orient=\"records\")\n",
    "    with open(\"yelp_sample.json\", \"w\") as f:\n",
    "        json.dump(result, f)\n",
    "    break\n",
    "\n",
    "yelp_sample_hund_thou['length'] = yelp_sample_hund_thou['text'].apply(len)\n",
    "yelp_sample_hund_thou['stars'] = yelp_sample_hund_thou['stars'].astype(float)\n",
    "\n",
    "print()\n",
    "print(\"Shape of the dataset:\", yelp_sample_hund_thou.shape)\n",
    "\n",
    "print()\n",
    "print(\"Dataset Summary:\")\n",
    "yelp_sample_hund_thou.describe(include='all')\n"
   ]
  },
  {
   "cell_type": "markdown",
   "metadata": {},
   "source": [
    "### 3. Plot histograms of review length frenquencies by the star rating:"
   ]
  },
  {
   "cell_type": "code",
   "execution_count": 3,
   "metadata": {},
   "outputs": [
    {
     "data": {
      "text/plain": [
       "Text(0.5, 1.0, 'Star Rating Frequency with a RAW Sample of Hundred Thousand')"
      ]
     },
     "execution_count": 3,
     "metadata": {},
     "output_type": "execute_result"
    },
    {
     "data": {
      "image/png": "[encoded data removed]",
      "text/plain": [
       "<Figure size 432x288 with 1 Axes>"
      ]
     },
     "metadata": {
      "needs_background": "light"
     },
     "output_type": "display_data"
    }
   ],
   "source": [
    "graph_star_freq_raw = plt.hist(yelp_sample_hund_thou['stars'], bins=5, color='blue')\n",
    "plt.title('Star Rating Frequency with a RAW Sample of Hundred Thousand')"
   ]
  },
  {
   "cell_type": "code",
   "execution_count": 5,
   "metadata": {},
   "outputs": [
    {
     "data": {
      "text/plain": [
       "Text(0.5, 1.0, 'Star Rating Frequency with a NORMALIZED Sample of One Million Reviews')"
      ]
     },
     "execution_count": 5,
     "metadata": {},
     "output_type": "execute_result"
    },
    {
     "data": {
      "image/png": "[encoded data removed]",
      "text/plain": [
       "<Figure size 432x288 with 1 Axes>"
      ]
     },
     "metadata": {
      "needs_background": "light"
     },
     "output_type": "display_data"
    }
   ],
   "source": [
    "star_counts = yelp_sample_hund_thou['stars'].value_counts()\n",
    "min_count = star_counts.min()\n",
    "yelp_sample_equal_hund_thou = yelp_sample_hund_thou.groupby('stars').apply(lambda x: x[:min_count])\n",
    "count_hund_thou = yelp_sample_equal_hund_thou['stars'].value_counts()\n",
    "\n",
    "\n",
    "graph_star_freq_normal = plt.hist(yelp_sample_equal_hund_thou['stars'], bins=5, color='blue')\n",
    "plt.title('Star Rating Frequency with a NORMALIZED Sample of One Million Reviews')"
   ]
  },
  {
   "cell_type": "markdown",
   "metadata": {},
   "source": [
    "We want to note here that our sample dataset is biased to more positive reviews than negative reviews. As a result, we should proceed with caution when classifying, training, and predicting with this dataset."
   ]
  },
  {
   "cell_type": "markdown",
   "metadata": {},
   "source": [
    "### 4.b.i. Classify 100,000 standardized reviews into 1-star (negative), 2-star (negative), 3-star (neutral), 4-star (positive), and 5-star (positive) classes and separate the dataset into X and Y subsets for prediction:"
   ]
  },
  {
   "cell_type": "code",
   "execution_count": 45,
   "metadata": {},
   "outputs": [
    {
     "name": "stdout",
     "output_type": "stream",
     "text": [
      "\n",
      "Shape of the dataset: (39940, 2)\n",
      "\n",
      "A few X entries\n",
      "stars       \n",
      "1.0    5        I am a long term frequent customer of this est...\n",
      "       47       If you want to pay for everything a la carte t...\n",
      "       64       The TV shows are $4.99 and they have commercia...\n",
      "       73       If I could give it a zero, I would. I order a ...\n",
      "       79       We visited once and were very disappointed in ...\n",
      "                                      ...                        \n",
      "5.0    17954    Amidst a long, exciting day of shopping, my fr...\n",
      "       17958    Great services for a great price! Nail techs a...\n",
      "       17959    The most amazing place for a guilt free breakf...\n",
      "       17961    Super cute florist shop. Nice gifts (they offe...\n",
      "       17964    Omg. The shrimp and grits were amazingly rich ...\n",
      "Name: text, Length: 39940, dtype: object\n",
      "\n",
      "A few Y entries\n",
      "stars       \n",
      "1.0    5        1.0\n",
      "       47       1.0\n",
      "       64       1.0\n",
      "       73       1.0\n",
      "       79       1.0\n",
      "               ... \n",
      "5.0    17954    5.0\n",
      "       17958    5.0\n",
      "       17959    5.0\n",
      "       17961    5.0\n",
      "       17964    5.0\n",
      "Name: stars, Length: 39940, dtype: float64\n"
     ]
    }
   ],
   "source": [
    "yelp_classify = yelp_sample_equal_hund_thou.loc[:, ['stars', 'text']]\n",
    "\n",
    "print()\n",
    "print(\"Shape of the dataset:\", yelp_classify.shape)\n",
    "\n",
    "x_hund_thou_five = yelp_classify['text']\n",
    "y_hund_thou_five = yelp_classify['stars']\n",
    "\n",
    "print()\n",
    "print(\"A few X entries\")\n",
    "print(x_hund_thou_five)\n",
    "\n",
    "print()\n",
    "print(\"A few Y entries\")\n",
    "print(y_hund_thou_five)"
   ]
  },
  {
   "cell_type": "markdown",
   "metadata": {},
   "source": [
    "### 4.b.ii. Classify 100,000 standardized reviews into 1-star (negative) and 5-star (positive) classes and separate the dataset into X and Y subsets for prediction:"
   ]
  },
  {
   "cell_type": "code",
   "execution_count": 15,
   "metadata": {},
   "outputs": [
    {
     "name": "stdout",
     "output_type": "stream",
     "text": [
      "\n",
      "Shape of the dataset: (15976, 2)\n",
      "\n",
      "A few X entries\n",
      "stars       \n",
      "1.0    5        I am a long term frequent customer of this est...\n",
      "       47       If you want to pay for everything a la carte t...\n",
      "       64       The TV shows are $4.99 and they have commercia...\n",
      "       73       If I could give it a zero, I would. I order a ...\n",
      "       79       We visited once and were very disappointed in ...\n",
      "                                      ...                        \n",
      "5.0    17954    Amidst a long, exciting day of shopping, my fr...\n",
      "       17958    Great services for a great price! Nail techs a...\n",
      "       17959    The most amazing place for a guilt free breakf...\n",
      "       17961    Super cute florist shop. Nice gifts (they offe...\n",
      "       17964    Omg. The shrimp and grits were amazingly rich ...\n",
      "Name: text, Length: 15976, dtype: object\n",
      "\n",
      "A few Y entries\n",
      "stars       \n",
      "1.0    5        1.0\n",
      "       47       1.0\n",
      "       64       1.0\n",
      "       73       1.0\n",
      "       79       1.0\n",
      "               ... \n",
      "5.0    17954    5.0\n",
      "       17958    5.0\n",
      "       17959    5.0\n",
      "       17961    5.0\n",
      "       17964    5.0\n",
      "Name: stars, Length: 15976, dtype: float64\n"
     ]
    }
   ],
   "source": [
    "yelp_classify = yelp_sample_equal_hund_thou.loc[:, ['stars', 'text']]\n",
    "data_classes = yelp_classify[(yelp_classify['stars']==1) | \n",
    "                           (yelp_classify['stars']==5)]\n",
    "\n",
    "print()\n",
    "print(\"Shape of the dataset:\", data_classes.shape)\n",
    "\n",
    "x_hund_thou_two = data_classes['text']\n",
    "y_hund_thou_two = data_classes['stars']\n",
    "\n",
    "print()\n",
    "print(\"A few X entries\")\n",
    "print(x_hund_thou_two)\n",
    "\n",
    "print()\n",
    "print(\"A few Y entries\")\n",
    "print(y_hund_thou_two)"
   ]
  },
  {
   "cell_type": "markdown",
   "metadata": {},
   "source": [
    "### 4.b.iii. Classify 100,000 standardized reviews into 1-star (negative), 3-star (neutral), and 5-star (positive) classes and separate the dataset into X and Y subsets for prediction:"
   ]
  },
  {
   "cell_type": "code",
   "execution_count": 51,
   "metadata": {},
   "outputs": [
    {
     "name": "stdout",
     "output_type": "stream",
     "text": [
      "\n",
      "Shape of the dataset: (23964, 2)\n",
      "\n",
      "A few X entries\n",
      "stars       \n",
      "1.0    5        I am a long term frequent customer of this est...\n",
      "       47       If you want to pay for everything a la carte t...\n",
      "       64       The TV shows are $4.99 and they have commercia...\n",
      "       73       If I could give it a zero, I would. I order a ...\n",
      "       79       We visited once and were very disappointed in ...\n",
      "                                      ...                        \n",
      "5.0    17954    Amidst a long, exciting day of shopping, my fr...\n",
      "       17958    Great services for a great price! Nail techs a...\n",
      "       17959    The most amazing place for a guilt free breakf...\n",
      "       17961    Super cute florist shop. Nice gifts (they offe...\n",
      "       17964    Omg. The shrimp and grits were amazingly rich ...\n",
      "Name: text, Length: 23964, dtype: object\n",
      "\n",
      "A few Y entries\n",
      "stars       \n",
      "1.0    5        1.0\n",
      "       47       1.0\n",
      "       64       1.0\n",
      "       73       1.0\n",
      "       79       1.0\n",
      "               ... \n",
      "5.0    17954    5.0\n",
      "       17958    5.0\n",
      "       17959    5.0\n",
      "       17961    5.0\n",
      "       17964    5.0\n",
      "Name: stars, Length: 23964, dtype: float64\n"
     ]
    }
   ],
   "source": [
    "yelp_classify = yelp_sample_equal_hund_thou.loc[:, ['stars', 'text']]\n",
    "data_classes = yelp_classify[(yelp_classify['stars']==1) | \n",
    "                           (yelp_classify['stars']==3) | \n",
    "                           (yelp_classify['stars']==5)]\n",
    "\n",
    "print()\n",
    "print(\"Shape of the dataset:\", data_classes.shape)\n",
    "\n",
    "x_hund_thou_three = data_classes['text']\n",
    "y_hund_thou_three = data_classes['stars']\n",
    "\n",
    "print()\n",
    "print(\"A few X entries\")\n",
    "print(x_hund_thou_three)\n",
    "\n",
    "print()\n",
    "print(\"A few Y entries\")\n",
    "print(y_hund_thou_three)"
   ]
  },
  {
   "cell_type": "markdown",
   "metadata": {},
   "source": [
    "### 5. Clean the review text by removing stopwords and punctuation:"
   ]
  },
  {
   "cell_type": "code",
   "execution_count": 52,
   "metadata": {},
   "outputs": [],
   "source": [
    "def process_text(text):\n",
    "    nopunc = [char for char in text if char not in string.punctuation]\n",
    "    nopunc = ''.join(nopunc)\n",
    "    return [word for word in nopunc.split() if word.lower() not in stopwords.words('english')]"
   ]
  },
  {
   "cell_type": "markdown",
   "metadata": {},
   "source": [
    "### 6.b.i. Convert 100,000 (1-star, 2-star, 3-star, 4-star, and 5-star) reviews into vectors:"
   ]
  },
  {
   "cell_type": "code",
   "execution_count": 47,
   "metadata": {},
   "outputs": [
    {
     "name": "stdout",
     "output_type": "stream",
     "text": [
      "\n",
      "Number of possible words: 76896\n",
      "\n",
      "Sample Uncleaned Review:\n",
      "5        I am a long term frequent customer of this est...\n",
      "47       If you want to pay for everything a la carte t...\n",
      "64       The TV shows are $4.99 and they have commercia...\n",
      "73       If I could give it a zero, I would. I order a ...\n",
      "79       We visited once and were very disappointed in ...\n",
      "                               ...                        \n",
      "73375    So I've never been to BK, but I'd always heard...\n",
      "73382    Went to Praline Connection in 2004 and loved i...\n",
      "73390    There's a reason a nail salon is empty at noon...\n",
      "73401    TERRIBLE, TERRIBLE SERVICE. Got the wild salmo...\n",
      "73426    The order was not correct and a member of the ...\n",
      "Name: text, Length: 7988, dtype: object\n",
      "\n",
      "Vectorized Review:\n",
      "  (0, 0)\t79\n",
      "  (0, 85)\t1\n",
      "  (0, 88)\t1\n",
      "  (0, 89)\t419\n",
      "  (0, 90)\t493\n",
      "  (0, 91)\t23\n",
      "  (0, 92)\t7\n",
      "  (0, 106)\t1\n",
      "  (0, 108)\t1\n",
      "  (0, 109)\t1\n",
      "  (0, 120)\t1\n",
      "  (0, 123)\t1\n",
      "  (0, 125)\t2\n",
      "  (0, 162)\t1\n",
      "  (0, 207)\t1\n",
      "  (0, 210)\t1\n",
      "  (0, 215)\t1\n",
      "  (0, 216)\t3\n",
      "  (0, 217)\t3\n",
      "  (0, 230)\t1\n",
      "  (0, 232)\t4\n",
      "  (0, 234)\t5\n",
      "  (0, 237)\t2\n",
      "  (0, 241)\t1\n",
      "  (0, 242)\t1\n",
      "  :\t:\n",
      "  (0, 76765)\t1\n",
      "  (0, 76772)\t1\n",
      "  (0, 76784)\t172\n",
      "  (0, 76798)\t1\n",
      "  (0, 76800)\t1\n",
      "  (0, 76802)\t2\n",
      "  (0, 76803)\t1\n",
      "  (0, 76804)\t2\n",
      "  (0, 76805)\t2\n",
      "  (0, 76806)\t1\n",
      "  (0, 76807)\t2\n",
      "  (0, 76811)\t1\n",
      "  (0, 76813)\t1\n",
      "  (0, 76815)\t1\n",
      "  (0, 76817)\t2\n",
      "  (0, 76819)\t3\n",
      "  (0, 76823)\t5\n",
      "  (0, 76834)\t8\n",
      "  (0, 76846)\t1\n",
      "  (0, 76849)\t1\n",
      "  (0, 76853)\t1\n",
      "  (0, 76854)\t1\n",
      "  (0, 76870)\t1\n",
      "  (0, 76871)\t1\n",
      "  (0, 76895)\t1\n",
      "\n",
      "Return word from index 5000: Bellied\n",
      "Return word from index 20000: Philly\n"
     ]
    }
   ],
   "source": [
    "vocab_hund_thou_five = CountVectorizer(analyzer=process_text).fit(x_hund_thou_five)\n",
    "r1 = x_hund_thou_five[1]\n",
    "vocab1 = vocab_hund_thou_five.transform([r1])\n",
    "\n",
    "print()\n",
    "print(\"Number of possible words:\", len(vocab_hund_thou_five.vocabulary_))\n",
    "\n",
    "print()\n",
    "print(\"Sample Uncleaned Review:\")\n",
    "print(r1)\n",
    "\n",
    "print()\n",
    "print(\"Vectorized Review:\")\n",
    "print(vocab1)\n",
    "\n",
    "print()\n",
    "print(\"Return word from index 5000:\", vocab_hund_thou_five.get_feature_names_out()[5000])\n",
    "print(\"Return word from index 20000:\", vocab_hund_thou_five.get_feature_names_out()[20000])"
   ]
  },
  {
   "cell_type": "markdown",
   "metadata": {},
   "source": [
    "### 6.b.ii. Convert 100,000 (1-star and 5-star) reviews into vectors:"
   ]
  },
  {
   "cell_type": "code",
   "execution_count": 35,
   "metadata": {},
   "outputs": [
    {
     "name": "stdout",
     "output_type": "stream",
     "text": [
      "\n",
      "Number of possible words: 45501\n",
      "\n",
      "Sample Uncleaned Review:\n",
      "5        I am a long term frequent customer of this est...\n",
      "47       If you want to pay for everything a la carte t...\n",
      "64       The TV shows are $4.99 and they have commercia...\n",
      "73       If I could give it a zero, I would. I order a ...\n",
      "79       We visited once and were very disappointed in ...\n",
      "                               ...                        \n",
      "73375    So I've never been to BK, but I'd always heard...\n",
      "73382    Went to Praline Connection in 2004 and loved i...\n",
      "73390    There's a reason a nail salon is empty at noon...\n",
      "73401    TERRIBLE, TERRIBLE SERVICE. Got the wild salmo...\n",
      "73426    The order was not correct and a member of the ...\n",
      "Name: text, Length: 7988, dtype: object\n",
      "\n",
      "Vectorized Review:\n",
      "  (0, 0)\t79\n",
      "  (0, 48)\t1\n",
      "  (0, 50)\t1\n",
      "  (0, 51)\t419\n",
      "  (0, 52)\t493\n",
      "  (0, 53)\t23\n",
      "  (0, 54)\t7\n",
      "  (0, 65)\t1\n",
      "  (0, 67)\t1\n",
      "  (0, 68)\t1\n",
      "  (0, 75)\t1\n",
      "  (0, 77)\t1\n",
      "  (0, 78)\t2\n",
      "  (0, 100)\t1\n",
      "  (0, 127)\t1\n",
      "  (0, 129)\t1\n",
      "  (0, 131)\t1\n",
      "  (0, 132)\t3\n",
      "  (0, 133)\t3\n",
      "  (0, 138)\t1\n",
      "  (0, 140)\t4\n",
      "  (0, 141)\t5\n",
      "  (0, 144)\t2\n",
      "  (0, 145)\t1\n",
      "  (0, 146)\t1\n",
      "  :\t:\n",
      "  (0, 45440)\t1\n",
      "  (0, 45442)\t1\n",
      "  (0, 45451)\t172\n",
      "  (0, 45460)\t1\n",
      "  (0, 45461)\t1\n",
      "  (0, 45463)\t2\n",
      "  (0, 45464)\t1\n",
      "  (0, 45465)\t2\n",
      "  (0, 45466)\t2\n",
      "  (0, 45467)\t1\n",
      "  (0, 45468)\t2\n",
      "  (0, 45469)\t1\n",
      "  (0, 45471)\t1\n",
      "  (0, 45472)\t1\n",
      "  (0, 45473)\t2\n",
      "  (0, 45474)\t3\n",
      "  (0, 45475)\t5\n",
      "  (0, 45481)\t8\n",
      "  (0, 45484)\t1\n",
      "  (0, 45486)\t1\n",
      "  (0, 45490)\t1\n",
      "  (0, 45491)\t1\n",
      "  (0, 45495)\t1\n",
      "  (0, 45496)\t1\n",
      "  (0, 45500)\t1\n",
      "\n",
      "Return word from index 5000: Curious\n",
      "Return word from index 20000: buggy\n"
     ]
    }
   ],
   "source": [
    "vocab_hund_thou_two = CountVectorizer(analyzer=process_text).fit(x_hund_thou_two)\n",
    "r1 = x_hund_thou_two[1]\n",
    "vocab1 = vocab_hund_thou_two.transform([r1])\n",
    "\n",
    "print()\n",
    "print(\"Number of possible words:\", len(vocab_hund_thou_two.vocabulary_))\n",
    "\n",
    "print()\n",
    "print(\"Sample Uncleaned Review:\")\n",
    "print(r1)\n",
    "\n",
    "print()\n",
    "print(\"Vectorized Review:\")\n",
    "print(vocab1)\n",
    "\n",
    "print()\n",
    "print(\"Return word from index 5000:\", vocab_hund_thou_two.get_feature_names_out()[5000])\n",
    "print(\"Return word from index 20000:\", vocab_hund_thou_two.get_feature_names_out()[20000])"
   ]
  },
  {
   "cell_type": "markdown",
   "metadata": {},
   "source": [
    "### 6.b.iii. Convert 100,000 (1-star, 3-star, and 5-star) reviews into vectors:"
   ]
  },
  {
   "cell_type": "code",
   "execution_count": 53,
   "metadata": {},
   "outputs": [
    {
     "name": "stdout",
     "output_type": "stream",
     "text": [
      "\n",
      "Number of possible words: 57720\n",
      "\n",
      "Sample Uncleaned Review:\n",
      "5        I am a long term frequent customer of this est...\n",
      "47       If you want to pay for everything a la carte t...\n",
      "64       The TV shows are $4.99 and they have commercia...\n",
      "73       If I could give it a zero, I would. I order a ...\n",
      "79       We visited once and were very disappointed in ...\n",
      "                               ...                        \n",
      "73375    So I've never been to BK, but I'd always heard...\n",
      "73382    Went to Praline Connection in 2004 and loved i...\n",
      "73390    There's a reason a nail salon is empty at noon...\n",
      "73401    TERRIBLE, TERRIBLE SERVICE. Got the wild salmo...\n",
      "73426    The order was not correct and a member of the ...\n",
      "Name: text, Length: 7988, dtype: object\n",
      "\n",
      "Vectorized Review:\n",
      "  (0, 0)\t79\n",
      "  (0, 59)\t1\n",
      "  (0, 61)\t1\n",
      "  (0, 62)\t419\n",
      "  (0, 63)\t493\n",
      "  (0, 64)\t23\n",
      "  (0, 65)\t7\n",
      "  (0, 77)\t1\n",
      "  (0, 79)\t1\n",
      "  (0, 80)\t1\n",
      "  (0, 88)\t1\n",
      "  (0, 90)\t1\n",
      "  (0, 92)\t2\n",
      "  (0, 119)\t1\n",
      "  (0, 151)\t1\n",
      "  (0, 153)\t1\n",
      "  (0, 156)\t1\n",
      "  (0, 157)\t3\n",
      "  (0, 158)\t3\n",
      "  (0, 169)\t1\n",
      "  (0, 171)\t4\n",
      "  (0, 172)\t5\n",
      "  (0, 175)\t2\n",
      "  (0, 177)\t1\n",
      "  (0, 178)\t1\n",
      "  :\t:\n",
      "  (0, 57628)\t1\n",
      "  (0, 57633)\t1\n",
      "  (0, 57643)\t172\n",
      "  (0, 57654)\t1\n",
      "  (0, 57655)\t1\n",
      "  (0, 57657)\t2\n",
      "  (0, 57658)\t1\n",
      "  (0, 57659)\t2\n",
      "  (0, 57660)\t2\n",
      "  (0, 57661)\t1\n",
      "  (0, 57662)\t2\n",
      "  (0, 57665)\t1\n",
      "  (0, 57667)\t1\n",
      "  (0, 57668)\t1\n",
      "  (0, 57670)\t2\n",
      "  (0, 57672)\t3\n",
      "  (0, 57675)\t5\n",
      "  (0, 57684)\t8\n",
      "  (0, 57692)\t1\n",
      "  (0, 57694)\t1\n",
      "  (0, 57698)\t1\n",
      "  (0, 57699)\t1\n",
      "  (0, 57711)\t1\n",
      "  (0, 57712)\t1\n",
      "  (0, 57719)\t1\n",
      "\n",
      "Return word from index 5000: Cappuccino\n",
      "Return word from index 20000: Venison\n"
     ]
    }
   ],
   "source": [
    "vocab_hund_thou_three = CountVectorizer(analyzer=process_text).fit(x_hund_thou_three)\n",
    "r1 = x_hund_thou_three[1]\n",
    "vocab1 = vocab_hund_thou_three.transform([r1])\n",
    "\n",
    "print()\n",
    "print(\"Number of possible words:\", len(vocab_hund_thou_three.vocabulary_))\n",
    "\n",
    "print()\n",
    "print(\"Sample Uncleaned Review:\")\n",
    "print(r1)\n",
    "\n",
    "print()\n",
    "print(\"Vectorized Review:\")\n",
    "print(vocab1)\n",
    "\n",
    "print()\n",
    "print(\"Return word from index 5000:\", vocab_hund_thou_three.get_feature_names_out()[5000])\n",
    "print(\"Return word from index 20000:\", vocab_hund_thou_three.get_feature_names_out()[20000])"
   ]
  },
  {
   "cell_type": "markdown",
   "metadata": {},
   "source": [
    "### 7.b.i. Vectorize all 100,000 (1-star, 2-star, 3-star, 4-star, and 5-star) reviews and split processed dataset into training and testing sets:"
   ]
  },
  {
   "cell_type": "code",
   "execution_count": 48,
   "metadata": {},
   "outputs": [],
   "source": [
    "x_hund_thou_five = vocab_hund_thou_five.transform(x_hund_thou_five)\n",
    "x_train_hund_thou_five, x_test_hund_thou_five, y_train_hund_thou_five, y_test_hund_thou_five = train_test_split(x_hund_thou_five, y_hund_thou_five, test_size=0.2, random_state=101)"
   ]
  },
  {
   "cell_type": "markdown",
   "metadata": {},
   "source": [
    "### 7.b.ii. Vectorize all 100,000 (1-star and 5-star) reviews and split processed dataset into training and testing sets:"
   ]
  },
  {
   "cell_type": "code",
   "execution_count": 36,
   "metadata": {},
   "outputs": [],
   "source": [
    "x_hund_thou_two = vocab_hund_thou_two.transform(x_hund_thou_two)\n",
    "x_train_hund_thou_two, x_test_hund_thou_two, y_train_hund_thou_two, y_test_hund_thou_two = train_test_split(x_hund_thou_two, y_hund_thou_two, test_size=0.2, random_state=101)"
   ]
  },
  {
   "cell_type": "markdown",
   "metadata": {},
   "source": [
    "### 7.b.iii. Vectorize all 100,000 (1-star, 3-star, and 5-star) reviews and split processed dataset into training and testing sets:"
   ]
  },
  {
   "cell_type": "code",
   "execution_count": 54,
   "metadata": {},
   "outputs": [],
   "source": [
    "x_hund_thou_three = vocab_hund_thou_three.transform(x_hund_thou_three)\n",
    "x_train_hund_thou_three, x_test_hund_thou_three, y_train_hund_thou_three, y_test_hund_thou_three = train_test_split(x_hund_thou_three, y_hund_thou_three, test_size=0.2, random_state=101)"
   ]
  },
  {
   "cell_type": "markdown",
   "metadata": {},
   "source": [
    "### 8.b.i. Modeling 100,000 (1-star, 2-star, 3-star, 4-star, and 5-star) reviews with Logistic Regression:"
   ]
  },
  {
   "cell_type": "code",
   "execution_count": 93,
   "metadata": {},
   "outputs": [
    {
     "name": "stdout",
     "output_type": "stream",
     "text": [
      "\n",
      "Accuracy Score: 52.14\n",
      "f1_score: 51.96\n",
      "\n",
      "Classification Report:\n",
      "              precision    recall  f1-score   support\n",
      "\n",
      "         1.0       0.65      0.67      0.66      1626\n",
      "         2.0       0.45      0.44      0.44      1584\n",
      "         3.0       0.44      0.42      0.43      1650\n",
      "         4.0       0.45      0.44      0.44      1596\n",
      "         5.0       0.61      0.65      0.63      1532\n",
      "\n",
      "    accuracy                           0.52      7988\n",
      "   macro avg       0.52      0.52      0.52      7988\n",
      "weighted avg       0.52      0.52      0.52      7988\n",
      "\n"
     ]
    },
    {
     "name": "stderr",
     "output_type": "stream",
     "text": [
      "C:\\Users\\user\\Anaconda3\\lib\\site-packages\\sklearn\\linear_model\\_logistic.py:818: ConvergenceWarning: lbfgs failed to converge (status=1):\n",
      "STOP: TOTAL NO. of ITERATIONS REACHED LIMIT.\n",
      "\n",
      "Increase the number of iterations (max_iter) or scale the data as shown in:\n",
      "    https://scikit-learn.org/stable/modules/preprocessing.html\n",
      "Please also refer to the documentation for alternative solver options:\n",
      "    https://scikit-learn.org/stable/modules/linear_model.html#logistic-regression\n",
      "  extra_warning_msg=_LOGISTIC_SOLVER_CONVERGENCE_MSG,\n"
     ]
    }
   ],
   "source": [
    "# Logistic Regression\n",
    "from sklearn.linear_model import LogisticRegression\n",
    "log_hund_5 = LogisticRegression()\n",
    "log_hund_5.fit(x_train_hund_thou_five, y_train_hund_thou_five)\n",
    "predlog = log_hund_5.predict(x_test_hund_thou_five)\n",
    "\n",
    "print()\n",
    "print(\"Accuracy Score:\", round(accuracy_score(y_test_hund_thou_five, predlog) * 100, 2))\n",
    "print(\"f1_score:\", round(f1_score(y_test_hund_thou_five, predlog, average='weighted') * 100, 2))\n",
    "print()\n",
    "print(\"Classification Report:\")\n",
    "print(classification_report(y_test_hund_thou_five, predlog))"
   ]
  },
  {
   "cell_type": "markdown",
   "metadata": {},
   "source": [
    "### 8.b.ii. Modeling 100,000 (1-star and 5-star) reviews with Logistic Regression:"
   ]
  },
  {
   "cell_type": "code",
   "execution_count": 94,
   "metadata": {},
   "outputs": [
    {
     "name": "stdout",
     "output_type": "stream",
     "text": [
      "\n",
      "Accuracy Score: 95.53\n",
      "f1_score: 95.55\n",
      "\n",
      "Classification Report:\n",
      "              precision    recall  f1-score   support\n",
      "\n",
      "         1.0       0.95      0.96      0.96      1604\n",
      "         5.0       0.96      0.95      0.95      1592\n",
      "\n",
      "    accuracy                           0.96      3196\n",
      "   macro avg       0.96      0.96      0.96      3196\n",
      "weighted avg       0.96      0.96      0.96      3196\n",
      "\n"
     ]
    }
   ],
   "source": [
    "# Logistic Regression\n",
    "from sklearn.linear_model import LogisticRegression\n",
    "log_hund_2 = LogisticRegression()\n",
    "log_hund_2.fit(x_train_hund_thou_two, y_train_hund_thou_two)\n",
    "predlog = log_hund_2.predict(x_test_hund_thou_two)\n",
    "\n",
    "print()\n",
    "print(\"Accuracy Score:\", round(accuracy_score(y_test_hund_thou_two, predlog) * 100, 2))\n",
    "print(\"f1_score:\", round(f1_score(y_test_hund_thou_two, predlog, average='binary') * 100, 2))\n",
    "\n",
    "print()\n",
    "print(\"Classification Report:\")\n",
    "print(classification_report(y_test_hund_thou_two, predlog))"
   ]
  },
  {
   "cell_type": "markdown",
   "metadata": {},
   "source": [
    "### 8.b.iii. Modeling 100,000 (1-star, 3-star, and 5-star) reviews with Logistic Regression:"
   ]
  },
  {
   "cell_type": "code",
   "execution_count": 95,
   "metadata": {},
   "outputs": [
    {
     "name": "stdout",
     "output_type": "stream",
     "text": [
      "\n",
      "Accuracy Score: 80.89\n",
      "f1_score: 80.85\n",
      "\n",
      "Classification Report:\n",
      "              precision    recall  f1-score   support\n",
      "\n",
      "         1.0       0.84      0.83      0.84      1640\n",
      "         3.0       0.75      0.74      0.75      1604\n",
      "         5.0       0.83      0.86      0.84      1549\n",
      "\n",
      "    accuracy                           0.81      4793\n",
      "   macro avg       0.81      0.81      0.81      4793\n",
      "weighted avg       0.81      0.81      0.81      4793\n",
      "\n"
     ]
    },
    {
     "name": "stderr",
     "output_type": "stream",
     "text": [
      "C:\\Users\\user\\Anaconda3\\lib\\site-packages\\sklearn\\linear_model\\_logistic.py:818: ConvergenceWarning: lbfgs failed to converge (status=1):\n",
      "STOP: TOTAL NO. of ITERATIONS REACHED LIMIT.\n",
      "\n",
      "Increase the number of iterations (max_iter) or scale the data as shown in:\n",
      "    https://scikit-learn.org/stable/modules/preprocessing.html\n",
      "Please also refer to the documentation for alternative solver options:\n",
      "    https://scikit-learn.org/stable/modules/linear_model.html#logistic-regression\n",
      "  extra_warning_msg=_LOGISTIC_SOLVER_CONVERGENCE_MSG,\n"
     ]
    }
   ],
   "source": [
    "# Logistic Regression\n",
    "from sklearn.linear_model import LogisticRegression\n",
    "log_hund_3 = LogisticRegression()\n",
    "log_hund_3.fit(x_train_hund_thou_three, y_train_hund_thou_three)\n",
    "predlog = log_hund_3.predict(x_test_hund_thou_three)\n",
    "\n",
    "print()\n",
    "print(\"Accuracy Score:\", round(accuracy_score(y_test_hund_thou_three, predlog) * 100, 2))\n",
    "print(\"f1_score:\", round(f1_score(y_test_hund_thou_three, predlog, average='weighted') * 100, 2))\n",
    "\n",
    "print()\n",
    "print(\"Classification Report:\")\n",
    "print(classification_report(y_test_hund_thou_three, predlog))"
   ]
  },
  {
   "cell_type": "markdown",
   "metadata": {},
   "source": [
    "### 8.b.i, 8.b.ii,8.b.iii Logistic regressions, L2 penalty as regularization, by default. The following 8.b items are tuning the regularization hyperparameter, changing L2 to L1, and updating lambda λ (C = 1/λ)"
   ]
  },
  {
   "cell_type": "markdown",
   "metadata": {},
   "source": [
    "### 8.b.i.1 Modeling 100,000 (1-star, 2-star, 3-star, 4-star, and 5-star) reviews with Logistic Regression: update regularization: L1, C=1000\n"
   ]
  },
  {
   "cell_type": "code",
   "execution_count": 60,
   "metadata": {},
   "outputs": [
    {
     "name": "stdout",
     "output_type": "stream",
     "text": [
      "\n",
      "Score: 45.61\n",
      "\n",
      "Classification Report:\n",
      "              precision    recall  f1-score   support\n",
      "\n",
      "         1.0       0.62      0.58      0.60      1626\n",
      "         2.0       0.39      0.39      0.39      1584\n",
      "         3.0       0.37      0.36      0.37      1650\n",
      "         4.0       0.37      0.39      0.38      1596\n",
      "         5.0       0.54      0.56      0.55      1532\n",
      "\n",
      "    accuracy                           0.46      7988\n",
      "   macro avg       0.46      0.46      0.46      7988\n",
      "weighted avg       0.46      0.46      0.46      7988\n",
      "\n"
     ]
    }
   ],
   "source": [
    "# Logistic Regression\n",
    "from sklearn.linear_model import LogisticRegression\n",
    "log_hund_5L1 = LogisticRegression(C= 1000, penalty='l1', solver='liblinear')\n",
    "log_hund_5L1.fit(x_train_hund_thou_five, y_train_hund_thou_five)\n",
    "predlog = log_hund_5L1.predict(x_test_hund_thou_five)\n",
    "\n",
    "print()\n",
    "print(\"Score:\", round(accuracy_score(y_test_hund_thou_five, predlog) * 100, 2))\n",
    "\n",
    "print()\n",
    "print(\"Classification Report:\")\n",
    "print(classification_report(y_test_hund_thou_five, predlog))"
   ]
  },
  {
   "cell_type": "markdown",
   "metadata": {},
   "source": [
    "### 8.b.i.2 Modeling 100,000 (1-star, 2-star, 3-star, 4-star, and 5-star) reviews with Logistic Regression: update regularization: L1, C=100"
   ]
  },
  {
   "cell_type": "code",
   "execution_count": 78,
   "metadata": {},
   "outputs": [
    {
     "name": "stdout",
     "output_type": "stream",
     "text": [
      "\n",
      "Score: 46.82\n",
      "\n",
      "Classification Report:\n",
      "              precision    recall  f1-score   support\n",
      "\n",
      "         1.0       0.62      0.60      0.61      1626\n",
      "         2.0       0.40      0.40      0.40      1584\n",
      "         3.0       0.38      0.38      0.38      1650\n",
      "         4.0       0.39      0.39      0.39      1596\n",
      "         5.0       0.55      0.57      0.56      1532\n",
      "\n",
      "    accuracy                           0.47      7988\n",
      "   macro avg       0.47      0.47      0.47      7988\n",
      "weighted avg       0.47      0.47      0.47      7988\n",
      "\n"
     ]
    },
    {
     "data": {
      "image/png": "[encoded data removed]",
      "text/plain": [
       "<Figure size 648x648 with 2 Axes>"
      ]
     },
     "metadata": {
      "needs_background": "light"
     },
     "output_type": "display_data"
    }
   ],
   "source": [
    "# Logistic Regression\n",
    "from sklearn.linear_model import LogisticRegression\n",
    "log_hund_5L1 = LogisticRegression(C= 100, penalty='l1', solver='liblinear')\n",
    "log_hund_5L1.fit(x_train_hund_thou_five, y_train_hund_thou_five)\n",
    "predlog = log_hund_5L1.predict(x_test_hund_thou_five)\n",
    "\n",
    "print()\n",
    "print(\"Score:\", round(accuracy_score(y_test_hund_thou_five, predlog) * 100, 2))\n",
    "\n",
    "print()\n",
    "print(\"Classification Report:\")\n",
    "print(classification_report(y_test_hund_thou_five, predlog))\n",
    "\n",
    "cm = confusion_matrix(y_test_hund_thou_five, predlog)\n",
    "score = round(accuracy_score(y_test_hund_thou_five, predlog) * 100, 2)\n",
    "plt.figure(figsize=(9,9))\n",
    "sns.heatmap(cm, annot=True, fmt=\".3f\", linewidths=.5, square = True, cmap = 'Blues_r');\n",
    "plt.ylabel('Actual label');\n",
    "plt.xlabel('Predicted label');\n",
    "all_sample_title = 'Accuracy Score: {0}'.format(score)\n",
    "plt.title(all_sample_title, size = 15);"
   ]
  },
  {
   "cell_type": "markdown",
   "metadata": {},
   "source": [
    "### 8.b.i.3 Modeling 100,000 (1-star, 2-star, 3-star, 4-star, and 5-star) reviews with Logistic Regression: update regularization: L1, C=10"
   ]
  },
  {
   "cell_type": "code",
   "execution_count": 74,
   "metadata": {},
   "outputs": [
    {
     "name": "stdout",
     "output_type": "stream",
     "text": [
      "\n",
      "Score: 48.77\n",
      "\n",
      "Classification Report:\n",
      "              precision    recall  f1-score   support\n",
      "\n",
      "         1.0       0.64      0.64      0.64      1626\n",
      "         2.0       0.42      0.41      0.41      1584\n",
      "         3.0       0.41      0.39      0.40      1650\n",
      "         4.0       0.40      0.40      0.40      1596\n",
      "         5.0       0.57      0.60      0.58      1532\n",
      "\n",
      "    accuracy                           0.49      7988\n",
      "   macro avg       0.49      0.49      0.49      7988\n",
      "weighted avg       0.49      0.49      0.49      7988\n",
      "\n"
     ]
    }
   ],
   "source": [
    "# Logistic Regression\n",
    "from sklearn.linear_model import LogisticRegression\n",
    "log_hund_5L1 = LogisticRegression(C= 10, penalty='l1', solver='liblinear')\n",
    "log_hund_5L1.fit(x_train_hund_thou_five, y_train_hund_thou_five)\n",
    "predlog = log_hund_5L1.predict(x_test_hund_thou_five)\n",
    "\n",
    "print()\n",
    "print(\"Score:\", round(accuracy_score(y_test_hund_thou_five, predlog) * 100, 2))\n",
    "\n",
    "print()\n",
    "print(\"Classification Report:\")\n",
    "print(classification_report(y_test_hund_thou_five, predlog))"
   ]
  },
  {
   "cell_type": "code",
   "execution_count": 75,
   "metadata": {},
   "outputs": [
    {
     "data": {
      "image/png": "[encoded data removed]",
      "text/plain": [
       "<Figure size 648x648 with 2 Axes>"
      ]
     },
     "metadata": {
      "needs_background": "light"
     },
     "output_type": "display_data"
    }
   ],
   "source": [
    "cm = confusion_matrix(y_test_hund_thou_five, predlog)\n",
    "score = round(accuracy_score(y_test_hund_thou_five, predlog) * 100, 2)\n",
    "plt.figure(figsize=(9,9))\n",
    "sns.heatmap(cm, annot=True, fmt=\".3f\", linewidths=.5, square = True, cmap = 'Blues_r');\n",
    "plt.ylabel('Actual label');\n",
    "plt.xlabel('Predicted label');\n",
    "all_sample_title = 'Accuracy Score: {0}'.format(score)\n",
    "plt.title(all_sample_title, size = 15);"
   ]
  },
  {
   "cell_type": "markdown",
   "metadata": {},
   "source": [
    "### 8.b.i.4 Modeling 100,000 (1-star, 2-star, 3-star, 4-star, and 5-star) reviews with Logistic Regression: update regularization: L1, C=1"
   ]
  },
  {
   "cell_type": "code",
   "execution_count": 87,
   "metadata": {},
   "outputs": [
    {
     "name": "stdout",
     "output_type": "stream",
     "text": [
      "\n",
      "Score: 52.44\n",
      "\n",
      "Classification Report:\n",
      "              precision    recall  f1-score   support\n",
      "\n",
      "         1.0       0.66      0.69      0.67      1626\n",
      "         2.0       0.46      0.43      0.44      1584\n",
      "         3.0       0.44      0.41      0.43      1650\n",
      "         4.0       0.44      0.42      0.43      1596\n",
      "         5.0       0.60      0.68      0.64      1532\n",
      "\n",
      "    accuracy                           0.52      7988\n",
      "   macro avg       0.52      0.53      0.52      7988\n",
      "weighted avg       0.52      0.52      0.52      7988\n",
      "\n"
     ]
    },
    {
     "data": {
      "image/png": "[encoded data removed]",
      "text/plain": [
       "<Figure size 648x648 with 2 Axes>"
      ]
     },
     "metadata": {
      "needs_background": "light"
     },
     "output_type": "display_data"
    }
   ],
   "source": [
    "# Logistic Regression\n",
    "from sklearn.linear_model import LogisticRegression\n",
    "log_hund_5L1 = LogisticRegression(C= 1, penalty='l1', solver='liblinear')\n",
    "log_hund_5L1.fit(x_train_hund_thou_five, y_train_hund_thou_five)\n",
    "predlog = log_hund_5L1.predict(x_test_hund_thou_five)\n",
    "\n",
    "print()\n",
    "print(\"Score:\", round(accuracy_score(y_test_hund_thou_five, predlog) * 100, 2))\n",
    "\n",
    "print()\n",
    "print(\"Classification Report:\")\n",
    "print(classification_report(y_test_hund_thou_five, predlog))\n",
    "\n",
    "cm = confusion_matrix(y_test_hund_thou_five, predlog)\n",
    "score = round(accuracy_score(y_test_hund_thou_five, predlog) * 100, 2)\n",
    "plt.figure(figsize=(9,9))\n",
    "sns.heatmap(cm, annot=True, fmt=\".3f\", linewidths=.5, square = True, cmap = 'Blues_r');\n",
    "plt.ylabel('Actual label');\n",
    "plt.xlabel('Predicted label');\n",
    "all_sample_title = 'Accuracy Score: {0}'.format(score)\n",
    "plt.title(all_sample_title, size = 15);"
   ]
  },
  {
   "cell_type": "markdown",
   "metadata": {},
   "source": [
    "### 8.b.i.5 Modeling 100,000 (1-star, 2-star, 3-star, 4-star, and 5-star) reviews with Logistic Regression: update regularization: L1, C=0.1"
   ]
  },
  {
   "cell_type": "code",
   "execution_count": 88,
   "metadata": {},
   "outputs": [
    {
     "name": "stdout",
     "output_type": "stream",
     "text": [
      "\n",
      "Score: 54.66\n",
      "\n",
      "Classification Report:\n",
      "              precision    recall  f1-score   support\n",
      "\n",
      "         1.0       0.64      0.76      0.69      1626\n",
      "         2.0       0.50      0.42      0.46      1584\n",
      "         3.0       0.49      0.40      0.44      1650\n",
      "         4.0       0.47      0.43      0.45      1596\n",
      "         5.0       0.58      0.72      0.65      1532\n",
      "\n",
      "    accuracy                           0.55      7988\n",
      "   macro avg       0.54      0.55      0.54      7988\n",
      "weighted avg       0.54      0.55      0.54      7988\n",
      "\n"
     ]
    },
    {
     "data": {
      "image/png": "[encoded data removed]",
      "text/plain": [
       "<Figure size 648x648 with 2 Axes>"
      ]
     },
     "metadata": {
      "needs_background": "light"
     },
     "output_type": "display_data"
    }
   ],
   "source": [
    "# Logistic Regression\n",
    "from sklearn.linear_model import LogisticRegression\n",
    "log_hund_5L1 = LogisticRegression(C= 0.1, penalty='l1', solver='liblinear')\n",
    "log_hund_5L1.fit(x_train_hund_thou_five, y_train_hund_thou_five)\n",
    "predlog = log_hund_5L1.predict(x_test_hund_thou_five)\n",
    "\n",
    "print()\n",
    "print(\"Score:\", round(accuracy_score(y_test_hund_thou_five, predlog) * 100, 2))\n",
    "\n",
    "print()\n",
    "print(\"Classification Report:\")\n",
    "print(classification_report(y_test_hund_thou_five, predlog))\n",
    "\n",
    "cm = confusion_matrix(y_test_hund_thou_five, predlog)\n",
    "score = round(accuracy_score(y_test_hund_thou_five, predlog) * 100, 2)\n",
    "plt.figure(figsize=(9,9))\n",
    "sns.heatmap(cm, annot=True, fmt=\".3f\", linewidths=.5, square = True, cmap = 'Blues_r');\n",
    "plt.ylabel('Actual label');\n",
    "plt.xlabel('Predicted label');\n",
    "all_sample_title = 'Accuracy Score: {0}'.format(score)\n",
    "plt.title(all_sample_title, size = 15);"
   ]
  },
  {
   "cell_type": "markdown",
   "metadata": {},
   "source": [
    "### 8.b.ii.1 Modeling 100,000 (1-star and 5-star) reviews with Logistic Regression: update regularization: L1, C=1000"
   ]
  },
  {
   "cell_type": "code",
   "execution_count": 64,
   "metadata": {},
   "outputs": [
    {
     "name": "stdout",
     "output_type": "stream",
     "text": [
      "\n",
      "Score: 95.65\n",
      "\n",
      "Classification Report:\n",
      "              precision    recall  f1-score   support\n",
      "\n",
      "         1.0       0.96      0.95      0.96      1604\n",
      "         5.0       0.95      0.96      0.96      1592\n",
      "\n",
      "    accuracy                           0.96      3196\n",
      "   macro avg       0.96      0.96      0.96      3196\n",
      "weighted avg       0.96      0.96      0.96      3196\n",
      "\n"
     ]
    }
   ],
   "source": [
    "# Logistic Regression\n",
    "from sklearn.linear_model import LogisticRegression\n",
    "log_hund_2L1 = LogisticRegression(C= 1000, penalty='l1', solver='liblinear')\n",
    "log_hund_2L1.fit(x_train_hund_thou_two, y_train_hund_thou_two)\n",
    "predlog = log_hund_2L1.predict(x_test_hund_thou_two)\n",
    "\n",
    "print()\n",
    "print(\"Score:\", round(accuracy_score(y_test_hund_thou_two, predlog) * 100, 2))\n",
    "\n",
    "print()\n",
    "print(\"Classification Report:\")\n",
    "print(classification_report(y_test_hund_thou_two, predlog))\n"
   ]
  },
  {
   "cell_type": "markdown",
   "metadata": {},
   "source": [
    "### 8.b.ii.2 Modeling 100,000 (1-star and 5-star) reviews with Logistic Regression: update regularization: L1, C=100"
   ]
  },
  {
   "cell_type": "code",
   "execution_count": 65,
   "metadata": {},
   "outputs": [
    {
     "name": "stdout",
     "output_type": "stream",
     "text": [
      "\n",
      "Score: 95.18\n",
      "\n",
      "Classification Report:\n",
      "              precision    recall  f1-score   support\n",
      "\n",
      "         1.0       0.95      0.95      0.95      1604\n",
      "         5.0       0.95      0.95      0.95      1592\n",
      "\n",
      "    accuracy                           0.95      3196\n",
      "   macro avg       0.95      0.95      0.95      3196\n",
      "weighted avg       0.95      0.95      0.95      3196\n",
      "\n"
     ]
    }
   ],
   "source": [
    "# Logistic Regression\n",
    "from sklearn.linear_model import LogisticRegression\n",
    "log_hund_2L1 = LogisticRegression(C= 100, penalty='l1', solver='liblinear')\n",
    "log_hund_2L1.fit(x_train_hund_thou_two, y_train_hund_thou_two)\n",
    "predlog = log_hund_2L1.predict(x_test_hund_thou_two)\n",
    "\n",
    "print()\n",
    "print(\"Score:\", round(accuracy_score(y_test_hund_thou_two, predlog) * 100, 2))\n",
    "\n",
    "print()\n",
    "print(\"Classification Report:\")\n",
    "print(classification_report(y_test_hund_thou_two, predlog))"
   ]
  },
  {
   "cell_type": "markdown",
   "metadata": {},
   "source": [
    "### 8.b.ii.3 Modeling 100,000 (1-star and 5-star) reviews with Logistic Regression: update regularization: L1, C=10"
   ]
  },
  {
   "cell_type": "code",
   "execution_count": 79,
   "metadata": {},
   "outputs": [
    {
     "name": "stdout",
     "output_type": "stream",
     "text": [
      "\n",
      "Score: 94.71\n",
      "\n",
      "Classification Report:\n",
      "              precision    recall  f1-score   support\n",
      "\n",
      "         1.0       0.94      0.95      0.95      1604\n",
      "         5.0       0.95      0.94      0.95      1592\n",
      "\n",
      "    accuracy                           0.95      3196\n",
      "   macro avg       0.95      0.95      0.95      3196\n",
      "weighted avg       0.95      0.95      0.95      3196\n",
      "\n"
     ]
    }
   ],
   "source": [
    "# Logistic Regression\n",
    "from sklearn.linear_model import LogisticRegression\n",
    "log_hund_2L1 = LogisticRegression(C= 10, penalty='l1', solver='liblinear')\n",
    "log_hund_2L1.fit(x_train_hund_thou_two, y_train_hund_thou_two)\n",
    "predlog = log_hund_2L1.predict(x_test_hund_thou_two)\n",
    "\n",
    "print()\n",
    "print(\"Score:\", round(accuracy_score(y_test_hund_thou_two, predlog) * 100, 2))\n",
    "\n",
    "print()\n",
    "print(\"Classification Report:\")\n",
    "print(classification_report(y_test_hund_thou_two, predlog))\n",
    "\n"
   ]
  },
  {
   "cell_type": "code",
   "execution_count": 73,
   "metadata": {},
   "outputs": [
    {
     "data": {
      "image/png": "[encoded data removed]",
      "text/plain": [
       "<Figure size 648x648 with 2 Axes>"
      ]
     },
     "metadata": {
      "needs_background": "light"
     },
     "output_type": "display_data"
    }
   ],
   "source": [
    "cm = confusion_matrix(y_test_hund_thou_two, predlog)\n",
    "score = round(accuracy_score(y_test_hund_thou_two, predlog) * 100, 2)\n",
    "plt.figure(figsize=(9,9))\n",
    "sns.heatmap(cm, annot=True, fmt=\".3f\", linewidths=.5, square = True, cmap = 'Blues_r');\n",
    "plt.ylabel('Actual label');\n",
    "plt.xlabel('Predicted label');\n",
    "all_sample_title = 'Accuracy Score: {0}'.format(score)\n",
    "plt.title(all_sample_title, size = 15);"
   ]
  },
  {
   "cell_type": "markdown",
   "metadata": {},
   "source": [
    "### 8.b.ii.4 Modeling 100,000 (1-star and 5-star) reviews with Logistic Regression: update regularization: L1, C=1"
   ]
  },
  {
   "cell_type": "code",
   "execution_count": 76,
   "metadata": {},
   "outputs": [
    {
     "name": "stdout",
     "output_type": "stream",
     "text": [
      "\n",
      "Score: 95.28\n",
      "\n",
      "Classification Report:\n",
      "              precision    recall  f1-score   support\n",
      "\n",
      "         1.0       0.95      0.96      0.95      1604\n",
      "         5.0       0.96      0.95      0.95      1592\n",
      "\n",
      "    accuracy                           0.95      3196\n",
      "   macro avg       0.95      0.95      0.95      3196\n",
      "weighted avg       0.95      0.95      0.95      3196\n",
      "\n"
     ]
    },
    {
     "data": {
      "image/png": "[encoded data removed]",
      "text/plain": [
       "<Figure size 648x648 with 2 Axes>"
      ]
     },
     "metadata": {
      "needs_background": "light"
     },
     "output_type": "display_data"
    }
   ],
   "source": [
    "# Logistic Regression\n",
    "from sklearn.linear_model import LogisticRegression\n",
    "log_hund_2L1 = LogisticRegression(C= 1, penalty='l1', solver='liblinear')\n",
    "log_hund_2L1.fit(x_train_hund_thou_two, y_train_hund_thou_two)\n",
    "predlog = log_hund_2L1.predict(x_test_hund_thou_two)\n",
    "\n",
    "print()\n",
    "print(\"Score:\", round(accuracy_score(y_test_hund_thou_two, predlog) * 100, 2))\n",
    "\n",
    "print()\n",
    "print(\"Classification Report:\")\n",
    "print(classification_report(y_test_hund_thou_two, predlog))\n",
    "\n",
    "cm = confusion_matrix(y_test_hund_thou_two, predlog)\n",
    "score = round(accuracy_score(y_test_hund_thou_two, predlog) * 100, 2)\n",
    "plt.figure(figsize=(9,9))\n",
    "sns.heatmap(cm, annot=True, fmt=\".3f\", linewidths=.5, square = True, cmap = 'Blues_r');\n",
    "plt.ylabel('Actual label');\n",
    "plt.xlabel('Predicted label');\n",
    "all_sample_title = 'Accuracy Score: {0}'.format(score)\n",
    "plt.title(all_sample_title, size = 15);"
   ]
  },
  {
   "cell_type": "markdown",
   "metadata": {},
   "source": [
    "### 8.b.ii.5 Modeling 100,000 (1-star and 5-star) reviews with Logistic Regression: update regularization: L1, C=0.1"
   ]
  },
  {
   "cell_type": "code",
   "execution_count": 77,
   "metadata": {},
   "outputs": [
    {
     "name": "stdout",
     "output_type": "stream",
     "text": [
      "\n",
      "Score: 93.46\n",
      "\n",
      "Classification Report:\n",
      "              precision    recall  f1-score   support\n",
      "\n",
      "         1.0       0.93      0.95      0.94      1604\n",
      "         5.0       0.94      0.92      0.93      1592\n",
      "\n",
      "    accuracy                           0.93      3196\n",
      "   macro avg       0.93      0.93      0.93      3196\n",
      "weighted avg       0.93      0.93      0.93      3196\n",
      "\n"
     ]
    },
    {
     "data": {
      "image/png": "[encoded data removed]",
      "text/plain": [
       "<Figure size 648x648 with 2 Axes>"
      ]
     },
     "metadata": {
      "needs_background": "light"
     },
     "output_type": "display_data"
    }
   ],
   "source": [
    "# Logistic Regression\n",
    "from sklearn.linear_model import LogisticRegression\n",
    "log_hund_2L1 = LogisticRegression(C= 0.1, penalty='l1', solver='liblinear')\n",
    "log_hund_2L1.fit(x_train_hund_thou_two, y_train_hund_thou_two)\n",
    "predlog = log_hund_2L1.predict(x_test_hund_thou_two)\n",
    "\n",
    "print()\n",
    "print(\"Score:\", round(accuracy_score(y_test_hund_thou_two, predlog) * 100, 2))\n",
    "\n",
    "print()\n",
    "print(\"Classification Report:\")\n",
    "print(classification_report(y_test_hund_thou_two, predlog))\n",
    "\n",
    "cm = confusion_matrix(y_test_hund_thou_two, predlog)\n",
    "score = round(accuracy_score(y_test_hund_thou_two, predlog) * 100, 2)\n",
    "plt.figure(figsize=(9,9))\n",
    "sns.heatmap(cm, annot=True, fmt=\".3f\", linewidths=.5, square = True, cmap = 'Blues_r');\n",
    "plt.ylabel('Actual label');\n",
    "plt.xlabel('Predicted label');\n",
    "all_sample_title = 'Accuracy Score: {0}'.format(score)\n",
    "plt.title(all_sample_title, size = 15);"
   ]
  },
  {
   "cell_type": "markdown",
   "metadata": {},
   "source": [
    "### 8.b.iii.1 Modeling 100,000 (1-star, 3-star, and 5-star) reviews with Logistic Regression: update regularization: L1, C=1000¶\n"
   ]
  },
  {
   "cell_type": "code",
   "execution_count": 82,
   "metadata": {},
   "outputs": [
    {
     "name": "stdout",
     "output_type": "stream",
     "text": [
      "\n",
      "Score: 77.86\n",
      "\n",
      "Classification Report:\n",
      "              precision    recall  f1-score   support\n",
      "\n",
      "         1.0       0.83      0.79      0.81      1640\n",
      "         3.0       0.71      0.70      0.71      1604\n",
      "         5.0       0.79      0.85      0.82      1549\n",
      "\n",
      "    accuracy                           0.78      4793\n",
      "   macro avg       0.78      0.78      0.78      4793\n",
      "weighted avg       0.78      0.78      0.78      4793\n",
      "\n"
     ]
    },
    {
     "data": {
      "image/png": "[encoded data removed]",
      "text/plain": [
       "<Figure size 648x648 with 2 Axes>"
      ]
     },
     "metadata": {
      "needs_background": "light"
     },
     "output_type": "display_data"
    }
   ],
   "source": [
    "# Logistic Regression\n",
    "from sklearn.linear_model import LogisticRegression\n",
    "log_hund_3L1 = LogisticRegression(C= 1000, penalty='l1', solver='liblinear')\n",
    "log_hund_3L1.fit(x_train_hund_thou_three, y_train_hund_thou_three)\n",
    "predlog = log_hund_3L1.predict(x_test_hund_thou_three)\n",
    "\n",
    "print()\n",
    "print(\"Score:\", round(accuracy_score(y_test_hund_thou_three, predlog) * 100, 2))\n",
    "\n",
    "print()\n",
    "print(\"Classification Report:\")\n",
    "print(classification_report(y_test_hund_thou_three, predlog))\n",
    "\n",
    "cm = confusion_matrix(y_test_hund_thou_three, predlog)\n",
    "score = round(accuracy_score(y_test_hund_thou_three, predlog) * 100, 2)\n",
    "plt.figure(figsize=(9,9))\n",
    "sns.heatmap(cm, annot=True, fmt=\".3f\", linewidths=.5, square = True, cmap = 'Blues_r');\n",
    "plt.ylabel('Actual label');\n",
    "plt.xlabel('Predicted label');\n",
    "all_sample_title = 'Accuracy Score: {0}'.format(score)\n",
    "plt.title(all_sample_title, size = 15);"
   ]
  },
  {
   "cell_type": "markdown",
   "metadata": {},
   "source": [
    "### 8.b.iii.2 Modeling 100,000 (1-star, 3-star, and 5-star) reviews with Logistic Regression: update regularization: L1, C=100\n"
   ]
  },
  {
   "cell_type": "code",
   "execution_count": 83,
   "metadata": {},
   "outputs": [
    {
     "name": "stdout",
     "output_type": "stream",
     "text": [
      "\n",
      "Score: 78.01\n",
      "\n",
      "Classification Report:\n",
      "              precision    recall  f1-score   support\n",
      "\n",
      "         1.0       0.83      0.79      0.81      1640\n",
      "         3.0       0.71      0.71      0.71      1604\n",
      "         5.0       0.80      0.85      0.82      1549\n",
      "\n",
      "    accuracy                           0.78      4793\n",
      "   macro avg       0.78      0.78      0.78      4793\n",
      "weighted avg       0.78      0.78      0.78      4793\n",
      "\n"
     ]
    },
    {
     "data": {
      "image/png": "[encoded data removed]",
      "text/plain": [
       "<Figure size 648x648 with 2 Axes>"
      ]
     },
     "metadata": {
      "needs_background": "light"
     },
     "output_type": "display_data"
    }
   ],
   "source": [
    "# Logistic Regression\n",
    "from sklearn.linear_model import LogisticRegression\n",
    "log_hund_3L1 = LogisticRegression(C= 100, penalty='l1', solver='liblinear')\n",
    "log_hund_3L1.fit(x_train_hund_thou_three, y_train_hund_thou_three)\n",
    "predlog = log_hund_3L1.predict(x_test_hund_thou_three)\n",
    "\n",
    "print()\n",
    "print(\"Score:\", round(accuracy_score(y_test_hund_thou_three, predlog) * 100, 2))\n",
    "\n",
    "print()\n",
    "print(\"Classification Report:\")\n",
    "print(classification_report(y_test_hund_thou_three, predlog))\n",
    "\n",
    "cm = confusion_matrix(y_test_hund_thou_three, predlog)\n",
    "score = round(accuracy_score(y_test_hund_thou_three, predlog) * 100, 2)\n",
    "plt.figure(figsize=(9,9))\n",
    "sns.heatmap(cm, annot=True, fmt=\".3f\", linewidths=.5, square = True, cmap = 'Blues_r');\n",
    "plt.ylabel('Actual label');\n",
    "plt.xlabel('Predicted label');\n",
    "all_sample_title = 'Accuracy Score: {0}'.format(score)\n",
    "plt.title(all_sample_title, size = 15);"
   ]
  },
  {
   "cell_type": "markdown",
   "metadata": {},
   "source": [
    "### 8.b.iii.3 Modeling 100,000 (1-star, 3-star, and 5-star) reviews with Logistic Regression: update regularization: L1, C=10\n"
   ]
  },
  {
   "cell_type": "code",
   "execution_count": 84,
   "metadata": {},
   "outputs": [
    {
     "name": "stdout",
     "output_type": "stream",
     "text": [
      "\n",
      "Score: 78.3\n",
      "\n",
      "Classification Report:\n",
      "              precision    recall  f1-score   support\n",
      "\n",
      "         1.0       0.83      0.79      0.81      1640\n",
      "         3.0       0.72      0.71      0.71      1604\n",
      "         5.0       0.81      0.85      0.83      1549\n",
      "\n",
      "    accuracy                           0.78      4793\n",
      "   macro avg       0.78      0.78      0.78      4793\n",
      "weighted avg       0.78      0.78      0.78      4793\n",
      "\n"
     ]
    },
    {
     "data": {
      "image/png": "[encoded data removed]",
      "text/plain": [
       "<Figure size 648x648 with 2 Axes>"
      ]
     },
     "metadata": {
      "needs_background": "light"
     },
     "output_type": "display_data"
    }
   ],
   "source": [
    "# Logistic Regression\n",
    "from sklearn.linear_model import LogisticRegression\n",
    "log_hund_3L1 = LogisticRegression(C= 10, penalty='l1', solver='liblinear')\n",
    "log_hund_3L1.fit(x_train_hund_thou_three, y_train_hund_thou_three)\n",
    "predlog = log_hund_3L1.predict(x_test_hund_thou_three)\n",
    "\n",
    "print()\n",
    "print(\"Score:\", round(accuracy_score(y_test_hund_thou_three, predlog) * 100, 2))\n",
    "\n",
    "print()\n",
    "print(\"Classification Report:\")\n",
    "print(classification_report(y_test_hund_thou_three, predlog))\n",
    "\n",
    "cm = confusion_matrix(y_test_hund_thou_three, predlog)\n",
    "score = round(accuracy_score(y_test_hund_thou_three, predlog) * 100, 2)\n",
    "plt.figure(figsize=(9,9))\n",
    "sns.heatmap(cm, annot=True, fmt=\".3f\", linewidths=.5, square = True, cmap = 'Blues_r');\n",
    "plt.ylabel('Actual label');\n",
    "plt.xlabel('Predicted label');\n",
    "all_sample_title = 'Accuracy Score: {0}'.format(score)\n",
    "plt.title(all_sample_title, size = 15);"
   ]
  },
  {
   "cell_type": "markdown",
   "metadata": {},
   "source": [
    "### 8.b.iii.4 Modeling 100,000 (1-star, 3-star, and 5-star) reviews with Logistic Regression: update regularization: L1, C=1\n"
   ]
  },
  {
   "cell_type": "code",
   "execution_count": 85,
   "metadata": {},
   "outputs": [
    {
     "name": "stdout",
     "output_type": "stream",
     "text": [
      "\n",
      "Score: 80.45\n",
      "\n",
      "Classification Report:\n",
      "              precision    recall  f1-score   support\n",
      "\n",
      "         1.0       0.84      0.82      0.83      1640\n",
      "         3.0       0.75      0.73      0.74      1604\n",
      "         5.0       0.82      0.86      0.84      1549\n",
      "\n",
      "    accuracy                           0.80      4793\n",
      "   macro avg       0.80      0.80      0.80      4793\n",
      "weighted avg       0.80      0.80      0.80      4793\n",
      "\n"
     ]
    },
    {
     "data": {
      "image/png": "[encoded data removed]",
      "text/plain": [
       "<Figure size 648x648 with 2 Axes>"
      ]
     },
     "metadata": {
      "needs_background": "light"
     },
     "output_type": "display_data"
    }
   ],
   "source": [
    "# Logistic Regression\n",
    "from sklearn.linear_model import LogisticRegression\n",
    "log_hund_3L1 = LogisticRegression(C= 1, penalty='l1', solver='liblinear')\n",
    "log_hund_3L1.fit(x_train_hund_thou_three, y_train_hund_thou_three)\n",
    "predlog = log_hund_3L1.predict(x_test_hund_thou_three)\n",
    "\n",
    "print()\n",
    "print(\"Score:\", round(accuracy_score(y_test_hund_thou_three, predlog) * 100, 2))\n",
    "\n",
    "print()\n",
    "print(\"Classification Report:\")\n",
    "print(classification_report(y_test_hund_thou_three, predlog))\n",
    "\n",
    "cm = confusion_matrix(y_test_hund_thou_three, predlog)\n",
    "score = round(accuracy_score(y_test_hund_thou_three, predlog) * 100, 2)\n",
    "plt.figure(figsize=(9,9))\n",
    "sns.heatmap(cm, annot=True, fmt=\".3f\", linewidths=.5, square = True, cmap = 'Blues_r');\n",
    "plt.ylabel('Actual label');\n",
    "plt.xlabel('Predicted label');\n",
    "all_sample_title = 'Accuracy Score: {0}'.format(score)\n",
    "plt.title(all_sample_title, size = 15);"
   ]
  },
  {
   "cell_type": "markdown",
   "metadata": {},
   "source": [
    "### 8.b.iii.4 Modeling 100,000 (1-star, 3-star, and 5-star) reviews with Logistic Regression: update regularization: L1, C=0.1\n"
   ]
  },
  {
   "cell_type": "code",
   "execution_count": 86,
   "metadata": {},
   "outputs": [
    {
     "name": "stdout",
     "output_type": "stream",
     "text": [
      "\n",
      "Score: 80.05\n",
      "\n",
      "Classification Report:\n",
      "              precision    recall  f1-score   support\n",
      "\n",
      "         1.0       0.83      0.84      0.83      1640\n",
      "         3.0       0.77      0.71      0.74      1604\n",
      "         5.0       0.80      0.86      0.83      1549\n",
      "\n",
      "    accuracy                           0.80      4793\n",
      "   macro avg       0.80      0.80      0.80      4793\n",
      "weighted avg       0.80      0.80      0.80      4793\n",
      "\n"
     ]
    },
    {
     "data": {
      "image/png": "[encoded data removed]",
      "text/plain": [
       "<Figure size 648x648 with 2 Axes>"
      ]
     },
     "metadata": {
      "needs_background": "light"
     },
     "output_type": "display_data"
    }
   ],
   "source": [
    "# Logistic Regression\n",
    "from sklearn.linear_model import LogisticRegression\n",
    "log_hund_3L1 = LogisticRegression(C= 0.1, penalty='l1', solver='liblinear')\n",
    "log_hund_3L1.fit(x_train_hund_thou_three, y_train_hund_thou_three)\n",
    "predlog = log_hund_3L1.predict(x_test_hund_thou_three)\n",
    "\n",
    "print()\n",
    "print(\"Score:\", round(accuracy_score(y_test_hund_thou_three, predlog) * 100, 2))\n",
    "\n",
    "print()\n",
    "print(\"Classification Report:\")\n",
    "print(classification_report(y_test_hund_thou_three, predlog))\n",
    "\n",
    "cm = confusion_matrix(y_test_hund_thou_three, predlog)\n",
    "score = round(accuracy_score(y_test_hund_thou_three, predlog) * 100, 2)\n",
    "plt.figure(figsize=(9,9))\n",
    "sns.heatmap(cm, annot=True, fmt=\".3f\", linewidths=.5, square = True, cmap = 'Blues_r');\n",
    "plt.ylabel('Actual label');\n",
    "plt.xlabel('Predicted label');\n",
    "all_sample_title = 'Accuracy Score: {0}'.format(score)\n",
    "plt.title(all_sample_title, size = 15);"
   ]
  }
 ],
 "metadata": {
  "kernelspec": {
   "display_name": "Python 3",
   "language": "python",
   "name": "python3"
  },
  "language_info": {
   "codemirror_mode": {
    "name": "ipython",
    "version": 3
   },
   "file_extension": ".py",
   "mimetype": "text/x-python",
   "name": "python",
   "nbconvert_exporter": "python",
   "pygments_lexer": "ipython3",
   "version": "3.7.3"
  }
 },
 "nbformat": 4,
 "nbformat_minor": 2
}
