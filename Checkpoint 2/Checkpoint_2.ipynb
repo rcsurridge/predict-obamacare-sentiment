{
 "cells": [
  {
   "cell_type": "markdown",
   "metadata": {},
   "source": [
    "### Checkpoint 2: Understanding Public Perceptions of the ObamaCare Program: A Sentiment Analysis Approach Utilizing Open-Source Data\n",
    "<b> Lead TA: Julian Varon\n",
    "\n",
    "Team Members: Nadir Khan, Bob Surridge, Rob Mccormick, Kayecee Palisoc\n",
    "</b>"
   ]
  },
  {
   "cell_type": "markdown",
   "metadata": {},
   "source": [
    "### 1. Data processing\n",
    "#### Vectorize, Removed stop words, group data according to star reviews\n"
   ]
  },
  {
   "cell_type": "markdown",
   "metadata": {},
   "source": [
    "\n",
    "### 2. Initial Results using Multinomial Naie Bayes, Random Forest, and Decision Tree classifiers"
   ]
  },
  {
   "cell_type": "markdown",
   "metadata": {},
   "source": [
    "### 2.1 Baseline Class: 10,000 yelp reviews, using all star ratings. \n",
    "#### Refer to jupyter notebook [1.1 Yelp_sentiment_analysis_baseline](https://github.com/KCPalisoc/ML_project/blob/main/Checkpoint_2/1.1%20Yelp_sentiment_analysis_baseline.ipynb) for detailed results\n"
   ]
  },
  {
   "cell_type": "code",
   "execution_count": 26,
   "metadata": {
    "scrolled": true
   },
   "outputs": [
    {
     "data": {
      "image/png": "[encoded data removed]",
      "text/plain": [
       "<Figure size 432x288 with 1 Axes>"
      ]
     },
     "metadata": {
      "needs_background": "light"
     },
     "output_type": "display_data"
    }
   ],
   "source": [
    "\n",
    "df = pd.DataFrame({\n",
    "    'stars': [1,2,3,4,5],\n",
    "    'count': [1079,763,1139,2574,4445]\n",
    "})\n",
    "df.plot(kind='bar', x='stars', y='count', legend=False)\n",
    "\n",
    "plt.xlabel('stars')\n",
    "plt.ylabel('count')\n",
    "plt.title('star ratings count')\n",
    "plt.xticks(rotation=0)\n",
    "plt.show()"
   ]
  },
  {
   "cell_type": "markdown",
   "metadata": {},
   "source": [
    "<b>Multinomial Naive Bayes Score: 58.05</b>\n",
    "\n",
    "|Rating|Precision|Recall|f1 score|\n",
    "|-|-|-|-|\n",
    "|1|0.63|0.7|0.66|\n",
    "|2|0.08|0.01|0.01|\n",
    "|3|0.37|0.1|0.16|\n",
    "|4|0.43|0.5|0.46|\n",
    "|5|0.68|0.82|0.74|\n",
    "\n",
    "<b>Random Forest Score: 53.35</b>\n",
    "\n",
    "|Rating|Precision|Recall|f1 score|\n",
    "|-|-|-|-|\n",
    "|1|0.72|0.54|0.62|\n",
    "|2|0.67|0.01|0.03|\n",
    "|3|0.54|0.06|0.11|\n",
    "|4|0.4|0.2|0.27|\n",
    "|5|0.54|0.95|0.69|\n",
    "\n",
    "<b>Decision Tree Score: 47.0</b>\n",
    "\n",
    "|Rating|Precision|Recall|f1 score|\n",
    "|-|-|-|-|\n",
    "|1|0.52|0.46|0.49|\n",
    "|2|0.13|0.09|0.11|\n",
    "|3|0.2|0.22|0.21|\n",
    "|4|0.38|0.36|0.37|\n",
    "|5|0.61|0.67|0.64|\n"
   ]
  },
  {
   "cell_type": "markdown",
   "metadata": {},
   "source": [
    "### 2.2 Class 3: 6,663 yelp reviews, using 1,3& 5 star ratings. \n",
    "#### Refer to jupyter notebook [1.2 Yelp_sentiment_analysis_1,3 &5_stars](https://github.com/KCPalisoc/ML_project/blob/main/Checkpoint_2/1.2%20Yelp_sentiment_analysis_1%263%265_stars.ipynb) for detailed results \n"
   ]
  },
  {
   "cell_type": "markdown",
   "metadata": {},
   "source": [
    "<b>Multinomial Naive Bayes Score: 80.95</b>\n",
    "\n",
    "|Rating|Precision|Recall|f1 score|\n",
    "|-|-|-|-|\n",
    "|1|0.77|0.68|0.72|\n",
    "|3|0.63|0.3|0.41|\n",
    "|5|0.84|0.97|0.9|\n",
    "\n",
    "<b>Random Forest Score: 77.04</b>\n",
    "\n",
    "|Rating|Precision|Recall|f1 score|\n",
    "|-|-|-|-|\n",
    "|1|0.88|0.52|0.66|\n",
    "|3|0.73|0.13|0.22|\n",
    "|5|0.76|0.99|0.86|\n",
    "\n",
    "<b>Decision Tree Score: 74.12</b>\n",
    "\n",
    "|Rating|Precision|Recall|f1 score|\n",
    "|-|-|-|-|\n",
    "|1|0.58|0.6|0.59|\n",
    "|3|0.46|0.41|0.43|\n",
    "|5|0.84|0.86|0.85|\n",
    "\n"
   ]
  },
  {
   "cell_type": "markdown",
   "metadata": {},
   "source": [
    "### 2.3 Class 3: 5,524 yelp reviews, using 1 & 5 star ratings. \n",
    "#### Refer to jupyter notebook [1.3 Yelp_sentiment_analysis_1&5_stars](https://github.com/KCPalisoc/ML_project/blob/main/Checkpoint_2/1.3%20Yelp_sentiment_analysis_1%265_stars.ipynb) for detailed results "
   ]
  },
  {
   "cell_type": "markdown",
   "metadata": {},
   "source": [
    "<b>Multinomial Naive Bayes Score: 93.30</b>\n",
    "\n",
    "|Rating|Precision|Recall|f1 score|\n",
    "|-|-|-|-|\n",
    "|1|0.9|0.76|0.82|\n",
    "|5|0.94|0.98|0.96|\n",
    "\n",
    "<b>Random Forest Score: 90.32</b>\n",
    "\n",
    "|Rating|Precision|Recall|f1 score|\n",
    "|-|-|-|-|\n",
    "|1|0.97|0.54|0.7|\n",
    "|5|0.89|1|0.94|\n",
    "\n",
    "<b>Decision Tree Score: 88.42</b>\n",
    "\n",
    "|Rating|Precision|Recall|f1 score|\n",
    "|-|-|-|-|\n",
    "|1|0.74|0.67|0.7|\n",
    "|5|0.92|0.94|0.93|"
   ]
  },
  {
   "cell_type": "markdown",
   "metadata": {},
   "source": [
    "### As we have seen from the original star rating distribution of the training data, almost 50% of the data is positive reviews. The learning may be biased towards positive sentiments. For the next classes, we tried to even out the count distribution of star ratings by taking the minimum star count rating and setting this as the count for other star ratings, that way we have 20% data points for each star rating using all stars; 33.3% data points for each star rating using 1,3,&5 stars, and 50% data points for each star in 1&5 stars class\n",
    "\n",
    "#### Refer to jupyter notebook [2.0 Yelp_sentiment_analysis_even_distribution](https://github.com/KCPalisoc/ML_project/blob/main/Checkpoint_2/2.0%20Yelp_sentiment_analysis_even_distribution.ipynb) for detaled results\n",
    "    \n"
   ]
  },
  {
   "cell_type": "markdown",
   "metadata": {},
   "source": [
    "### 2.4 Class 4: From the baseline 10,000 yelp reviews, we took 3,815. Each star rating having 783 count. \n",
    "#### Refer to jupyter notebook 2.0 Yelp_sentiment_analysis_even_distribution, cells 8.a, 9.a. and 10.a. for detailed results\n",
    "\n"
   ]
  },
  {
   "cell_type": "markdown",
   "metadata": {},
   "source": [
    "#### All Stars Included:\n",
    "<b>Multinomial Naive Bayes Score: 47.05</b>\n",
    "\n",
    "|Rating|Precision|Recall|f1 score|\n",
    "|-|-|-|-|\n",
    "|1|0.59|0.68|0.63|\n",
    "|2|0.43|0.39|0.41|\n",
    "|3|0.37|0.48|0.42|\n",
    "|4|0.41|0.47|0.44|\n",
    "|5|0.7|0.34|0.46|\n",
    "\n",
    "<b>Random Forest Score: 41.81</b>\n",
    "\n",
    "|Rating|Precision|Recall|f1 score|\n",
    "|-|-|-|-|\n",
    "|1|0.47|0.66|0.55|\n",
    "|2|0.44|0.23|0.3|\n",
    "|3|0.33|0.36|0.35|\n",
    "|4|0.38|0.25|0.3|\n",
    "|5|0.45|0.62|0.52|\n",
    "\n",
    "<b>Decision Tree Score: 30.14</b>\n",
    "\n",
    "|Rating|Precision|Recall|f1 score|\n",
    "|-|-|-|-|\n",
    "|1|0.43|0.41|0.42|\n",
    "|2|0.33|0.29|0.31|\n",
    "|3|0.2|0.21|0.21|\n",
    "|4|0.26|0.23|0.25|\n",
    "|5|0.3|0.37|0.33|"
   ]
  },
  {
   "cell_type": "markdown",
   "metadata": {},
   "source": [
    "### 2.5 Class 5: Increased the number of yelp reviews to 100000 with equal distribution of count per star rating. This has 39,940 datapoints, with 7,988 count per star rating. Refer to jupyter notebook 2.0 Yelp_sentiment_analysis_even_distribution, cells 8.b, 9.b, and 10.b for detailed results\n",
    "\n",
    "### 2.6 Class 6: Increased the number of yelp reviews to 1M equal distribution of count per star rating. This has 389,560 datapoints, with 7,988 count per star rating. Refer to jupyter notebook 2.0 Yelp_sentiment_analysis_even_distribution, cells 8.c, 9.c, and 10.c for detailed results"
   ]
  },
  {
   "cell_type": "markdown",
   "metadata": {},
   "source": [
    "\n",
    "* Multinomial Naive Bayes: \n",
    "\n",
    "|           | 1-5 star | 1 & 5 star | 1, 3, 5 star |\n",
    "|-----------|----------|------------|--------------|\n",
    "|class 4: 10,000    | <span style='background:lightcoral'> 47.05  </span>| <span style='background:lightgreen'> 90.52  </span>   | <span style='background:lightgoldenrodyellow'> 74.67 </span> |\n",
    "|class 5: 100,000   | <span style='background:lightcoral'> 52.77 </span> | <span style='background:lightgreen'> **94.9** </span> | <span style='background:lightgoldenrodyellow'> 78.24 </span> |\n",
    "|class 6: 1,000,000 | <span style='background:lightgoldenrodyellow'> 78.24 </span>     | <span style='background:lightgreen'> 93.54 </span>    | <span style='background:lightgoldenrodyellow'> 79.66 </span> |\n",
    "\n",
    "\n",
    "* Random Forest Classifier:\n",
    "\n",
    "|           | 1-5 star | 1 & 5 star | 1, 3, 5 star |\n",
    "|-----------|----------|------------|--------------|\n",
    "|class 4: 10,000    | <span style='background:lightcoral'> 41.81 </span> | <span style='background:lightgreen'> 91.18 </span>     | <span style='background:lightgoldenrodyellow'> 70.09 </span> |\n",
    "|class 5: 100,000   | <span style='background:lightcoral'> 49.67 </span> | <span style='background:lightgreen'> 93.71 </span>     | <span style='background:lightgoldenrodyellow'> 76.84 </span> |\n",
    "|class 6: 1,000,000 | <span style='background:lightgoldenrodyellow'> 77.93 </span>     | <span style='background:lightgreen'> **94.64** </span> | <span style='background:lightgoldenrodyellow'> 79.98 </span> |\n",
    "\n",
    "* Decision Tree Classifier:\n",
    "\n",
    "|           | 1-5 star | 1 & 5 star | 1, 3, 5 star |\n",
    "|-----------|----------|------------|--------------|\n",
    "|class 4: 10,000    | <span style='background:lightcoral'> 30.14 </span> | <span style='background:lightgoldenrodyellow'> 77.45 </span>         | <span style='background:lightcoral'> 52.62 </span> |\n",
    "|class 5: 100,000   | <span style='background:lightcoral'> 37.56 </span> | <span style='background:lightgreen'> 85.67 </span>     | <span style='background:lightgoldenrodyellow'> 63.78 </span>     |\n",
    "|class 6: 1,000,000 | <span style='background:lightgoldenrodyellow'> 63.45 </span>     | <span style='background:lightgreen'> **88.18** </span> | <span style='background:lightgoldenrodyellow'> 67.77 </span>     |\n",
    "\n"
   ]
  },
  {
   "cell_type": "markdown",
   "metadata": {},
   "source": [
    "### 3. Analysis\n"
   ]
  },
  {
   "cell_type": "markdown",
   "metadata": {},
   "source": [
    "###  For the unevenly distributed dataset (classes 1-3), multinomial Naive Bayes performed best among the 3 models, across all classes. Accuracy score increased as we decrease the datapoints by removing the star ratings in the middle (categorized as 'neutrals'). Highest accuracy score is at 93.3 (Multinomial Naive Bayes), this is when we only include the extreme ratings, 1 star and 5 stars. \n",
    "\n",
    "### From the results of the evenly distributed star rating counts (classes 4-6), we got lower accuracy scores for all models, comparing this to the uneven data distribution at 10,000 points. Almost all models increased accuracy when we increased the number of data points. The evenly distributed models are less biased towards the positive reviews, so we are moving forward using this famework. Multinomial Naive Bayes best among the three models within the all-star and 1,3,5 star classes. Looking at the extreme ratings only, 1&5 stars, Random Forest performed best."
   ]
  },
  {
   "cell_type": "code",
   "execution_count": null,
   "metadata": {},
   "outputs": [],
   "source": []
  }
 ],
 "metadata": {
  "kernelspec": {
   "display_name": "Python 3",
   "language": "python",
   "name": "python3"
  },
  "language_info": {
   "codemirror_mode": {
    "name": "ipython",
    "version": 3
   },
   "file_extension": ".py",
   "mimetype": "text/x-python",
   "name": "python",
   "nbconvert_exporter": "python",
   "pygments_lexer": "ipython3",
   "version": "3.7.3"
  }
 },
 "nbformat": 4,
 "nbformat_minor": 2
}
