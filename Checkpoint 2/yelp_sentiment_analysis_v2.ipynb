{
 "cells": [
  {
   "attachments": {},
   "cell_type": "markdown",
   "metadata": {},
   "source": [
    "# A Sentiment Analysis of Yelp Reviews\n",
    "## Author: Robert Surridge"
   ]
  },
  {
   "attachments": {},
   "cell_type": "markdown",
   "metadata": {},
   "source": [
    "### 1. Import necessary packages:"
   ]
  },
  {
   "cell_type": "code",
   "execution_count": 2,
   "metadata": {},
   "outputs": [
    {
     "name": "stderr",
     "output_type": "stream",
     "text": [
      "[nltk_data] Downloading package stopwords to\n",
      "[nltk_data]     /Users/rsurridge/nltk_data...\n",
      "[nltk_data]   Package stopwords is already up-to-date!\n"
     ]
    }
   ],
   "source": [
    "import pandas as pd\n",
    "import json\n",
    "import matplotlib.pyplot as plt\n",
    "import seaborn as sns\n",
    "import nltk\n",
    "nltk.download('stopwords')\n",
    "from nltk.corpus import stopwords\n",
    "import string\n",
    "from sklearn.feature_extraction.text import CountVectorizer\n",
    "from sklearn.model_selection import train_test_split\n",
    "from sklearn.metrics import classification_report, accuracy_score, f1_score\n",
    "%matplotlib inline"
   ]
  },
  {
   "attachments": {},
   "cell_type": "markdown",
   "metadata": {},
   "source": [
    "### 2. Load the dataset with a sample of Yelp reviews, explore the metadata, and add a column \"length\" that contains the number of words per review:"
   ]
  },
  {
   "attachments": {},
   "cell_type": "markdown",
   "metadata": {},
   "source": [
    "#### a. 10,000 Yelp reviews:"
   ]
  },
  {
   "cell_type": "code",
   "execution_count": 3,
   "metadata": {},
   "outputs": [
    {
     "name": "stdout",
     "output_type": "stream",
     "text": [
      "\n",
      "Shape of the dataset: (10000, 10)\n",
      "\n",
      "Column names: Index(['review_id', 'user_id', 'business_id', 'stars', 'useful', 'funny',\n",
      "       'cool', 'text', 'date', 'length'],\n",
      "      dtype='object')\n",
      "\n",
      "Datatype of each column:\n",
      "review_id              object\n",
      "user_id                object\n",
      "business_id            object\n",
      "stars                 float64\n",
      "useful                  int64\n",
      "funny                   int64\n",
      "cool                    int64\n",
      "text                   object\n",
      "date           datetime64[ns]\n",
      "length                  int64\n",
      "dtype: object\n",
      "\n",
      "A few dataset entries:\n",
      "                review_id                 user_id             business_id   \n",
      "0  KU_O5udG6zpxOg-VcAEodg  mh_-eMZ6K5RLWhZyISBhwA  XQfwVwDr-v0ZS3_CbbE5Xw  \\\n",
      "1  BiTunyQ73aT9WBnpR9DZGw  OyoGAe7OKpv6SyGZT5g77Q  7ATYjTIgM3jUlt4UM3IypQ   \n",
      "2  saUsX_uimxRlCVr67Z4Jig  8g_iMtfSiwikVnbP2etR0A  YjUWPpI6HXG530lwP-fb2A   \n",
      "3  AqPFMleE6RsU23_auESxiA  _7bHUi9Uuf5__HHc_Q8guQ  kxX2SOes4o-D3ZQBkiMRfA   \n",
      "4  Sx8TMOWLNuJBWer-0pcmoA  bcjbaE6dDog4jkNY91ncLQ  e4Vwtrqf-wpJfwesgvdgxQ   \n",
      "\n",
      "   stars  useful  funny  cool   \n",
      "0    3.0       0      0     0  \\\n",
      "1    5.0       1      0     1   \n",
      "2    3.0       0      0     0   \n",
      "3    5.0       1      0     1   \n",
      "4    4.0       1      0     1   \n",
      "\n",
      "                                                text                date   \n",
      "0  If you decide to eat here, just be aware it is... 2018-07-07 22:09:11  \\\n",
      "1  I've taken a lot of spin classes over the year... 2012-01-03 15:28:18   \n",
      "2  Family diner. Had the buffet. Eclectic assortm... 2014-02-05 20:30:30   \n",
      "3  Wow!  Yummy, different,  delicious.   Our favo... 2015-01-04 00:01:03   \n",
      "4  Cute interior and owner (?) gave us tour of up... 2017-01-14 20:54:15   \n",
      "\n",
      "   length  \n",
      "0     513  \n",
      "1     829  \n",
      "2     339  \n",
      "3     243  \n",
      "4     534  \n",
      "\n",
      "Dataset Summary:\n"
     ]
    },
    {
     "data": {
      "text/html": [
       "<div>\n",
       "<style scoped>\n",
       "    .dataframe tbody tr th:only-of-type {\n",
       "        vertical-align: middle;\n",
       "    }\n",
       "\n",
       "    .dataframe tbody tr th {\n",
       "        vertical-align: top;\n",
       "    }\n",
       "\n",
       "    .dataframe thead th {\n",
       "        text-align: right;\n",
       "    }\n",
       "</style>\n",
       "<table border=\"1\" class=\"dataframe\">\n",
       "  <thead>\n",
       "    <tr style=\"text-align: right;\">\n",
       "      <th></th>\n",
       "      <th>review_id</th>\n",
       "      <th>user_id</th>\n",
       "      <th>business_id</th>\n",
       "      <th>stars</th>\n",
       "      <th>useful</th>\n",
       "      <th>funny</th>\n",
       "      <th>cool</th>\n",
       "      <th>text</th>\n",
       "      <th>date</th>\n",
       "      <th>length</th>\n",
       "    </tr>\n",
       "  </thead>\n",
       "  <tbody>\n",
       "    <tr>\n",
       "      <th>count</th>\n",
       "      <td>10000</td>\n",
       "      <td>10000</td>\n",
       "      <td>10000</td>\n",
       "      <td>10000.000000</td>\n",
       "      <td>10000.000000</td>\n",
       "      <td>10000.000000</td>\n",
       "      <td>10000.000000</td>\n",
       "      <td>10000</td>\n",
       "      <td>10000</td>\n",
       "      <td>10000.000000</td>\n",
       "    </tr>\n",
       "    <tr>\n",
       "      <th>unique</th>\n",
       "      <td>10000</td>\n",
       "      <td>9472</td>\n",
       "      <td>3930</td>\n",
       "      <td>NaN</td>\n",
       "      <td>NaN</td>\n",
       "      <td>NaN</td>\n",
       "      <td>NaN</td>\n",
       "      <td>10000</td>\n",
       "      <td>NaN</td>\n",
       "      <td>NaN</td>\n",
       "    </tr>\n",
       "    <tr>\n",
       "      <th>top</th>\n",
       "      <td>KU_O5udG6zpxOg-VcAEodg</td>\n",
       "      <td>n-lBS02-3yvlY5Q91mmwDA</td>\n",
       "      <td>GBTPC53ZrG1ZBY3DT8Mbcw</td>\n",
       "      <td>NaN</td>\n",
       "      <td>NaN</td>\n",
       "      <td>NaN</td>\n",
       "      <td>NaN</td>\n",
       "      <td>If you decide to eat here, just be aware it is...</td>\n",
       "      <td>NaN</td>\n",
       "      <td>NaN</td>\n",
       "    </tr>\n",
       "    <tr>\n",
       "      <th>freq</th>\n",
       "      <td>1</td>\n",
       "      <td>6</td>\n",
       "      <td>85</td>\n",
       "      <td>NaN</td>\n",
       "      <td>NaN</td>\n",
       "      <td>NaN</td>\n",
       "      <td>NaN</td>\n",
       "      <td>1</td>\n",
       "      <td>NaN</td>\n",
       "      <td>NaN</td>\n",
       "    </tr>\n",
       "    <tr>\n",
       "      <th>mean</th>\n",
       "      <td>NaN</td>\n",
       "      <td>NaN</td>\n",
       "      <td>NaN</td>\n",
       "      <td>3.854300</td>\n",
       "      <td>0.889100</td>\n",
       "      <td>0.246500</td>\n",
       "      <td>0.335500</td>\n",
       "      <td>NaN</td>\n",
       "      <td>2015-04-17 08:27:40.820000</td>\n",
       "      <td>549.039100</td>\n",
       "    </tr>\n",
       "    <tr>\n",
       "      <th>min</th>\n",
       "      <td>NaN</td>\n",
       "      <td>NaN</td>\n",
       "      <td>NaN</td>\n",
       "      <td>1.000000</td>\n",
       "      <td>0.000000</td>\n",
       "      <td>0.000000</td>\n",
       "      <td>0.000000</td>\n",
       "      <td>NaN</td>\n",
       "      <td>2005-03-01 17:47:15</td>\n",
       "      <td>26.000000</td>\n",
       "    </tr>\n",
       "    <tr>\n",
       "      <th>25%</th>\n",
       "      <td>NaN</td>\n",
       "      <td>NaN</td>\n",
       "      <td>NaN</td>\n",
       "      <td>3.000000</td>\n",
       "      <td>0.000000</td>\n",
       "      <td>0.000000</td>\n",
       "      <td>0.000000</td>\n",
       "      <td>NaN</td>\n",
       "      <td>2013-11-14 11:16:35.500000</td>\n",
       "      <td>224.000000</td>\n",
       "    </tr>\n",
       "    <tr>\n",
       "      <th>50%</th>\n",
       "      <td>NaN</td>\n",
       "      <td>NaN</td>\n",
       "      <td>NaN</td>\n",
       "      <td>4.000000</td>\n",
       "      <td>0.000000</td>\n",
       "      <td>0.000000</td>\n",
       "      <td>0.000000</td>\n",
       "      <td>NaN</td>\n",
       "      <td>2015-09-09 23:20:24</td>\n",
       "      <td>395.000000</td>\n",
       "    </tr>\n",
       "    <tr>\n",
       "      <th>75%</th>\n",
       "      <td>NaN</td>\n",
       "      <td>NaN</td>\n",
       "      <td>NaN</td>\n",
       "      <td>5.000000</td>\n",
       "      <td>1.000000</td>\n",
       "      <td>0.000000</td>\n",
       "      <td>0.000000</td>\n",
       "      <td>NaN</td>\n",
       "      <td>2017-03-27 02:25:32.500000</td>\n",
       "      <td>694.250000</td>\n",
       "    </tr>\n",
       "    <tr>\n",
       "      <th>max</th>\n",
       "      <td>NaN</td>\n",
       "      <td>NaN</td>\n",
       "      <td>NaN</td>\n",
       "      <td>5.000000</td>\n",
       "      <td>91.000000</td>\n",
       "      <td>26.000000</td>\n",
       "      <td>44.000000</td>\n",
       "      <td>NaN</td>\n",
       "      <td>2018-10-04 18:22:35</td>\n",
       "      <td>4994.000000</td>\n",
       "    </tr>\n",
       "    <tr>\n",
       "      <th>std</th>\n",
       "      <td>NaN</td>\n",
       "      <td>NaN</td>\n",
       "      <td>NaN</td>\n",
       "      <td>1.346719</td>\n",
       "      <td>2.092329</td>\n",
       "      <td>0.885221</td>\n",
       "      <td>1.051023</td>\n",
       "      <td>NaN</td>\n",
       "      <td>NaN</td>\n",
       "      <td>504.435838</td>\n",
       "    </tr>\n",
       "  </tbody>\n",
       "</table>\n",
       "</div>"
      ],
      "text/plain": [
       "                     review_id                 user_id   \n",
       "count                    10000                   10000  \\\n",
       "unique                   10000                    9472   \n",
       "top     KU_O5udG6zpxOg-VcAEodg  n-lBS02-3yvlY5Q91mmwDA   \n",
       "freq                         1                       6   \n",
       "mean                       NaN                     NaN   \n",
       "min                        NaN                     NaN   \n",
       "25%                        NaN                     NaN   \n",
       "50%                        NaN                     NaN   \n",
       "75%                        NaN                     NaN   \n",
       "max                        NaN                     NaN   \n",
       "std                        NaN                     NaN   \n",
       "\n",
       "                   business_id         stars        useful         funny   \n",
       "count                    10000  10000.000000  10000.000000  10000.000000  \\\n",
       "unique                    3930           NaN           NaN           NaN   \n",
       "top     GBTPC53ZrG1ZBY3DT8Mbcw           NaN           NaN           NaN   \n",
       "freq                        85           NaN           NaN           NaN   \n",
       "mean                       NaN      3.854300      0.889100      0.246500   \n",
       "min                        NaN      1.000000      0.000000      0.000000   \n",
       "25%                        NaN      3.000000      0.000000      0.000000   \n",
       "50%                        NaN      4.000000      0.000000      0.000000   \n",
       "75%                        NaN      5.000000      1.000000      0.000000   \n",
       "max                        NaN      5.000000     91.000000     26.000000   \n",
       "std                        NaN      1.346719      2.092329      0.885221   \n",
       "\n",
       "                cool                                               text   \n",
       "count   10000.000000                                              10000  \\\n",
       "unique           NaN                                              10000   \n",
       "top              NaN  If you decide to eat here, just be aware it is...   \n",
       "freq             NaN                                                  1   \n",
       "mean        0.335500                                                NaN   \n",
       "min         0.000000                                                NaN   \n",
       "25%         0.000000                                                NaN   \n",
       "50%         0.000000                                                NaN   \n",
       "75%         0.000000                                                NaN   \n",
       "max        44.000000                                                NaN   \n",
       "std         1.051023                                                NaN   \n",
       "\n",
       "                              date        length  \n",
       "count                        10000  10000.000000  \n",
       "unique                         NaN           NaN  \n",
       "top                            NaN           NaN  \n",
       "freq                           NaN           NaN  \n",
       "mean    2015-04-17 08:27:40.820000    549.039100  \n",
       "min            2005-03-01 17:47:15     26.000000  \n",
       "25%     2013-11-14 11:16:35.500000    224.000000  \n",
       "50%            2015-09-09 23:20:24    395.000000  \n",
       "75%     2017-03-27 02:25:32.500000    694.250000  \n",
       "max            2018-10-04 18:22:35   4994.000000  \n",
       "std                            NaN    504.435838  "
      ]
     },
     "execution_count": 3,
     "metadata": {},
     "output_type": "execute_result"
    }
   ],
   "source": [
    "yelp_data = pd.read_json('/Users/rsurridge/Downloads/yelp_data/yelp_academic_dataset_review.json', \n",
    "                         lines=True, chunksize=10_000)\n",
    "for chunk in yelp_data:\n",
    "    yelp_sample_unequal_ten_thou = chunk\n",
    "    result = chunk.to_json(orient=\"records\")\n",
    "    with open(\"yelp_sample.json\", \"w\") as f:\n",
    "        json.dump(result, f)\n",
    "    break\n",
    "\n",
    "yelp_sample_unequal_ten_thou['length'] = yelp_sample_unequal_ten_thou['text'].apply(len)\n",
    "yelp_sample_unequal_ten_thou['stars'] = yelp_sample_unequal_ten_thou['stars'].astype(float)\n",
    "\n",
    "print()\n",
    "print(\"Shape of the dataset:\", yelp_sample_unequal_ten_thou.shape)\n",
    "\n",
    "print()\n",
    "print(\"Column names:\", yelp_sample_unequal_ten_thou.columns)\n",
    "\n",
    "print()\n",
    "print(\"Datatype of each column:\")\n",
    "print(yelp_sample_unequal_ten_thou.dtypes)\n",
    "\n",
    "print()\n",
    "print(\"A few dataset entries:\")\n",
    "print(yelp_sample_unequal_ten_thou.head())\n",
    "\n",
    "print()\n",
    "print(\"Dataset Summary:\")\n",
    "yelp_sample_unequal_ten_thou.describe(include='all')\n"
   ]
  },
  {
   "attachments": {},
   "cell_type": "markdown",
   "metadata": {},
   "source": [
    "#### b. 100,000 Yelp reviews:"
   ]
  },
  {
   "cell_type": "code",
   "execution_count": 5,
   "metadata": {},
   "outputs": [
    {
     "name": "stdout",
     "output_type": "stream",
     "text": [
      "\n",
      "Shape of the dataset: (100000, 10)\n",
      "\n",
      "Dataset Summary:\n"
     ]
    },
    {
     "data": {
      "text/html": [
       "<div>\n",
       "<style scoped>\n",
       "    .dataframe tbody tr th:only-of-type {\n",
       "        vertical-align: middle;\n",
       "    }\n",
       "\n",
       "    .dataframe tbody tr th {\n",
       "        vertical-align: top;\n",
       "    }\n",
       "\n",
       "    .dataframe thead th {\n",
       "        text-align: right;\n",
       "    }\n",
       "</style>\n",
       "<table border=\"1\" class=\"dataframe\">\n",
       "  <thead>\n",
       "    <tr style=\"text-align: right;\">\n",
       "      <th></th>\n",
       "      <th>review_id</th>\n",
       "      <th>user_id</th>\n",
       "      <th>business_id</th>\n",
       "      <th>stars</th>\n",
       "      <th>useful</th>\n",
       "      <th>funny</th>\n",
       "      <th>cool</th>\n",
       "      <th>text</th>\n",
       "      <th>date</th>\n",
       "      <th>length</th>\n",
       "    </tr>\n",
       "  </thead>\n",
       "  <tbody>\n",
       "    <tr>\n",
       "      <th>count</th>\n",
       "      <td>100000</td>\n",
       "      <td>100000</td>\n",
       "      <td>100000</td>\n",
       "      <td>100000.000000</td>\n",
       "      <td>100000.000000</td>\n",
       "      <td>100000.000000</td>\n",
       "      <td>100000.000000</td>\n",
       "      <td>100000</td>\n",
       "      <td>100000</td>\n",
       "      <td>100000.000000</td>\n",
       "    </tr>\n",
       "    <tr>\n",
       "      <th>unique</th>\n",
       "      <td>100000</td>\n",
       "      <td>79345</td>\n",
       "      <td>9973</td>\n",
       "      <td>NaN</td>\n",
       "      <td>NaN</td>\n",
       "      <td>NaN</td>\n",
       "      <td>NaN</td>\n",
       "      <td>99964</td>\n",
       "      <td>NaN</td>\n",
       "      <td>NaN</td>\n",
       "    </tr>\n",
       "    <tr>\n",
       "      <th>top</th>\n",
       "      <td>KU_O5udG6zpxOg-VcAEodg</td>\n",
       "      <td>_BcWyKQL16ndpBdggh2kNA</td>\n",
       "      <td>GBTPC53ZrG1ZBY3DT8Mbcw</td>\n",
       "      <td>NaN</td>\n",
       "      <td>NaN</td>\n",
       "      <td>NaN</td>\n",
       "      <td>NaN</td>\n",
       "      <td>Service was a little slow to start but improve...</td>\n",
       "      <td>NaN</td>\n",
       "      <td>NaN</td>\n",
       "    </tr>\n",
       "    <tr>\n",
       "      <th>freq</th>\n",
       "      <td>1</td>\n",
       "      <td>65</td>\n",
       "      <td>950</td>\n",
       "      <td>NaN</td>\n",
       "      <td>NaN</td>\n",
       "      <td>NaN</td>\n",
       "      <td>NaN</td>\n",
       "      <td>2</td>\n",
       "      <td>NaN</td>\n",
       "      <td>NaN</td>\n",
       "    </tr>\n",
       "    <tr>\n",
       "      <th>mean</th>\n",
       "      <td>NaN</td>\n",
       "      <td>NaN</td>\n",
       "      <td>NaN</td>\n",
       "      <td>3.842910</td>\n",
       "      <td>0.898980</td>\n",
       "      <td>0.257180</td>\n",
       "      <td>0.347030</td>\n",
       "      <td>NaN</td>\n",
       "      <td>2015-05-02 14:36:08.625299968</td>\n",
       "      <td>548.438330</td>\n",
       "    </tr>\n",
       "    <tr>\n",
       "      <th>min</th>\n",
       "      <td>NaN</td>\n",
       "      <td>NaN</td>\n",
       "      <td>NaN</td>\n",
       "      <td>1.000000</td>\n",
       "      <td>0.000000</td>\n",
       "      <td>0.000000</td>\n",
       "      <td>0.000000</td>\n",
       "      <td>NaN</td>\n",
       "      <td>2005-03-01 17:47:15</td>\n",
       "      <td>3.000000</td>\n",
       "    </tr>\n",
       "    <tr>\n",
       "      <th>25%</th>\n",
       "      <td>NaN</td>\n",
       "      <td>NaN</td>\n",
       "      <td>NaN</td>\n",
       "      <td>3.000000</td>\n",
       "      <td>0.000000</td>\n",
       "      <td>0.000000</td>\n",
       "      <td>0.000000</td>\n",
       "      <td>NaN</td>\n",
       "      <td>2013-12-07 13:33:34.750000128</td>\n",
       "      <td>226.000000</td>\n",
       "    </tr>\n",
       "    <tr>\n",
       "      <th>50%</th>\n",
       "      <td>NaN</td>\n",
       "      <td>NaN</td>\n",
       "      <td>NaN</td>\n",
       "      <td>4.000000</td>\n",
       "      <td>0.000000</td>\n",
       "      <td>0.000000</td>\n",
       "      <td>0.000000</td>\n",
       "      <td>NaN</td>\n",
       "      <td>2015-09-26 23:21:59.500000</td>\n",
       "      <td>395.000000</td>\n",
       "    </tr>\n",
       "    <tr>\n",
       "      <th>75%</th>\n",
       "      <td>NaN</td>\n",
       "      <td>NaN</td>\n",
       "      <td>NaN</td>\n",
       "      <td>5.000000</td>\n",
       "      <td>1.000000</td>\n",
       "      <td>0.000000</td>\n",
       "      <td>0.000000</td>\n",
       "      <td>NaN</td>\n",
       "      <td>2017-04-08 12:26:05.249999872</td>\n",
       "      <td>693.000000</td>\n",
       "    </tr>\n",
       "    <tr>\n",
       "      <th>max</th>\n",
       "      <td>NaN</td>\n",
       "      <td>NaN</td>\n",
       "      <td>NaN</td>\n",
       "      <td>5.000000</td>\n",
       "      <td>320.000000</td>\n",
       "      <td>98.000000</td>\n",
       "      <td>49.000000</td>\n",
       "      <td>NaN</td>\n",
       "      <td>2018-10-04 18:22:35</td>\n",
       "      <td>5000.000000</td>\n",
       "    </tr>\n",
       "    <tr>\n",
       "      <th>std</th>\n",
       "      <td>NaN</td>\n",
       "      <td>NaN</td>\n",
       "      <td>NaN</td>\n",
       "      <td>1.354729</td>\n",
       "      <td>2.205186</td>\n",
       "      <td>1.010212</td>\n",
       "      <td>1.066382</td>\n",
       "      <td>NaN</td>\n",
       "      <td>NaN</td>\n",
       "      <td>501.703274</td>\n",
       "    </tr>\n",
       "  </tbody>\n",
       "</table>\n",
       "</div>"
      ],
      "text/plain": [
       "                     review_id                 user_id   \n",
       "count                   100000                  100000  \\\n",
       "unique                  100000                   79345   \n",
       "top     KU_O5udG6zpxOg-VcAEodg  _BcWyKQL16ndpBdggh2kNA   \n",
       "freq                         1                      65   \n",
       "mean                       NaN                     NaN   \n",
       "min                        NaN                     NaN   \n",
       "25%                        NaN                     NaN   \n",
       "50%                        NaN                     NaN   \n",
       "75%                        NaN                     NaN   \n",
       "max                        NaN                     NaN   \n",
       "std                        NaN                     NaN   \n",
       "\n",
       "                   business_id          stars         useful          funny   \n",
       "count                   100000  100000.000000  100000.000000  100000.000000  \\\n",
       "unique                    9973            NaN            NaN            NaN   \n",
       "top     GBTPC53ZrG1ZBY3DT8Mbcw            NaN            NaN            NaN   \n",
       "freq                       950            NaN            NaN            NaN   \n",
       "mean                       NaN       3.842910       0.898980       0.257180   \n",
       "min                        NaN       1.000000       0.000000       0.000000   \n",
       "25%                        NaN       3.000000       0.000000       0.000000   \n",
       "50%                        NaN       4.000000       0.000000       0.000000   \n",
       "75%                        NaN       5.000000       1.000000       0.000000   \n",
       "max                        NaN       5.000000     320.000000      98.000000   \n",
       "std                        NaN       1.354729       2.205186       1.010212   \n",
       "\n",
       "                 cool                                               text   \n",
       "count   100000.000000                                             100000  \\\n",
       "unique            NaN                                              99964   \n",
       "top               NaN  Service was a little slow to start but improve...   \n",
       "freq              NaN                                                  2   \n",
       "mean         0.347030                                                NaN   \n",
       "min          0.000000                                                NaN   \n",
       "25%          0.000000                                                NaN   \n",
       "50%          0.000000                                                NaN   \n",
       "75%          0.000000                                                NaN   \n",
       "max         49.000000                                                NaN   \n",
       "std          1.066382                                                NaN   \n",
       "\n",
       "                                 date         length  \n",
       "count                          100000  100000.000000  \n",
       "unique                            NaN            NaN  \n",
       "top                               NaN            NaN  \n",
       "freq                              NaN            NaN  \n",
       "mean    2015-05-02 14:36:08.625299968     548.438330  \n",
       "min               2005-03-01 17:47:15       3.000000  \n",
       "25%     2013-12-07 13:33:34.750000128     226.000000  \n",
       "50%        2015-09-26 23:21:59.500000     395.000000  \n",
       "75%     2017-04-08 12:26:05.249999872     693.000000  \n",
       "max               2018-10-04 18:22:35    5000.000000  \n",
       "std                               NaN     501.703274  "
      ]
     },
     "execution_count": 5,
     "metadata": {},
     "output_type": "execute_result"
    }
   ],
   "source": [
    "yelp_data = pd.read_json('/Users/rsurridge/Downloads/yelp_data/yelp_academic_dataset_review.json', \n",
    "                         lines=True, chunksize=100_000)\n",
    "for chunk in yelp_data:\n",
    "    yelp_sample_unequal_hund_thou = chunk\n",
    "    result = chunk.to_json(orient=\"records\")\n",
    "    with open(\"yelp_sample.json\", \"w\") as f:\n",
    "        json.dump(result, f)\n",
    "    break\n",
    "\n",
    "yelp_sample_unequal_hund_thou['length'] = yelp_sample_unequal_hund_thou['text'].apply(len)\n",
    "yelp_sample_unequal_hund_thou['stars'] = yelp_sample_unequal_hund_thou['stars'].astype(float)\n",
    "\n",
    "print()\n",
    "print(\"Shape of the dataset:\", yelp_sample_unequal_hund_thou.shape)\n",
    "\n",
    "print()\n",
    "print(\"Dataset Summary:\")\n",
    "yelp_sample_unequal_hund_thou.describe(include='all')\n"
   ]
  },
  {
   "attachments": {},
   "cell_type": "markdown",
   "metadata": {},
   "source": [
    "#### c. 1,000,000 Yelp reviews:"
   ]
  },
  {
   "cell_type": "code",
   "execution_count": 6,
   "metadata": {},
   "outputs": [
    {
     "name": "stdout",
     "output_type": "stream",
     "text": [
      "\n",
      "Shape of the dataset: (1000000, 10)\n",
      "\n",
      "Dataset Summary:\n"
     ]
    },
    {
     "data": {
      "text/html": [
       "<div>\n",
       "<style scoped>\n",
       "    .dataframe tbody tr th:only-of-type {\n",
       "        vertical-align: middle;\n",
       "    }\n",
       "\n",
       "    .dataframe tbody tr th {\n",
       "        vertical-align: top;\n",
       "    }\n",
       "\n",
       "    .dataframe thead th {\n",
       "        text-align: right;\n",
       "    }\n",
       "</style>\n",
       "<table border=\"1\" class=\"dataframe\">\n",
       "  <thead>\n",
       "    <tr style=\"text-align: right;\">\n",
       "      <th></th>\n",
       "      <th>review_id</th>\n",
       "      <th>user_id</th>\n",
       "      <th>business_id</th>\n",
       "      <th>stars</th>\n",
       "      <th>useful</th>\n",
       "      <th>funny</th>\n",
       "      <th>cool</th>\n",
       "      <th>text</th>\n",
       "      <th>date</th>\n",
       "      <th>length</th>\n",
       "    </tr>\n",
       "  </thead>\n",
       "  <tbody>\n",
       "    <tr>\n",
       "      <th>count</th>\n",
       "      <td>1000000</td>\n",
       "      <td>1000000</td>\n",
       "      <td>1000000</td>\n",
       "      <td>1000000.000000</td>\n",
       "      <td>1000000.000000</td>\n",
       "      <td>1000000.000000</td>\n",
       "      <td>1000000.000000</td>\n",
       "      <td>1000000</td>\n",
       "      <td>1000000</td>\n",
       "      <td>1000000.000000</td>\n",
       "    </tr>\n",
       "    <tr>\n",
       "      <th>unique</th>\n",
       "      <td>1000000</td>\n",
       "      <td>542003</td>\n",
       "      <td>27095</td>\n",
       "      <td>NaN</td>\n",
       "      <td>NaN</td>\n",
       "      <td>NaN</td>\n",
       "      <td>NaN</td>\n",
       "      <td>998357</td>\n",
       "      <td>NaN</td>\n",
       "      <td>NaN</td>\n",
       "    </tr>\n",
       "    <tr>\n",
       "      <th>top</th>\n",
       "      <td>KU_O5udG6zpxOg-VcAEodg</td>\n",
       "      <td>_BcWyKQL16ndpBdggh2kNA</td>\n",
       "      <td>GBTPC53ZrG1ZBY3DT8Mbcw</td>\n",
       "      <td>NaN</td>\n",
       "      <td>NaN</td>\n",
       "      <td>NaN</td>\n",
       "      <td>NaN</td>\n",
       "      <td>I have eaten at just about every decent Indian...</td>\n",
       "      <td>NaN</td>\n",
       "      <td>NaN</td>\n",
       "    </tr>\n",
       "    <tr>\n",
       "      <th>freq</th>\n",
       "      <td>1</td>\n",
       "      <td>483</td>\n",
       "      <td>4661</td>\n",
       "      <td>NaN</td>\n",
       "      <td>NaN</td>\n",
       "      <td>NaN</td>\n",
       "      <td>NaN</td>\n",
       "      <td>5</td>\n",
       "      <td>NaN</td>\n",
       "      <td>NaN</td>\n",
       "    </tr>\n",
       "    <tr>\n",
       "      <th>mean</th>\n",
       "      <td>NaN</td>\n",
       "      <td>NaN</td>\n",
       "      <td>NaN</td>\n",
       "      <td>3.783959</td>\n",
       "      <td>1.106594</td>\n",
       "      <td>0.307812</td>\n",
       "      <td>0.457129</td>\n",
       "      <td>NaN</td>\n",
       "      <td>2016-07-13 10:09:02.464016128</td>\n",
       "      <td>563.451724</td>\n",
       "    </tr>\n",
       "    <tr>\n",
       "      <th>min</th>\n",
       "      <td>NaN</td>\n",
       "      <td>NaN</td>\n",
       "      <td>NaN</td>\n",
       "      <td>1.000000</td>\n",
       "      <td>0.000000</td>\n",
       "      <td>0.000000</td>\n",
       "      <td>0.000000</td>\n",
       "      <td>NaN</td>\n",
       "      <td>2005-03-01 17:47:15</td>\n",
       "      <td>1.000000</td>\n",
       "    </tr>\n",
       "    <tr>\n",
       "      <th>25%</th>\n",
       "      <td>NaN</td>\n",
       "      <td>NaN</td>\n",
       "      <td>NaN</td>\n",
       "      <td>3.000000</td>\n",
       "      <td>0.000000</td>\n",
       "      <td>0.000000</td>\n",
       "      <td>0.000000</td>\n",
       "      <td>NaN</td>\n",
       "      <td>2014-08-07 16:29:16.500000</td>\n",
       "      <td>228.000000</td>\n",
       "    </tr>\n",
       "    <tr>\n",
       "      <th>50%</th>\n",
       "      <td>NaN</td>\n",
       "      <td>NaN</td>\n",
       "      <td>NaN</td>\n",
       "      <td>4.000000</td>\n",
       "      <td>0.000000</td>\n",
       "      <td>0.000000</td>\n",
       "      <td>0.000000</td>\n",
       "      <td>NaN</td>\n",
       "      <td>2016-10-11 16:02:42</td>\n",
       "      <td>403.000000</td>\n",
       "    </tr>\n",
       "    <tr>\n",
       "      <th>75%</th>\n",
       "      <td>NaN</td>\n",
       "      <td>NaN</td>\n",
       "      <td>NaN</td>\n",
       "      <td>5.000000</td>\n",
       "      <td>1.000000</td>\n",
       "      <td>0.000000</td>\n",
       "      <td>0.000000</td>\n",
       "      <td>NaN</td>\n",
       "      <td>2018-09-01 01:26:22.249999872</td>\n",
       "      <td>715.000000</td>\n",
       "    </tr>\n",
       "    <tr>\n",
       "      <th>max</th>\n",
       "      <td>NaN</td>\n",
       "      <td>NaN</td>\n",
       "      <td>NaN</td>\n",
       "      <td>5.000000</td>\n",
       "      <td>539.000000</td>\n",
       "      <td>284.000000</td>\n",
       "      <td>172.000000</td>\n",
       "      <td>NaN</td>\n",
       "      <td>2022-01-19 19:47:59</td>\n",
       "      <td>5000.000000</td>\n",
       "    </tr>\n",
       "    <tr>\n",
       "      <th>std</th>\n",
       "      <td>NaN</td>\n",
       "      <td>NaN</td>\n",
       "      <td>NaN</td>\n",
       "      <td>1.440197</td>\n",
       "      <td>2.848906</td>\n",
       "      <td>1.428185</td>\n",
       "      <td>1.799114</td>\n",
       "      <td>NaN</td>\n",
       "      <td>NaN</td>\n",
       "      <td>520.728919</td>\n",
       "    </tr>\n",
       "  </tbody>\n",
       "</table>\n",
       "</div>"
      ],
      "text/plain": [
       "                     review_id                 user_id   \n",
       "count                  1000000                 1000000  \\\n",
       "unique                 1000000                  542003   \n",
       "top     KU_O5udG6zpxOg-VcAEodg  _BcWyKQL16ndpBdggh2kNA   \n",
       "freq                         1                     483   \n",
       "mean                       NaN                     NaN   \n",
       "min                        NaN                     NaN   \n",
       "25%                        NaN                     NaN   \n",
       "50%                        NaN                     NaN   \n",
       "75%                        NaN                     NaN   \n",
       "max                        NaN                     NaN   \n",
       "std                        NaN                     NaN   \n",
       "\n",
       "                   business_id           stars          useful   \n",
       "count                  1000000  1000000.000000  1000000.000000  \\\n",
       "unique                   27095             NaN             NaN   \n",
       "top     GBTPC53ZrG1ZBY3DT8Mbcw             NaN             NaN   \n",
       "freq                      4661             NaN             NaN   \n",
       "mean                       NaN        3.783959        1.106594   \n",
       "min                        NaN        1.000000        0.000000   \n",
       "25%                        NaN        3.000000        0.000000   \n",
       "50%                        NaN        4.000000        0.000000   \n",
       "75%                        NaN        5.000000        1.000000   \n",
       "max                        NaN        5.000000      539.000000   \n",
       "std                        NaN        1.440197        2.848906   \n",
       "\n",
       "                 funny            cool   \n",
       "count   1000000.000000  1000000.000000  \\\n",
       "unique             NaN             NaN   \n",
       "top                NaN             NaN   \n",
       "freq               NaN             NaN   \n",
       "mean          0.307812        0.457129   \n",
       "min           0.000000        0.000000   \n",
       "25%           0.000000        0.000000   \n",
       "50%           0.000000        0.000000   \n",
       "75%           0.000000        0.000000   \n",
       "max         284.000000      172.000000   \n",
       "std           1.428185        1.799114   \n",
       "\n",
       "                                                     text   \n",
       "count                                             1000000  \\\n",
       "unique                                             998357   \n",
       "top     I have eaten at just about every decent Indian...   \n",
       "freq                                                    5   \n",
       "mean                                                  NaN   \n",
       "min                                                   NaN   \n",
       "25%                                                   NaN   \n",
       "50%                                                   NaN   \n",
       "75%                                                   NaN   \n",
       "max                                                   NaN   \n",
       "std                                                   NaN   \n",
       "\n",
       "                                 date          length  \n",
       "count                         1000000  1000000.000000  \n",
       "unique                            NaN             NaN  \n",
       "top                               NaN             NaN  \n",
       "freq                              NaN             NaN  \n",
       "mean    2016-07-13 10:09:02.464016128      563.451724  \n",
       "min               2005-03-01 17:47:15        1.000000  \n",
       "25%        2014-08-07 16:29:16.500000      228.000000  \n",
       "50%               2016-10-11 16:02:42      403.000000  \n",
       "75%     2018-09-01 01:26:22.249999872      715.000000  \n",
       "max               2022-01-19 19:47:59     5000.000000  \n",
       "std                               NaN      520.728919  "
      ]
     },
     "execution_count": 6,
     "metadata": {},
     "output_type": "execute_result"
    }
   ],
   "source": [
    "yelp_data = pd.read_json('/Users/rsurridge/Downloads/yelp_data/yelp_academic_dataset_review.json', \n",
    "                         lines=True, chunksize=1_000_000)\n",
    "for chunk in yelp_data:\n",
    "    yelp_sample_unequal_mil = chunk\n",
    "    result = chunk.to_json(orient=\"records\")\n",
    "    with open(\"yelp_sample.json\", \"w\") as f:\n",
    "        json.dump(result, f)\n",
    "    break\n",
    "\n",
    "yelp_sample_unequal_mil['length'] = yelp_sample_unequal_mil['text'].apply(len)\n",
    "yelp_sample_unequal_mil['stars'] = yelp_sample_unequal_mil['stars'].astype(float)\n",
    "\n",
    "print()\n",
    "print(\"Shape of the dataset:\", yelp_sample_unequal_mil.shape)\n",
    "\n",
    "print()\n",
    "print(\"Dataset Summary:\")\n",
    "yelp_sample_unequal_mil.describe(include='all')"
   ]
  },
  {
   "cell_type": "code",
   "execution_count": 7,
   "metadata": {},
   "outputs": [
    {
     "name": "stdout",
     "output_type": "stream",
     "text": [
      "\n",
      "Unequal star count (10,000 reviews)\n",
      "stars\n",
      "5.0    4445\n",
      "4.0    2574\n",
      "3.0    1139\n",
      "1.0    1079\n",
      "2.0     763\n",
      "Name: count, dtype: int64\n",
      "\n",
      "Equal star count (10,000 reviews)\n",
      "stars\n",
      "1.0    763\n",
      "2.0    763\n",
      "3.0    763\n",
      "4.0    763\n",
      "5.0    763\n",
      "Name: count, dtype: int64\n",
      "\n",
      "Unequal star count (100,000 reviews)\n",
      "stars\n",
      "5.0    44392\n",
      "4.0    25337\n",
      "3.0    11362\n",
      "1.0    10921\n",
      "2.0     7988\n",
      "Name: count, dtype: int64\n",
      "\n",
      "Equal star count (100,000 reviews)\n",
      "stars\n",
      "1.0    7988\n",
      "2.0    7988\n",
      "3.0    7988\n",
      "4.0    7988\n",
      "5.0    7988\n",
      "Name: count, dtype: int64\n",
      "\n",
      "Unequal star count (1,000,000 reviews)\n",
      "stars\n",
      "5.0    458612\n",
      "4.0    221897\n",
      "1.0    138625\n",
      "3.0    102954\n",
      "2.0     77912\n",
      "Name: count, dtype: int64\n",
      "\n",
      "Equal star count (1,000,000 reviews)\n",
      "stars\n",
      "1.0    77912\n",
      "2.0    77912\n",
      "3.0    77912\n",
      "4.0    77912\n",
      "5.0    77912\n",
      "Name: count, dtype: int64\n"
     ]
    }
   ],
   "source": [
    "star_counts_ten_thou = yelp_sample_unequal_ten_thou['stars'].value_counts()\n",
    "min_count = star_counts_ten_thou.min()\n",
    "yelp_sample_equal_ten_thou = (yelp_sample_unequal_ten_thou\n",
    "                              .groupby('stars')\n",
    "                              .apply(lambda x: x[:min_count]))\n",
    "count_ten_thou = yelp_sample_equal_ten_thou['stars'].value_counts()\n",
    "\n",
    "print()\n",
    "print(\"Unequal star count (10,000 reviews)\")\n",
    "print(star_counts_ten_thou)\n",
    "\n",
    "print()\n",
    "print(\"Equal star count (10,000 reviews)\")\n",
    "print(count_ten_thou)\n",
    "\n",
    "star_counts_hund_thou = yelp_sample_unequal_hund_thou['stars'].value_counts()\n",
    "min_count = star_counts_hund_thou.min()\n",
    "yelp_sample_equal_hund_thou = (yelp_sample_unequal_hund_thou\n",
    "                               .groupby('stars')\n",
    "                               .apply(lambda x: x[:min_count]))\n",
    "count_hund_thou = yelp_sample_equal_hund_thou['stars'].value_counts()\n",
    "\n",
    "print()\n",
    "print(\"Unequal star count (100,000 reviews)\")\n",
    "print(star_counts_hund_thou)\n",
    "\n",
    "print()\n",
    "print(\"Equal star count (100,000 reviews)\")\n",
    "print(count_hund_thou)\n",
    "\n",
    "star_counts_mil = yelp_sample_unequal_mil['stars'].value_counts()\n",
    "min_count = star_counts_mil.min()\n",
    "yelp_sample_equal_mil = (yelp_sample_unequal_mil\n",
    "                         .groupby('stars')\n",
    "                         .apply(lambda x: x[:min_count]))\n",
    "count_mil = yelp_sample_equal_mil['stars'].value_counts()\n",
    "\n",
    "print()\n",
    "print(\"Unequal star count (1,000,000 reviews)\")\n",
    "print(star_counts_mil)\n",
    "\n",
    "print()\n",
    "print(\"Equal star count (1,000,000 reviews)\")\n",
    "print(count_mil)\n"
   ]
  },
  {
   "attachments": {},
   "cell_type": "markdown",
   "metadata": {},
   "source": [
    "### 3. Plot histograms of review length frenquencies by the star rating:"
   ]
  },
  {
   "cell_type": "code",
   "execution_count": 49,
   "metadata": {},
   "outputs": [
    {
     "data": {
      "text/plain": [
       "Text(0.5, 1.0, 'Star Rating Frequency with a RAW Sample of One Million Reviews')"
      ]
     },
     "execution_count": 49,
     "metadata": {},
     "output_type": "execute_result"
    },
    {
     "data": {
      "image/png": "[encoded data removed]",
      "text/plain": [
       "<Figure size 640x480 with 1 Axes>"
      ]
     },
     "metadata": {},
     "output_type": "display_data"
    }
   ],
   "source": [
    "graph_star_freq_raw = plt.hist(yelp_sample_unequal_mil['stars'], bins=5, color='blue')\n",
    "plt.title('Star Rating Frequency with a RAW Sample of One Million Reviews')"
   ]
  },
  {
   "cell_type": "code",
   "execution_count": 50,
   "metadata": {},
   "outputs": [
    {
     "data": {
      "text/plain": [
       "Text(0.5, 1.0, 'Star Rating Frequency with a NORMALIZED Sample of One Million Reviews')"
      ]
     },
     "execution_count": 50,
     "metadata": {},
     "output_type": "execute_result"
    },
    {
     "data": {
      "image/png": "[encoded data removed]",
      "text/plain": [
       "<Figure size 640x480 with 1 Axes>"
      ]
     },
     "metadata": {},
     "output_type": "display_data"
    }
   ],
   "source": [
    "graph_star_freq_normal = plt.hist(yelp_sample_equal_mil['stars'], bins=5, color='blue')\n",
    "plt.title('Star Rating Frequency with a NORMALIZED Sample of One Million Reviews')"
   ]
  },
  {
   "attachments": {},
   "cell_type": "markdown",
   "metadata": {},
   "source": [
    "We want to note here that our sample dataset is biased to more positive reviews than negative reviews. As a result, we should proceed with caution when classifying, training, and predicting with this dataset."
   ]
  },
  {
   "cell_type": "markdown",
   "metadata": {},
   "source": [
    "### 4 Classify reviews into different star classes and separate the dataset into X and Y subsets for prediction:"
   ]
  },
  {
   "attachments": {},
   "cell_type": "markdown",
   "metadata": {},
   "source": [
    "#### a.i.i. 10,000 equal reviews into 1-star (negative), 2-star (negative), 3-star (neutral), 4-star (positive), and 5-star (positive) classes:"
   ]
  },
  {
   "cell_type": "code",
   "execution_count": 8,
   "metadata": {},
   "outputs": [
    {
     "name": "stdout",
     "output_type": "stream",
     "text": [
      "\n",
      "Shape of the dataset: (3815, 2)\n",
      "\n",
      "A few X entries\n",
      "stars      \n",
      "1.0    5       I am a long term frequent customer of this est...\n",
      "       47      If you want to pay for everything a la carte t...\n",
      "       64      The TV shows are $4.99 and they have commercia...\n",
      "       73      If I could give it a zero, I would. I order a ...\n",
      "       79      We visited once and were very disappointed in ...\n",
      "                                     ...                        \n",
      "5.0    1661    This little unassuming shop is tucked away in ...\n",
      "       1662    Great food and good coffee. Wish they had more...\n",
      "       1663    holly grove is the best. I'm consistently impr...\n",
      "       1669    Henry was a rock star  getting us into a stora...\n",
      "       1670    Phenomenal restaurant. Great location. Great a...\n",
      "Name: text, Length: 3815, dtype: object\n",
      "\n",
      "A few Y entries\n",
      "stars      \n",
      "1.0    5       1.0\n",
      "       47      1.0\n",
      "       64      1.0\n",
      "       73      1.0\n",
      "       79      1.0\n",
      "              ... \n",
      "5.0    1661    5.0\n",
      "       1662    5.0\n",
      "       1663    5.0\n",
      "       1669    5.0\n",
      "       1670    5.0\n",
      "Name: stars, Length: 3815, dtype: float64\n"
     ]
    }
   ],
   "source": [
    "yelp_classify = yelp_sample_equal_ten_thou.loc[:, ['stars', 'text']]\n",
    "\n",
    "print()\n",
    "print(\"Shape of the dataset:\", yelp_classify.shape)\n",
    "\n",
    "x_ten_thou_five_equal = yelp_classify['text']\n",
    "y_ten_thou_five_equal = yelp_classify['stars']\n",
    "\n",
    "print()\n",
    "print(\"A few X entries\")\n",
    "print(x_ten_thou_five_equal)\n",
    "\n",
    "print()\n",
    "print(\"A few Y entries\")\n",
    "print(y_ten_thou_five_equal)"
   ]
  },
  {
   "attachments": {},
   "cell_type": "markdown",
   "metadata": {},
   "source": [
    "#### a.i.ii. 10,000 unequal reviews into 1-star (negative), 2-star (negative), 3-star (neutral), 4-star (positive), and 5-star (positive) classes:"
   ]
  },
  {
   "cell_type": "code",
   "execution_count": 9,
   "metadata": {},
   "outputs": [
    {
     "name": "stdout",
     "output_type": "stream",
     "text": [
      "\n",
      "Shape of the dataset: (10000, 2)\n",
      "\n",
      "A few X entries\n",
      "0       If you decide to eat here, just be aware it is...\n",
      "1       I've taken a lot of spin classes over the year...\n",
      "2       Family diner. Had the buffet. Eclectic assortm...\n",
      "3       Wow!  Yummy, different,  delicious.   Our favo...\n",
      "4       Cute interior and owner (?) gave us tour of up...\n",
      "                              ...                        \n",
      "9995    Excellent food and service. The place is funct...\n",
      "9996    Just about to get tucked into a meatloaf that ...\n",
      "9997    Outstanding customer service! And my car is dr...\n",
      "9998    I and my husband went here for Dinner one day ...\n",
      "9999    I saw Big Data when they came to town at the K...\n",
      "Name: text, Length: 10000, dtype: object\n",
      "\n",
      "A few Y entries\n",
      "0       3.0\n",
      "1       5.0\n",
      "2       3.0\n",
      "3       5.0\n",
      "4       4.0\n",
      "       ... \n",
      "9995    5.0\n",
      "9996    5.0\n",
      "9997    5.0\n",
      "9998    5.0\n",
      "9999    2.0\n",
      "Name: stars, Length: 10000, dtype: float64\n"
     ]
    }
   ],
   "source": [
    "yelp_classify = yelp_sample_unequal_ten_thou.loc[:, ['stars', 'text']]\n",
    "\n",
    "print()\n",
    "print(\"Shape of the dataset:\", yelp_classify.shape)\n",
    "\n",
    "x_ten_thou_five_unequal = yelp_classify['text']\n",
    "y_ten_thou_five_unequal = yelp_classify['stars']\n",
    "\n",
    "print()\n",
    "print(\"A few X entries\")\n",
    "print(x_ten_thou_five_unequal)\n",
    "\n",
    "print()\n",
    "print(\"A few Y entries\")\n",
    "print(y_ten_thou_five_unequal)"
   ]
  },
  {
   "attachments": {},
   "cell_type": "markdown",
   "metadata": {},
   "source": [
    "#### a.ii.i. 10,000 equal reviews into 1-star (negative) and 5-star (positive) classes:"
   ]
  },
  {
   "cell_type": "code",
   "execution_count": 10,
   "metadata": {},
   "outputs": [
    {
     "name": "stdout",
     "output_type": "stream",
     "text": [
      "\n",
      "Shape of the dataset: (1526, 2)\n"
     ]
    }
   ],
   "source": [
    "yelp_classify = yelp_sample_equal_ten_thou.loc[:, ['stars', 'text']]\n",
    "data_classes = yelp_classify[(yelp_classify['stars']==1) | \n",
    "                           (yelp_classify['stars']==5)]\n",
    "\n",
    "print()\n",
    "print(\"Shape of the dataset:\", data_classes.shape)\n",
    "\n",
    "x_ten_thou_two_equal = data_classes['text']\n",
    "y_ten_thou_two_equal = data_classes['stars']"
   ]
  },
  {
   "attachments": {},
   "cell_type": "markdown",
   "metadata": {},
   "source": [
    "#### a.ii.ii. 10,000 unequal reviews into 1-star (negative) and 5-star (positive) classes:"
   ]
  },
  {
   "cell_type": "code",
   "execution_count": 11,
   "metadata": {},
   "outputs": [
    {
     "name": "stdout",
     "output_type": "stream",
     "text": [
      "\n",
      "Shape of the dataset: (5524, 2)\n"
     ]
    }
   ],
   "source": [
    "yelp_classify = yelp_sample_unequal_ten_thou.loc[:, ['stars', 'text']]\n",
    "data_classes = yelp_classify[(yelp_classify['stars']==1) | \n",
    "                           (yelp_classify['stars']==5)]\n",
    "\n",
    "print()\n",
    "print(\"Shape of the dataset:\", data_classes.shape)\n",
    "\n",
    "x_ten_thou_two_unequal = data_classes['text']\n",
    "y_ten_thou_two_unequal = data_classes['stars']"
   ]
  },
  {
   "attachments": {},
   "cell_type": "markdown",
   "metadata": {},
   "source": [
    "#### a.iii.i. 10,000 equal reviews into 1-star (negative), 3-star (neutral), and 5-star (positive) classes:"
   ]
  },
  {
   "cell_type": "code",
   "execution_count": 12,
   "metadata": {},
   "outputs": [
    {
     "name": "stdout",
     "output_type": "stream",
     "text": [
      "\n",
      "Shape of the dataset: (2289, 2)\n"
     ]
    }
   ],
   "source": [
    "yelp_classify = yelp_sample_equal_ten_thou.loc[:, ['stars', 'text']]\n",
    "data_classes = yelp_classify[(yelp_classify['stars']==1) | \n",
    "                           (yelp_classify['stars']==3) | \n",
    "                           (yelp_classify['stars']==5)]\n",
    "\n",
    "print()\n",
    "print(\"Shape of the dataset:\", data_classes.shape)\n",
    "\n",
    "x_ten_thou_three_equal = data_classes['text']\n",
    "y_ten_thou_three_equal = data_classes['stars']"
   ]
  },
  {
   "attachments": {},
   "cell_type": "markdown",
   "metadata": {},
   "source": [
    "#### a.iii.ii. 10,000 unequal reviews into 1-star (negative), 3-star (neutral), and 5-star (positive) classes:"
   ]
  },
  {
   "cell_type": "code",
   "execution_count": 13,
   "metadata": {},
   "outputs": [
    {
     "name": "stdout",
     "output_type": "stream",
     "text": [
      "\n",
      "Shape of the dataset: (6663, 2)\n"
     ]
    }
   ],
   "source": [
    "yelp_classify = yelp_sample_unequal_ten_thou.loc[:, ['stars', 'text']]\n",
    "data_classes = yelp_classify[(yelp_classify['stars']==1) | \n",
    "                           (yelp_classify['stars']==3) | \n",
    "                           (yelp_classify['stars']==5)]\n",
    "\n",
    "print()\n",
    "print(\"Shape of the dataset:\", data_classes.shape)\n",
    "\n",
    "x_ten_thou_three_unequal = data_classes['text']\n",
    "y_ten_thou_three_unequal = data_classes['stars']"
   ]
  },
  {
   "attachments": {},
   "cell_type": "markdown",
   "metadata": {},
   "source": [
    "#### b.i.i. 100,000 equal reviews into 1-star (negative), 2-star (negative), 3-star (neutral), 4-star (positive), and 5-star (positive) classes:"
   ]
  },
  {
   "cell_type": "code",
   "execution_count": 57,
   "metadata": {},
   "outputs": [
    {
     "name": "stdout",
     "output_type": "stream",
     "text": [
      "\n",
      "Shape of the dataset: (39940, 2)\n"
     ]
    }
   ],
   "source": [
    "yelp_classify = yelp_sample_equal_hund_thou.loc[:, ['stars', 'text']]\n",
    "\n",
    "print()\n",
    "print(\"Shape of the dataset:\", yelp_classify.shape)\n",
    "\n",
    "x_hund_thou_five_equal = yelp_classify['text']\n",
    "y_hund_thou_five_equal = yelp_classify['stars']"
   ]
  },
  {
   "attachments": {},
   "cell_type": "markdown",
   "metadata": {},
   "source": [
    "#### b.i.ii. 100,000 unequal reviews into 1-star (negative), 2-star (negative), 3-star (neutral), 4-star (positive), and 5-star (positive) classes:"
   ]
  },
  {
   "cell_type": "code",
   "execution_count": 58,
   "metadata": {},
   "outputs": [
    {
     "name": "stdout",
     "output_type": "stream",
     "text": [
      "\n",
      "Shape of the dataset: (100000, 2)\n"
     ]
    }
   ],
   "source": [
    "yelp_classify = yelp_sample_unequal_hund_thou.loc[:, ['stars', 'text']]\n",
    "\n",
    "print()\n",
    "print(\"Shape of the dataset:\", yelp_classify.shape)\n",
    "\n",
    "x_hund_thou_five_unequal = yelp_classify['text']\n",
    "y_hund_thou_five_unequal = yelp_classify['stars']"
   ]
  },
  {
   "attachments": {},
   "cell_type": "markdown",
   "metadata": {},
   "source": [
    "#### b.ii.i. 100,000 equal reviews into 1-star (negative) and 5-star (positive) classes:"
   ]
  },
  {
   "cell_type": "code",
   "execution_count": 59,
   "metadata": {},
   "outputs": [
    {
     "name": "stdout",
     "output_type": "stream",
     "text": [
      "\n",
      "Shape of the dataset: (15976, 2)\n"
     ]
    }
   ],
   "source": [
    "yelp_classify = yelp_sample_equal_hund_thou.loc[:, ['stars', 'text']]\n",
    "data_classes = yelp_classify[(yelp_classify['stars']==1) | \n",
    "                           (yelp_classify['stars']==5)]\n",
    "\n",
    "print()\n",
    "print(\"Shape of the dataset:\", data_classes.shape)\n",
    "\n",
    "x_hund_thou_two_equal = data_classes['text']\n",
    "y_hund_thou_two_equal = data_classes['stars']"
   ]
  },
  {
   "attachments": {},
   "cell_type": "markdown",
   "metadata": {},
   "source": [
    "#### b.ii.ii. 100,000 unequal reviews into 1-star (negative) and 5-star (positive) classes:"
   ]
  },
  {
   "cell_type": "code",
   "execution_count": 60,
   "metadata": {},
   "outputs": [
    {
     "name": "stdout",
     "output_type": "stream",
     "text": [
      "\n",
      "Shape of the dataset: (55313, 2)\n"
     ]
    }
   ],
   "source": [
    "yelp_classify = yelp_sample_unequal_hund_thou.loc[:, ['stars', 'text']]\n",
    "data_classes = yelp_classify[(yelp_classify['stars']==1) | \n",
    "                           (yelp_classify['stars']==5)]\n",
    "\n",
    "print()\n",
    "print(\"Shape of the dataset:\", data_classes.shape)\n",
    "\n",
    "x_hund_thou_two_unequal = data_classes['text']\n",
    "y_hund_thou_two_unequal = data_classes['stars']"
   ]
  },
  {
   "attachments": {},
   "cell_type": "markdown",
   "metadata": {},
   "source": [
    "#### b.iii.i. 100,000 equal reviews into 1-star (negative), 3-star (neutral), and 5-star (positive) classes:"
   ]
  },
  {
   "cell_type": "code",
   "execution_count": 61,
   "metadata": {},
   "outputs": [
    {
     "name": "stdout",
     "output_type": "stream",
     "text": [
      "\n",
      "Shape of the dataset: (23964, 2)\n"
     ]
    }
   ],
   "source": [
    "yelp_classify = yelp_sample_equal_hund_thou.loc[:, ['stars', 'text']]\n",
    "data_classes = yelp_classify[(yelp_classify['stars']==1) | \n",
    "                           (yelp_classify['stars']==3) | \n",
    "                           (yelp_classify['stars']==5)]\n",
    "\n",
    "print()\n",
    "print(\"Shape of the dataset:\", data_classes.shape)\n",
    "\n",
    "x_hund_thou_three_equal = data_classes['text']\n",
    "y_hund_thou_three_equal = data_classes['stars']"
   ]
  },
  {
   "attachments": {},
   "cell_type": "markdown",
   "metadata": {},
   "source": [
    "#### b.iii.ii. 100,000 unequal reviews into 1-star (negative), 3-star (neutral), and 5-star (positive) classes:"
   ]
  },
  {
   "cell_type": "code",
   "execution_count": 62,
   "metadata": {},
   "outputs": [
    {
     "name": "stdout",
     "output_type": "stream",
     "text": [
      "\n",
      "Shape of the dataset: (66675, 2)\n"
     ]
    }
   ],
   "source": [
    "yelp_classify = yelp_sample_unequal_hund_thou.loc[:, ['stars', 'text']]\n",
    "data_classes = yelp_classify[(yelp_classify['stars']==1) | \n",
    "                           (yelp_classify['stars']==3) | \n",
    "                           (yelp_classify['stars']==5)]\n",
    "\n",
    "print()\n",
    "print(\"Shape of the dataset:\", data_classes.shape)\n",
    "\n",
    "x_hund_thou_three_unequal = data_classes['text']\n",
    "y_hund_thou_three_unequal = data_classes['stars']"
   ]
  },
  {
   "attachments": {},
   "cell_type": "markdown",
   "metadata": {},
   "source": [
    "#### c.i.i. Classify 1,000,000 equal reviews into 1-star (negative), 2-star (negative), 3-star (neutral), 4-star (positive), and 5-star (positive) classes:"
   ]
  },
  {
   "cell_type": "code",
   "execution_count": 63,
   "metadata": {},
   "outputs": [
    {
     "name": "stdout",
     "output_type": "stream",
     "text": [
      "\n",
      "Shape of the dataset: (389560, 2)\n"
     ]
    }
   ],
   "source": [
    "yelp_classify = yelp_sample_equal_mil.loc[:, ['stars', 'text']]\n",
    "\n",
    "print()\n",
    "print(\"Shape of the dataset:\", yelp_classify.shape)\n",
    "\n",
    "x_mil_five_equal = data_classes['text']\n",
    "y_mil_five_equal = data_classes['stars']"
   ]
  },
  {
   "attachments": {},
   "cell_type": "markdown",
   "metadata": {},
   "source": [
    "#### c.i.ii. 1,000,000 unequal reviews into 1-star (negative), 2-star (negative), 3-star (neutral), 4-star (positive), and 5-star (positive) classes:"
   ]
  },
  {
   "cell_type": "code",
   "execution_count": 64,
   "metadata": {},
   "outputs": [
    {
     "name": "stdout",
     "output_type": "stream",
     "text": [
      "\n",
      "Shape of the dataset: (1000000, 2)\n"
     ]
    }
   ],
   "source": [
    "yelp_classify = yelp_sample_unequal_mil.loc[:, ['stars', 'text']]\n",
    "\n",
    "print()\n",
    "print(\"Shape of the dataset:\", yelp_classify.shape)\n",
    "\n",
    "x_mil_five_unequal = data_classes['text']\n",
    "y_mil_five_unequal = data_classes['stars']"
   ]
  },
  {
   "attachments": {},
   "cell_type": "markdown",
   "metadata": {},
   "source": [
    "#### c.ii.i. 1,000,000 equal reviews into 1-star (negative) and 5-star (positive) classes:"
   ]
  },
  {
   "cell_type": "code",
   "execution_count": 65,
   "metadata": {},
   "outputs": [
    {
     "name": "stdout",
     "output_type": "stream",
     "text": [
      "\n",
      "Shape of the dataset: (155824, 2)\n"
     ]
    }
   ],
   "source": [
    "yelp_classify = yelp_sample_equal_mil.loc[:, ['stars', 'text']]\n",
    "data_classes = yelp_classify[(yelp_classify['stars']==1) | \n",
    "                           (yelp_classify['stars']==5)]\n",
    "\n",
    "print()\n",
    "print(\"Shape of the dataset:\", data_classes.shape)\n",
    "\n",
    "x_mil_two_equal = data_classes['text']\n",
    "y_mil_two_equal = data_classes['stars']"
   ]
  },
  {
   "attachments": {},
   "cell_type": "markdown",
   "metadata": {},
   "source": [
    "#### c.ii.ii. 1,000,000 unequal reviews into 1-star (negative) and 5-star (positive) classes:"
   ]
  },
  {
   "cell_type": "code",
   "execution_count": 66,
   "metadata": {},
   "outputs": [
    {
     "name": "stdout",
     "output_type": "stream",
     "text": [
      "\n",
      "Shape of the dataset: (597237, 2)\n"
     ]
    }
   ],
   "source": [
    "yelp_classify = yelp_sample_unequal_mil.loc[:, ['stars', 'text']]\n",
    "data_classes = yelp_classify[(yelp_classify['stars']==1) | \n",
    "                           (yelp_classify['stars']==5)]\n",
    "\n",
    "print()\n",
    "print(\"Shape of the dataset:\", data_classes.shape)\n",
    "\n",
    "x_mil_two_unequal = data_classes['text']\n",
    "y_mil_two_unequal = data_classes['stars']"
   ]
  },
  {
   "attachments": {},
   "cell_type": "markdown",
   "metadata": {},
   "source": [
    "#### c.iii.i. 1,000,000 equal reviews into 1-star (negative), 3-star (neutral), and 5-star (positive) classes:"
   ]
  },
  {
   "cell_type": "code",
   "execution_count": 67,
   "metadata": {},
   "outputs": [
    {
     "name": "stdout",
     "output_type": "stream",
     "text": [
      "\n",
      "Shape of the dataset: (233736, 2)\n"
     ]
    }
   ],
   "source": [
    "yelp_classify = yelp_sample_equal_mil.loc[:, ['stars', 'text']]\n",
    "data_classes = yelp_classify[(yelp_classify['stars']==1) | \n",
    "                           (yelp_classify['stars']==3) | \n",
    "                           (yelp_classify['stars']==5)]\n",
    "\n",
    "print()\n",
    "print(\"Shape of the dataset:\", data_classes.shape)\n",
    "\n",
    "x_mil_three_equal = data_classes['text']\n",
    "y_mil_three_equal = data_classes['stars']"
   ]
  },
  {
   "attachments": {},
   "cell_type": "markdown",
   "metadata": {},
   "source": [
    "#### c.iii.ii. 1,000,000 unequal reviews into 1-star (negative), 3-star (neutral), and 5-star (positive) classes:"
   ]
  },
  {
   "cell_type": "code",
   "execution_count": 68,
   "metadata": {},
   "outputs": [
    {
     "name": "stdout",
     "output_type": "stream",
     "text": [
      "\n",
      "Shape of the dataset: (700191, 2)\n"
     ]
    }
   ],
   "source": [
    "yelp_classify = yelp_sample_unequal_mil.loc[:, ['stars', 'text']]\n",
    "data_classes = yelp_classify[(yelp_classify['stars']==1) | \n",
    "                           (yelp_classify['stars']==3) | \n",
    "                           (yelp_classify['stars']==5)]\n",
    "\n",
    "print()\n",
    "print(\"Shape of the dataset:\", data_classes.shape)\n",
    "\n",
    "x_mil_three_unequal = data_classes['text']\n",
    "y_mil_three_unequal = data_classes['stars']"
   ]
  },
  {
   "attachments": {},
   "cell_type": "markdown",
   "metadata": {},
   "source": [
    "### 5. Clean the review text by removing stopwords and punctuation:"
   ]
  },
  {
   "cell_type": "code",
   "execution_count": 15,
   "metadata": {},
   "outputs": [],
   "source": [
    "def process_text(text):\n",
    "    nopunc = [char for char in text if char not in string.punctuation]\n",
    "    nopunc = ''.join(nopunc)\n",
    "    return [word for word in nopunc.split() if word.lower() not in stopwords.words('english')]"
   ]
  },
  {
   "attachments": {},
   "cell_type": "markdown",
   "metadata": {},
   "source": [
    "### 6. Vectorize reviews and split processed dataset into training and testing sets:"
   ]
  },
  {
   "attachments": {},
   "cell_type": "markdown",
   "metadata": {},
   "source": [
    "#### a.i.i. 10,000 (1-star, 2-star, 3-star, 4-star, and 5-star) equal reviews:"
   ]
  },
  {
   "cell_type": "code",
   "execution_count": 16,
   "metadata": {},
   "outputs": [
    {
     "name": "stdout",
     "output_type": "stream",
     "text": [
      "\n",
      "Number of possible words: 21208\n",
      "\n",
      "Sample Uncleaned Review:\n",
      "I am a long term frequent customer of this establishment. I just went in to order take out (3 apps) and was told they're too busy to do it. Really? The place is maybe half full at best. Does your dick reach your ass? Yes? Go fuck yourself! I'm a frequent customer AND great tipper. Glad that Kanella just opened. NEVER going back to dmitris!\n",
      "\n",
      "Vectorized Review:\n",
      "  (0, 322)\t1\n",
      "  (0, 2833)\t1\n",
      "  (0, 2846)\t1\n",
      "  (0, 3245)\t1\n",
      "  (0, 3472)\t1\n",
      "  (0, 4223)\t1\n",
      "  (0, 5051)\t1\n",
      "  (0, 6645)\t1\n",
      "  (0, 7244)\t1\n",
      "  (0, 7332)\t1\n",
      "  (0, 7510)\t1\n",
      "  (0, 7814)\t1\n",
      "  (0, 8377)\t1\n",
      "  (0, 9848)\t2\n",
      "  (0, 10232)\t1\n",
      "  (0, 10459)\t1\n",
      "  (0, 11027)\t1\n",
      "  (0, 11818)\t2\n",
      "  (0, 11890)\t1\n",
      "  (0, 11900)\t1\n",
      "  (0, 12126)\t1\n",
      "  (0, 12236)\t1\n",
      "  (0, 12414)\t1\n",
      "  (0, 13983)\t1\n",
      "  (0, 14304)\t1\n",
      "  (0, 15318)\t1\n",
      "  (0, 15361)\t1\n",
      "  (0, 16024)\t1\n",
      "  (0, 16800)\t1\n",
      "  (0, 19342)\t1\n",
      "  (0, 19512)\t1\n",
      "  (0, 19578)\t1\n",
      "  (0, 19725)\t1\n",
      "  (0, 19770)\t1\n",
      "  (0, 20819)\t1\n",
      "\n",
      "Return word from index 5000: Rabbit\n",
      "Return word from index 20000: declared\n",
      "  (0, 991)\t1\n",
      "  (0, 2978)\t1\n",
      "  (0, 3079)\t1\n",
      "  (0, 3245)\t1\n",
      "  (0, 3308)\t1\n",
      "  (0, 4221)\t1\n",
      "  (0, 4853)\t1\n",
      "  (0, 5892)\t1\n",
      "  (0, 5928)\t1\n",
      "  (0, 6005)\t1\n",
      "  (0, 7160)\t1\n",
      "  (0, 7585)\t1\n",
      "  (0, 7779)\t1\n",
      "  (0, 8504)\t4\n",
      "  (0, 8506)\t1\n",
      "  (0, 8964)\t1\n",
      "  (0, 9936)\t1\n",
      "  (0, 10844)\t1\n",
      "  (0, 11061)\t1\n",
      "  (0, 11063)\t2\n",
      "  (0, 11076)\t1\n",
      "  (0, 11329)\t1\n",
      "  (0, 11990)\t1\n",
      "  (0, 12113)\t1\n",
      "  (0, 12126)\t1\n",
      "  :\t:\n",
      "  (3051, 5383)\t1\n",
      "  (3051, 7533)\t1\n",
      "  (3051, 8213)\t1\n",
      "  (3051, 9121)\t2\n",
      "  (3051, 9180)\t1\n",
      "  (3051, 10798)\t1\n",
      "  (3051, 10857)\t1\n",
      "  (3051, 10964)\t1\n",
      "  (3051, 11674)\t1\n",
      "  (3051, 11773)\t1\n",
      "  (3051, 12030)\t1\n",
      "  (3051, 12192)\t1\n",
      "  (3051, 12231)\t1\n",
      "  (3051, 13558)\t1\n",
      "  (3051, 13668)\t1\n",
      "  (3051, 14419)\t1\n",
      "  (3051, 14715)\t1\n",
      "  (3051, 15937)\t1\n",
      "  (3051, 16069)\t1\n",
      "  (3051, 16392)\t1\n",
      "  (3051, 17586)\t3\n",
      "  (3051, 17634)\t1\n",
      "  (3051, 18218)\t1\n",
      "  (3051, 20185)\t1\n",
      "  (3051, 20876)\t1\n",
      "stars      \n",
      "5.0    150     5.0\n",
      "3.0    3558    3.0\n",
      "4.0    2402    4.0\n",
      "       17      4.0\n",
      "1.0    4651    1.0\n",
      "              ... \n",
      "       5414    1.0\n",
      "3.0    584     3.0\n",
      "2.0    7967    2.0\n",
      "3.0    211     3.0\n",
      "2.0    1332    2.0\n",
      "Name: stars, Length: 3052, dtype: float64\n"
     ]
    }
   ],
   "source": [
    "vocab_ten_thou_five_equal = (CountVectorizer(analyzer=process_text)\n",
    "                             .fit(x_ten_thou_five_equal))\n",
    "r1 = x_ten_thou_five_equal[1][5]\n",
    "vocab1 = vocab_ten_thou_five_equal.transform([r1])\n",
    "\n",
    "print()\n",
    "print(\"Number of possible words:\", len(vocab_ten_thou_five_equal.vocabulary_))\n",
    "\n",
    "print()\n",
    "print(\"Sample Uncleaned Review:\")\n",
    "print(r1)\n",
    "\n",
    "print()\n",
    "print(\"Vectorized Review:\")\n",
    "print(vocab1)\n",
    "\n",
    "print()\n",
    "print(\"Return word from index 5000:\", \n",
    "      vocab_ten_thou_five_equal.get_feature_names_out()[5000])\n",
    "print(\"Return word from index 20000:\", \n",
    "      vocab_ten_thou_five_equal.get_feature_names_out()[10000])\n",
    "\n",
    "x_ten_thou_five_equal = vocab_ten_thou_five_equal.transform(x_ten_thou_five_equal)\n",
    "(x_train_ten_thou_five_equal, \n",
    " x_test_ten_thou_five_equal, \n",
    " y_train_ten_thou_five_equal, \n",
    " y_test_ten_thou_five_equal) = train_test_split(x_ten_thou_five_equal, \n",
    "                                                y_ten_thou_five_equal, \n",
    "                                                test_size=0.2, \n",
    "                                                random_state=101)\n",
    "\n",
    "print(x_train_ten_thou_five_equal)\n",
    "print(y_train_ten_thou_five_equal)"
   ]
  },
  {
   "attachments": {},
   "cell_type": "markdown",
   "metadata": {},
   "source": [
    "#### a.i.ii. 10,000 (1-star, 2-star, 3-star, 4-star, and 5-star) unequal reviews:"
   ]
  },
  {
   "cell_type": "code",
   "execution_count": 91,
   "metadata": {},
   "outputs": [
    {
     "name": "stdout",
     "output_type": "stream",
     "text": [
      "\n",
      "Number of possible words: 35071\n",
      "\n",
      "Sample Uncleaned Review:\n",
      "t\n",
      "\n",
      "Vectorized Review:\n",
      "\n",
      "\n",
      "Return word from index 5000: GOOOD\n",
      "Return word from index 20000: Screaming\n"
     ]
    }
   ],
   "source": [
    "vocab_ten_thou_five_unequal = (CountVectorizer(analyzer=process_text)\n",
    "                               .fit(x_ten_thou_five_unequal))\n",
    "r1 = x_ten_thou_five_unequal[1][5]\n",
    "vocab1 = vocab_ten_thou_five_unequal.transform([r1])\n",
    "\n",
    "print()\n",
    "print(\"Number of possible words:\", len(vocab_ten_thou_five_unequal.vocabulary_))\n",
    "\n",
    "print()\n",
    "print(\"Sample Uncleaned Review:\")\n",
    "print(r1)\n",
    "\n",
    "print()\n",
    "print(\"Vectorized Review:\")\n",
    "print(vocab1)\n",
    "\n",
    "print()\n",
    "print(\"Return word from index 5000:\", \n",
    "      vocab_ten_thou_five_unequal.get_feature_names_out()[5000])\n",
    "print(\"Return word from index 20000:\", \n",
    "      vocab_ten_thou_five_unequal.get_feature_names_out()[10000])\n",
    "\n",
    "x_ten_thou_five_unequal = vocab_ten_thou_five_unequal.transform(x_ten_thou_five_unequal)\n",
    "(x_train,\n",
    " y_train) = train_test_split(x_ten_thou_five_unequal, \n",
    "                                                  y_ten_thou_five_unequal, \n",
    "                                                  test_size=0.2, \n",
    "                                                  random_state=101)"
   ]
  },
  {
   "attachments": {},
   "cell_type": "markdown",
   "metadata": {},
   "source": [
    "#### a.ii.i. 10,000 (1-star and 5-star) equal reviews:"
   ]
  },
  {
   "cell_type": "code",
   "execution_count": 72,
   "metadata": {},
   "outputs": [
    {
     "name": "stdout",
     "output_type": "stream",
     "text": [
      "\n",
      "Number of possible words: 12741\n",
      "\n",
      "Return word from index 5000: chefas\n",
      "Return word from index 20000: recommend\n"
     ]
    }
   ],
   "source": [
    "vocab_ten_thou_two_equal = (CountVectorizer(analyzer=process_text)\n",
    "                            .fit(x_ten_thou_two_equal))\n",
    "r1 = x_ten_thou_two_equal[1][5]\n",
    "vocab1 = vocab_ten_thou_two_equal.transform([r1])\n",
    "\n",
    "print()\n",
    "print(\"Number of possible words:\", len(vocab_ten_thou_two_equal.vocabulary_))\n",
    "\n",
    "print()\n",
    "print(\"Return word from index 5000:\", \n",
    "      vocab_ten_thou_two_equal.get_feature_names_out()[5000])\n",
    "print(\"Return word from index 20000:\", \n",
    "      vocab_ten_thou_two_equal.get_feature_names_out()[10000])\n",
    "\n",
    "x_ten_thou_two_equal = vocab_ten_thou_two_equal.transform(x_ten_thou_two_equal)\n",
    "(x_train_ten_thou_two_equal, \n",
    " x_test_ten_thou_two_equal, \n",
    " y_train_ten_thou_two_equal, \n",
    " y_test_ten_thou_two_equal) = train_test_split(x_ten_thou_two_equal, \n",
    "                                               y_ten_thou_two_equal, \n",
    "                                               test_size=0.2, \n",
    "                                               random_state=101)"
   ]
  },
  {
   "attachments": {},
   "cell_type": "markdown",
   "metadata": {},
   "source": [
    "#### a.ii.ii. 10,000 (1-star and 5-star) unequal reviews:"
   ]
  },
  {
   "cell_type": "code",
   "execution_count": 73,
   "metadata": {},
   "outputs": [
    {
     "name": "stdout",
     "output_type": "stream",
     "text": [
      "\n",
      "Number of possible words: 24817\n",
      "\n",
      "Return word from index 5000: Mary\n",
      "Return word from index 20000: boon\n"
     ]
    }
   ],
   "source": [
    "vocab_ten_thou_two_unequal = (CountVectorizer(analyzer=process_text)\n",
    "                              .fit(x_ten_thou_two_unequal))\n",
    "r1 = x_ten_thou_two_unequal[1][5]\n",
    "vocab1 = vocab_ten_thou_two_unequal.transform([r1])\n",
    "\n",
    "print()\n",
    "print(\"Number of possible words:\", len(vocab_ten_thou_two_unequal.vocabulary_))\n",
    "\n",
    "print()\n",
    "print(\"Return word from index 5000:\", \n",
    "      vocab_ten_thou_two_unequal.get_feature_names_out()[5000])\n",
    "print(\"Return word from index 20000:\", \n",
    "      vocab_ten_thou_two_unequal.get_feature_names_out()[10000])\n",
    "\n",
    "x_ten_thou_two_unequal = vocab_ten_thou_two_unequal.transform(x_ten_thou_two_unequal)\n",
    "(x_train_ten_thou_two_unequal, \n",
    " x_test_ten_thou_two_unequal, \n",
    " y_train_ten_thou_two_unequal, \n",
    " y_test_ten_thou_two_unequal) = train_test_split(x_ten_thou_two_unequal, \n",
    "                                                 y_ten_thou_two_unequal, \n",
    "                                                 test_size=0.2, \n",
    "                                                 random_state=101)"
   ]
  },
  {
   "attachments": {},
   "cell_type": "markdown",
   "metadata": {},
   "source": [
    "#### 6.a.iii.i. 10,000 (1-star, 3-star, and 5-star) equal reviews:"
   ]
  },
  {
   "cell_type": "code",
   "execution_count": 74,
   "metadata": {},
   "outputs": [
    {
     "name": "stdout",
     "output_type": "stream",
     "text": [
      "\n",
      "Number of possible words: 15946\n",
      "\n",
      "Return word from index 5000: alert\n",
      "Return word from index 20000: jaded\n"
     ]
    }
   ],
   "source": [
    "vocab_ten_thou_three_equal = (CountVectorizer(analyzer=process_text)\n",
    "                              .fit(x_ten_thou_three_equal))\n",
    "\n",
    "print()\n",
    "print(\"Number of possible words:\", len(vocab_ten_thou_three_equal.vocabulary_))\n",
    "\n",
    "print()\n",
    "print(\"Return word from index 5000:\", \n",
    "      vocab_ten_thou_three_equal.get_feature_names_out()[5000])\n",
    "print(\"Return word from index 20000:\", \n",
    "      vocab_ten_thou_three_equal.get_feature_names_out()[10000])\n",
    "\n",
    "x_ten_thou_three_equal = vocab_ten_thou_three_equal.transform(x_ten_thou_three_equal)\n",
    "(x_train_ten_thou_three_equal, \n",
    " x_test_ten_thou_three_equal, \n",
    " y_train_ten_thou_three_equal, \n",
    " y_test_ten_thou_three_equal) = train_test_split(x_ten_thou_three_equal, \n",
    "                                                 y_ten_thou_three_equal, \n",
    "                                                 test_size=0.2, \n",
    "                                                 random_state=101)"
   ]
  },
  {
   "attachments": {},
   "cell_type": "markdown",
   "metadata": {},
   "source": [
    "#### a.iii.ii. 10,000 (1-star, 3-star, and 5-star) unequal reviews:"
   ]
  },
  {
   "cell_type": "code",
   "execution_count": 75,
   "metadata": {},
   "outputs": [
    {
     "name": "stdout",
     "output_type": "stream",
     "text": [
      "\n",
      "Number of possible words: 27678\n",
      "\n",
      "Return word from index 5000: KitchenAid\n",
      "Return word from index 20000: amway\n"
     ]
    }
   ],
   "source": [
    "vocab_ten_thou_three_unequal = (CountVectorizer(analyzer=process_text)\n",
    "                                .fit(x_ten_thou_three_unequal))\n",
    "\n",
    "print()\n",
    "print(\"Number of possible words:\", len(vocab_ten_thou_three_unequal.vocabulary_))\n",
    "\n",
    "print()\n",
    "print(\"Return word from index 5000:\", \n",
    "      vocab_ten_thou_three_unequal.get_feature_names_out()[5000])\n",
    "print(\"Return word from index 20000:\", \n",
    "      vocab_ten_thou_three_unequal.get_feature_names_out()[10000])\n",
    "\n",
    "x_ten_thou_three_unequal = vocab_ten_thou_three_unequal.transform(x_ten_thou_three_unequal)\n",
    "(x_train_ten_thou_three_unequal, \n",
    " x_test_ten_thou_three_unequal, \n",
    " y_train_ten_thou_three_unequal, \n",
    " y_test_ten_thou_three_unequal) = train_test_split(x_ten_thou_three_unequal, \n",
    "                                                   y_ten_thou_three_unequal, \n",
    "                                                   test_size=0.2, \n",
    "                                                   random_state=101)"
   ]
  },
  {
   "attachments": {},
   "cell_type": "markdown",
   "metadata": {},
   "source": [
    "#### b.i.i. 100,000 (1-star, 2-star, 3-star, 4-star, and 5-star) equal reviews:"
   ]
  },
  {
   "cell_type": "code",
   "execution_count": 76,
   "metadata": {},
   "outputs": [
    {
     "name": "stdout",
     "output_type": "stream",
     "text": [
      "\n",
      "Number of possible words: 76896\n",
      "\n",
      "Return word from index 5000: Bellied\n",
      "Return word from index 20000: Philly\n"
     ]
    }
   ],
   "source": [
    "vocab_hund_thou_five_equal = (CountVectorizer(analyzer=process_text)\n",
    "                              .fit(x_hund_thou_five_equal))\n",
    "\n",
    "print()\n",
    "print(\"Number of possible words:\", len(vocab_hund_thou_five_equal.vocabulary_))\n",
    "\n",
    "print()\n",
    "print(\"Return word from index 5000:\", \n",
    "      vocab_hund_thou_five_equal.get_feature_names_out()[5000])\n",
    "print(\"Return word from index 20000:\", \n",
    "      vocab_hund_thou_five_equal.get_feature_names_out()[20000])\n",
    "\n",
    "x_hund_thou_five_equal = vocab_hund_thou_five_equal.transform(x_hund_thou_five_equal)\n",
    "(x_train_hund_thou_five_equal, \n",
    " x_test_hund_thou_five_equal, \n",
    " y_train_hund_thou_five_equal, \n",
    " y_test_hund_thou_five_equal) = train_test_split(x_hund_thou_five_equal, \n",
    "                                                 y_hund_thou_five_equal, \n",
    "                                                 test_size=0.2, \n",
    "                                                 random_state=101)"
   ]
  },
  {
   "attachments": {},
   "cell_type": "markdown",
   "metadata": {},
   "source": [
    "#### b.i.ii. 100,000 (1-star, 2-star, 3-star, 4-star, and 5-star) unequal reviews:"
   ]
  },
  {
   "cell_type": "code",
   "execution_count": 77,
   "metadata": {},
   "outputs": [
    {
     "name": "stdout",
     "output_type": "stream",
     "text": [
      "\n",
      "Number of possible words: 125033\n",
      "\n",
      "Return word from index 5000: Addendum\n",
      "Return word from index 20000: Gone\n"
     ]
    }
   ],
   "source": [
    "vocab_hund_thou_five_unequal = (CountVectorizer(analyzer=process_text)\n",
    "                                .fit(x_hund_thou_five_unequal))\n",
    "\n",
    "print()\n",
    "print(\"Number of possible words:\", len(vocab_hund_thou_five_unequal.vocabulary_))\n",
    "\n",
    "print()\n",
    "print(\"Return word from index 5000:\", \n",
    "      vocab_hund_thou_five_unequal.get_feature_names_out()[5000])\n",
    "print(\"Return word from index 20000:\", \n",
    "      vocab_hund_thou_five_unequal.get_feature_names_out()[20000])\n",
    "\n",
    "x_hund_thou_five_unequal = vocab_hund_thou_five_unequal.transform(x_hund_thou_five_unequal)\n",
    "(x_train_hund_thou_five_unequal, \n",
    " x_test_hund_thou_five_unequal, \n",
    " y_train_hund_thou_five_unequal, \n",
    " y_test_hund_thou_five_unequal) = train_test_split(x_hund_thou_five_unequal, \n",
    "                                                   y_hund_thou_five_unequal, \n",
    "                                                   test_size=0.2, \n",
    "                                                   random_state=101)"
   ]
  },
  {
   "attachments": {},
   "cell_type": "markdown",
   "metadata": {},
   "source": [
    "#### b.ii.i. 100,000 (1-star and 5-star) equal reviews:"
   ]
  },
  {
   "cell_type": "code",
   "execution_count": 78,
   "metadata": {},
   "outputs": [
    {
     "name": "stdout",
     "output_type": "stream",
     "text": [
      "\n",
      "Number of possible words: 45501\n",
      "\n",
      "Return word from index 5000: Curious\n",
      "Return word from index 20000: buggy\n"
     ]
    }
   ],
   "source": [
    "vocab_hund_thou_two_equal = (CountVectorizer(analyzer=process_text)\n",
    "                             .fit(x_hund_thou_two_equal))\n",
    "\n",
    "print()\n",
    "print(\"Number of possible words:\", len(vocab_hund_thou_two_equal.vocabulary_))\n",
    "\n",
    "print()\n",
    "print(\"Return word from index 5000:\", \n",
    "      vocab_hund_thou_two_equal.get_feature_names_out()[5000])\n",
    "print(\"Return word from index 20000:\", \n",
    "      vocab_hund_thou_two_equal.get_feature_names_out()[20000])\n",
    "\n",
    "x_hund_thou_two_equal = vocab_hund_thou_two_equal.transform(x_hund_thou_two_equal)\n",
    "(x_train_hund_thou_two_equal, \n",
    " x_test_hund_thou_two_equal, \n",
    " y_train_hund_thou_two_equal, \n",
    " y_test_hund_thou_two_equal) = train_test_split(x_hund_thou_two_equal, \n",
    "                                                y_hund_thou_two_equal, \n",
    "                                                test_size=0.2, \n",
    "                                                random_state=101)"
   ]
  },
  {
   "attachments": {},
   "cell_type": "markdown",
   "metadata": {},
   "source": [
    "#### b.ii.ii. 100,000 (1-star and 5-star) unequal reviews:"
   ]
  },
  {
   "cell_type": "code",
   "execution_count": 79,
   "metadata": {},
   "outputs": [
    {
     "name": "stdout",
     "output_type": "stream",
     "text": [
      "\n",
      "Number of possible words: 86109\n",
      "\n",
      "Return word from index 5000: BRC\n",
      "Return word from index 20000: Marquees\n"
     ]
    }
   ],
   "source": [
    "vocab_hund_thou_two_unequal = (CountVectorizer(analyzer=process_text)\n",
    "                               .fit(x_hund_thou_two_unequal))\n",
    "\n",
    "print()\n",
    "print(\"Number of possible words:\", len(vocab_hund_thou_two_unequal.vocabulary_))\n",
    "\n",
    "print()\n",
    "print(\"Return word from index 5000:\", \n",
    "      vocab_hund_thou_two_unequal.get_feature_names_out()[5000])\n",
    "print(\"Return word from index 20000:\", \n",
    "      vocab_hund_thou_two_unequal.get_feature_names_out()[20000])\n",
    "\n",
    "x_hund_thou_two_unequal = vocab_hund_thou_two_unequal.transform(x_hund_thou_two_unequal)\n",
    "(x_train_hund_thou_two_unequal, \n",
    " x_test_hund_thou_two_unequal,\n",
    " y_train_hund_thou_two_unequal, \n",
    " y_test_hund_thou_two_unequal) = train_test_split(x_hund_thou_two_unequal, \n",
    "                                                  y_hund_thou_two_unequal, \n",
    "                                                  test_size=0.2, \n",
    "                                                  random_state=101)"
   ]
  },
  {
   "attachments": {},
   "cell_type": "markdown",
   "metadata": {},
   "source": [
    "#### b.iii.i. 100,000 (1-star, 3-star, and 5-star) equal reviews:"
   ]
  },
  {
   "cell_type": "code",
   "execution_count": 80,
   "metadata": {},
   "outputs": [
    {
     "name": "stdout",
     "output_type": "stream",
     "text": [
      "\n",
      "Number of possible words: 57720\n",
      "\n",
      "Return word from index 5000: Cappuccino\n",
      "Return word from index 20000: Venison\n"
     ]
    }
   ],
   "source": [
    "vocab_hund_thou_three_equal = (CountVectorizer(analyzer=process_text)\n",
    "                               .fit(x_hund_thou_three_equal))\n",
    "\n",
    "print()\n",
    "print(\"Number of possible words:\", len(vocab_hund_thou_three_equal.vocabulary_))\n",
    "\n",
    "print()\n",
    "print(\"Return word from index 5000:\", \n",
    "      vocab_hund_thou_three_equal.get_feature_names_out()[5000])\n",
    "print(\"Return word from index 20000:\", \n",
    "      vocab_hund_thou_three_equal.get_feature_names_out()[20000])\n",
    "\n",
    "x_hund_thou_three_equal = vocab_hund_thou_three_equal.transform(x_hund_thou_three_equal)\n",
    "(x_train_hund_thou_three_equal, \n",
    " x_test_hund_thou_three_equal, \n",
    " y_train_hund_thou_three_equal, \n",
    " y_test_hund_thou_three_equal) = train_test_split(x_hund_thou_three_equal, \n",
    "                                                  y_hund_thou_three_equal, \n",
    "                                                  test_size=0.2, \n",
    "                                                  random_state=101)"
   ]
  },
  {
   "attachments": {},
   "cell_type": "markdown",
   "metadata": {},
   "source": [
    "#### b.iii.ii. 100,000 (1-star, 3-star, and 5-star) unequal reviews:"
   ]
  },
  {
   "cell_type": "code",
   "execution_count": 81,
   "metadata": {},
   "outputs": [
    {
     "name": "stdout",
     "output_type": "stream",
     "text": [
      "\n",
      "Number of possible words: 97469\n",
      "\n",
      "Return word from index 5000: Ash\n",
      "Return word from index 20000: Kumas\n"
     ]
    }
   ],
   "source": [
    "vocab_hund_thou_three_unequal = (CountVectorizer(analyzer=process_text)\n",
    "                                 .fit(x_hund_thou_three_unequal))\n",
    "\n",
    "print()\n",
    "print(\"Number of possible words:\", len(vocab_hund_thou_three_unequal.vocabulary_))\n",
    "\n",
    "print()\n",
    "print(\"Return word from index 5000:\", \n",
    "      vocab_hund_thou_three_unequal.get_feature_names_out()[5000])\n",
    "print(\"Return word from index 20000:\", \n",
    "      vocab_hund_thou_three_unequal.get_feature_names_out()[20000])\n",
    "\n",
    "x_hund_thou_three_unequal = vocab_hund_thou_three_unequal.transform(x_hund_thou_three_unequal)\n",
    "(x_train_hund_thou_three_unequal, \n",
    " x_test_hund_thou_three_unequal, \n",
    " y_train_hund_thou_three_unequal, \n",
    " y_test_hund_thou_three_unequal) = train_test_split(x_hund_thou_three_unequal, \n",
    "                                                    y_hund_thou_three_unequal, \n",
    "                                                    test_size=0.2, \n",
    "                                                    random_state=101)"
   ]
  },
  {
   "attachments": {},
   "cell_type": "markdown",
   "metadata": {},
   "source": [
    "#### c.i.i. 1,000,000 (1-star, 2-star, 3-star, 4-star, and 5-star) equal reviews:"
   ]
  },
  {
   "cell_type": "code",
   "execution_count": 82,
   "metadata": {},
   "outputs": [
    {
     "name": "stdout",
     "output_type": "stream",
     "text": [
      "\n",
      "Number of possible words: 97469\n",
      "\n",
      "Return word from index 5000: Ash\n",
      "Return word from index 20000: Kumas\n"
     ]
    }
   ],
   "source": [
    "vocab_mil_five_equal = (CountVectorizer(analyzer=process_text)\n",
    "                        .fit(x_mil_five_equal))\n",
    "\n",
    "print()\n",
    "print(\"Number of possible words:\", len(vocab_mil_five_equal.vocabulary_))\n",
    "\n",
    "print()\n",
    "print(\"Return word from index 5000:\", \n",
    "      vocab_mil_five_equal.get_feature_names_out()[5000])\n",
    "print(\"Return word from index 20000:\", \n",
    "      vocab_mil_five_equal.get_feature_names_out()[20000])\n",
    "\n",
    "x_mil_five_equal = vocab_mil_five_equal.transform(x_mil_five_equal)\n",
    "(x_train_mil_five_equal, \n",
    " x_test_mil_five_equal, \n",
    " y_train_mil_five_equal, \n",
    " y_test_mil_five_equal) = train_test_split(x_mil_five_equal, \n",
    "                                           y_mil_five_equal, \n",
    "                                           test_size=0.2, \n",
    "                                           random_state=101)"
   ]
  },
  {
   "attachments": {},
   "cell_type": "markdown",
   "metadata": {},
   "source": [
    "#### c.i.ii. 1,000,000 (1-star, 2-star, 3-star, 4-star, and 5-star) unequal reviews:"
   ]
  },
  {
   "cell_type": "code",
   "execution_count": 83,
   "metadata": {},
   "outputs": [
    {
     "name": "stdout",
     "output_type": "stream",
     "text": [
      "\n",
      "Number of possible words: 97469\n",
      "\n",
      "Return word from index 5000: Ash\n",
      "Return word from index 20000: Kumas\n"
     ]
    }
   ],
   "source": [
    "vocab_mil_five_unequal = (CountVectorizer(analyzer=process_text)\n",
    "                          .fit(x_mil_five_unequal))\n",
    "\n",
    "print()\n",
    "print(\"Number of possible words:\", len(vocab_mil_five_unequal.vocabulary_))\n",
    "\n",
    "print()\n",
    "print(\"Return word from index 5000:\", \n",
    "      vocab_mil_five_unequal.get_feature_names_out()[5000])\n",
    "print(\"Return word from index 20000:\", \n",
    "      vocab_mil_five_unequal.get_feature_names_out()[20000])\n",
    "\n",
    "x_mil_five_unequal = vocab_mil_five_unequal.transform(x_mil_five_unequal)\n",
    "(x_train_mil_five_unequal, \n",
    " x_test_mil_five_unequal, \n",
    " y_train_mil_five_unequal, \n",
    " y_test_mil_five_unequal) = train_test_split(x_mil_five_unequal, \n",
    "                                             y_mil_five_unequal, \n",
    "                                             test_size=0.2, \n",
    "                                             random_state=101)"
   ]
  },
  {
   "attachments": {},
   "cell_type": "markdown",
   "metadata": {},
   "source": [
    "#### c.ii.i. 1,000,000 (1-star and 5-star) equal reviews:"
   ]
  },
  {
   "cell_type": "code",
   "execution_count": 84,
   "metadata": {},
   "outputs": [
    {
     "name": "stdout",
     "output_type": "stream",
     "text": [
      "\n",
      "Number of possible words: 167844\n",
      "\n",
      "Return word from index 5000: 40400\n",
      "Return word from index 20000: Competitive\n"
     ]
    }
   ],
   "source": [
    "vocab_mil_two_equal = (CountVectorizer(analyzer=process_text)\n",
    "                       .fit(x_mil_two_equal))\n",
    "\n",
    "print()\n",
    "print(\"Number of possible words:\", len(vocab_mil_two_equal.vocabulary_))\n",
    "\n",
    "print()\n",
    "print(\"Return word from index 5000:\", \n",
    "      vocab_mil_two_equal.get_feature_names_out()[5000])\n",
    "print(\"Return word from index 20000:\", \n",
    "      vocab_mil_two_equal.get_feature_names_out()[20000])\n",
    "\n",
    "x_mil_two_equal = vocab_mil_two_equal.transform(x_mil_two_equal)\n",
    "(x_train_mil_two_equal, \n",
    " x_test_mil_two_equal, \n",
    " y_train_mil_two_equal, \n",
    " y_test_mil_two_equal) = train_test_split(x_mil_two_equal, \n",
    "                                          y_mil_two_equal, \n",
    "                                          test_size=0.2, \n",
    "                                          random_state=101)"
   ]
  },
  {
   "attachments": {},
   "cell_type": "markdown",
   "metadata": {},
   "source": [
    "#### c.ii.ii. 1,000,000 (1-star and 5-star) unequal reviews:"
   ]
  },
  {
   "cell_type": "code",
   "execution_count": 85,
   "metadata": {},
   "outputs": [
    {
     "name": "stdout",
     "output_type": "stream",
     "text": [
      "\n",
      "Number of possible words: 363038\n",
      "\n",
      "Return word from index 5000: 19127\n",
      "Return word from index 20000: Albin\n"
     ]
    }
   ],
   "source": [
    "vocab_mil_two_unequal = (CountVectorizer(analyzer=process_text)\n",
    "                         .fit(x_mil_two_unequal))\n",
    "\n",
    "print()\n",
    "print(\"Number of possible words:\", len(vocab_mil_two_unequal.vocabulary_))\n",
    "\n",
    "print()\n",
    "print(\"Return word from index 5000:\", \n",
    "      vocab_mil_two_unequal.get_feature_names_out()[5000])\n",
    "print(\"Return word from index 20000:\", \n",
    "      vocab_mil_two_unequal.get_feature_names_out()[20000])\n",
    "\n",
    "x_mil_two_unequal = vocab_mil_two_unequal.transform(x_mil_two_unequal)\n",
    "(x_train_mil_two_unequal, \n",
    " x_test_mil_two_unequal, \n",
    " y_train_mil_two_unequal, \n",
    " y_test_mil_two_unequal) = train_test_split(x_mil_two_unequal, \n",
    "                                            y_mil_two_unequal, \n",
    "                                            test_size=0.2, \n",
    "                                            random_state=101)"
   ]
  },
  {
   "attachments": {},
   "cell_type": "markdown",
   "metadata": {},
   "source": [
    "#### c.iii.i. 1,000,000 (1-star, 3-star, and 5-star) equal reviews:"
   ]
  },
  {
   "cell_type": "code",
   "execution_count": 86,
   "metadata": {},
   "outputs": [
    {
     "name": "stdout",
     "output_type": "stream",
     "text": [
      "\n",
      "Number of possible words: 218502\n",
      "\n",
      "Return word from index 5000: 2pcs\n",
      "Return word from index 20000: Bus\n"
     ]
    }
   ],
   "source": [
    "vocab_mil_three_equal = (CountVectorizer(analyzer=process_text)\n",
    "                         .fit(x_mil_three_equal))\n",
    "\n",
    "print()\n",
    "print(\"Number of possible words:\", len(vocab_mil_three_equal.vocabulary_))\n",
    "\n",
    "print()\n",
    "print(\"Return word from index 5000:\", \n",
    "      vocab_mil_three_equal.get_feature_names_out()[5000])\n",
    "print(\"Return word from index 20000:\", \n",
    "      vocab_mil_three_equal.get_feature_names_out()[20000])\n",
    "\n",
    "x_mil_three_equal = vocab_mil_three_equal.transform(x_mil_three_equal)\n",
    "(x_train_mil_three_equal, \n",
    " x_test_mil_three_equal, \n",
    " y_train_mil_three_equal, \n",
    " y_test_mil_three_equal) = train_test_split(x_mil_three_equal, \n",
    "                                            y_mil_three_equal, \n",
    "                                            test_size=0.2, \n",
    "                                            random_state=101)"
   ]
  },
  {
   "attachments": {},
   "cell_type": "markdown",
   "metadata": {},
   "source": [
    "#### c.iii.ii. 1,000,000 (1-star, 3-star, and 5-star) unequal reviews:"
   ]
  },
  {
   "cell_type": "code",
   "execution_count": 87,
   "metadata": {},
   "outputs": [
    {
     "name": "stdout",
     "output_type": "stream",
     "text": [
      "\n",
      "Number of possible words: 410337\n",
      "\n",
      "Return word from index 5000: 1755\n",
      "Return word from index 20000: APORKALYPSE\n"
     ]
    }
   ],
   "source": [
    "vocab_mil_three_unequal = (CountVectorizer(analyzer=process_text)\n",
    "                           .fit(x_mil_three_unequal))\n",
    "\n",
    "print()\n",
    "print(\"Number of possible words:\", len(vocab_mil_three_unequal.vocabulary_))\n",
    "\n",
    "print()\n",
    "print(\"Return word from index 5000:\", \n",
    "      vocab_mil_three_unequal.get_feature_names_out()[5000])\n",
    "print(\"Return word from index 20000:\", \n",
    "      vocab_mil_three_unequal.get_feature_names_out()[20000])\n",
    "\n",
    "x_mil_three_unequal = vocab_mil_three_unequal.transform(x_mil_three_unequal)\n",
    "(x_train_mil_three_unequal, \n",
    " x_test_mil_three_unequal, \n",
    " y_train_mil_three_unequal, \n",
    " y_test_mil_three_unequal) = train_test_split(x_mil_three_unequal, \n",
    "                                              y_mil_three_unequal, \n",
    "                                              test_size=0.2, \n",
    "                                              random_state=101)"
   ]
  },
  {
   "attachments": {},
   "cell_type": "markdown",
   "metadata": {},
   "source": [
    "### 7. Modeling reviews with Multinomial Naive Bayes (since we're working with sparse data, we cannot rely on the Gaussian Naive Bayes assumptions)"
   ]
  },
  {
   "attachments": {},
   "cell_type": "markdown",
   "metadata": {},
   "source": [
    "#### a.i.i. 10,000 (1-star, 2-star, 3-star, 4-star, and 5-star) equal reviews:"
   ]
  },
  {
   "cell_type": "code",
   "execution_count": 88,
   "metadata": {},
   "outputs": [
    {
     "name": "stdout",
     "output_type": "stream",
     "text": [
      "\n",
      "Score: 47.05\n",
      "\n",
      "Classification Report:\n",
      "              precision    recall  f1-score   support\n",
      "\n",
      "         1.0       0.59      0.68      0.63       145\n",
      "         2.0       0.43      0.39      0.41       163\n",
      "         3.0       0.37      0.48      0.42       149\n",
      "         4.0       0.41      0.47      0.44       156\n",
      "         5.0       0.70      0.34      0.46       150\n",
      "\n",
      "    accuracy                           0.47       763\n",
      "   macro avg       0.50      0.47      0.47       763\n",
      "weighted avg       0.50      0.47      0.47       763\n",
      "\n"
     ]
    }
   ],
   "source": [
    "from sklearn.naive_bayes import MultinomialNB\n",
    "mnb_ten_5 = MultinomialNB()\n",
    "mnb_ten_5.fit(x_train_ten_thou_five_equal, y_train_ten_thou_five_equal)\n",
    "predmnb = mnb_ten_5.predict(x_test_ten_thou_five_equal)\n",
    "\n",
    "print()\n",
    "print(\"Score:\", round(accuracy_score(y_test_ten_thou_five_equal, predmnb) * 100, 2))\n",
    "\n",
    "print()\n",
    "print(\"Classification Report:\")\n",
    "print(classification_report(y_test_ten_thou_five_equal, predmnb))"
   ]
  },
  {
   "attachments": {},
   "cell_type": "markdown",
   "metadata": {},
   "source": [
    "#### a.i.ii. 10,000 (1-star, 2-star, 3-star, 4-star, and 5-star) unequal reviews:"
   ]
  },
  {
   "cell_type": "code",
   "execution_count": 94,
   "metadata": {},
   "outputs": [
    {
     "name": "stdout",
     "output_type": "stream",
     "text": [
      "\n",
      "Score: 53.16\n",
      "\n",
      "Classification Report:\n",
      "              precision    recall  f1-score   support\n",
      "\n",
      "         1.0       0.64      0.66      0.65       213\n",
      "         2.0       0.13      0.01      0.02       152\n",
      "         3.0       0.34      0.09      0.15       213\n",
      "         4.0       0.42      0.50      0.46       546\n",
      "         5.0       0.67      0.81      0.73       876\n",
      "\n",
      "    accuracy                           0.57      2000\n",
      "   macro avg       0.44      0.41      0.40      2000\n",
      "weighted avg       0.52      0.57      0.53      2000\n",
      "\n"
     ]
    }
   ],
   "source": [
    "mnb_ten_5 = MultinomialNB()\n",
    "mnb_ten_5.fit(x_train_ten_thou_five_unequal, y_train_ten_thou_five_unequal)\n",
    "predmnb = mnb_ten_5.predict(x_test_ten_thou_five_unequal)\n",
    "\n",
    "print()\n",
    "print(\"Score:\", round(f1_score(y_test_ten_thou_five_unequal, predmnb, average='weighted') * 100, 2))\n",
    "\n",
    "print()\n",
    "print(\"Classification Report:\")\n",
    "print(classification_report(y_test_ten_thou_five_unequal, predmnb))"
   ]
  },
  {
   "attachments": {},
   "cell_type": "markdown",
   "metadata": {},
   "source": [
    "#### a.ii.i. 10,000 (1-star and 5-star) equal reviews:"
   ]
  },
  {
   "cell_type": "code",
   "execution_count": 98,
   "metadata": {},
   "outputs": [
    {
     "name": "stdout",
     "output_type": "stream",
     "text": [
      "\n",
      "Score: 90.52\n",
      "\n",
      "Classification Report:\n",
      "              precision    recall  f1-score   support\n",
      "\n",
      "         1.0       0.92      0.90      0.91       156\n",
      "         5.0       0.90      0.91      0.90       150\n",
      "\n",
      "    accuracy                           0.91       306\n",
      "   macro avg       0.91      0.91      0.91       306\n",
      "weighted avg       0.91      0.91      0.91       306\n",
      "\n"
     ]
    }
   ],
   "source": [
    "mnb_ten_2 = MultinomialNB()\n",
    "mnb_ten_2.fit(x_train_ten_thou_two_equal, y_train_ten_thou_two_equal)\n",
    "predmnb = mnb_ten_2.predict(x_test_ten_thou_two_equal)\n",
    "\n",
    "print()\n",
    "print(\"Score:\", round(accuracy_score(y_test_ten_thou_two_equal, predmnb) * 100, 2))\n",
    "\n",
    "print()\n",
    "print(\"Classification Report:\")\n",
    "print(classification_report(y_test_ten_thou_two_equal, predmnb))"
   ]
  },
  {
   "attachments": {},
   "cell_type": "markdown",
   "metadata": {},
   "source": [
    "#### a.ii.ii. 10,000 (1-star and 5-star) unequal reviews:"
   ]
  },
  {
   "cell_type": "code",
   "execution_count": 97,
   "metadata": {},
   "outputs": [
    {
     "name": "stdout",
     "output_type": "stream",
     "text": [
      "\n",
      "Score: 93.92\n",
      "\n",
      "Classification Report:\n",
      "              precision    recall  f1-score   support\n",
      "\n",
      "         1.0       0.86      0.84      0.85       225\n",
      "         5.0       0.96      0.96      0.96       880\n",
      "\n",
      "    accuracy                           0.94      1105\n",
      "   macro avg       0.91      0.90      0.91      1105\n",
      "weighted avg       0.94      0.94      0.94      1105\n",
      "\n"
     ]
    }
   ],
   "source": [
    "mnb_ten_2 = MultinomialNB()\n",
    "mnb_ten_2.fit(x_train_ten_thou_two_unequal, y_train_ten_thou_two_unequal)\n",
    "predmnb = mnb_ten_2.predict(x_test_ten_thou_two_unequal)\n",
    "\n",
    "print()\n",
    "print(\"Score:\", round(f1_score(y_test_ten_thou_two_unequal, predmnb, average='weighted') * 100, 2))\n",
    "\n",
    "print()\n",
    "print(\"Classification Report:\")\n",
    "print(classification_report(y_test_ten_thou_two_unequal, predmnb))"
   ]
  },
  {
   "attachments": {},
   "cell_type": "markdown",
   "metadata": {},
   "source": [
    "#### a.iii.i. 10,000 (1-star, 3-star, and 5-star) equal reviews:"
   ]
  },
  {
   "cell_type": "code",
   "execution_count": 99,
   "metadata": {},
   "outputs": [
    {
     "name": "stdout",
     "output_type": "stream",
     "text": [
      "\n",
      "Score: 74.67\n",
      "\n",
      "Classification Report:\n",
      "              precision    recall  f1-score   support\n",
      "\n",
      "         1.0       0.78      0.81      0.79       153\n",
      "         3.0       0.67      0.75      0.70       166\n",
      "         5.0       0.83      0.68      0.75       139\n",
      "\n",
      "    accuracy                           0.75       458\n",
      "   macro avg       0.76      0.74      0.75       458\n",
      "weighted avg       0.75      0.75      0.75       458\n",
      "\n"
     ]
    }
   ],
   "source": [
    "mnb_ten_3 = MultinomialNB()\n",
    "mnb_ten_3.fit(x_train_ten_thou_three_equal, y_train_ten_thou_three_equal)\n",
    "predmnb = mnb_ten_3.predict(x_test_ten_thou_three_equal)\n",
    "\n",
    "print()\n",
    "print(\"Score:\", round(accuracy_score(y_test_ten_thou_three_equal, predmnb) * 100, 2))\n",
    "\n",
    "print()\n",
    "print(\"Classification Report:\")\n",
    "print(classification_report(y_test_ten_thou_three_equal, predmnb))"
   ]
  },
  {
   "attachments": {},
   "cell_type": "markdown",
   "metadata": {},
   "source": [
    "#### a.iii.ii. 10,000 (1-star, 3-star, and 5-star) unequal reviews:"
   ]
  },
  {
   "cell_type": "code",
   "execution_count": 100,
   "metadata": {},
   "outputs": [
    {
     "name": "stdout",
     "output_type": "stream",
     "text": [
      "\n",
      "Score: 79.6\n",
      "\n",
      "Classification Report:\n",
      "              precision    recall  f1-score   support\n",
      "\n",
      "         1.0       0.73      0.70      0.72       202\n",
      "         3.0       0.60      0.36      0.45       227\n",
      "         5.0       0.86      0.95      0.90       904\n",
      "\n",
      "    accuracy                           0.81      1333\n",
      "   macro avg       0.73      0.67      0.69      1333\n",
      "weighted avg       0.79      0.81      0.80      1333\n",
      "\n"
     ]
    }
   ],
   "source": [
    "mnb_ten_3 = MultinomialNB()\n",
    "mnb_ten_3.fit(x_train_ten_thou_three_unequal, y_train_ten_thou_three_unequal)\n",
    "predmnb = mnb_ten_3.predict(x_test_ten_thou_three_unequal)\n",
    "\n",
    "print()\n",
    "print(\"Score:\", round(f1_score(y_test_ten_thou_three_unequal, predmnb, average='weighted') * 100, 2))\n",
    "\n",
    "print()\n",
    "print(\"Classification Report:\")\n",
    "print(classification_report(y_test_ten_thou_three_unequal, predmnb))"
   ]
  },
  {
   "attachments": {},
   "cell_type": "markdown",
   "metadata": {},
   "source": [
    "#### b.i.i. 100,000 (1-star, 2-star, 3-star, 4-star, and 5-star) equal reviews:"
   ]
  },
  {
   "cell_type": "code",
   "execution_count": 101,
   "metadata": {},
   "outputs": [
    {
     "name": "stdout",
     "output_type": "stream",
     "text": [
      "\n",
      "Score: 52.77\n",
      "\n",
      "Classification Report:\n",
      "              precision    recall  f1-score   support\n",
      "\n",
      "         1.0       0.63      0.67      0.65      1626\n",
      "         2.0       0.45      0.46      0.46      1584\n",
      "         3.0       0.44      0.47      0.46      1650\n",
      "         4.0       0.47      0.50      0.48      1596\n",
      "         5.0       0.68      0.54      0.60      1532\n",
      "\n",
      "    accuracy                           0.53      7988\n",
      "   macro avg       0.54      0.53      0.53      7988\n",
      "weighted avg       0.54      0.53      0.53      7988\n",
      "\n"
     ]
    }
   ],
   "source": [
    "mnb_hund_5 = MultinomialNB()\n",
    "mnb_hund_5.fit(x_train_hund_thou_five_equal, y_train_hund_thou_five_equal)\n",
    "predmnb = mnb_hund_5.predict(x_test_hund_thou_five_equal)\n",
    "\n",
    "print()\n",
    "print(\"Score:\", round(accuracy_score(y_test_hund_thou_five_equal, predmnb) * 100, 2))\n",
    "\n",
    "print()\n",
    "print(\"Classification Report:\")\n",
    "print(classification_report(y_test_hund_thou_five_equal, predmnb))"
   ]
  },
  {
   "attachments": {},
   "cell_type": "markdown",
   "metadata": {},
   "source": [
    "#### b.i.ii. 100,000 (1-star, 2-star, 3-star, 4-star, and 5-star) unequal reviews:"
   ]
  },
  {
   "cell_type": "code",
   "execution_count": 102,
   "metadata": {},
   "outputs": [
    {
     "name": "stdout",
     "output_type": "stream",
     "text": [
      "\n",
      "Score: 58.27\n",
      "\n",
      "Classification Report:\n",
      "              precision    recall  f1-score   support\n",
      "\n",
      "         1.0       0.60      0.72      0.66      2168\n",
      "         2.0       0.39      0.15      0.21      1566\n",
      "         3.0       0.39      0.21      0.27      2339\n",
      "         4.0       0.45      0.56      0.50      5026\n",
      "         5.0       0.74      0.78      0.76      8901\n",
      "\n",
      "    accuracy                           0.60     20000\n",
      "   macro avg       0.52      0.48      0.48     20000\n",
      "weighted avg       0.59      0.60      0.58     20000\n",
      "\n"
     ]
    }
   ],
   "source": [
    "mnb_hund_5 = MultinomialNB()\n",
    "mnb_hund_5.fit(x_train_hund_thou_five_unequal, y_train_hund_thou_five_unequal)\n",
    "predmnb = mnb_hund_5.predict(x_test_hund_thou_five_unequal)\n",
    "\n",
    "print()\n",
    "print(\"Score:\", round(f1_score(y_test_hund_thou_five_unequal, predmnb, average='weighted') * 100, 2))\n",
    "\n",
    "print()\n",
    "print(\"Classification Report:\")\n",
    "print(classification_report(y_test_hund_thou_five_unequal, predmnb))"
   ]
  },
  {
   "attachments": {},
   "cell_type": "markdown",
   "metadata": {},
   "source": [
    "#### b.ii.i. Modeling 100,000 (1-star and 5-star) equal reviews:"
   ]
  },
  {
   "cell_type": "code",
   "execution_count": 103,
   "metadata": {},
   "outputs": [
    {
     "name": "stdout",
     "output_type": "stream",
     "text": [
      "\n",
      "Score: 94.9\n",
      "\n",
      "Classification Report:\n",
      "              precision    recall  f1-score   support\n",
      "\n",
      "         1.0       0.94      0.96      0.95      1604\n",
      "         5.0       0.95      0.94      0.95      1592\n",
      "\n",
      "    accuracy                           0.95      3196\n",
      "   macro avg       0.95      0.95      0.95      3196\n",
      "weighted avg       0.95      0.95      0.95      3196\n",
      "\n"
     ]
    }
   ],
   "source": [
    "mnb_hund_2 = MultinomialNB()\n",
    "mnb_hund_2.fit(x_train_hund_thou_two_equal, y_train_hund_thou_two_equal)\n",
    "predmnb = mnb_hund_2.predict(x_test_hund_thou_two_equal)\n",
    "\n",
    "print()\n",
    "print(\"Score:\", round(accuracy_score(y_test_hund_thou_two_equal, predmnb) * 100, 2))\n",
    "\n",
    "print()\n",
    "print(\"Classification Report:\")\n",
    "print(classification_report(y_test_hund_thou_two_equal, predmnb))"
   ]
  },
  {
   "attachments": {},
   "cell_type": "markdown",
   "metadata": {},
   "source": [
    "#### b.ii.ii. 100,000 (1-star and 5-star) unequal reviews:"
   ]
  },
  {
   "cell_type": "code",
   "execution_count": 104,
   "metadata": {},
   "outputs": [
    {
     "name": "stdout",
     "output_type": "stream",
     "text": [
      "\n",
      "Score: 95.02\n",
      "\n",
      "Classification Report:\n",
      "              precision    recall  f1-score   support\n",
      "\n",
      "         1.0       0.86      0.89      0.88      2207\n",
      "         5.0       0.97      0.96      0.97      8856\n",
      "\n",
      "    accuracy                           0.95     11063\n",
      "   macro avg       0.92      0.93      0.92     11063\n",
      "weighted avg       0.95      0.95      0.95     11063\n",
      "\n"
     ]
    }
   ],
   "source": [
    "mnb_hund_2 = MultinomialNB()\n",
    "mnb_hund_2.fit(x_train_hund_thou_two_unequal, y_train_hund_thou_two_unequal)\n",
    "predmnb = mnb_hund_2.predict(x_test_hund_thou_two_unequal)\n",
    "\n",
    "print()\n",
    "print(\"Score:\", round(f1_score(y_test_hund_thou_two_unequal, predmnb, average='weighted') * 100, 2))\n",
    "\n",
    "print()\n",
    "print(\"Classification Report:\")\n",
    "print(classification_report(y_test_hund_thou_two_unequal, predmnb))"
   ]
  },
  {
   "attachments": {},
   "cell_type": "markdown",
   "metadata": {},
   "source": [
    "#### b.iii.i. 100,000 (1-star, 3-star, and 5-star) equal reviews:"
   ]
  },
  {
   "cell_type": "code",
   "execution_count": 105,
   "metadata": {},
   "outputs": [
    {
     "name": "stdout",
     "output_type": "stream",
     "text": [
      "\n",
      "Score: 78.24\n",
      "\n",
      "Classification Report:\n",
      "              precision    recall  f1-score   support\n",
      "\n",
      "         1.0       0.83      0.80      0.81      1640\n",
      "         3.0       0.68      0.78      0.73      1604\n",
      "         5.0       0.87      0.77      0.81      1549\n",
      "\n",
      "    accuracy                           0.78      4793\n",
      "   macro avg       0.79      0.78      0.78      4793\n",
      "weighted avg       0.79      0.78      0.78      4793\n",
      "\n"
     ]
    }
   ],
   "source": [
    "mnb_hund_3 = MultinomialNB()\n",
    "mnb_hund_3.fit(x_train_hund_thou_three_equal, y_train_hund_thou_three_equal)\n",
    "predmnb = mnb_hund_3.predict(x_test_hund_thou_three_equal)\n",
    "\n",
    "print()\n",
    "print(\"Score:\", round(accuracy_score(y_test_hund_thou_three_equal, predmnb) * 100, 2))\n",
    "\n",
    "print()\n",
    "print(\"Classification Report:\")\n",
    "print(classification_report(y_test_hund_thou_three_equal, predmnb))"
   ]
  },
  {
   "attachments": {},
   "cell_type": "markdown",
   "metadata": {},
   "source": [
    "#### b.iii.ii. 100,000 (1-star, 3-star, and 5-star) unequal reviews:"
   ]
  },
  {
   "cell_type": "code",
   "execution_count": 106,
   "metadata": {},
   "outputs": [
    {
     "name": "stdout",
     "output_type": "stream",
     "text": [
      "\n",
      "Score: 85.12\n",
      "\n",
      "Classification Report:\n",
      "              precision    recall  f1-score   support\n",
      "\n",
      "         1.0       0.77      0.78      0.77      2231\n",
      "         3.0       0.66      0.62      0.64      2272\n",
      "         5.0       0.92      0.93      0.92      8832\n",
      "\n",
      "    accuracy                           0.85     13335\n",
      "   macro avg       0.78      0.78      0.78     13335\n",
      "weighted avg       0.85      0.85      0.85     13335\n",
      "\n"
     ]
    }
   ],
   "source": [
    "mnb_hund_3 = MultinomialNB()\n",
    "mnb_hund_3.fit(x_train_hund_thou_three_unequal, y_train_hund_thou_three_unequal)\n",
    "predmnb = mnb_hund_3.predict(x_test_hund_thou_three_unequal)\n",
    "\n",
    "print()\n",
    "print(\"Score:\", round(f1_score(y_test_hund_thou_three_unequal, predmnb, average='weighted') * 100, 2))\n",
    "\n",
    "print()\n",
    "print(\"Classification Report:\")\n",
    "print(classification_report(y_test_hund_thou_three_unequal, predmnb))"
   ]
  },
  {
   "attachments": {},
   "cell_type": "markdown",
   "metadata": {},
   "source": [
    "#### c.i.i. 1,000,000 (1-star, 2-star, 3-star, 4-star, and 5-star) equal reviews:"
   ]
  },
  {
   "cell_type": "code",
   "execution_count": 107,
   "metadata": {},
   "outputs": [
    {
     "name": "stdout",
     "output_type": "stream",
     "text": [
      "\n",
      "Score: 85.25\n",
      "\n",
      "Classification Report:\n",
      "              precision    recall  f1-score   support\n",
      "\n",
      "         1.0       0.77      0.78      0.77      2231\n",
      "         3.0       0.66      0.62      0.64      2272\n",
      "         5.0       0.92      0.93      0.92      8832\n",
      "\n",
      "    accuracy                           0.85     13335\n",
      "   macro avg       0.78      0.78      0.78     13335\n",
      "weighted avg       0.85      0.85      0.85     13335\n",
      "\n"
     ]
    }
   ],
   "source": [
    "mnb_mil_5 = MultinomialNB()\n",
    "mnb_mil_5.fit(x_train_mil_five_equal, y_train_mil_five_equal)\n",
    "predmnb = mnb_mil_5.predict(x_test_mil_five_equal)\n",
    "\n",
    "print()\n",
    "print(\"Score:\", round(accuracy_score(y_test_mil_five_equal, predmnb) * 100, 2))\n",
    "\n",
    "print()\n",
    "print(\"Classification Report:\")\n",
    "print(classification_report(y_test_mil_five_equal, predmnb))"
   ]
  },
  {
   "attachments": {},
   "cell_type": "markdown",
   "metadata": {},
   "source": [
    "#### c.i.ii. 1,000,000 (1-star, 2-star, 3-star, 4-star, and 5-star) unequal reviews:"
   ]
  },
  {
   "cell_type": "code",
   "execution_count": 108,
   "metadata": {},
   "outputs": [
    {
     "name": "stdout",
     "output_type": "stream",
     "text": [
      "\n",
      "Score: 85.12\n",
      "\n",
      "Classification Report:\n",
      "              precision    recall  f1-score   support\n",
      "\n",
      "         1.0       0.77      0.78      0.77      2231\n",
      "         3.0       0.66      0.62      0.64      2272\n",
      "         5.0       0.92      0.93      0.92      8832\n",
      "\n",
      "    accuracy                           0.85     13335\n",
      "   macro avg       0.78      0.78      0.78     13335\n",
      "weighted avg       0.85      0.85      0.85     13335\n",
      "\n"
     ]
    }
   ],
   "source": [
    "mnb_mil_5 = MultinomialNB()\n",
    "mnb_mil_5.fit(x_train_mil_five_unequal, y_train_mil_five_unequal)\n",
    "predmnb = mnb_mil_5.predict(x_test_mil_five_unequal)\n",
    "\n",
    "print()\n",
    "print(\"Score:\", round(f1_score(y_test_mil_five_unequal, predmnb, average='weighted') * 100, 2))\n",
    "\n",
    "print()\n",
    "print(\"Classification Report:\")\n",
    "print(classification_report(y_test_mil_five_unequal, predmnb))"
   ]
  },
  {
   "attachments": {},
   "cell_type": "markdown",
   "metadata": {},
   "source": [
    "#### c.ii.i. 1,000,000 (1-star and 5-star) equal reviews:"
   ]
  },
  {
   "cell_type": "code",
   "execution_count": 110,
   "metadata": {},
   "outputs": [
    {
     "name": "stdout",
     "output_type": "stream",
     "text": [
      "\n",
      "Score: 93.54\n",
      "\n",
      "Classification Report:\n",
      "              precision    recall  f1-score   support\n",
      "\n",
      "         1.0       0.94      0.93      0.93     15574\n",
      "         5.0       0.93      0.94      0.94     15591\n",
      "\n",
      "    accuracy                           0.94     31165\n",
      "   macro avg       0.94      0.94      0.94     31165\n",
      "weighted avg       0.94      0.94      0.94     31165\n",
      "\n"
     ]
    }
   ],
   "source": [
    "mnb_mil_2 = MultinomialNB()\n",
    "mnb_mil_2.fit(x_train_mil_two_equal, y_train_mil_two_equal)\n",
    "predmnb = mnb_mil_2.predict(x_test_mil_two_equal)\n",
    "\n",
    "print()\n",
    "print(\"Score:\", round(accuracy_score(y_test_mil_two_equal, predmnb) * 100, 2))\n",
    "\n",
    "print()\n",
    "print(\"Classification Report:\")\n",
    "print(classification_report(y_test_mil_two_equal, predmnb))"
   ]
  },
  {
   "attachments": {},
   "cell_type": "markdown",
   "metadata": {},
   "source": [
    "#### c.ii.ii. 1,000,000 (1-star and 5-star) unequal reviews:"
   ]
  },
  {
   "cell_type": "code",
   "execution_count": 111,
   "metadata": {},
   "outputs": [
    {
     "name": "stdout",
     "output_type": "stream",
     "text": [
      "\n",
      "Score: 94.27\n",
      "\n",
      "Classification Report:\n",
      "              precision    recall  f1-score   support\n",
      "\n",
      "         1.0       0.85      0.91      0.88     27667\n",
      "         5.0       0.97      0.95      0.96     91781\n",
      "\n",
      "    accuracy                           0.94    119448\n",
      "   macro avg       0.91      0.93      0.92    119448\n",
      "weighted avg       0.94      0.94      0.94    119448\n",
      "\n"
     ]
    }
   ],
   "source": [
    "mnb_mil_2 = MultinomialNB()\n",
    "mnb_mil_2.fit(x_train_mil_two_unequal, y_train_mil_two_unequal)\n",
    "predmnb = mnb_mil_2.predict(x_test_mil_two_unequal)\n",
    "\n",
    "print()\n",
    "print(\"Score:\", round(f1_score(y_test_mil_two_unequal, predmnb, average='weighted') * 100, 2))\n",
    "\n",
    "print()\n",
    "print(\"Classification Report:\")\n",
    "print(classification_report(y_test_mil_two_unequal, predmnb))"
   ]
  },
  {
   "attachments": {},
   "cell_type": "markdown",
   "metadata": {},
   "source": [
    "#### c.iii.i. 1,000,000 (1-star, 3-star, and 5-star) equal reviews:"
   ]
  },
  {
   "cell_type": "code",
   "execution_count": 112,
   "metadata": {},
   "outputs": [
    {
     "name": "stdout",
     "output_type": "stream",
     "text": [
      "\n",
      "Score: 79.66\n",
      "\n",
      "Classification Report:\n",
      "              precision    recall  f1-score   support\n",
      "\n",
      "         1.0       0.81      0.78      0.80     15566\n",
      "         3.0       0.70      0.78      0.74     15502\n",
      "         5.0       0.89      0.83      0.86     15680\n",
      "\n",
      "    accuracy                           0.80     46748\n",
      "   macro avg       0.80      0.80      0.80     46748\n",
      "weighted avg       0.80      0.80      0.80     46748\n",
      "\n"
     ]
    }
   ],
   "source": [
    "mnb_mil_3= MultinomialNB()\n",
    "mnb_mil_3.fit(x_train_mil_three_equal, y_train_mil_three_equal)\n",
    "predmnb = mnb_mil_3.predict(x_test_mil_three_equal)\n",
    "\n",
    "print()\n",
    "print(\"Score:\", round(accuracy_score(y_test_mil_three_equal, predmnb) * 100, 2))\n",
    "\n",
    "print()\n",
    "print(\"Classification Report:\")\n",
    "print(classification_report(y_test_mil_three_equal, predmnb))"
   ]
  },
  {
   "attachments": {},
   "cell_type": "markdown",
   "metadata": {},
   "source": [
    "#### c.iii.ii. 1,000,000 (1-star, 3-star, and 5-star) unequal reviews:"
   ]
  },
  {
   "cell_type": "code",
   "execution_count": 113,
   "metadata": {},
   "outputs": [
    {
     "name": "stdout",
     "output_type": "stream",
     "text": [
      "\n",
      "Score: 85.45\n",
      "\n",
      "Classification Report:\n",
      "              precision    recall  f1-score   support\n",
      "\n",
      "         1.0       0.77      0.80      0.78     27751\n",
      "         3.0       0.60      0.68      0.64     20519\n",
      "         5.0       0.95      0.90      0.92     91769\n",
      "\n",
      "    accuracy                           0.85    140039\n",
      "   macro avg       0.77      0.80      0.78    140039\n",
      "weighted avg       0.86      0.85      0.85    140039\n",
      "\n"
     ]
    }
   ],
   "source": [
    "mnb_mil_3= MultinomialNB()\n",
    "mnb_mil_3.fit(x_train_mil_three_unequal, y_train_mil_three_unequal)\n",
    "predmnb = mnb_mil_3.predict(x_test_mil_three_unequal)\n",
    "\n",
    "print()\n",
    "print(\"Score:\", round(f1_score(y_test_mil_three_unequal, predmnb, average='weighted') * 100, 2))\n",
    "\n",
    "print()\n",
    "print(\"Classification Report:\")\n",
    "print(classification_report(y_test_mil_three_unequal, predmnb))"
   ]
  },
  {
   "attachments": {},
   "cell_type": "markdown",
   "metadata": {},
   "source": [
    "### 9. Modeling reviews with Random Forest Classifier:"
   ]
  },
  {
   "attachments": {},
   "cell_type": "markdown",
   "metadata": {},
   "source": [
    "#### a.i.i. 10,000 (1-star, 2-star, 3-star, 4-star, and 5-star) equal reviews:"
   ]
  },
  {
   "cell_type": "code",
   "execution_count": 114,
   "metadata": {},
   "outputs": [
    {
     "name": "stdout",
     "output_type": "stream",
     "text": [
      "\n",
      "Score: 44.17\n",
      "\n",
      "Classification Report:\n",
      "              precision    recall  f1-score   support\n",
      "\n",
      "         1.0       0.48      0.68      0.56       145\n",
      "         2.0       0.40      0.21      0.27       163\n",
      "         3.0       0.36      0.40      0.38       149\n",
      "         4.0       0.45      0.28      0.34       156\n",
      "         5.0       0.48      0.68      0.57       150\n",
      "\n",
      "    accuracy                           0.44       763\n",
      "   macro avg       0.43      0.45      0.42       763\n",
      "weighted avg       0.43      0.44      0.42       763\n",
      "\n"
     ]
    }
   ],
   "source": [
    "from sklearn.ensemble import RandomForestClassifier\n",
    "rmfr_ten_5 = RandomForestClassifier()\n",
    "rmfr_ten_5.fit(x_train_ten_thou_five_equal, y_train_ten_thou_five_equal)\n",
    "predrmfr = rmfr_ten_5.predict(x_test_ten_thou_five_equal)\n",
    "\n",
    "print()\n",
    "print(\"Score:\", round(accuracy_score(y_test_ten_thou_five_equal, predrmfr) * 100, 2))\n",
    "\n",
    "print()\n",
    "print(\"Classification Report:\")\n",
    "print(classification_report(y_test_ten_thou_five_equal, predrmfr))"
   ]
  },
  {
   "attachments": {},
   "cell_type": "markdown",
   "metadata": {},
   "source": [
    "#### a.i.ii. 10,000 (1-star, 2-star, 3-star, 4-star, and 5-star) unequal reviews:"
   ]
  },
  {
   "cell_type": "code",
   "execution_count": 115,
   "metadata": {},
   "outputs": [
    {
     "name": "stdout",
     "output_type": "stream",
     "text": [
      "\n",
      "Score: 44.13\n",
      "\n",
      "Classification Report:\n",
      "              precision    recall  f1-score   support\n",
      "\n",
      "         1.0       0.71      0.49      0.58       213\n",
      "         2.0       0.40      0.01      0.03       152\n",
      "         3.0       0.47      0.04      0.07       213\n",
      "         4.0       0.40      0.20      0.27       546\n",
      "         5.0       0.53      0.94      0.68       876\n",
      "\n",
      "    accuracy                           0.52      2000\n",
      "   macro avg       0.50      0.34      0.32      2000\n",
      "weighted avg       0.50      0.52      0.44      2000\n",
      "\n"
     ]
    }
   ],
   "source": [
    "rmfr_ten_5 = RandomForestClassifier()\n",
    "rmfr_ten_5.fit(x_train_ten_thou_five_unequal, y_train_ten_thou_five_unequal)\n",
    "predrmfr = rmfr_ten_5.predict(x_test_ten_thou_five_unequal)\n",
    "\n",
    "print()\n",
    "print(\"Score:\", round(f1_score(y_test_ten_thou_five_unequal, predrmfr, average='weighted') * 100, 2))\n",
    "\n",
    "print()\n",
    "print(\"Classification Report:\")\n",
    "print(classification_report(y_test_ten_thou_five_unequal, predrmfr))"
   ]
  },
  {
   "attachments": {},
   "cell_type": "markdown",
   "metadata": {},
   "source": [
    "#### a.ii.i. 10,000 (1-star and 5-star) equal reviews:"
   ]
  },
  {
   "cell_type": "code",
   "execution_count": 116,
   "metadata": {},
   "outputs": [
    {
     "name": "stdout",
     "output_type": "stream",
     "text": [
      "\n",
      "Score: 90.2\n",
      "\n",
      "Classification Report:\n",
      "              precision    recall  f1-score   support\n",
      "\n",
      "         1.0       0.91      0.90      0.90       156\n",
      "         5.0       0.89      0.91      0.90       150\n",
      "\n",
      "    accuracy                           0.90       306\n",
      "   macro avg       0.90      0.90      0.90       306\n",
      "weighted avg       0.90      0.90      0.90       306\n",
      "\n"
     ]
    }
   ],
   "source": [
    "rmfr_ten_2 = RandomForestClassifier()\n",
    "rmfr_ten_2.fit(x_train_ten_thou_two_equal, y_train_ten_thou_two_equal)\n",
    "predrmfr = rmfr_ten_2.predict(x_test_ten_thou_two_equal)\n",
    "\n",
    "print()\n",
    "print(\"Score:\", round(accuracy_score(y_test_ten_thou_two_equal, predrmfr) * 100, 2))\n",
    "\n",
    "print()\n",
    "print(\"Classification Report:\")\n",
    "print(classification_report(y_test_ten_thou_two_equal, predrmfr))"
   ]
  },
  {
   "attachments": {},
   "cell_type": "markdown",
   "metadata": {},
   "source": [
    "#### a.ii.ii. 10,000 (1-star and 5-star) unequal reviews:"
   ]
  },
  {
   "cell_type": "code",
   "execution_count": 117,
   "metadata": {},
   "outputs": [
    {
     "name": "stdout",
     "output_type": "stream",
     "text": [
      "\n",
      "Score: 86.93\n",
      "\n",
      "Classification Report:\n",
      "              precision    recall  f1-score   support\n",
      "\n",
      "         1.0       0.96      0.46      0.62       225\n",
      "         5.0       0.88      1.00      0.93       880\n",
      "\n",
      "    accuracy                           0.89      1105\n",
      "   macro avg       0.92      0.73      0.78      1105\n",
      "weighted avg       0.90      0.89      0.87      1105\n",
      "\n"
     ]
    }
   ],
   "source": [
    "rmfr_ten_2 = RandomForestClassifier()\n",
    "rmfr_ten_2.fit(x_train_ten_thou_two_unequal, y_train_ten_thou_two_unequal)\n",
    "predrmfr = rmfr_ten_2.predict(x_test_ten_thou_two_unequal)\n",
    "\n",
    "print()\n",
    "print(\"Score:\", round(f1_score(y_test_ten_thou_two_unequal, predrmfr, average='weighted') * 100, 2))\n",
    "\n",
    "print()\n",
    "print(\"Classification Report:\")\n",
    "print(classification_report(y_test_ten_thou_two_unequal, predrmfr))"
   ]
  },
  {
   "attachments": {},
   "cell_type": "markdown",
   "metadata": {},
   "source": [
    "#### a.iii.i. Modeling 10,000 (1-star, 3-star, and 5-star) equal reviews:"
   ]
  },
  {
   "cell_type": "code",
   "execution_count": 118,
   "metadata": {},
   "outputs": [
    {
     "name": "stdout",
     "output_type": "stream",
     "text": [
      "\n",
      "Score: 70.52\n",
      "\n",
      "Classification Report:\n",
      "              precision    recall  f1-score   support\n",
      "\n",
      "         1.0       0.71      0.88      0.79       153\n",
      "         3.0       0.74      0.50      0.60       166\n",
      "         5.0       0.67      0.76      0.71       139\n",
      "\n",
      "    accuracy                           0.71       458\n",
      "   macro avg       0.71      0.71      0.70       458\n",
      "weighted avg       0.71      0.71      0.70       458\n",
      "\n"
     ]
    }
   ],
   "source": [
    "rmfr_ten_3 = RandomForestClassifier()\n",
    "rmfr_ten_3.fit(x_train_ten_thou_three_equal, y_train_ten_thou_three_equal)\n",
    "predrmfr = rmfr_ten_3.predict(x_test_ten_thou_three_equal)\n",
    "\n",
    "print()\n",
    "print(\"Score:\", round(accuracy_score(y_test_ten_thou_three_equal, predrmfr) * 100, 2))\n",
    "\n",
    "print()\n",
    "print(\"Classification Report:\")\n",
    "print(classification_report(y_test_ten_thou_three_equal, predrmfr))"
   ]
  },
  {
   "attachments": {},
   "cell_type": "markdown",
   "metadata": {},
   "source": [
    "#### a.iii.ii. 10,000 (1-star, 3-star, and 5-star) unequal reviews:"
   ]
  },
  {
   "cell_type": "code",
   "execution_count": 119,
   "metadata": {},
   "outputs": [
    {
     "name": "stdout",
     "output_type": "stream",
     "text": [
      "\n",
      "Score: 72.18\n",
      "\n",
      "Classification Report:\n",
      "              precision    recall  f1-score   support\n",
      "\n",
      "         1.0       0.89      0.50      0.64       202\n",
      "         3.0       0.74      0.14      0.24       227\n",
      "         5.0       0.76      0.99      0.86       904\n",
      "\n",
      "    accuracy                           0.77      1333\n",
      "   macro avg       0.80      0.55      0.58      1333\n",
      "weighted avg       0.78      0.77      0.72      1333\n",
      "\n"
     ]
    }
   ],
   "source": [
    "rmfr_ten_3 = RandomForestClassifier()\n",
    "rmfr_ten_3.fit(x_train_ten_thou_three_unequal, y_train_ten_thou_three_unequal)\n",
    "predrmfr = rmfr_ten_3.predict(x_test_ten_thou_three_unequal)\n",
    "\n",
    "print()\n",
    "print(\"Score:\", round(f1_score(y_test_ten_thou_three_unequal, predrmfr, average='weighted') * 100, 2))\n",
    "\n",
    "print()\n",
    "print(\"Classification Report:\")\n",
    "print(classification_report(y_test_ten_thou_three_unequal, predrmfr))"
   ]
  },
  {
   "attachments": {},
   "cell_type": "markdown",
   "metadata": {},
   "source": [
    "#### b.i.i. 100,000 (1-star, 2-star, 3-star, 4-star, and 5-star) equal reviews:"
   ]
  },
  {
   "cell_type": "code",
   "execution_count": 120,
   "metadata": {},
   "outputs": [
    {
     "name": "stdout",
     "output_type": "stream",
     "text": [
      "\n",
      "Score: 49.41\n",
      "\n",
      "Classification Report:\n",
      "              precision    recall  f1-score   support\n",
      "\n",
      "         1.0       0.54      0.79      0.64      1626\n",
      "         2.0       0.42      0.31      0.36      1584\n",
      "         3.0       0.45      0.36      0.40      1650\n",
      "         4.0       0.44      0.31      0.37      1596\n",
      "         5.0       0.54      0.70      0.61      1532\n",
      "\n",
      "    accuracy                           0.49      7988\n",
      "   macro avg       0.48      0.50      0.48      7988\n",
      "weighted avg       0.48      0.49      0.47      7988\n",
      "\n"
     ]
    }
   ],
   "source": [
    "rmfr_hund_5 = RandomForestClassifier()\n",
    "rmfr_hund_5.fit(x_train_hund_thou_five_equal, y_train_hund_thou_five_equal)\n",
    "predrmfr = rmfr_hund_5.predict(x_test_hund_thou_five_equal)\n",
    "\n",
    "print()\n",
    "print(\"Score:\", round(accuracy_score(y_test_hund_thou_five_equal, predrmfr) * 100, 2))\n",
    "\n",
    "print()\n",
    "print(\"Classification Report:\")\n",
    "print(classification_report(y_test_hund_thou_five_equal, predrmfr))"
   ]
  },
  {
   "attachments": {},
   "cell_type": "markdown",
   "metadata": {},
   "source": [
    "#### b.i.ii. 100,000 (1-star, 2-star, 3-star, 4-star, and 5-star) unequal reviews:"
   ]
  },
  {
   "cell_type": "code",
   "execution_count": 121,
   "metadata": {},
   "outputs": [
    {
     "name": "stdout",
     "output_type": "stream",
     "text": [
      "\n",
      "Score: 46.84\n",
      "\n",
      "Classification Report:\n",
      "              precision    recall  f1-score   support\n",
      "\n",
      "         1.0       0.69      0.57      0.63      2168\n",
      "         2.0       0.39      0.02      0.04      1566\n",
      "         3.0       0.47      0.06      0.10      2339\n",
      "         4.0       0.40      0.22      0.28      5026\n",
      "         5.0       0.56      0.95      0.71      8901\n",
      "\n",
      "    accuracy                           0.55     20000\n",
      "   macro avg       0.50      0.36      0.35     20000\n",
      "weighted avg       0.51      0.55      0.47     20000\n",
      "\n"
     ]
    }
   ],
   "source": [
    "rmfr_hund_5 = RandomForestClassifier()\n",
    "rmfr_hund_5.fit(x_train_hund_thou_five_unequal, y_train_hund_thou_five_unequal)\n",
    "predrmfr = rmfr_hund_5.predict(x_test_hund_thou_five_unequal)\n",
    "\n",
    "print()\n",
    "print(\"Score:\", round(f1_score(y_test_hund_thou_five_unequal, predrmfr, average='weighted') * 100, 2))\n",
    "\n",
    "print()\n",
    "print(\"Classification Report:\")\n",
    "print(classification_report(y_test_hund_thou_five_unequal, predrmfr))"
   ]
  },
  {
   "attachments": {},
   "cell_type": "markdown",
   "metadata": {},
   "source": [
    "#### b.ii.i. 100,000 (1-star and 5-star) equal reviews:"
   ]
  },
  {
   "cell_type": "code",
   "execution_count": 122,
   "metadata": {},
   "outputs": [
    {
     "name": "stdout",
     "output_type": "stream",
     "text": [
      "\n",
      "Score: 93.43\n",
      "\n",
      "Classification Report:\n",
      "              precision    recall  f1-score   support\n",
      "\n",
      "         1.0       0.91      0.96      0.94      1604\n",
      "         5.0       0.96      0.91      0.93      1592\n",
      "\n",
      "    accuracy                           0.93      3196\n",
      "   macro avg       0.94      0.93      0.93      3196\n",
      "weighted avg       0.94      0.93      0.93      3196\n",
      "\n"
     ]
    }
   ],
   "source": [
    "rmfr_hund_2 = RandomForestClassifier()\n",
    "rmfr_hund_2.fit(x_train_hund_thou_two_equal, y_train_hund_thou_two_equal)\n",
    "predrmfr = rmfr_hund_2.predict(x_test_hund_thou_two_equal)\n",
    "\n",
    "print()\n",
    "print(\"Score:\", round(accuracy_score(y_test_hund_thou_two_equal, predrmfr) * 100, 2))\n",
    "\n",
    "print()\n",
    "print(\"Classification Report:\")\n",
    "print(classification_report(y_test_hund_thou_two_equal, predrmfr))"
   ]
  },
  {
   "attachments": {},
   "cell_type": "markdown",
   "metadata": {},
   "source": [
    "#### b.ii.ii. 100,000 (1-star and 5-star) unequal reviews:"
   ]
  },
  {
   "cell_type": "code",
   "execution_count": 123,
   "metadata": {},
   "outputs": [
    {
     "name": "stdout",
     "output_type": "stream",
     "text": [
      "\n",
      "Score: 92.28\n",
      "\n",
      "Classification Report:\n",
      "              precision    recall  f1-score   support\n",
      "\n",
      "         1.0       0.97      0.66      0.79      2207\n",
      "         5.0       0.92      1.00      0.96      8856\n",
      "\n",
      "    accuracy                           0.93     11063\n",
      "   macro avg       0.95      0.83      0.87     11063\n",
      "weighted avg       0.93      0.93      0.92     11063\n",
      "\n"
     ]
    }
   ],
   "source": [
    "rmfr_hund_2 = RandomForestClassifier()\n",
    "rmfr_hund_2.fit(x_train_hund_thou_two_unequal, y_train_hund_thou_two_unequal)\n",
    "predrmfr = rmfr_hund_2.predict(x_test_hund_thou_two_unequal)\n",
    "\n",
    "print()\n",
    "print(\"Score:\", round(f1_score(y_test_hund_thou_two_unequal, predrmfr, average='weighted') * 100, 2))\n",
    "\n",
    "print()\n",
    "print(\"Classification Report:\")\n",
    "print(classification_report(y_test_hund_thou_two_unequal, predrmfr))"
   ]
  },
  {
   "attachments": {},
   "cell_type": "markdown",
   "metadata": {},
   "source": [
    "#### b.iii.i. 100,000 (1-star, 3-star, and 5-star) equal reviews:"
   ]
  },
  {
   "cell_type": "code",
   "execution_count": 124,
   "metadata": {},
   "outputs": [
    {
     "name": "stdout",
     "output_type": "stream",
     "text": [
      "\n",
      "Score: 77.88\n",
      "\n",
      "Classification Report:\n",
      "              precision    recall  f1-score   support\n",
      "\n",
      "         1.0       0.79      0.85      0.82      1640\n",
      "         3.0       0.75      0.67      0.70      1604\n",
      "         5.0       0.79      0.82      0.80      1549\n",
      "\n",
      "    accuracy                           0.78      4793\n",
      "   macro avg       0.78      0.78      0.78      4793\n",
      "weighted avg       0.78      0.78      0.78      4793\n",
      "\n"
     ]
    }
   ],
   "source": [
    "rmfr_hund_3 = RandomForestClassifier()\n",
    "rmfr_hund_3.fit(x_train_hund_thou_three_equal, y_train_hund_thou_three_equal)\n",
    "predrmfr = rmfr_hund_3.predict(x_test_hund_thou_three_equal)\n",
    "\n",
    "print()\n",
    "print(\"Score:\", round(accuracy_score(y_test_hund_thou_three_equal, predrmfr) * 100, 2))\n",
    "\n",
    "print()\n",
    "print(\"Classification Report:\")\n",
    "print(classification_report(y_test_hund_thou_three_equal, predrmfr))"
   ]
  },
  {
   "attachments": {},
   "cell_type": "markdown",
   "metadata": {},
   "source": [
    "#### b.iii.ii. 100,000 (1-star, 3-star, and 5-star) unequal reviews:"
   ]
  },
  {
   "cell_type": "code",
   "execution_count": 125,
   "metadata": {},
   "outputs": [
    {
     "name": "stdout",
     "output_type": "stream",
     "text": [
      "\n",
      "Score: 74.76\n",
      "\n",
      "Classification Report:\n",
      "              precision    recall  f1-score   support\n",
      "\n",
      "         1.0       0.89      0.59      0.71      2231\n",
      "         3.0       0.83      0.19      0.31      2272\n",
      "         5.0       0.77      1.00      0.87      8832\n",
      "\n",
      "    accuracy                           0.79     13335\n",
      "   macro avg       0.83      0.59      0.63     13335\n",
      "weighted avg       0.80      0.79      0.75     13335\n",
      "\n"
     ]
    }
   ],
   "source": [
    "rmfr_hund_3 = RandomForestClassifier()\n",
    "rmfr_hund_3.fit(x_train_hund_thou_three_unequal, y_train_hund_thou_three_unequal)\n",
    "predrmfr = rmfr_hund_3.predict(x_test_hund_thou_three_unequal)\n",
    "\n",
    "print()\n",
    "print(\"Score:\", round(f1_score(y_test_hund_thou_three_unequal, predrmfr, average='weighted') * 100, 2))\n",
    "\n",
    "print()\n",
    "print(\"Classification Report:\")\n",
    "print(classification_report(y_test_hund_thou_three_unequal, predrmfr))"
   ]
  },
  {
   "attachments": {},
   "cell_type": "markdown",
   "metadata": {},
   "source": [
    "#### c.i.i. 1,000,000 (1-star, 2-star, 3-star, 4-star, and 5-star) equal reviews:"
   ]
  },
  {
   "cell_type": "code",
   "execution_count": 126,
   "metadata": {},
   "outputs": [
    {
     "name": "stdout",
     "output_type": "stream",
     "text": [
      "\n",
      "Score: 78.73\n",
      "\n",
      "Classification Report:\n",
      "              precision    recall  f1-score   support\n",
      "\n",
      "         1.0       0.88      0.59      0.71      2231\n",
      "         3.0       0.81      0.18      0.29      2272\n",
      "         5.0       0.77      0.99      0.87      8832\n",
      "\n",
      "    accuracy                           0.79     13335\n",
      "   macro avg       0.82      0.59      0.62     13335\n",
      "weighted avg       0.80      0.79      0.74     13335\n",
      "\n"
     ]
    }
   ],
   "source": [
    "rmfr_mil_5 = RandomForestClassifier()\n",
    "rmfr_mil_5.fit(x_train_mil_five_equal, y_train_mil_five_equal)\n",
    "predrmfr = rmfr_mil_5.predict(x_test_mil_five_equal)\n",
    "\n",
    "print()\n",
    "print(\"Score:\", round(accuracy_score(y_test_mil_five_equal, predrmfr) * 100, 2))\n",
    "\n",
    "print()\n",
    "print(\"Classification Report:\")\n",
    "print(classification_report(y_test_mil_five_equal, predrmfr))"
   ]
  },
  {
   "attachments": {},
   "cell_type": "markdown",
   "metadata": {},
   "source": [
    "#### c.i.ii. 1,000,000 (1-star, 2-star, 3-star, 4-star, and 5-star) unequal reviews:"
   ]
  },
  {
   "cell_type": "code",
   "execution_count": 127,
   "metadata": {},
   "outputs": [
    {
     "name": "stdout",
     "output_type": "stream",
     "text": [
      "\n",
      "Score: 74.42\n",
      "\n",
      "Classification Report:\n",
      "              precision    recall  f1-score   support\n",
      "\n",
      "         1.0       0.89      0.60      0.72      2231\n",
      "         3.0       0.80      0.17      0.28      2272\n",
      "         5.0       0.77      0.99      0.87      8832\n",
      "\n",
      "    accuracy                           0.79     13335\n",
      "   macro avg       0.82      0.59      0.62     13335\n",
      "weighted avg       0.80      0.79      0.74     13335\n",
      "\n"
     ]
    }
   ],
   "source": [
    "rmfr_mil_5 = RandomForestClassifier()\n",
    "rmfr_mil_5.fit(x_train_mil_five_unequal, y_train_mil_five_unequal)\n",
    "predrmfr = rmfr_mil_5.predict(x_test_mil_five_unequal)\n",
    "\n",
    "print()\n",
    "print(\"Score:\", round(f1_score(y_test_mil_five_unequal, predrmfr, average='weighted') * 100, 2))\n",
    "\n",
    "print()\n",
    "print(\"Classification Report:\")\n",
    "print(classification_report(y_test_mil_five_unequal, predrmfr))"
   ]
  },
  {
   "attachments": {},
   "cell_type": "markdown",
   "metadata": {},
   "source": [
    "#### c.ii.i. 1,000,000 (1-star and 5-star) equal reviews:"
   ]
  },
  {
   "cell_type": "code",
   "execution_count": 128,
   "metadata": {},
   "outputs": [
    {
     "name": "stdout",
     "output_type": "stream",
     "text": [
      "\n",
      "Score: 94.74\n",
      "\n",
      "Classification Report:\n",
      "              precision    recall  f1-score   support\n",
      "\n",
      "         1.0       0.93      0.96      0.95     15574\n",
      "         5.0       0.96      0.93      0.95     15591\n",
      "\n",
      "    accuracy                           0.95     31165\n",
      "   macro avg       0.95      0.95      0.95     31165\n",
      "weighted avg       0.95      0.95      0.95     31165\n",
      "\n"
     ]
    }
   ],
   "source": [
    "rmfr_mil_2 = RandomForestClassifier()\n",
    "rmfr_mil_2.fit(x_train_mil_two_equal, y_train_mil_two_equal)\n",
    "predrmfr = rmfr_mil_2.predict(x_test_mil_two_equal)\n",
    "\n",
    "print()\n",
    "print(\"Score:\", round(accuracy_score(y_test_mil_two_equal, predrmfr) * 100, 2))\n",
    "\n",
    "print()\n",
    "print(\"Classification Report:\")\n",
    "print(classification_report(y_test_mil_two_equal, predrmfr))"
   ]
  },
  {
   "attachments": {},
   "cell_type": "markdown",
   "metadata": {},
   "source": [
    "#### c.ii.ii. 1,000,000 (1-star and 5-star) unequal reviews:"
   ]
  },
  {
   "cell_type": "code",
   "execution_count": 130,
   "metadata": {},
   "outputs": [
    {
     "name": "stdout",
     "output_type": "stream",
     "text": [
      "\n",
      "Score: 94.76\n",
      "\n",
      "Classification Report:\n",
      "              precision    recall  f1-score   support\n",
      "\n",
      "         1.0       0.97      0.81      0.88     27667\n",
      "         5.0       0.94      0.99      0.97     91781\n",
      "\n",
      "    accuracy                           0.95    119448\n",
      "   macro avg       0.96      0.90      0.92    119448\n",
      "weighted avg       0.95      0.95      0.95    119448\n",
      "\n"
     ]
    }
   ],
   "source": [
    "rmfr_mil_2 = RandomForestClassifier()\n",
    "rmfr_mil_2.fit(x_train_mil_two_unequal, y_train_mil_two_unequal)\n",
    "predrmfr = rmfr_mil_2.predict(x_test_mil_two_unequal)\n",
    "\n",
    "print()\n",
    "print(\"Score:\", round(f1_score(y_test_mil_two_unequal, predrmfr, average='weighted') * 100, 2))\n",
    "\n",
    "print()\n",
    "print(\"Classification Report:\")\n",
    "print(classification_report(y_test_mil_two_unequal, predrmfr))"
   ]
  },
  {
   "attachments": {},
   "cell_type": "markdown",
   "metadata": {},
   "source": [
    "#### c.iii.i. 1,000,000 (1-star, 3-star, and 5-star) equal reviews:"
   ]
  },
  {
   "cell_type": "code",
   "execution_count": 131,
   "metadata": {},
   "outputs": [
    {
     "name": "stdout",
     "output_type": "stream",
     "text": [
      "\n",
      "Score: 79.84\n",
      "\n",
      "Classification Report:\n",
      "              precision    recall  f1-score   support\n",
      "\n",
      "         1.0       0.80      0.87      0.83     15566\n",
      "         3.0       0.76      0.69      0.72     15502\n",
      "         5.0       0.84      0.83      0.83     15680\n",
      "\n",
      "    accuracy                           0.80     46748\n",
      "   macro avg       0.80      0.80      0.80     46748\n",
      "weighted avg       0.80      0.80      0.80     46748\n",
      "\n"
     ]
    }
   ],
   "source": [
    "rmfr_mil_3 = RandomForestClassifier()\n",
    "rmfr_mil_3.fit(x_train_mil_three_equal, y_train_mil_three_equal)\n",
    "predrmfr = rmfr_mil_3.predict(x_test_mil_three_equal)\n",
    "\n",
    "print()\n",
    "print(\"Score:\", round(accuracy_score(y_test_mil_three_equal, predrmfr) * 100, 2))\n",
    "\n",
    "print()\n",
    "print(\"Classification Report:\")\n",
    "print(classification_report(y_test_mil_three_equal, predrmfr))"
   ]
  },
  {
   "attachments": {},
   "cell_type": "markdown",
   "metadata": {},
   "source": [
    "#### c.iii.ii. 1,000,000 (1-star, 3-star, and 5-star) unequal reviews:"
   ]
  },
  {
   "cell_type": "code",
   "execution_count": 132,
   "metadata": {},
   "outputs": [
    {
     "name": "stdout",
     "output_type": "stream",
     "text": [
      "\n",
      "Score: 78.22\n",
      "\n",
      "Classification Report:\n",
      "              precision    recall  f1-score   support\n",
      "\n",
      "         1.0       0.88      0.77      0.82     27751\n",
      "         3.0       0.86      0.14      0.24     20519\n",
      "         5.0       0.81      0.99      0.89     91769\n",
      "\n",
      "    accuracy                           0.82    140039\n",
      "   macro avg       0.85      0.63      0.65    140039\n",
      "weighted avg       0.83      0.82      0.78    140039\n",
      "\n"
     ]
    }
   ],
   "source": [
    "rmfr_mil_3 = RandomForestClassifier()\n",
    "rmfr_mil_3.fit(x_train_mil_three_unequal, y_train_mil_three_unequal)\n",
    "predrmfr = rmfr_mil_3.predict(x_test_mil_three_unequal)\n",
    "\n",
    "print()\n",
    "print(\"Score:\", round(f1_score(y_test_mil_three_unequal, predrmfr, average='weighted') * 100, 2))\n",
    "\n",
    "print()\n",
    "print(\"Classification Report:\")\n",
    "print(classification_report(y_test_mil_three_unequal, predrmfr))"
   ]
  },
  {
   "attachments": {},
   "cell_type": "markdown",
   "metadata": {},
   "source": [
    "### 10. Modeling reviews with the Decision Tree Classifier:"
   ]
  },
  {
   "attachments": {},
   "cell_type": "markdown",
   "metadata": {},
   "source": [
    "#### a.i.i. 10,000 (1-star, 2-star, 3-star, 4-star, and 5-star) equal reviews:"
   ]
  },
  {
   "cell_type": "code",
   "execution_count": 133,
   "metadata": {},
   "outputs": [
    {
     "name": "stdout",
     "output_type": "stream",
     "text": [
      "\n",
      "Score: 30.67\n",
      "\n",
      "Classification Report:\n",
      "              precision    recall  f1-score   support\n",
      "\n",
      "         1.0       0.43      0.43      0.43       145\n",
      "         2.0       0.33      0.26      0.29       163\n",
      "         3.0       0.18      0.18      0.18       149\n",
      "         4.0       0.29      0.30      0.30       156\n",
      "         5.0       0.32      0.37      0.34       150\n",
      "\n",
      "    accuracy                           0.31       763\n",
      "   macro avg       0.31      0.31      0.31       763\n",
      "weighted avg       0.31      0.31      0.31       763\n",
      "\n"
     ]
    }
   ],
   "source": [
    "from sklearn.tree import DecisionTreeClassifier\n",
    "dt_ten_5 = DecisionTreeClassifier()\n",
    "dt_ten_5.fit(x_train_ten_thou_five_equal, y_train_ten_thou_five_equal)\n",
    "preddt = dt_ten_5.predict(x_test_ten_thou_five_equal)\n",
    "\n",
    "print()\n",
    "print(\"Score:\", round(accuracy_score(y_test_ten_thou_five_equal, preddt) * 100, 2))\n",
    "\n",
    "print()\n",
    "print(\"Classification Report:\")\n",
    "print(classification_report(y_test_ten_thou_five_equal, preddt))"
   ]
  },
  {
   "attachments": {},
   "cell_type": "markdown",
   "metadata": {},
   "source": [
    "#### a.i.ii. 10,000 (1-star, 2-star, 3-star, 4-star, and 5-star) unequal reviews:"
   ]
  },
  {
   "cell_type": "code",
   "execution_count": 134,
   "metadata": {},
   "outputs": [
    {
     "name": "stdout",
     "output_type": "stream",
     "text": [
      "\n",
      "Score: 45.09\n",
      "\n",
      "Classification Report:\n",
      "              precision    recall  f1-score   support\n",
      "\n",
      "         1.0       0.39      0.37      0.38       213\n",
      "         2.0       0.20      0.14      0.17       152\n",
      "         3.0       0.20      0.22      0.21       213\n",
      "         4.0       0.39      0.33      0.36       546\n",
      "         5.0       0.60      0.68      0.63       876\n",
      "\n",
      "    accuracy                           0.46      2000\n",
      "   macro avg       0.36      0.35      0.35      2000\n",
      "weighted avg       0.45      0.46      0.45      2000\n",
      "\n"
     ]
    }
   ],
   "source": [
    "dt_ten_5 = DecisionTreeClassifier()\n",
    "dt_ten_5.fit(x_train_ten_thou_five_unequal, y_train_ten_thou_five_unequal)\n",
    "preddt = dt_ten_5.predict(x_test_ten_thou_five_unequal)\n",
    "\n",
    "print()\n",
    "print(\"Score:\", round(f1_score(y_test_ten_thou_five_unequal, preddt, average='weighted') * 100, 2))\n",
    "\n",
    "print()\n",
    "print(\"Classification Report:\")\n",
    "print(classification_report(y_test_ten_thou_five_unequal, preddt))"
   ]
  },
  {
   "attachments": {},
   "cell_type": "markdown",
   "metadata": {},
   "source": [
    "#### a.ii.i. 10,000 (1-star and 5-star) equal reviews:"
   ]
  },
  {
   "cell_type": "code",
   "execution_count": 135,
   "metadata": {},
   "outputs": [
    {
     "name": "stdout",
     "output_type": "stream",
     "text": [
      "\n",
      "Score: 78.1\n",
      "\n",
      "Classification Report:\n",
      "              precision    recall  f1-score   support\n",
      "\n",
      "         1.0       0.79      0.78      0.78       156\n",
      "         5.0       0.77      0.78      0.78       150\n",
      "\n",
      "    accuracy                           0.78       306\n",
      "   macro avg       0.78      0.78      0.78       306\n",
      "weighted avg       0.78      0.78      0.78       306\n",
      "\n"
     ]
    }
   ],
   "source": [
    "dt_ten_2 = DecisionTreeClassifier()\n",
    "dt_ten_2.fit(x_train_ten_thou_two_equal, y_train_ten_thou_two_equal)\n",
    "preddt = dt_ten_2.predict(x_test_ten_thou_two_equal)\n",
    "\n",
    "print()\n",
    "print(\"Score:\", round(accuracy_score(y_test_ten_thou_two_equal, preddt) * 100, 2))\n",
    "\n",
    "print()\n",
    "print(\"Classification Report:\")\n",
    "print(classification_report(y_test_ten_thou_two_equal, preddt))"
   ]
  },
  {
   "attachments": {},
   "cell_type": "markdown",
   "metadata": {},
   "source": [
    "#### a.ii.ii. 10,000 (1-star and 5-star) unequal reviews:"
   ]
  },
  {
   "cell_type": "code",
   "execution_count": 136,
   "metadata": {},
   "outputs": [
    {
     "name": "stdout",
     "output_type": "stream",
     "text": [
      "\n",
      "Score: 87.18\n",
      "\n",
      "Classification Report:\n",
      "              precision    recall  f1-score   support\n",
      "\n",
      "         1.0       0.70      0.66      0.68       225\n",
      "         5.0       0.91      0.93      0.92       880\n",
      "\n",
      "    accuracy                           0.87      1105\n",
      "   macro avg       0.81      0.79      0.80      1105\n",
      "weighted avg       0.87      0.87      0.87      1105\n",
      "\n"
     ]
    }
   ],
   "source": [
    "dt_ten_2 = DecisionTreeClassifier()\n",
    "dt_ten_2.fit(x_train_ten_thou_two_unequal, y_train_ten_thou_two_unequal)\n",
    "preddt = dt_ten_2.predict(x_test_ten_thou_two_unequal)\n",
    "\n",
    "print()\n",
    "print(\"Score:\", round(f1_score(y_test_ten_thou_two_unequal, preddt, average='weighted') * 100, 2))\n",
    "\n",
    "print()\n",
    "print(\"Classification Report:\")\n",
    "print(classification_report(y_test_ten_thou_two_unequal, preddt))"
   ]
  },
  {
   "attachments": {},
   "cell_type": "markdown",
   "metadata": {},
   "source": [
    "#### a.iii.i. 10,000 (1-star, 3-star, and 5-star) equal reviews:"
   ]
  },
  {
   "cell_type": "code",
   "execution_count": 137,
   "metadata": {},
   "outputs": [
    {
     "name": "stdout",
     "output_type": "stream",
     "text": [
      "\n",
      "Score: 53.71\n",
      "\n",
      "Classification Report:\n",
      "              precision    recall  f1-score   support\n",
      "\n",
      "         1.0       0.62      0.64      0.63       153\n",
      "         3.0       0.48      0.48      0.48       166\n",
      "         5.0       0.52      0.49      0.50       139\n",
      "\n",
      "    accuracy                           0.54       458\n",
      "   macro avg       0.54      0.54      0.54       458\n",
      "weighted avg       0.54      0.54      0.54       458\n",
      "\n"
     ]
    }
   ],
   "source": [
    "dt_ten_3 = DecisionTreeClassifier()\n",
    "dt_ten_3.fit(x_train_ten_thou_three_equal, y_train_ten_thou_three_equal)\n",
    "preddt = dt_ten_3.predict(x_test_ten_thou_three_equal)\n",
    "\n",
    "print()\n",
    "print(\"Score:\", round(accuracy_score(y_test_ten_thou_three_equal, preddt) * 100, 2))\n",
    "\n",
    "print()\n",
    "print(\"Classification Report:\")\n",
    "print(classification_report(y_test_ten_thou_three_equal, preddt))"
   ]
  },
  {
   "attachments": {},
   "cell_type": "markdown",
   "metadata": {},
   "source": [
    "#### a.iii.ii. 10,000 (1-star, 3-star, and 5-star) unequal reviews:"
   ]
  },
  {
   "cell_type": "code",
   "execution_count": 138,
   "metadata": {},
   "outputs": [
    {
     "name": "stdout",
     "output_type": "stream",
     "text": [
      "\n",
      "Score: 72.26\n",
      "\n",
      "Classification Report:\n",
      "              precision    recall  f1-score   support\n",
      "\n",
      "         1.0       0.58      0.60      0.59       202\n",
      "         3.0       0.42      0.37      0.39       227\n",
      "         5.0       0.82      0.85      0.83       904\n",
      "\n",
      "    accuracy                           0.73      1333\n",
      "   macro avg       0.61      0.60      0.61      1333\n",
      "weighted avg       0.72      0.73      0.72      1333\n",
      "\n"
     ]
    }
   ],
   "source": [
    "dt_ten_3 = DecisionTreeClassifier()\n",
    "dt_ten_3.fit(x_train_ten_thou_three_unequal, y_train_ten_thou_three_unequal)\n",
    "preddt = dt_ten_3.predict(x_test_ten_thou_three_unequal)\n",
    "\n",
    "print()\n",
    "print(\"Score:\",round(f1_score(y_test_ten_thou_three_unequal, preddt, average='weighted') * 100, 2))\n",
    "\n",
    "print()\n",
    "print(\"Classification Report:\")\n",
    "print(classification_report(y_test_ten_thou_three_unequal, preddt))"
   ]
  },
  {
   "attachments": {},
   "cell_type": "markdown",
   "metadata": {},
   "source": [
    "#### b.i.i. 100,000 (1-star, 2-star, 3-star, 4-star, and 5-star) equal reviews:"
   ]
  },
  {
   "cell_type": "code",
   "execution_count": 139,
   "metadata": {},
   "outputs": [
    {
     "name": "stdout",
     "output_type": "stream",
     "text": [
      "\n",
      "Score: 37.52\n",
      "\n",
      "Classification Report:\n",
      "              precision    recall  f1-score   support\n",
      "\n",
      "         1.0       0.49      0.50      0.50      1626\n",
      "         2.0       0.30      0.29      0.29      1584\n",
      "         3.0       0.32      0.30      0.31      1650\n",
      "         4.0       0.32      0.31      0.31      1596\n",
      "         5.0       0.43      0.48      0.45      1532\n",
      "\n",
      "    accuracy                           0.38      7988\n",
      "   macro avg       0.37      0.38      0.37      7988\n",
      "weighted avg       0.37      0.38      0.37      7988\n",
      "\n"
     ]
    }
   ],
   "source": [
    "dt_hund_5 = DecisionTreeClassifier()\n",
    "dt_hund_5.fit(x_train_hund_thou_five_equal, y_train_hund_thou_five_equal)\n",
    "preddt = dt_hund_5.predict(x_test_hund_thou_five_equal)\n",
    "\n",
    "print()\n",
    "print(\"Score:\", round(accuracy_score(y_test_hund_thou_five_equal, preddt) * 100, 2))\n",
    "\n",
    "print()\n",
    "print(\"Classification Report:\")\n",
    "print(classification_report(y_test_hund_thou_five_equal, preddt))"
   ]
  },
  {
   "attachments": {},
   "cell_type": "markdown",
   "metadata": {},
   "source": [
    "#### b.i.ii. 100,000 (1-star, 2-star, 3-star, 4-star, and 5-star) unequal reviews:"
   ]
  },
  {
   "cell_type": "code",
   "execution_count": 140,
   "metadata": {},
   "outputs": [
    {
     "name": "stdout",
     "output_type": "stream",
     "text": [
      "\n",
      "Score: 46.37\n",
      "\n",
      "Classification Report:\n",
      "              precision    recall  f1-score   support\n",
      "\n",
      "         1.0       0.49      0.50      0.50      2168\n",
      "         2.0       0.21      0.18      0.19      1566\n",
      "         3.0       0.24      0.20      0.22      2339\n",
      "         4.0       0.34      0.33      0.33      5026\n",
      "         5.0       0.62      0.66      0.64      8901\n",
      "\n",
      "    accuracy                           0.47     20000\n",
      "   macro avg       0.38      0.37      0.38     20000\n",
      "weighted avg       0.46      0.47      0.46     20000\n",
      "\n"
     ]
    }
   ],
   "source": [
    "dt_hund_5 = DecisionTreeClassifier()\n",
    "dt_hund_5.fit(x_train_hund_thou_five_unequal, y_train_hund_thou_five_unequal)\n",
    "preddt = dt_hund_5.predict(x_test_hund_thou_five_unequal)\n",
    "\n",
    "print()\n",
    "print(\"Score:\", round(f1_score(y_test_hund_thou_five_unequal, preddt, average='weighted') * 100, 2))\n",
    "\n",
    "print()\n",
    "print(\"Classification Report:\")\n",
    "print(classification_report(y_test_hund_thou_five_unequal, preddt))"
   ]
  },
  {
   "attachments": {},
   "cell_type": "markdown",
   "metadata": {},
   "source": [
    "#### b.ii.i. 100,000 (1-star and 5-star) equal reviews:"
   ]
  },
  {
   "cell_type": "code",
   "execution_count": 141,
   "metadata": {},
   "outputs": [
    {
     "name": "stdout",
     "output_type": "stream",
     "text": [
      "\n",
      "Score: 85.67\n",
      "\n",
      "Classification Report:\n",
      "              precision    recall  f1-score   support\n",
      "\n",
      "         1.0       0.86      0.86      0.86      1604\n",
      "         5.0       0.85      0.86      0.86      1592\n",
      "\n",
      "    accuracy                           0.86      3196\n",
      "   macro avg       0.86      0.86      0.86      3196\n",
      "weighted avg       0.86      0.86      0.86      3196\n",
      "\n"
     ]
    }
   ],
   "source": [
    "dt_hund_2 = DecisionTreeClassifier()\n",
    "dt_hund_2.fit(x_train_hund_thou_two_equal, y_train_hund_thou_two_equal)\n",
    "preddt = dt_hund_2.predict(x_test_hund_thou_two_equal)\n",
    "\n",
    "print()\n",
    "print(\"Score:\", round(accuracy_score(y_test_hund_thou_two_equal, preddt) * 100, 2))\n",
    "\n",
    "print()\n",
    "print(\"Classification Report:\")\n",
    "print(classification_report(y_test_hund_thou_two_equal, preddt))"
   ]
  },
  {
   "attachments": {},
   "cell_type": "markdown",
   "metadata": {},
   "source": [
    "#### b.ii.ii. 100,000 (1-star and 5-star) unequal reviews:"
   ]
  },
  {
   "cell_type": "code",
   "execution_count": 142,
   "metadata": {},
   "outputs": [
    {
     "name": "stdout",
     "output_type": "stream",
     "text": [
      "\n",
      "Score: 89.38\n",
      "\n",
      "Classification Report:\n",
      "              precision    recall  f1-score   support\n",
      "\n",
      "         1.0       0.75      0.71      0.73      2207\n",
      "         5.0       0.93      0.94      0.93      8856\n",
      "\n",
      "    accuracy                           0.89     11063\n",
      "   macro avg       0.84      0.83      0.83     11063\n",
      "weighted avg       0.89      0.89      0.89     11063\n",
      "\n"
     ]
    }
   ],
   "source": [
    "dt_hund_2 = DecisionTreeClassifier()\n",
    "dt_hund_2.fit(x_train_hund_thou_two_unequal, y_train_hund_thou_two_unequal)\n",
    "preddt = dt_hund_2.predict(x_test_hund_thou_two_unequal)\n",
    "\n",
    "print()\n",
    "print(\"Score:\", round(f1_score(y_test_hund_thou_two_unequal, preddt, average='weighted') * 100, 2))\n",
    "\n",
    "print()\n",
    "print(\"Classification Report:\")\n",
    "print(classification_report(y_test_hund_thou_two_unequal, preddt))"
   ]
  },
  {
   "attachments": {},
   "cell_type": "markdown",
   "metadata": {},
   "source": [
    "#### b.iii.i. 100,000 (1-star, 3-star, and 5-star) equal reviews:"
   ]
  },
  {
   "cell_type": "code",
   "execution_count": 143,
   "metadata": {},
   "outputs": [
    {
     "name": "stdout",
     "output_type": "stream",
     "text": [
      "\n",
      "Score: 64.3\n",
      "\n",
      "Classification Report:\n",
      "              precision    recall  f1-score   support\n",
      "\n",
      "         1.0       0.71      0.68      0.69      1640\n",
      "         3.0       0.57      0.56      0.56      1604\n",
      "         5.0       0.65      0.70      0.67      1549\n",
      "\n",
      "    accuracy                           0.64      4793\n",
      "   macro avg       0.64      0.64      0.64      4793\n",
      "weighted avg       0.64      0.64      0.64      4793\n",
      "\n"
     ]
    }
   ],
   "source": [
    "dt_hund_3 = DecisionTreeClassifier()\n",
    "dt_hund_3.fit(x_train_hund_thou_three_equal, y_train_hund_thou_three_equal)\n",
    "preddt = dt_hund_3.predict(x_test_hund_thou_three_equal)\n",
    "\n",
    "print()\n",
    "print(\"Score:\", round(accuracy_score(y_test_hund_thou_three_equal, preddt) * 100, 2))\n",
    "\n",
    "print()\n",
    "print(\"Classification Report:\")\n",
    "print(classification_report(y_test_hund_thou_three_equal, preddt))"
   ]
  },
  {
   "attachments": {},
   "cell_type": "markdown",
   "metadata": {},
   "source": [
    "#### b.iii.ii. 100,000 (1-star, 3-star, and 5-star) unequal reviews:"
   ]
  },
  {
   "cell_type": "code",
   "execution_count": 144,
   "metadata": {},
   "outputs": [
    {
     "name": "stdout",
     "output_type": "stream",
     "text": [
      "\n",
      "Score: 73.76\n",
      "\n",
      "Classification Report:\n",
      "              precision    recall  f1-score   support\n",
      "\n",
      "         1.0       0.63      0.59      0.61      2231\n",
      "         3.0       0.45      0.40      0.43      2272\n",
      "         5.0       0.83      0.87      0.85      8832\n",
      "\n",
      "    accuracy                           0.74     13335\n",
      "   macro avg       0.64      0.62      0.63     13335\n",
      "weighted avg       0.73      0.74      0.74     13335\n",
      "\n"
     ]
    }
   ],
   "source": [
    "dt_hund_3 = DecisionTreeClassifier()\n",
    "dt_hund_3.fit(x_train_hund_thou_three_unequal, y_train_hund_thou_three_unequal)\n",
    "preddt = dt_hund_3.predict(x_test_hund_thou_three_unequal)\n",
    "\n",
    "print()\n",
    "print(\"Score:\", round(f1_score(y_test_hund_thou_three_unequal, preddt, average='weighted') * 100, 2))\n",
    "\n",
    "print()\n",
    "print(\"Classification Report:\")\n",
    "print(classification_report(y_test_hund_thou_three_unequal, preddt))"
   ]
  },
  {
   "attachments": {},
   "cell_type": "markdown",
   "metadata": {},
   "source": [
    "#### c.i.i. 1,000,000 (1-star, 2-star, 3-star, 4-star, and 5-star) equal reviews:"
   ]
  },
  {
   "cell_type": "code",
   "execution_count": 145,
   "metadata": {},
   "outputs": [
    {
     "name": "stdout",
     "output_type": "stream",
     "text": [
      "\n",
      "Score: 74.31\n",
      "\n",
      "Classification Report:\n",
      "              precision    recall  f1-score   support\n",
      "\n",
      "         1.0       0.63      0.60      0.61      2231\n",
      "         3.0       0.45      0.41      0.43      2272\n",
      "         5.0       0.83      0.87      0.85      8832\n",
      "\n",
      "    accuracy                           0.74     13335\n",
      "   macro avg       0.64      0.62      0.63     13335\n",
      "weighted avg       0.74      0.74      0.74     13335\n",
      "\n"
     ]
    }
   ],
   "source": [
    "dt_mil_5 = DecisionTreeClassifier()\n",
    "dt_mil_5.fit(x_train_mil_five_equal, y_train_mil_five_equal)\n",
    "preddt = dt_mil_5.predict(x_test_mil_five_equal)\n",
    "\n",
    "print()\n",
    "print(\"Score:\", round(accuracy_score(y_test_mil_five_equal, preddt) * 100, 2))\n",
    "\n",
    "print()\n",
    "print(\"Classification Report:\")\n",
    "print(classification_report(y_test_mil_five_equal, preddt))"
   ]
  },
  {
   "attachments": {},
   "cell_type": "markdown",
   "metadata": {},
   "source": [
    "#### c.i.ii. 1,000,000 (1-star, 2-star, 3-star, 4-star, and 5-star) unequal reviews:"
   ]
  },
  {
   "cell_type": "code",
   "execution_count": 147,
   "metadata": {},
   "outputs": [
    {
     "name": "stdout",
     "output_type": "stream",
     "text": [
      "\n",
      "Score: 74.34\n",
      "\n",
      "Classification Report:\n",
      "              precision    recall  f1-score   support\n",
      "\n",
      "         1.0       0.64      0.60      0.62      2231\n",
      "         3.0       0.46      0.41      0.43      2272\n",
      "         5.0       0.84      0.87      0.85      8832\n",
      "\n",
      "    accuracy                           0.75     13335\n",
      "   macro avg       0.65      0.63      0.64     13335\n",
      "weighted avg       0.74      0.75      0.74     13335\n",
      "\n"
     ]
    }
   ],
   "source": [
    "dt_mil_5 = DecisionTreeClassifier()\n",
    "dt_mil_5.fit(x_train_mil_five_unequal, y_train_mil_five_unequal)\n",
    "preddt = dt_mil_5.predict(x_test_mil_five_unequal)\n",
    "\n",
    "print()\n",
    "print(\"Score:\", round(f1_score(y_test_mil_five_unequal, preddt, average='weighted') * 100, 2))\n",
    "\n",
    "print()\n",
    "print(\"Classification Report:\")\n",
    "print(classification_report(y_test_mil_five_unequal, preddt))"
   ]
  },
  {
   "attachments": {},
   "cell_type": "markdown",
   "metadata": {},
   "source": [
    "#### c.ii.i. 1,000,000 (1-star and 5-star) equal reviews:"
   ]
  },
  {
   "cell_type": "code",
   "execution_count": 146,
   "metadata": {},
   "outputs": [
    {
     "name": "stdout",
     "output_type": "stream",
     "text": [
      "\n",
      "Score: 88.28\n",
      "\n",
      "Classification Report:\n",
      "              precision    recall  f1-score   support\n",
      "\n",
      "         1.0       0.88      0.88      0.88     15574\n",
      "         5.0       0.88      0.88      0.88     15591\n",
      "\n",
      "    accuracy                           0.88     31165\n",
      "   macro avg       0.88      0.88      0.88     31165\n",
      "weighted avg       0.88      0.88      0.88     31165\n",
      "\n"
     ]
    }
   ],
   "source": [
    "dt_mil_2 = DecisionTreeClassifier()\n",
    "dt_mil_2.fit(x_train_mil_two_equal, y_train_mil_two_equal)\n",
    "preddt = dt_mil_2.predict(x_test_mil_two_equal)\n",
    "\n",
    "print()\n",
    "print(\"Score:\", round(accuracy_score(y_test_mil_two_equal, preddt) * 100, 2))\n",
    "\n",
    "print()\n",
    "print(\"Classification Report:\")\n",
    "print(classification_report(y_test_mil_two_equal, preddt))"
   ]
  },
  {
   "attachments": {},
   "cell_type": "markdown",
   "metadata": {},
   "source": [
    "#### c.ii.ii. 1,000,000 (1-star and 5-star) unequal reviews:"
   ]
  },
  {
   "cell_type": "code",
   "execution_count": 148,
   "metadata": {},
   "outputs": [],
   "source": [
    "dt_mil_2 = DecisionTreeClassifier()\n",
    "dt_mil_2.fit(x_train_mil_two_unequal, y_train_mil_two_unequal)\n",
    "preddt = dt_mil_2.predict(x_test_mil_two_unequal)\n",
    "\n",
    "print()\n",
    "print(\"Score:\", round(f1_score(y_test_mil_two_unequal, preddt, average='weighted') * 100, 2))\n",
    "\n",
    "print()\n",
    "print(\"Classification Report:\")\n",
    "print(classification_report(y_test_mil_two_unequal, preddt))"
   ]
  },
  {
   "attachments": {},
   "cell_type": "markdown",
   "metadata": {},
   "source": [
    "#### c.iii.i. 1,000,000 (1-star, 3-star, and 5-star) equal reviews:"
   ]
  },
  {
   "cell_type": "code",
   "execution_count": null,
   "metadata": {},
   "outputs": [
    {
     "name": "stdout",
     "output_type": "stream",
     "text": [
      "\n",
      "Score: 67.67\n",
      "\n",
      "Classification Report:\n",
      "              precision    recall  f1-score   support\n",
      "\n",
      "         1.0       0.73      0.72      0.72     15566\n",
      "         3.0       0.59      0.60      0.59     15502\n",
      "         5.0       0.71      0.72      0.71     15680\n",
      "\n",
      "    accuracy                           0.68     46748\n",
      "   macro avg       0.68      0.68      0.68     46748\n",
      "weighted avg       0.68      0.68      0.68     46748\n",
      "\n"
     ]
    }
   ],
   "source": [
    "dt_mil_3 = DecisionTreeClassifier()\n",
    "dt_mil_3.fit(x_train_mil_three_equal, y_train_mil_three_equal)\n",
    "preddt = dt_mil_3.predict(x_test_mil_three_equal)\n",
    "\n",
    "print()\n",
    "print(\"Score:\", round(accuracy_score(y_test_mil_three_equal, preddt) * 100, 2))\n",
    "\n",
    "print()\n",
    "print(\"Classification Report:\")\n",
    "print(classification_report(y_test_mil_three_equal, preddt))"
   ]
  },
  {
   "attachments": {},
   "cell_type": "markdown",
   "metadata": {},
   "source": [
    "#### c.iii.ii. 1,000,000 (1-star, 3-star, and 5-star) unequal reviews:"
   ]
  },
  {
   "cell_type": "code",
   "execution_count": null,
   "metadata": {},
   "outputs": [],
   "source": [
    "dt_mil_3 = DecisionTreeClassifier()\n",
    "dt_mil_3.fit(x_train_mil_three_unequal, y_train_mil_three_unequal)\n",
    "preddt = dt_mil_3.predict(x_test_mil_three_unequal)\n",
    "\n",
    "print()\n",
    "print(\"Score:\", round(f1_score(y_test_mil_three_unequal, preddt, average='weighted') * 100, 2))\n",
    "\n",
    "print()\n",
    "print(\"Classification Report:\")\n",
    "print(classification_report(y_test_mil_three_unequal, preddt))"
   ]
  },
  {
   "attachments": {},
   "cell_type": "markdown",
   "metadata": {},
   "source": [
    "From the above models, we can compare the accuracy scores:\n",
    "* Multinomial Naive Bayes:\n",
    "  * Equal \n",
    "\n",
    "|           | 1-5 star | 1 & 5 star | 1, 3, 5 star |\n",
    "|-----------|----------|------------|--------------|\n",
    "| 10,000    | <span style='background:lightcoral'> 47.05  </span>| <span style='background:lightgreen'> 90.52  </span>   | <span style='background:lightgoldenrodyellow'> 74.67 </span> |\n",
    "| 100,000   | <span style='background:lightcoral'> 52.77 </span> | <span style='background:lightgreen'> **94.9** </span> | <span style='background:lightgoldenrodyellow'> 78.24 </span> |\n",
    "| 1,000,000 | <span style='background:lightgoldenrodyellow'> 78.24 </span>     | <span style='background:lightgreen'> 93.54 </span>    | <span style='background:lightgoldenrodyellow'> 79.66 </span> |\n",
    "\n",
    "\n",
    "* Random Forest Classifier:\n",
    "  * Equal \n",
    "\n",
    "|           | 1-5 star | 1 & 5 star | 1, 3, 5 star |\n",
    "|-----------|----------|------------|--------------|\n",
    "| 10,000    | <span style='background:lightcoral'> 41.81 </span> | <span style='background:lightgreen'> 91.18 </span>     | <span style='background:lightgoldenrodyellow'> 70.09 </span> |\n",
    "| 100,000   | <span style='background:lightcoral'> 49.67 </span> | <span style='background:lightgreen'> 93.71 </span>     | <span style='background:lightgoldenrodyellow'> 76.84 </span> |\n",
    "| 1,000,000 | <span style='background:lightgoldenrodyellow'> 77.93 </span>     | <span style='background:lightgreen'> **94.64** </span> | <span style='background:lightgoldenrodyellow'> 79.98 </span> |\n",
    "\n",
    "* Decision Tree Classifier:\n",
    "  * Equal\n",
    "\n",
    "|           | 1-5 star | 1 & 5 star | 1, 3, 5 star |\n",
    "|-----------|----------|------------|--------------|\n",
    "| 10,000    | <span style='background:lightcoral'> 30.14 </span> | <span style='background:lightgoldenrodyellow'> 77.45 </span>         | <span style='background:lightcoral'> 52.62 </span> |\n",
    "| 100,000   | <span style='background:lightcoral'> 37.56 </span> | <span style='background:lightgreen'> 85.67 </span>     | <span style='background:lightgoldenrodyellow'> 63.78 </span>     |\n",
    "| 1,000,000 | <span style='background:lightgoldenrodyellow'> 63.45 </span>     | <span style='background:lightgreen'> **88.18** </span> | <span style='background:lightgoldenrodyellow'> 67.77 </span>     |\n",
    "\n",
    "Since the Multinomial Naive Bayes makes the most accurate prediction, let's use it to predict a sample positive, a sample neutral, and a sample negative review:"
   ]
  },
  {
   "attachments": {},
   "cell_type": "markdown",
   "metadata": {},
   "source": [
    "### 11. Classify a positive review:"
   ]
  },
  {
   "cell_type": "code",
   "execution_count": null,
   "metadata": {},
   "outputs": [
    {
     "name": "stdout",
     "output_type": "stream",
     "text": [
      "\n",
      "Sample positive review:\n",
      "I've taken a lot of spin classes over the years, and nothing compares to the classes at Body Cycle. From the nice, clean space and amazing bikes, to the welcoming and motivating instructors, every class is a top notch work out.\n",
      "\n",
      "For anyone who struggles to fit workouts in, the online scheduling system makes it easy to plan ahead (and there's no need to line up way in advanced like many gyms make you do).\n",
      "\n",
      "There is no way I can write this review without giving Russell, the owner of Body Cycle, a shout out. Russell's passion for fitness and cycling is so evident, as is his desire for all of his clients to succeed. He is always dropping in to classes to check in/provide encouragement, and is open to ideas and recommendations from anyone. Russell always wears a smile on his face, even when he's kicking your butt in class!\n",
      "\n",
      "Actual Rating:  5.0\n",
      "Predicted Rating: 5.0\n"
     ]
    }
   ],
   "source": [
    "pos_rev = yelp_sample_equal_hund_thou['text'][5][1]\n",
    "pos_rev_trans = vocab_hund_thou_two.transform([pos_rev])\n",
    "\n",
    "print()\n",
    "print(\"Sample positive review:\")\n",
    "print(pos_rev)\n",
    "\n",
    "print()\n",
    "print(\"Actual Rating: \", yelp_sample_equal_hund_thou['stars'][5][1])\n",
    "print(\"Predicted Rating:\", mnb_hund_2.predict(pos_rev_trans)[0])\n"
   ]
  },
  {
   "attachments": {},
   "cell_type": "markdown",
   "metadata": {},
   "source": [
    "### 12. Classify a negative review:"
   ]
  },
  {
   "cell_type": "code",
   "execution_count": null,
   "metadata": {},
   "outputs": [
    {
     "name": "stdout",
     "output_type": "stream",
     "text": [
      "\n",
      "Sample negative review:\n",
      "I am a long term frequent customer of this establishment. I just went in to order take out (3 apps) and was told they're too busy to do it. Really? The place is maybe half full at best. Does your dick reach your ass? Yes? Go fuck yourself! I'm a frequent customer AND great tipper. Glad that Kanella just opened. NEVER going back to dmitris!\n",
      "\n",
      "Actual Rating:  1.0\n",
      "Predicted Rating: 1.0\n"
     ]
    }
   ],
   "source": [
    "neg_rev = yelp_sample_equal_hund_thou['text'][1][5]\n",
    "neg_rev_trans = vocab_hund_thou_two.transform([neg_rev])\n",
    "\n",
    "print()\n",
    "print(\"Sample negative review:\")\n",
    "print(neg_rev)\n",
    "\n",
    "print()\n",
    "print(\"Actual Rating: \", yelp_sample_equal_hund_thou['stars'][1][5])\n",
    "print(\"Predicted Rating:\", mnb_hund_2.predict(neg_rev_trans)[0])\n"
   ]
  }
 ],
 "metadata": {
  "kernelspec": {
   "display_name": "Python 3",
   "language": "python",
   "name": "python3"
  },
  "language_info": {
   "codemirror_mode": {
    "name": "ipython",
    "version": 3
   },
   "file_extension": ".py",
   "mimetype": "text/x-python",
   "name": "python",
   "nbconvert_exporter": "python",
   "pygments_lexer": "ipython3",
   "version": "3.11.3"
  },
  "orig_nbformat": 4
 },
 "nbformat": 4,
 "nbformat_minor": 2
}
