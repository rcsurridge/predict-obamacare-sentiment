{
 "cells": [
  {
   "attachments": {},
   "cell_type": "markdown",
   "metadata": {},
   "source": [
    "# A Sentiment Analysis of Yelp Reviews\n",
    "## Author: Robert Surridge"
   ]
  },
  {
   "attachments": {},
   "cell_type": "markdown",
   "metadata": {},
   "source": [
    "### 1. Import necessary packages:"
   ]
  },
  {
   "cell_type": "code",
   "execution_count": 1,
   "metadata": {},
   "outputs": [
    {
     "name": "stderr",
     "output_type": "stream",
     "text": [
      "[nltk_data] Downloading package stopwords to\n",
      "[nltk_data]     /Users/rsurridge/nltk_data...\n",
      "[nltk_data]   Package stopwords is already up-to-date!\n"
     ]
    }
   ],
   "source": [
    "import pandas as pd\n",
    "import json\n",
    "import matplotlib.pyplot as plt\n",
    "import seaborn as sns\n",
    "import nltk\n",
    "nltk.download('stopwords')\n",
    "from nltk.corpus import stopwords\n",
    "import string\n",
    "from sklearn.feature_extraction.text import CountVectorizer\n",
    "from sklearn.model_selection import train_test_split\n",
    "from sklearn.metrics import classification_report, accuracy_score, f1_score\n",
    "%matplotlib inline"
   ]
  },
  {
   "attachments": {},
   "cell_type": "markdown",
   "metadata": {},
   "source": [
    "### 2. Load the dataset with a sample of 100,000 Yelp reviews, explore the metadata, and add a column \"length\" that contains the number of words per review:"
   ]
  },
  {
   "cell_type": "code",
   "execution_count": 8,
   "metadata": {},
   "outputs": [
    {
     "name": "stdout",
     "output_type": "stream",
     "text": [
      "\n",
      "Shape of the dataset: (100000, 10)\n",
      "\n",
      "Dataset Summary:\n"
     ]
    },
    {
     "data": {
      "text/html": [
       "<div>\n",
       "<style scoped>\n",
       "    .dataframe tbody tr th:only-of-type {\n",
       "        vertical-align: middle;\n",
       "    }\n",
       "\n",
       "    .dataframe tbody tr th {\n",
       "        vertical-align: top;\n",
       "    }\n",
       "\n",
       "    .dataframe thead th {\n",
       "        text-align: right;\n",
       "    }\n",
       "</style>\n",
       "<table border=\"1\" class=\"dataframe\">\n",
       "  <thead>\n",
       "    <tr style=\"text-align: right;\">\n",
       "      <th></th>\n",
       "      <th>review_id</th>\n",
       "      <th>user_id</th>\n",
       "      <th>business_id</th>\n",
       "      <th>stars</th>\n",
       "      <th>useful</th>\n",
       "      <th>funny</th>\n",
       "      <th>cool</th>\n",
       "      <th>text</th>\n",
       "      <th>date</th>\n",
       "      <th>length</th>\n",
       "    </tr>\n",
       "  </thead>\n",
       "  <tbody>\n",
       "    <tr>\n",
       "      <th>count</th>\n",
       "      <td>100000</td>\n",
       "      <td>100000</td>\n",
       "      <td>100000</td>\n",
       "      <td>100000.000000</td>\n",
       "      <td>100000.000000</td>\n",
       "      <td>100000.000000</td>\n",
       "      <td>100000.000000</td>\n",
       "      <td>100000</td>\n",
       "      <td>100000</td>\n",
       "      <td>100000.000000</td>\n",
       "    </tr>\n",
       "    <tr>\n",
       "      <th>unique</th>\n",
       "      <td>100000</td>\n",
       "      <td>79345</td>\n",
       "      <td>9973</td>\n",
       "      <td>NaN</td>\n",
       "      <td>NaN</td>\n",
       "      <td>NaN</td>\n",
       "      <td>NaN</td>\n",
       "      <td>99964</td>\n",
       "      <td>NaN</td>\n",
       "      <td>NaN</td>\n",
       "    </tr>\n",
       "    <tr>\n",
       "      <th>top</th>\n",
       "      <td>KU_O5udG6zpxOg-VcAEodg</td>\n",
       "      <td>_BcWyKQL16ndpBdggh2kNA</td>\n",
       "      <td>GBTPC53ZrG1ZBY3DT8Mbcw</td>\n",
       "      <td>NaN</td>\n",
       "      <td>NaN</td>\n",
       "      <td>NaN</td>\n",
       "      <td>NaN</td>\n",
       "      <td>Service was a little slow to start but improve...</td>\n",
       "      <td>NaN</td>\n",
       "      <td>NaN</td>\n",
       "    </tr>\n",
       "    <tr>\n",
       "      <th>freq</th>\n",
       "      <td>1</td>\n",
       "      <td>65</td>\n",
       "      <td>950</td>\n",
       "      <td>NaN</td>\n",
       "      <td>NaN</td>\n",
       "      <td>NaN</td>\n",
       "      <td>NaN</td>\n",
       "      <td>2</td>\n",
       "      <td>NaN</td>\n",
       "      <td>NaN</td>\n",
       "    </tr>\n",
       "    <tr>\n",
       "      <th>mean</th>\n",
       "      <td>NaN</td>\n",
       "      <td>NaN</td>\n",
       "      <td>NaN</td>\n",
       "      <td>3.842910</td>\n",
       "      <td>0.898980</td>\n",
       "      <td>0.257180</td>\n",
       "      <td>0.347030</td>\n",
       "      <td>NaN</td>\n",
       "      <td>2015-05-02 14:36:08.625299968</td>\n",
       "      <td>548.438330</td>\n",
       "    </tr>\n",
       "    <tr>\n",
       "      <th>min</th>\n",
       "      <td>NaN</td>\n",
       "      <td>NaN</td>\n",
       "      <td>NaN</td>\n",
       "      <td>1.000000</td>\n",
       "      <td>0.000000</td>\n",
       "      <td>0.000000</td>\n",
       "      <td>0.000000</td>\n",
       "      <td>NaN</td>\n",
       "      <td>2005-03-01 17:47:15</td>\n",
       "      <td>3.000000</td>\n",
       "    </tr>\n",
       "    <tr>\n",
       "      <th>25%</th>\n",
       "      <td>NaN</td>\n",
       "      <td>NaN</td>\n",
       "      <td>NaN</td>\n",
       "      <td>3.000000</td>\n",
       "      <td>0.000000</td>\n",
       "      <td>0.000000</td>\n",
       "      <td>0.000000</td>\n",
       "      <td>NaN</td>\n",
       "      <td>2013-12-07 13:33:34.750000128</td>\n",
       "      <td>226.000000</td>\n",
       "    </tr>\n",
       "    <tr>\n",
       "      <th>50%</th>\n",
       "      <td>NaN</td>\n",
       "      <td>NaN</td>\n",
       "      <td>NaN</td>\n",
       "      <td>4.000000</td>\n",
       "      <td>0.000000</td>\n",
       "      <td>0.000000</td>\n",
       "      <td>0.000000</td>\n",
       "      <td>NaN</td>\n",
       "      <td>2015-09-26 23:21:59.500000</td>\n",
       "      <td>395.000000</td>\n",
       "    </tr>\n",
       "    <tr>\n",
       "      <th>75%</th>\n",
       "      <td>NaN</td>\n",
       "      <td>NaN</td>\n",
       "      <td>NaN</td>\n",
       "      <td>5.000000</td>\n",
       "      <td>1.000000</td>\n",
       "      <td>0.000000</td>\n",
       "      <td>0.000000</td>\n",
       "      <td>NaN</td>\n",
       "      <td>2017-04-08 12:26:05.249999872</td>\n",
       "      <td>693.000000</td>\n",
       "    </tr>\n",
       "    <tr>\n",
       "      <th>max</th>\n",
       "      <td>NaN</td>\n",
       "      <td>NaN</td>\n",
       "      <td>NaN</td>\n",
       "      <td>5.000000</td>\n",
       "      <td>320.000000</td>\n",
       "      <td>98.000000</td>\n",
       "      <td>49.000000</td>\n",
       "      <td>NaN</td>\n",
       "      <td>2018-10-04 18:22:35</td>\n",
       "      <td>5000.000000</td>\n",
       "    </tr>\n",
       "    <tr>\n",
       "      <th>std</th>\n",
       "      <td>NaN</td>\n",
       "      <td>NaN</td>\n",
       "      <td>NaN</td>\n",
       "      <td>1.354729</td>\n",
       "      <td>2.205186</td>\n",
       "      <td>1.010212</td>\n",
       "      <td>1.066382</td>\n",
       "      <td>NaN</td>\n",
       "      <td>NaN</td>\n",
       "      <td>501.703274</td>\n",
       "    </tr>\n",
       "  </tbody>\n",
       "</table>\n",
       "</div>"
      ],
      "text/plain": [
       "                     review_id                 user_id   \n",
       "count                   100000                  100000  \\\n",
       "unique                  100000                   79345   \n",
       "top     KU_O5udG6zpxOg-VcAEodg  _BcWyKQL16ndpBdggh2kNA   \n",
       "freq                         1                      65   \n",
       "mean                       NaN                     NaN   \n",
       "min                        NaN                     NaN   \n",
       "25%                        NaN                     NaN   \n",
       "50%                        NaN                     NaN   \n",
       "75%                        NaN                     NaN   \n",
       "max                        NaN                     NaN   \n",
       "std                        NaN                     NaN   \n",
       "\n",
       "                   business_id          stars         useful          funny   \n",
       "count                   100000  100000.000000  100000.000000  100000.000000  \\\n",
       "unique                    9973            NaN            NaN            NaN   \n",
       "top     GBTPC53ZrG1ZBY3DT8Mbcw            NaN            NaN            NaN   \n",
       "freq                       950            NaN            NaN            NaN   \n",
       "mean                       NaN       3.842910       0.898980       0.257180   \n",
       "min                        NaN       1.000000       0.000000       0.000000   \n",
       "25%                        NaN       3.000000       0.000000       0.000000   \n",
       "50%                        NaN       4.000000       0.000000       0.000000   \n",
       "75%                        NaN       5.000000       1.000000       0.000000   \n",
       "max                        NaN       5.000000     320.000000      98.000000   \n",
       "std                        NaN       1.354729       2.205186       1.010212   \n",
       "\n",
       "                 cool                                               text   \n",
       "count   100000.000000                                             100000  \\\n",
       "unique            NaN                                              99964   \n",
       "top               NaN  Service was a little slow to start but improve...   \n",
       "freq              NaN                                                  2   \n",
       "mean         0.347030                                                NaN   \n",
       "min          0.000000                                                NaN   \n",
       "25%          0.000000                                                NaN   \n",
       "50%          0.000000                                                NaN   \n",
       "75%          0.000000                                                NaN   \n",
       "max         49.000000                                                NaN   \n",
       "std          1.066382                                                NaN   \n",
       "\n",
       "                                 date         length  \n",
       "count                          100000  100000.000000  \n",
       "unique                            NaN            NaN  \n",
       "top                               NaN            NaN  \n",
       "freq                              NaN            NaN  \n",
       "mean    2015-05-02 14:36:08.625299968     548.438330  \n",
       "min               2005-03-01 17:47:15       3.000000  \n",
       "25%     2013-12-07 13:33:34.750000128     226.000000  \n",
       "50%        2015-09-26 23:21:59.500000     395.000000  \n",
       "75%     2017-04-08 12:26:05.249999872     693.000000  \n",
       "max               2018-10-04 18:22:35    5000.000000  \n",
       "std                               NaN     501.703274  "
      ]
     },
     "execution_count": 8,
     "metadata": {},
     "output_type": "execute_result"
    }
   ],
   "source": [
    "yelp_data = pd.read_json('/Users/rsurridge/Downloads/yelp_data/yelp_academic_dataset_review.json', \n",
    "                         lines=True, chunksize=100_000)\n",
    "for chunk in yelp_data:\n",
    "    yelp_sample_unequal = chunk\n",
    "    result = chunk.to_json(orient=\"records\")\n",
    "    with open(\"yelp_sample.json\", \"w\") as f:\n",
    "        json.dump(result, f)\n",
    "    break\n",
    "\n",
    "yelp_sample_unequal['length'] = yelp_sample_unequal['text'].apply(len)\n",
    "yelp_sample_unequal['stars'] = yelp_sample_unequal['stars'].astype(float)\n",
    "\n",
    "print()\n",
    "print(\"Shape of the dataset:\", yelp_sample_unequal.shape)\n",
    "\n",
    "print()\n",
    "print(\"Dataset Summary:\")\n",
    "yelp_sample_unequal.describe(include='all')\n"
   ]
  },
  {
   "cell_type": "code",
   "execution_count": 20,
   "metadata": {},
   "outputs": [
    {
     "name": "stdout",
     "output_type": "stream",
     "text": [
      "\n",
      "Number of possible words: 67824\n",
      "\n",
      "Return unigram word from index 5000: assaults\n",
      "Return unigram word from index 20000: easiest\n",
      "\n",
      "Number of possible words: 1976754\n",
      "\n",
      "Return unigram word from index 5000: 12 terms\n",
      "Return unigram word from index 20000: 550 calories\n",
      "\n",
      "Number of possible words: 3934118\n",
      "\n",
      "Return unigram word from index 5000: 10 people group\n",
      "Return unigram word from index 20000: 20 uhh did\n"
     ]
    }
   ],
   "source": [
    "unigram_vocab = (CountVectorizer(ngram_range=(1,1), stop_words='english')\n",
    "                 .fit(yelp_sample_unequal.loc[:, 'text']))\n",
    "\n",
    "print()\n",
    "print(\"Number of possible words:\", len(unigram_vocab.vocabulary_))\n",
    "\n",
    "print()\n",
    "print(\"Return unigram word from index 5000:\", \n",
    "      unigram_vocab.get_feature_names_out()[5000])\n",
    "print(\"Return unigram word from index 20000:\", \n",
    "      unigram_vocab.get_feature_names_out()[20000])\n",
    "\n",
    "bigram_vocab = (CountVectorizer(ngram_range = (2, 2), stop_words='english')\n",
    "                .fit(yelp_sample_unequal.loc[:, 'text']))\n",
    "\n",
    "print()\n",
    "print(\"Number of possible words:\", len(bigram_vocab.vocabulary_))\n",
    "\n",
    "print()\n",
    "print(\"Return unigram word from index 5000:\", \n",
    "      bigram_vocab.get_feature_names_out()[5000])\n",
    "print(\"Return unigram word from index 20000:\", \n",
    "      bigram_vocab.get_feature_names_out()[20000])\n",
    "\n",
    "trigram_vocab = (CountVectorizer(ngram_range = (3, 3), stop_words='english')\n",
    "                .fit(yelp_sample_unequal.loc[:, 'text']))\n",
    "\n",
    "print()\n",
    "print(\"Number of possible words:\", len(trigram_vocab.vocabulary_))\n",
    "\n",
    "print()\n",
    "print(\"Return unigram word from index 5000:\", \n",
    "      trigram_vocab.get_feature_names_out()[5000])\n",
    "print(\"Return unigram word from index 20000:\", \n",
    "      trigram_vocab.get_feature_names_out()[20000])"
   ]
  },
  {
   "cell_type": "code",
   "execution_count": 23,
   "metadata": {},
   "outputs": [
    {
     "name": "stdout",
     "output_type": "stream",
     "text": [
      "\n",
      "Shape of the dataset: (100000, 2)\n",
      "\n",
      "Unequal star count (100,000 reviews)\n",
      "stars\n",
      "5.0    44392\n",
      "4.0    25337\n",
      "3.0    11362\n",
      "1.0    10921\n",
      "2.0     7988\n",
      "Name: count, dtype: int64\n",
      "\n",
      "Equal star count (100,000 reviews)\n",
      "stars\n",
      "1.0    7988\n",
      "2.0    7988\n",
      "3.0    7988\n",
      "4.0    7988\n",
      "5.0    7988\n",
      "Name: count, dtype: int64\n"
     ]
    }
   ],
   "source": [
    "yelp_classify = yelp_sample_unequal.loc[:, ['stars', 'text']]\n",
    "\n",
    "print()\n",
    "print(\"Shape of the dataset:\", yelp_classify.shape)\n",
    "\n",
    "x_unequal = yelp_classify['text']\n",
    "y_unequal = yelp_classify['stars']\n",
    "\n",
    "unequal_count = y_unequal.value_counts()\n",
    "min_count = unequal_count.min()\n",
    "yelp_sample_equal = (yelp_sample_unequal.groupby('stars').apply(lambda x: x[:min_count]))\n",
    "equal_count = yelp_sample_equal['stars'].value_counts()\n",
    "\n",
    "x_equal = yelp_sample_equal['text']\n",
    "y_equal = yelp_sample_equal['stars']\n",
    "\n",
    "print()\n",
    "print(\"Unequal star count (100,000 reviews)\")\n",
    "print(unequal_count)\n",
    "\n",
    "print()\n",
    "print(\"Equal star count (100,000 reviews)\")\n",
    "print(equal_count)\n"
   ]
  },
  {
   "attachments": {},
   "cell_type": "markdown",
   "metadata": {},
   "source": [
    "### 3. Plot histograms of review length frenquencies by the star rating:"
   ]
  },
  {
   "cell_type": "code",
   "execution_count": 49,
   "metadata": {},
   "outputs": [
    {
     "data": {
      "text/plain": [
       "Text(0.5, 1.0, 'Star Rating Frequency with a RAW Sample of One Million Reviews')"
      ]
     },
     "execution_count": 49,
     "metadata": {},
     "output_type": "execute_result"
    },
    {
     "data": {
      "image/png": "[encoded data removed]",
      "text/plain": [
       "<Figure size 640x480 with 1 Axes>"
      ]
     },
     "metadata": {},
     "output_type": "display_data"
    }
   ],
   "source": [
    "graph_star_freq_raw = plt.hist(yelp_sample_unequal['stars'], bins=5, color='blue')\n",
    "plt.title('Star Rating Frequency with a RAW Sample of One Million Reviews')"
   ]
  },
  {
   "cell_type": "code",
   "execution_count": 50,
   "metadata": {},
   "outputs": [
    {
     "data": {
      "text/plain": [
       "Text(0.5, 1.0, 'Star Rating Frequency with a NORMALIZED Sample of One Million Reviews')"
      ]
     },
     "execution_count": 50,
     "metadata": {},
     "output_type": "execute_result"
    },
    {
     "data": {
      "image/png": "[encoded data removed]",
      "text/plain": [
       "<Figure size 640x480 with 1 Axes>"
      ]
     },
     "metadata": {},
     "output_type": "display_data"
    }
   ],
   "source": [
    "graph_star_freq_normal = plt.hist(yelp_sample_equal['stars'], bins=5, color='blue')\n",
    "plt.title('Star Rating Frequency with a NORMALIZED Sample of One Million Reviews')"
   ]
  },
  {
   "attachments": {},
   "cell_type": "markdown",
   "metadata": {},
   "source": [
    "We want to note here that our sample dataset is biased to more positive reviews than negative reviews. As a result, we should proceed with caution when classifying, training, and predicting with this dataset."
   ]
  },
  {
   "cell_type": "markdown",
   "metadata": {},
   "source": [
    "### 4 Classify reviews into different star classes and separate the dataset into X and Y subsets for prediction:"
   ]
  },
  {
   "attachments": {},
   "cell_type": "markdown",
   "metadata": {},
   "source": [
    "#### b.i.i. 100,000 equal reviews into 1-star (negative), 2-star (negative), 3-star (neutral), 4-star (positive), and 5-star (positive) classes:"
   ]
  },
  {
   "cell_type": "code",
   "execution_count": 24,
   "metadata": {},
   "outputs": [
    {
     "name": "stdout",
     "output_type": "stream",
     "text": [
      "\n",
      "Shape of the dataset: (39940, 2)\n"
     ]
    }
   ],
   "source": [
    "yelp_classify = yelp_sample_equal.loc[:, ['stars', 'text']]\n",
    "\n",
    "print()\n",
    "print(\"Shape of the dataset:\", yelp_classify.shape)\n",
    "\n",
    "x_five_equal = yelp_classify['text']\n",
    "y_five_equal = yelp_classify['stars']\n",
    "\n",
    "unigram_five_equal = unigram_vocab.transform(x_five_equal)\n",
    "(x_train_five_equal_unigram, \n",
    " x_test_five_equal_unigram, \n",
    " y_train_five_equal_unigram, \n",
    " y_test_five_equal_unigram) = train_test_split(unigram_five_equal, \n",
    "                                                 y_five_equal, \n",
    "                                                 test_size=0.2, \n",
    "                                                 random_state=101)\n",
    "\n",
    "bigram_five_equal = bigram_vocab.transform(x_five_equal)\n",
    "(x_train_five_equal_bigram, \n",
    " x_test_five_equal_bigram, \n",
    " y_train_five_equal_bigram, \n",
    " y_test_five_equal_bigram) = train_test_split(bigram_five_equal, \n",
    "                                                 y_five_equal, \n",
    "                                                 test_size=0.2, \n",
    "                                                 random_state=101)\n",
    "\n",
    "\n",
    "trigram_five_equal = trigram_vocab.transform(x_five_equal)\n",
    "(x_train_five_equal_trigram, \n",
    " x_test_five_equal_trigram, \n",
    " y_train_five_equal_trigram, \n",
    " y_test_five_equal_trigram) = train_test_split(trigram_five_equal, \n",
    "                                               y_five_equal, \n",
    "                                               test_size=0.2, \n",
    "                                               random_state=101)"
   ]
  },
  {
   "attachments": {},
   "cell_type": "markdown",
   "metadata": {},
   "source": [
    "#### b.i.ii. 100,000 unequal reviews into 1-star (negative), 2-star (negative), 3-star (neutral), 4-star (positive), and 5-star (positive) classes:"
   ]
  },
  {
   "cell_type": "code",
   "execution_count": 25,
   "metadata": {},
   "outputs": [
    {
     "name": "stdout",
     "output_type": "stream",
     "text": [
      "\n",
      "Shape of the dataset: (100000, 2)\n"
     ]
    }
   ],
   "source": [
    "yelp_classify = yelp_sample_unequal.loc[:, ['stars', 'text']]\n",
    "\n",
    "print()\n",
    "print(\"Shape of the dataset:\", yelp_classify.shape)\n",
    "\n",
    "x_five_unequal = yelp_classify['text']\n",
    "y_five_unequal = yelp_classify['stars']\n",
    "\n",
    "unigram_five_unequal = unigram_vocab.transform(x_five_unequal)\n",
    "(x_train_five_unequal_unigram, \n",
    " x_test_five_unequal_unigram, \n",
    " y_train_five_unequal_unigram, \n",
    " y_test_five_unequal_unigram) = train_test_split(unigram_five_unequal, \n",
    "                                                 y_five_unequal, \n",
    "                                                 test_size=0.2, \n",
    "                                                 random_state=101)\n",
    "\n",
    "bigram_five_unequal = bigram_vocab.transform(x_five_unequal)\n",
    "(x_train_five_unequal_bigram, \n",
    " x_test_five_unequal_bigram, \n",
    " y_train_five_unequal_bigram, \n",
    " y_test_five_unequal_bigram) = train_test_split(bigram_five_unequal, \n",
    "                                                 y_five_unequal, \n",
    "                                                 test_size=0.2, \n",
    "                                                 random_state=101)\n",
    "\n",
    "\n",
    "trigram_five_unequal = trigram_vocab.transform(x_five_unequal)\n",
    "(x_train_five_unequal_trigram, \n",
    " x_test_five_unequal_trigram, \n",
    " y_train_five_unequal_trigram, \n",
    " y_test_five_unequal_trigram) = train_test_split(trigram_five_unequal, \n",
    "                                               y_five_unequal, \n",
    "                                               test_size=0.2, \n",
    "                                               random_state=101)"
   ]
  },
  {
   "attachments": {},
   "cell_type": "markdown",
   "metadata": {},
   "source": [
    "#### b.ii.i. 100,000 equal reviews into 1-star (negative) and 5-star (positive) classes:"
   ]
  },
  {
   "cell_type": "code",
   "execution_count": 26,
   "metadata": {},
   "outputs": [
    {
     "name": "stdout",
     "output_type": "stream",
     "text": [
      "\n",
      "Shape of the dataset: (15976, 2)\n"
     ]
    }
   ],
   "source": [
    "yelp_classify = yelp_sample_equal.loc[:, ['stars', 'text']]\n",
    "data_classes = yelp_classify[(yelp_classify['stars']==1) | \n",
    "                           (yelp_classify['stars']==5)]\n",
    "\n",
    "print()\n",
    "print(\"Shape of the dataset:\", data_classes.shape)\n",
    "\n",
    "x_two_equal = data_classes['text']\n",
    "y_two_equal = data_classes['stars']\n",
    "\n",
    "unigram_two_equal = unigram_vocab.transform(x_two_equal)\n",
    "(x_train_two_equal_unigram, \n",
    " x_test_two_equal_unigram, \n",
    " y_train_two_equal_unigram, \n",
    " y_test_two_equal_unigram) = train_test_split(unigram_two_equal, \n",
    "                                                 y_two_equal, \n",
    "                                                 test_size=0.2, \n",
    "                                                 random_state=101)\n",
    "\n",
    "bigram_two_equal = bigram_vocab.transform(x_two_equal)\n",
    "(x_train_two_equal_bigram, \n",
    " x_test_two_equal_bigram, \n",
    " y_train_two_equal_bigram, \n",
    " y_test_two_equal_bigram) = train_test_split(bigram_two_equal, \n",
    "                                                 y_two_equal, \n",
    "                                                 test_size=0.2, \n",
    "                                                 random_state=101)\n",
    "\n",
    "\n",
    "trigram_two_equal = trigram_vocab.transform(x_two_equal)\n",
    "(x_train_two_equal_trigram, \n",
    " x_test_two_equal_trigram, \n",
    " y_train_two_equal_trigram, \n",
    " y_test_two_equal_trigram) = train_test_split(trigram_two_equal, \n",
    "                                               y_two_equal, \n",
    "                                               test_size=0.2, \n",
    "                                               random_state=101)"
   ]
  },
  {
   "attachments": {},
   "cell_type": "markdown",
   "metadata": {},
   "source": [
    "#### b.ii.ii. 100,000 unequal reviews into 1-star (negative) and 5-star (positive) classes:"
   ]
  },
  {
   "cell_type": "code",
   "execution_count": 29,
   "metadata": {},
   "outputs": [
    {
     "name": "stdout",
     "output_type": "stream",
     "text": [
      "\n",
      "Shape of the dataset: (55313, 2)\n"
     ]
    }
   ],
   "source": [
    "yelp_classify = yelp_sample_unequal.loc[:, ['stars', 'text']]\n",
    "data_classes = yelp_classify[(yelp_classify['stars']==1) | \n",
    "                           (yelp_classify['stars']==5)]\n",
    "\n",
    "print()\n",
    "print(\"Shape of the dataset:\", data_classes.shape)\n",
    "\n",
    "x_two_unequal = data_classes['text']\n",
    "y_two_unequal = data_classes['stars']\n",
    "\n",
    "unigram_two_unequal = unigram_vocab.transform(x_two_unequal)\n",
    "(x_train_two_unequal_unigram, \n",
    " x_test_two_unequal_unigram, \n",
    " y_train_two_unequal_unigram, \n",
    " y_test_two_unequal_unigram) = train_test_split(unigram_two_unequal, \n",
    "                                                 y_two_unequal, \n",
    "                                                 test_size=0.2, \n",
    "                                                 random_state=101)\n",
    "\n",
    "bigram_two_unequal = bigram_vocab.transform(x_two_unequal)\n",
    "(x_train_two_unequal_bigram, \n",
    " x_test_two_unequal_bigram, \n",
    " y_train_two_unequal_bigram, \n",
    " y_test_two_unequal_bigram) = train_test_split(bigram_two_unequal, \n",
    "                                                 y_two_unequal, \n",
    "                                                 test_size=0.2, \n",
    "                                                 random_state=101)\n",
    "\n",
    "\n",
    "trigram_two_unequal = trigram_vocab.transform(x_two_unequal)\n",
    "(x_train_two_unequal_trigram, \n",
    " x_test_two_unequal_trigram, \n",
    " y_train_two_unequal_trigram, \n",
    " y_test_two_unequal_trigram) = train_test_split(trigram_two_unequal, \n",
    "                                               y_two_unequal, \n",
    "                                               test_size=0.2, \n",
    "                                               random_state=101)"
   ]
  },
  {
   "attachments": {},
   "cell_type": "markdown",
   "metadata": {},
   "source": [
    "#### b.iii.i. 100,000 equal reviews into 1-star (negative), 3-star (neutral), and 5-star (positive) classes:"
   ]
  },
  {
   "cell_type": "code",
   "execution_count": 30,
   "metadata": {},
   "outputs": [
    {
     "name": "stdout",
     "output_type": "stream",
     "text": [
      "\n",
      "Shape of the dataset: (23964, 2)\n"
     ]
    }
   ],
   "source": [
    "yelp_classify = yelp_sample_equal.loc[:, ['stars', 'text']]\n",
    "data_classes = yelp_classify[(yelp_classify['stars']==1) | \n",
    "                           (yelp_classify['stars']==3) | \n",
    "                           (yelp_classify['stars']==5)]\n",
    "\n",
    "print()\n",
    "print(\"Shape of the dataset:\", data_classes.shape)\n",
    "\n",
    "x_three_equal = data_classes['text']\n",
    "y_three_equal = data_classes['stars']\n",
    "\n",
    "unigram_three_equal = unigram_vocab.transform(x_three_equal)\n",
    "(x_train_three_equal_unigram, \n",
    " x_test_three_equal_unigram, \n",
    " y_train_three_equal_unigram, \n",
    " y_test_three_equal_unigram) = train_test_split(unigram_three_equal, \n",
    "                                                 y_three_equal, \n",
    "                                                 test_size=0.2, \n",
    "                                                 random_state=101)\n",
    "\n",
    "bigram_three_equal = bigram_vocab.transform(x_three_equal)\n",
    "(x_train_three_equal_bigram, \n",
    " x_test_three_equal_bigram, \n",
    " y_train_three_equal_bigram, \n",
    " y_test_three_equal_bigram) = train_test_split(bigram_three_equal, \n",
    "                                                 y_three_equal, \n",
    "                                                 test_size=0.2, \n",
    "                                                 random_state=101)\n",
    "\n",
    "\n",
    "trigram_three_equal = trigram_vocab.transform(x_three_equal)\n",
    "(x_train_three_equal_trigram, \n",
    " x_test_three_equal_trigram, \n",
    " y_train_three_equal_trigram, \n",
    " y_test_three_equal_trigram) = train_test_split(trigram_three_equal, \n",
    "                                               y_three_equal, \n",
    "                                               test_size=0.2, \n",
    "                                               random_state=101)"
   ]
  },
  {
   "attachments": {},
   "cell_type": "markdown",
   "metadata": {},
   "source": [
    "#### b.iii.ii. 100,000 unequal reviews into 1-star (negative), 3-star (neutral), and 5-star (positive) classes:"
   ]
  },
  {
   "cell_type": "code",
   "execution_count": 31,
   "metadata": {},
   "outputs": [
    {
     "name": "stdout",
     "output_type": "stream",
     "text": [
      "\n",
      "Shape of the dataset: (66675, 2)\n"
     ]
    }
   ],
   "source": [
    "yelp_classify = yelp_sample_unequal.loc[:, ['stars', 'text']]\n",
    "data_classes = yelp_classify[(yelp_classify['stars']==1) | \n",
    "                           (yelp_classify['stars']==3) | \n",
    "                           (yelp_classify['stars']==5)]\n",
    "\n",
    "print()\n",
    "print(\"Shape of the dataset:\", data_classes.shape)\n",
    "\n",
    "x_three_unequal = data_classes['text']\n",
    "y_three_unequal = data_classes['stars']\n",
    "\n",
    "unigram_three_unequal = unigram_vocab.transform(x_three_unequal)\n",
    "(x_train_three_unequal_unigram, \n",
    " x_test_three_unequal_unigram, \n",
    " y_train_three_unequal_unigram, \n",
    " y_test_three_unequal_unigram) = train_test_split(unigram_three_unequal, \n",
    "                                                 y_three_unequal, \n",
    "                                                 test_size=0.2, \n",
    "                                                 random_state=101)\n",
    "\n",
    "bigram_three_unequal = bigram_vocab.transform(x_three_unequal)\n",
    "(x_train_three_unequal_bigram, \n",
    " x_test_three_unequal_bigram, \n",
    " y_train_three_unequal_bigram, \n",
    " y_test_three_unequal_bigram) = train_test_split(bigram_three_unequal, \n",
    "                                                 y_three_unequal, \n",
    "                                                 test_size=0.2, \n",
    "                                                 random_state=101)\n",
    "\n",
    "\n",
    "trigram_three_unequal = trigram_vocab.transform(x_three_unequal)\n",
    "(x_train_three_unequal_trigram, \n",
    " x_test_three_unequal_trigram, \n",
    " y_train_three_unequal_trigram, \n",
    " y_test_three_unequal_trigram) = train_test_split(trigram_three_unequal, \n",
    "                                                  y_three_unequal, \n",
    "                                                  test_size=0.2, \n",
    "                                                  random_state=101)"
   ]
  },
  {
   "attachments": {},
   "cell_type": "markdown",
   "metadata": {},
   "source": [
    "### 6. Vectorize reviews and split processed dataset into training and testing sets:"
   ]
  },
  {
   "attachments": {},
   "cell_type": "markdown",
   "metadata": {},
   "source": [
    "### 7. Modeling reviews with Multinomial Naive Bayes (since we're working with sparse data, we cannot rely on the Gaussian Naive Bayes assumptions)"
   ]
  },
  {
   "attachments": {},
   "cell_type": "markdown",
   "metadata": {},
   "source": [
    "#### b.i.i. 100,000 (1-star, 2-star, 3-star, 4-star, and 5-star) equal reviews:"
   ]
  },
  {
   "cell_type": "code",
   "execution_count": 32,
   "metadata": {},
   "outputs": [
    {
     "name": "stdout",
     "output_type": "stream",
     "text": [
      "\n",
      "Unigram Score: 51.09\n",
      "\n",
      "Unigram Classification Report:\n",
      "              precision    recall  f1-score   support\n",
      "\n",
      "         1.0       0.62      0.65      0.63      1626\n",
      "         2.0       0.44      0.44      0.44      1584\n",
      "         3.0       0.42      0.47      0.44      1650\n",
      "         4.0       0.45      0.49      0.47      1596\n",
      "         5.0       0.69      0.51      0.58      1532\n",
      "\n",
      "    accuracy                           0.51      7988\n",
      "   macro avg       0.52      0.51      0.51      7988\n",
      "weighted avg       0.52      0.51      0.51      7988\n",
      "\n",
      "\n",
      "Bigram Score: 49.07\n",
      "\n",
      "Bigram Classification Report:\n",
      "              precision    recall  f1-score   support\n",
      "\n",
      "         1.0       0.66      0.61      0.64      1626\n",
      "         2.0       0.43      0.48      0.45      1584\n",
      "         3.0       0.40      0.47      0.43      1650\n",
      "         4.0       0.41      0.42      0.42      1596\n",
      "         5.0       0.61      0.47      0.53      1532\n",
      "\n",
      "    accuracy                           0.49      7988\n",
      "   macro avg       0.50      0.49      0.49      7988\n",
      "weighted avg       0.50      0.49      0.49      7988\n",
      "\n",
      "\n",
      "Trigram Score: 33.84\n",
      "\n",
      "Trigram Classification Report:\n",
      "              precision    recall  f1-score   support\n",
      "\n",
      "         1.0       0.58      0.34      0.43      1626\n",
      "         2.0       0.38      0.22      0.28      1584\n",
      "         3.0       0.33      0.21      0.26      1650\n",
      "         4.0       0.31      0.29      0.30      1596\n",
      "         5.0       0.28      0.64      0.39      1532\n",
      "\n",
      "    accuracy                           0.34      7988\n",
      "   macro avg       0.38      0.34      0.33      7988\n",
      "weighted avg       0.38      0.34      0.33      7988\n",
      "\n"
     ]
    }
   ],
   "source": [
    "from sklearn.naive_bayes import MultinomialNB\n",
    "mnb_5 = MultinomialNB()\n",
    "mnb_5.fit(x_train_five_equal_unigram, y_train_five_equal_unigram)\n",
    "predmnb = mnb_5.predict(x_test_five_equal_unigram)\n",
    "\n",
    "print()\n",
    "print(\"Unigram Score:\", round(accuracy_score(y_test_five_equal_unigram, predmnb) * 100, 2))\n",
    "\n",
    "print()\n",
    "print(\"Unigram Classification Report:\")\n",
    "print(classification_report(y_test_five_equal_unigram, predmnb))\n",
    "\n",
    "mnb_5.fit(x_train_five_equal_bigram, y_train_five_equal_bigram)\n",
    "predmnb = mnb_5.predict(x_test_five_equal_bigram)\n",
    "\n",
    "print()\n",
    "print(\"Bigram Score:\", round(accuracy_score(y_test_five_equal_bigram, predmnb) * 100, 2))\n",
    "\n",
    "print()\n",
    "print(\"Bigram Classification Report:\")\n",
    "print(classification_report(y_test_five_equal_bigram, predmnb))\n",
    "\n",
    "mnb_5.fit(x_train_five_equal_trigram, y_train_five_equal_trigram)\n",
    "predmnb = mnb_5.predict(x_test_five_equal_trigram)\n",
    "\n",
    "print()\n",
    "print(\"Trigram Score:\", round(accuracy_score(y_test_five_equal_trigram, predmnb) * 100, 2))\n",
    "\n",
    "print()\n",
    "print(\"Trigram Classification Report:\")\n",
    "print(classification_report(y_test_five_equal_trigram, predmnb))"
   ]
  },
  {
   "attachments": {},
   "cell_type": "markdown",
   "metadata": {},
   "source": [
    "#### b.i.ii. 100,000 (1-star, 2-star, 3-star, 4-star, and 5-star) unequal reviews:"
   ]
  },
  {
   "cell_type": "code",
   "execution_count": 33,
   "metadata": {},
   "outputs": [
    {
     "name": "stdout",
     "output_type": "stream",
     "text": [
      "\n",
      "Unigram Score: 58.44\n",
      "\n",
      "Unigram Classification Report:\n",
      "              precision    recall  f1-score   support\n",
      "\n",
      "         1.0       0.58      0.69      0.63      2168\n",
      "         2.0       0.36      0.22      0.27      1566\n",
      "         3.0       0.38      0.26      0.31      2339\n",
      "         4.0       0.45      0.56      0.50      5026\n",
      "         5.0       0.76      0.74      0.75      8901\n",
      "\n",
      "    accuracy                           0.59     20000\n",
      "   macro avg       0.51      0.49      0.49     20000\n",
      "weighted avg       0.59      0.59      0.58     20000\n",
      "\n",
      "\n",
      "Bigram Score: 54.61\n",
      "\n",
      "Bigram Classification Report:\n",
      "              precision    recall  f1-score   support\n",
      "\n",
      "         1.0       0.64      0.67      0.66      2168\n",
      "         2.0       0.31      0.12      0.18      1566\n",
      "         3.0       0.32      0.16      0.21      2339\n",
      "         4.0       0.40      0.46      0.43      5026\n",
      "         5.0       0.69      0.79      0.74      8901\n",
      "\n",
      "    accuracy                           0.57     20000\n",
      "   macro avg       0.47      0.44      0.44     20000\n",
      "weighted avg       0.54      0.57      0.55     20000\n",
      "\n",
      "\n",
      "Trigram Score: 35.59\n",
      "\n",
      "Trigram Classification Report:\n",
      "              precision    recall  f1-score   support\n",
      "\n",
      "         1.0       0.39      0.38      0.38      2168\n",
      "         2.0       0.11      0.55      0.18      1566\n",
      "         3.0       0.19      0.27      0.22      2339\n",
      "         4.0       0.38      0.20      0.27      5026\n",
      "         5.0       0.74      0.34      0.47      8901\n",
      "\n",
      "    accuracy                           0.32     20000\n",
      "   macro avg       0.36      0.35      0.30     20000\n",
      "weighted avg       0.50      0.32      0.36     20000\n",
      "\n"
     ]
    }
   ],
   "source": [
    "mnb_5 = MultinomialNB()\n",
    "mnb_5.fit(x_train_five_unequal_unigram, y_train_five_unequal_unigram)\n",
    "predmnb = mnb_5.predict(x_test_five_unequal_unigram)\n",
    "\n",
    "print()\n",
    "print(\"Unigram Score:\", round(f1_score(y_test_five_unequal_unigram, predmnb, average='weighted') * 100, 2))\n",
    "\n",
    "print()\n",
    "print(\"Unigram Classification Report:\")\n",
    "print(classification_report(y_test_five_unequal_unigram, predmnb))\n",
    "\n",
    "mnb_5 = MultinomialNB()\n",
    "mnb_5.fit(x_train_five_unequal_bigram, y_train_five_unequal_bigram)\n",
    "predmnb = mnb_5.predict(x_test_five_unequal_bigram)\n",
    "\n",
    "print()\n",
    "print(\"Bigram Score:\", round(f1_score(y_test_five_unequal_bigram, predmnb, average='weighted') * 100, 2))\n",
    "\n",
    "print()\n",
    "print(\"Bigram Classification Report:\")\n",
    "print(classification_report(y_test_five_unequal_bigram, predmnb))\n",
    "\n",
    "mnb_5 = MultinomialNB()\n",
    "mnb_5.fit(x_train_five_unequal_trigram, y_train_five_unequal_trigram)\n",
    "predmnb = mnb_5.predict(x_test_five_unequal_trigram)\n",
    "\n",
    "print()\n",
    "print(\"Trigram Score:\", round(f1_score(y_test_five_unequal_trigram, predmnb, average='weighted') * 100, 2))\n",
    "\n",
    "print()\n",
    "print(\"Trigram Classification Report:\")\n",
    "print(classification_report(y_test_five_unequal_trigram, predmnb))"
   ]
  },
  {
   "attachments": {},
   "cell_type": "markdown",
   "metadata": {},
   "source": [
    "#### b.ii.i. Modeling 100,000 (1-star and 5-star) equal reviews:"
   ]
  },
  {
   "cell_type": "code",
   "execution_count": 103,
   "metadata": {},
   "outputs": [
    {
     "name": "stdout",
     "output_type": "stream",
     "text": [
      "\n",
      "Score: 94.9\n",
      "\n",
      "Classification Report:\n",
      "              precision    recall  f1-score   support\n",
      "\n",
      "         1.0       0.94      0.96      0.95      1604\n",
      "         5.0       0.95      0.94      0.95      1592\n",
      "\n",
      "    accuracy                           0.95      3196\n",
      "   macro avg       0.95      0.95      0.95      3196\n",
      "weighted avg       0.95      0.95      0.95      3196\n",
      "\n"
     ]
    }
   ],
   "source": [
    "mnb_hund_2 = MultinomialNB()\n",
    "mnb_hund_2.fit(x_train_hund_thou_two_equal, y_train_hund_thou_two_equal)\n",
    "predmnb = mnb_hund_2.predict(x_test_hund_thou_two_equal)\n",
    "\n",
    "print()\n",
    "print(\"Score:\", round(accuracy_score(y_test_hund_thou_two_equal, predmnb) * 100, 2))\n",
    "\n",
    "print()\n",
    "print(\"Classification Report:\")\n",
    "print(classification_report(y_test_hund_thou_two_equal, predmnb))"
   ]
  },
  {
   "attachments": {},
   "cell_type": "markdown",
   "metadata": {},
   "source": [
    "#### b.ii.ii. 100,000 (1-star and 5-star) unequal reviews:"
   ]
  },
  {
   "cell_type": "code",
   "execution_count": 104,
   "metadata": {},
   "outputs": [
    {
     "name": "stdout",
     "output_type": "stream",
     "text": [
      "\n",
      "Score: 95.02\n",
      "\n",
      "Classification Report:\n",
      "              precision    recall  f1-score   support\n",
      "\n",
      "         1.0       0.86      0.89      0.88      2207\n",
      "         5.0       0.97      0.96      0.97      8856\n",
      "\n",
      "    accuracy                           0.95     11063\n",
      "   macro avg       0.92      0.93      0.92     11063\n",
      "weighted avg       0.95      0.95      0.95     11063\n",
      "\n"
     ]
    }
   ],
   "source": [
    "mnb_hund_2 = MultinomialNB()\n",
    "mnb_hund_2.fit(x_train_hund_thou_two_unequal, y_train_hund_thou_two_unequal)\n",
    "predmnb = mnb_hund_2.predict(x_test_hund_thou_two_unequal)\n",
    "\n",
    "print()\n",
    "print(\"Score:\", round(f1_score(y_test_hund_thou_two_unequal, predmnb, average='weighted') * 100, 2))\n",
    "\n",
    "print()\n",
    "print(\"Classification Report:\")\n",
    "print(classification_report(y_test_hund_thou_two_unequal, predmnb))"
   ]
  },
  {
   "attachments": {},
   "cell_type": "markdown",
   "metadata": {},
   "source": [
    "#### b.iii.i. 100,000 (1-star, 3-star, and 5-star) equal reviews:"
   ]
  },
  {
   "cell_type": "code",
   "execution_count": 105,
   "metadata": {},
   "outputs": [
    {
     "name": "stdout",
     "output_type": "stream",
     "text": [
      "\n",
      "Score: 78.24\n",
      "\n",
      "Classification Report:\n",
      "              precision    recall  f1-score   support\n",
      "\n",
      "         1.0       0.83      0.80      0.81      1640\n",
      "         3.0       0.68      0.78      0.73      1604\n",
      "         5.0       0.87      0.77      0.81      1549\n",
      "\n",
      "    accuracy                           0.78      4793\n",
      "   macro avg       0.79      0.78      0.78      4793\n",
      "weighted avg       0.79      0.78      0.78      4793\n",
      "\n"
     ]
    }
   ],
   "source": [
    "mnb_hund_3 = MultinomialNB()\n",
    "mnb_hund_3.fit(x_train_hund_thou_three_equal, y_train_hund_thou_three_equal)\n",
    "predmnb = mnb_hund_3.predict(x_test_hund_thou_three_equal)\n",
    "\n",
    "print()\n",
    "print(\"Score:\", round(accuracy_score(y_test_hund_thou_three_equal, predmnb) * 100, 2))\n",
    "\n",
    "print()\n",
    "print(\"Classification Report:\")\n",
    "print(classification_report(y_test_hund_thou_three_equal, predmnb))"
   ]
  },
  {
   "attachments": {},
   "cell_type": "markdown",
   "metadata": {},
   "source": [
    "#### b.iii.ii. 100,000 (1-star, 3-star, and 5-star) unequal reviews:"
   ]
  },
  {
   "cell_type": "code",
   "execution_count": 106,
   "metadata": {},
   "outputs": [
    {
     "name": "stdout",
     "output_type": "stream",
     "text": [
      "\n",
      "Score: 85.12\n",
      "\n",
      "Classification Report:\n",
      "              precision    recall  f1-score   support\n",
      "\n",
      "         1.0       0.77      0.78      0.77      2231\n",
      "         3.0       0.66      0.62      0.64      2272\n",
      "         5.0       0.92      0.93      0.92      8832\n",
      "\n",
      "    accuracy                           0.85     13335\n",
      "   macro avg       0.78      0.78      0.78     13335\n",
      "weighted avg       0.85      0.85      0.85     13335\n",
      "\n"
     ]
    }
   ],
   "source": [
    "mnb_hund_3 = MultinomialNB()\n",
    "mnb_hund_3.fit(x_train_hund_thou_three_unequal, y_train_hund_thou_three_unequal)\n",
    "predmnb = mnb_hund_3.predict(x_test_hund_thou_three_unequal)\n",
    "\n",
    "print()\n",
    "print(\"Score:\", round(f1_score(y_test_hund_thou_three_unequal, predmnb, average='weighted') * 100, 2))\n",
    "\n",
    "print()\n",
    "print(\"Classification Report:\")\n",
    "print(classification_report(y_test_hund_thou_three_unequal, predmnb))"
   ]
  },
  {
   "attachments": {},
   "cell_type": "markdown",
   "metadata": {},
   "source": [
    "### 9. Modeling reviews with Random Forest Classifier:"
   ]
  },
  {
   "attachments": {},
   "cell_type": "markdown",
   "metadata": {},
   "source": [
    "#### b.i.i. 100,000 (1-star, 2-star, 3-star, 4-star, and 5-star) equal reviews:"
   ]
  },
  {
   "cell_type": "code",
   "execution_count": 120,
   "metadata": {},
   "outputs": [
    {
     "name": "stdout",
     "output_type": "stream",
     "text": [
      "\n",
      "Score: 49.41\n",
      "\n",
      "Classification Report:\n",
      "              precision    recall  f1-score   support\n",
      "\n",
      "         1.0       0.54      0.79      0.64      1626\n",
      "         2.0       0.42      0.31      0.36      1584\n",
      "         3.0       0.45      0.36      0.40      1650\n",
      "         4.0       0.44      0.31      0.37      1596\n",
      "         5.0       0.54      0.70      0.61      1532\n",
      "\n",
      "    accuracy                           0.49      7988\n",
      "   macro avg       0.48      0.50      0.48      7988\n",
      "weighted avg       0.48      0.49      0.47      7988\n",
      "\n"
     ]
    }
   ],
   "source": [
    "from sklearn.ensemble import RandomForestClassifier\n",
    "rmfr_hund_5 = RandomForestClassifier()\n",
    "rmfr_hund_5.fit(x_train_hund_thou_five_equal, y_train_hund_thou_five_equal)\n",
    "predrmfr = rmfr_hund_5.predict(x_test_hund_thou_five_equal)\n",
    "\n",
    "print()\n",
    "print(\"Score:\", round(accuracy_score(y_test_hund_thou_five_equal, predrmfr) * 100, 2))\n",
    "\n",
    "print()\n",
    "print(\"Classification Report:\")\n",
    "print(classification_report(y_test_hund_thou_five_equal, predrmfr))"
   ]
  },
  {
   "attachments": {},
   "cell_type": "markdown",
   "metadata": {},
   "source": [
    "#### b.i.ii. 100,000 (1-star, 2-star, 3-star, 4-star, and 5-star) unequal reviews:"
   ]
  },
  {
   "cell_type": "code",
   "execution_count": 121,
   "metadata": {},
   "outputs": [
    {
     "name": "stdout",
     "output_type": "stream",
     "text": [
      "\n",
      "Score: 46.84\n",
      "\n",
      "Classification Report:\n",
      "              precision    recall  f1-score   support\n",
      "\n",
      "         1.0       0.69      0.57      0.63      2168\n",
      "         2.0       0.39      0.02      0.04      1566\n",
      "         3.0       0.47      0.06      0.10      2339\n",
      "         4.0       0.40      0.22      0.28      5026\n",
      "         5.0       0.56      0.95      0.71      8901\n",
      "\n",
      "    accuracy                           0.55     20000\n",
      "   macro avg       0.50      0.36      0.35     20000\n",
      "weighted avg       0.51      0.55      0.47     20000\n",
      "\n"
     ]
    }
   ],
   "source": [
    "rmfr_hund_5 = RandomForestClassifier()\n",
    "rmfr_hund_5.fit(x_train_hund_thou_five_unequal, y_train_hund_thou_five_unequal)\n",
    "predrmfr = rmfr_hund_5.predict(x_test_hund_thou_five_unequal)\n",
    "\n",
    "print()\n",
    "print(\"Score:\", round(f1_score(y_test_hund_thou_five_unequal, predrmfr, average='weighted') * 100, 2))\n",
    "\n",
    "print()\n",
    "print(\"Classification Report:\")\n",
    "print(classification_report(y_test_hund_thou_five_unequal, predrmfr))"
   ]
  },
  {
   "attachments": {},
   "cell_type": "markdown",
   "metadata": {},
   "source": [
    "#### b.ii.i. 100,000 (1-star and 5-star) equal reviews:"
   ]
  },
  {
   "cell_type": "code",
   "execution_count": 122,
   "metadata": {},
   "outputs": [
    {
     "name": "stdout",
     "output_type": "stream",
     "text": [
      "\n",
      "Score: 93.43\n",
      "\n",
      "Classification Report:\n",
      "              precision    recall  f1-score   support\n",
      "\n",
      "         1.0       0.91      0.96      0.94      1604\n",
      "         5.0       0.96      0.91      0.93      1592\n",
      "\n",
      "    accuracy                           0.93      3196\n",
      "   macro avg       0.94      0.93      0.93      3196\n",
      "weighted avg       0.94      0.93      0.93      3196\n",
      "\n"
     ]
    }
   ],
   "source": [
    "rmfr_hund_2 = RandomForestClassifier()\n",
    "rmfr_hund_2.fit(x_train_hund_thou_two_equal, y_train_hund_thou_two_equal)\n",
    "predrmfr = rmfr_hund_2.predict(x_test_hund_thou_two_equal)\n",
    "\n",
    "print()\n",
    "print(\"Score:\", round(accuracy_score(y_test_hund_thou_two_equal, predrmfr) * 100, 2))\n",
    "\n",
    "print()\n",
    "print(\"Classification Report:\")\n",
    "print(classification_report(y_test_hund_thou_two_equal, predrmfr))"
   ]
  },
  {
   "attachments": {},
   "cell_type": "markdown",
   "metadata": {},
   "source": [
    "#### b.ii.ii. 100,000 (1-star and 5-star) unequal reviews:"
   ]
  },
  {
   "cell_type": "code",
   "execution_count": 123,
   "metadata": {},
   "outputs": [
    {
     "name": "stdout",
     "output_type": "stream",
     "text": [
      "\n",
      "Score: 92.28\n",
      "\n",
      "Classification Report:\n",
      "              precision    recall  f1-score   support\n",
      "\n",
      "         1.0       0.97      0.66      0.79      2207\n",
      "         5.0       0.92      1.00      0.96      8856\n",
      "\n",
      "    accuracy                           0.93     11063\n",
      "   macro avg       0.95      0.83      0.87     11063\n",
      "weighted avg       0.93      0.93      0.92     11063\n",
      "\n"
     ]
    }
   ],
   "source": [
    "rmfr_hund_2 = RandomForestClassifier()\n",
    "rmfr_hund_2.fit(x_train_hund_thou_two_unequal, y_train_hund_thou_two_unequal)\n",
    "predrmfr = rmfr_hund_2.predict(x_test_hund_thou_two_unequal)\n",
    "\n",
    "print()\n",
    "print(\"Score:\", round(f1_score(y_test_hund_thou_two_unequal, predrmfr, average='weighted') * 100, 2))\n",
    "\n",
    "print()\n",
    "print(\"Classification Report:\")\n",
    "print(classification_report(y_test_hund_thou_two_unequal, predrmfr))"
   ]
  },
  {
   "attachments": {},
   "cell_type": "markdown",
   "metadata": {},
   "source": [
    "#### b.iii.i. 100,000 (1-star, 3-star, and 5-star) equal reviews:"
   ]
  },
  {
   "cell_type": "code",
   "execution_count": 124,
   "metadata": {},
   "outputs": [
    {
     "name": "stdout",
     "output_type": "stream",
     "text": [
      "\n",
      "Score: 77.88\n",
      "\n",
      "Classification Report:\n",
      "              precision    recall  f1-score   support\n",
      "\n",
      "         1.0       0.79      0.85      0.82      1640\n",
      "         3.0       0.75      0.67      0.70      1604\n",
      "         5.0       0.79      0.82      0.80      1549\n",
      "\n",
      "    accuracy                           0.78      4793\n",
      "   macro avg       0.78      0.78      0.78      4793\n",
      "weighted avg       0.78      0.78      0.78      4793\n",
      "\n"
     ]
    }
   ],
   "source": [
    "rmfr_hund_3 = RandomForestClassifier()\n",
    "rmfr_hund_3.fit(x_train_hund_thou_three_equal, y_train_hund_thou_three_equal)\n",
    "predrmfr = rmfr_hund_3.predict(x_test_hund_thou_three_equal)\n",
    "\n",
    "print()\n",
    "print(\"Score:\", round(accuracy_score(y_test_hund_thou_three_equal, predrmfr) * 100, 2))\n",
    "\n",
    "print()\n",
    "print(\"Classification Report:\")\n",
    "print(classification_report(y_test_hund_thou_three_equal, predrmfr))"
   ]
  },
  {
   "attachments": {},
   "cell_type": "markdown",
   "metadata": {},
   "source": [
    "#### b.iii.ii. 100,000 (1-star, 3-star, and 5-star) unequal reviews:"
   ]
  },
  {
   "cell_type": "code",
   "execution_count": 125,
   "metadata": {},
   "outputs": [
    {
     "name": "stdout",
     "output_type": "stream",
     "text": [
      "\n",
      "Score: 74.76\n",
      "\n",
      "Classification Report:\n",
      "              precision    recall  f1-score   support\n",
      "\n",
      "         1.0       0.89      0.59      0.71      2231\n",
      "         3.0       0.83      0.19      0.31      2272\n",
      "         5.0       0.77      1.00      0.87      8832\n",
      "\n",
      "    accuracy                           0.79     13335\n",
      "   macro avg       0.83      0.59      0.63     13335\n",
      "weighted avg       0.80      0.79      0.75     13335\n",
      "\n"
     ]
    }
   ],
   "source": [
    "rmfr_hund_3 = RandomForestClassifier()\n",
    "rmfr_hund_3.fit(x_train_hund_thou_three_unequal, y_train_hund_thou_three_unequal)\n",
    "predrmfr = rmfr_hund_3.predict(x_test_hund_thou_three_unequal)\n",
    "\n",
    "print()\n",
    "print(\"Score:\", round(f1_score(y_test_hund_thou_three_unequal, predrmfr, average='weighted') * 100, 2))\n",
    "\n",
    "print()\n",
    "print(\"Classification Report:\")\n",
    "print(classification_report(y_test_hund_thou_three_unequal, predrmfr))"
   ]
  },
  {
   "attachments": {},
   "cell_type": "markdown",
   "metadata": {},
   "source": [
    "### 10. Modeling reviews with the Decision Tree Classifier:"
   ]
  },
  {
   "attachments": {},
   "cell_type": "markdown",
   "metadata": {},
   "source": [
    "#### b.i.i. 100,000 (1-star, 2-star, 3-star, 4-star, and 5-star) equal reviews:"
   ]
  },
  {
   "cell_type": "code",
   "execution_count": 139,
   "metadata": {},
   "outputs": [
    {
     "name": "stdout",
     "output_type": "stream",
     "text": [
      "\n",
      "Score: 37.52\n",
      "\n",
      "Classification Report:\n",
      "              precision    recall  f1-score   support\n",
      "\n",
      "         1.0       0.49      0.50      0.50      1626\n",
      "         2.0       0.30      0.29      0.29      1584\n",
      "         3.0       0.32      0.30      0.31      1650\n",
      "         4.0       0.32      0.31      0.31      1596\n",
      "         5.0       0.43      0.48      0.45      1532\n",
      "\n",
      "    accuracy                           0.38      7988\n",
      "   macro avg       0.37      0.38      0.37      7988\n",
      "weighted avg       0.37      0.38      0.37      7988\n",
      "\n"
     ]
    }
   ],
   "source": [
    "from sklearn.tree import DecisionTreeClassifier\n",
    "dt_hund_5 = DecisionTreeClassifier()\n",
    "dt_hund_5.fit(x_train_hund_thou_five_equal, y_train_hund_thou_five_equal)\n",
    "preddt = dt_hund_5.predict(x_test_hund_thou_five_equal)\n",
    "\n",
    "print()\n",
    "print(\"Score:\", round(accuracy_score(y_test_hund_thou_five_equal, preddt) * 100, 2))\n",
    "\n",
    "print()\n",
    "print(\"Classification Report:\")\n",
    "print(classification_report(y_test_hund_thou_five_equal, preddt))"
   ]
  },
  {
   "attachments": {},
   "cell_type": "markdown",
   "metadata": {},
   "source": [
    "#### b.i.ii. 100,000 (1-star, 2-star, 3-star, 4-star, and 5-star) unequal reviews:"
   ]
  },
  {
   "cell_type": "code",
   "execution_count": 140,
   "metadata": {},
   "outputs": [
    {
     "name": "stdout",
     "output_type": "stream",
     "text": [
      "\n",
      "Score: 46.37\n",
      "\n",
      "Classification Report:\n",
      "              precision    recall  f1-score   support\n",
      "\n",
      "         1.0       0.49      0.50      0.50      2168\n",
      "         2.0       0.21      0.18      0.19      1566\n",
      "         3.0       0.24      0.20      0.22      2339\n",
      "         4.0       0.34      0.33      0.33      5026\n",
      "         5.0       0.62      0.66      0.64      8901\n",
      "\n",
      "    accuracy                           0.47     20000\n",
      "   macro avg       0.38      0.37      0.38     20000\n",
      "weighted avg       0.46      0.47      0.46     20000\n",
      "\n"
     ]
    }
   ],
   "source": [
    "dt_hund_5 = DecisionTreeClassifier()\n",
    "dt_hund_5.fit(x_train_hund_thou_five_unequal, y_train_hund_thou_five_unequal)\n",
    "preddt = dt_hund_5.predict(x_test_hund_thou_five_unequal)\n",
    "\n",
    "print()\n",
    "print(\"Score:\", round(f1_score(y_test_hund_thou_five_unequal, preddt, average='weighted') * 100, 2))\n",
    "\n",
    "print()\n",
    "print(\"Classification Report:\")\n",
    "print(classification_report(y_test_hund_thou_five_unequal, preddt))"
   ]
  },
  {
   "attachments": {},
   "cell_type": "markdown",
   "metadata": {},
   "source": [
    "#### b.ii.i. 100,000 (1-star and 5-star) equal reviews:"
   ]
  },
  {
   "cell_type": "code",
   "execution_count": 141,
   "metadata": {},
   "outputs": [
    {
     "name": "stdout",
     "output_type": "stream",
     "text": [
      "\n",
      "Score: 85.67\n",
      "\n",
      "Classification Report:\n",
      "              precision    recall  f1-score   support\n",
      "\n",
      "         1.0       0.86      0.86      0.86      1604\n",
      "         5.0       0.85      0.86      0.86      1592\n",
      "\n",
      "    accuracy                           0.86      3196\n",
      "   macro avg       0.86      0.86      0.86      3196\n",
      "weighted avg       0.86      0.86      0.86      3196\n",
      "\n"
     ]
    }
   ],
   "source": [
    "dt_hund_2 = DecisionTreeClassifier()\n",
    "dt_hund_2.fit(x_train_hund_thou_two_equal, y_train_hund_thou_two_equal)\n",
    "preddt = dt_hund_2.predict(x_test_hund_thou_two_equal)\n",
    "\n",
    "print()\n",
    "print(\"Score:\", round(accuracy_score(y_test_hund_thou_two_equal, preddt) * 100, 2))\n",
    "\n",
    "print()\n",
    "print(\"Classification Report:\")\n",
    "print(classification_report(y_test_hund_thou_two_equal, preddt))"
   ]
  },
  {
   "attachments": {},
   "cell_type": "markdown",
   "metadata": {},
   "source": [
    "#### b.ii.ii. 100,000 (1-star and 5-star) unequal reviews:"
   ]
  },
  {
   "cell_type": "code",
   "execution_count": 142,
   "metadata": {},
   "outputs": [
    {
     "name": "stdout",
     "output_type": "stream",
     "text": [
      "\n",
      "Score: 89.38\n",
      "\n",
      "Classification Report:\n",
      "              precision    recall  f1-score   support\n",
      "\n",
      "         1.0       0.75      0.71      0.73      2207\n",
      "         5.0       0.93      0.94      0.93      8856\n",
      "\n",
      "    accuracy                           0.89     11063\n",
      "   macro avg       0.84      0.83      0.83     11063\n",
      "weighted avg       0.89      0.89      0.89     11063\n",
      "\n"
     ]
    }
   ],
   "source": [
    "dt_hund_2 = DecisionTreeClassifier()\n",
    "dt_hund_2.fit(x_train_hund_thou_two_unequal, y_train_hund_thou_two_unequal)\n",
    "preddt = dt_hund_2.predict(x_test_hund_thou_two_unequal)\n",
    "\n",
    "print()\n",
    "print(\"Score:\", round(f1_score(y_test_hund_thou_two_unequal, preddt, average='weighted') * 100, 2))\n",
    "\n",
    "print()\n",
    "print(\"Classification Report:\")\n",
    "print(classification_report(y_test_hund_thou_two_unequal, preddt))"
   ]
  },
  {
   "attachments": {},
   "cell_type": "markdown",
   "metadata": {},
   "source": [
    "#### b.iii.i. 100,000 (1-star, 3-star, and 5-star) equal reviews:"
   ]
  },
  {
   "cell_type": "code",
   "execution_count": 143,
   "metadata": {},
   "outputs": [
    {
     "name": "stdout",
     "output_type": "stream",
     "text": [
      "\n",
      "Score: 64.3\n",
      "\n",
      "Classification Report:\n",
      "              precision    recall  f1-score   support\n",
      "\n",
      "         1.0       0.71      0.68      0.69      1640\n",
      "         3.0       0.57      0.56      0.56      1604\n",
      "         5.0       0.65      0.70      0.67      1549\n",
      "\n",
      "    accuracy                           0.64      4793\n",
      "   macro avg       0.64      0.64      0.64      4793\n",
      "weighted avg       0.64      0.64      0.64      4793\n",
      "\n"
     ]
    }
   ],
   "source": [
    "dt_hund_3 = DecisionTreeClassifier()\n",
    "dt_hund_3.fit(x_train_hund_thou_three_equal, y_train_hund_thou_three_equal)\n",
    "preddt = dt_hund_3.predict(x_test_hund_thou_three_equal)\n",
    "\n",
    "print()\n",
    "print(\"Score:\", round(accuracy_score(y_test_hund_thou_three_equal, preddt) * 100, 2))\n",
    "\n",
    "print()\n",
    "print(\"Classification Report:\")\n",
    "print(classification_report(y_test_hund_thou_three_equal, preddt))"
   ]
  },
  {
   "attachments": {},
   "cell_type": "markdown",
   "metadata": {},
   "source": [
    "#### b.iii.ii. 100,000 (1-star, 3-star, and 5-star) unequal reviews:"
   ]
  },
  {
   "cell_type": "code",
   "execution_count": 144,
   "metadata": {},
   "outputs": [
    {
     "name": "stdout",
     "output_type": "stream",
     "text": [
      "\n",
      "Score: 73.76\n",
      "\n",
      "Classification Report:\n",
      "              precision    recall  f1-score   support\n",
      "\n",
      "         1.0       0.63      0.59      0.61      2231\n",
      "         3.0       0.45      0.40      0.43      2272\n",
      "         5.0       0.83      0.87      0.85      8832\n",
      "\n",
      "    accuracy                           0.74     13335\n",
      "   macro avg       0.64      0.62      0.63     13335\n",
      "weighted avg       0.73      0.74      0.74     13335\n",
      "\n"
     ]
    }
   ],
   "source": [
    "dt_hund_3 = DecisionTreeClassifier()\n",
    "dt_hund_3.fit(x_train_hund_thou_three_unequal, y_train_hund_thou_three_unequal)\n",
    "preddt = dt_hund_3.predict(x_test_hund_thou_three_unequal)\n",
    "\n",
    "print()\n",
    "print(\"Score:\", round(f1_score(y_test_hund_thou_three_unequal, preddt, average='weighted') * 100, 2))\n",
    "\n",
    "print()\n",
    "print(\"Classification Report:\")\n",
    "print(classification_report(y_test_hund_thou_three_unequal, preddt))"
   ]
  },
  {
   "attachments": {},
   "cell_type": "markdown",
   "metadata": {},
   "source": [
    "From the above models, we can compare the accuracy scores:\n",
    "* Multinomial Naive Bayes:\n",
    "  * Equal \n",
    "\n",
    "|           | 1-5 star | 1 & 5 star | 1, 3, 5 star |\n",
    "|-----------|----------|------------|--------------|\n",
    "| 10,000    | <span style='background:lightcoral'> 47.05  </span>| <span style='background:lightgreen'> 90.52  </span>   | <span style='background:lightgoldenrodyellow'> 74.67 </span> |\n",
    "| 100,000   | <span style='background:lightcoral'> 52.77 </span> | <span style='background:lightgreen'> **94.9** </span> | <span style='background:lightgoldenrodyellow'> 78.24 </span> |\n",
    "| 1,000,000 | <span style='background:lightgoldenrodyellow'> 78.24 </span>     | <span style='background:lightgreen'> 93.54 </span>    | <span style='background:lightgoldenrodyellow'> 79.66 </span> |\n",
    "\n",
    "\n",
    "* Random Forest Classifier:\n",
    "  * Equal \n",
    "\n",
    "|           | 1-5 star | 1 & 5 star | 1, 3, 5 star |\n",
    "|-----------|----------|------------|--------------|\n",
    "| 10,000    | <span style='background:lightcoral'> 41.81 </span> | <span style='background:lightgreen'> 91.18 </span>     | <span style='background:lightgoldenrodyellow'> 70.09 </span> |\n",
    "| 100,000   | <span style='background:lightcoral'> 49.67 </span> | <span style='background:lightgreen'> 93.71 </span>     | <span style='background:lightgoldenrodyellow'> 76.84 </span> |\n",
    "| 1,000,000 | <span style='background:lightgoldenrodyellow'> 77.93 </span>     | <span style='background:lightgreen'> **94.64** </span> | <span style='background:lightgoldenrodyellow'> 79.98 </span> |\n",
    "\n",
    "* Decision Tree Classifier:\n",
    "  * Equal\n",
    "\n",
    "|           | 1-5 star | 1 & 5 star | 1, 3, 5 star |\n",
    "|-----------|----------|------------|--------------|\n",
    "| 10,000    | <span style='background:lightcoral'> 30.14 </span> | <span style='background:lightgoldenrodyellow'> 77.45 </span>         | <span style='background:lightcoral'> 52.62 </span> |\n",
    "| 100,000   | <span style='background:lightcoral'> 37.56 </span> | <span style='background:lightgreen'> 85.67 </span>     | <span style='background:lightgoldenrodyellow'> 63.78 </span>     |\n",
    "| 1,000,000 | <span style='background:lightgoldenrodyellow'> 63.45 </span>     | <span style='background:lightgreen'> **88.18** </span> | <span style='background:lightgoldenrodyellow'> 67.77 </span>     |\n",
    "\n",
    "Since the Multinomial Naive Bayes makes the most accurate prediction, let's use it to predict a sample positive, a sample neutral, and a sample negative review:"
   ]
  },
  {
   "attachments": {},
   "cell_type": "markdown",
   "metadata": {},
   "source": [
    "### 11. Classify a positive review:"
   ]
  },
  {
   "cell_type": "code",
   "execution_count": null,
   "metadata": {},
   "outputs": [
    {
     "name": "stdout",
     "output_type": "stream",
     "text": [
      "\n",
      "Sample positive review:\n",
      "I've taken a lot of spin classes over the years, and nothing compares to the classes at Body Cycle. From the nice, clean space and amazing bikes, to the welcoming and motivating instructors, every class is a top notch work out.\n",
      "\n",
      "For anyone who struggles to fit workouts in, the online scheduling system makes it easy to plan ahead (and there's no need to line up way in advanced like many gyms make you do).\n",
      "\n",
      "There is no way I can write this review without giving Russell, the owner of Body Cycle, a shout out. Russell's passion for fitness and cycling is so evident, as is his desire for all of his clients to succeed. He is always dropping in to classes to check in/provide encouragement, and is open to ideas and recommendations from anyone. Russell always wears a smile on his face, even when he's kicking your butt in class!\n",
      "\n",
      "Actual Rating:  5.0\n",
      "Predicted Rating: 5.0\n"
     ]
    }
   ],
   "source": [
    "pos_rev = yelp_sample_equal_hund_thou['text'][5][1]\n",
    "pos_rev_trans = vocab_hund_thou_two.transform([pos_rev])\n",
    "\n",
    "print()\n",
    "print(\"Sample positive review:\")\n",
    "print(pos_rev)\n",
    "\n",
    "print()\n",
    "print(\"Actual Rating: \", yelp_sample_equal_hund_thou['stars'][5][1])\n",
    "print(\"Predicted Rating:\", mnb_hund_2.predict(pos_rev_trans)[0])\n"
   ]
  },
  {
   "attachments": {},
   "cell_type": "markdown",
   "metadata": {},
   "source": [
    "### 12. Classify a negative review:"
   ]
  },
  {
   "cell_type": "code",
   "execution_count": null,
   "metadata": {},
   "outputs": [
    {
     "name": "stdout",
     "output_type": "stream",
     "text": [
      "\n",
      "Sample negative review:\n",
      "I am a long term frequent customer of this establishment. I just went in to order take out (3 apps) and was told they're too busy to do it. Really? The place is maybe half full at best. Does your dick reach your ass? Yes? Go fuck yourself! I'm a frequent customer AND great tipper. Glad that Kanella just opened. NEVER going back to dmitris!\n",
      "\n",
      "Actual Rating:  1.0\n",
      "Predicted Rating: 1.0\n"
     ]
    }
   ],
   "source": [
    "neg_rev = yelp_sample_equal_hund_thou['text'][1][5]\n",
    "neg_rev_trans = vocab_hund_thou_two.transform([neg_rev])\n",
    "\n",
    "print()\n",
    "print(\"Sample negative review:\")\n",
    "print(neg_rev)\n",
    "\n",
    "print()\n",
    "print(\"Actual Rating: \", yelp_sample_equal_hund_thou['stars'][1][5])\n",
    "print(\"Predicted Rating:\", mnb_hund_2.predict(neg_rev_trans)[0])\n"
   ]
  }
 ],
 "metadata": {
  "kernelspec": {
   "display_name": "Python 3",
   "language": "python",
   "name": "python3"
  },
  "language_info": {
   "codemirror_mode": {
    "name": "ipython",
    "version": 3
   },
   "file_extension": ".py",
   "mimetype": "text/x-python",
   "name": "python",
   "nbconvert_exporter": "python",
   "pygments_lexer": "ipython3",
   "version": "3.11.3"
  },
  "orig_nbformat": 4
 },
 "nbformat": 4,
 "nbformat_minor": 2
}
