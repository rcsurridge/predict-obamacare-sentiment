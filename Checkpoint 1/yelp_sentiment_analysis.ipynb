{
 "cells": [
  {
   "attachments": {},
   "cell_type": "markdown",
   "metadata": {},
   "source": [
    "# A Sentiment Analysis of Yelp Reviews\n",
    "## Author: Robert Surridge"
   ]
  },
  {
   "attachments": {},
   "cell_type": "markdown",
   "metadata": {},
   "source": [
    "### 1. Import necessary packages:"
   ]
  },
  {
   "cell_type": "code",
   "execution_count": 35,
   "metadata": {},
   "outputs": [
    {
     "name": "stderr",
     "output_type": "stream",
     "text": [
      "[nltk_data] Downloading package stopwords to\n",
      "[nltk_data]     /Users/rsurridge/nltk_data...\n",
      "[nltk_data]   Package stopwords is already up-to-date!\n"
     ]
    }
   ],
   "source": [
    "import pandas as pd\n",
    "import json\n",
    "import matplotlib.pyplot as plt\n",
    "import seaborn as sns\n",
    "import nltk\n",
    "nltk.download('stopwords')\n",
    "from nltk.corpus import stopwords\n",
    "import string\n",
    "from sklearn.feature_extraction.text import CountVectorizer\n",
    "from sklearn.model_selection import train_test_split\n",
    "from sklearn.metrics import classification_report, confusion_matrix, accuracy_score\n",
    "%matplotlib inline"
   ]
  },
  {
   "attachments": {},
   "cell_type": "markdown",
   "metadata": {},
   "source": [
    "### 2a. Load the dataset with a sample of 10,000 Yelp reviews, explore the metadata, and add a column \"length\" that contains the number of words per review:"
   ]
  },
  {
   "cell_type": "code",
   "execution_count": 36,
   "metadata": {},
   "outputs": [
    {
     "name": "stdout",
     "output_type": "stream",
     "text": [
      "\n",
      "Shape of the dataset: (10000, 10)\n",
      "\n",
      "Column names: Index(['review_id', 'user_id', 'business_id', 'stars', 'useful', 'funny',\n",
      "       'cool', 'text', 'date', 'length'],\n",
      "      dtype='object')\n",
      "\n",
      "Datatype of each column:\n",
      "review_id              object\n",
      "user_id                object\n",
      "business_id            object\n",
      "stars                 float64\n",
      "useful                  int64\n",
      "funny                   int64\n",
      "cool                    int64\n",
      "text                   object\n",
      "date           datetime64[ns]\n",
      "length                  int64\n",
      "dtype: object\n",
      "\n",
      "A few dataset entries:\n",
      "                review_id                 user_id             business_id   \n",
      "0  KU_O5udG6zpxOg-VcAEodg  mh_-eMZ6K5RLWhZyISBhwA  XQfwVwDr-v0ZS3_CbbE5Xw  \\\n",
      "1  BiTunyQ73aT9WBnpR9DZGw  OyoGAe7OKpv6SyGZT5g77Q  7ATYjTIgM3jUlt4UM3IypQ   \n",
      "2  saUsX_uimxRlCVr67Z4Jig  8g_iMtfSiwikVnbP2etR0A  YjUWPpI6HXG530lwP-fb2A   \n",
      "3  AqPFMleE6RsU23_auESxiA  _7bHUi9Uuf5__HHc_Q8guQ  kxX2SOes4o-D3ZQBkiMRfA   \n",
      "4  Sx8TMOWLNuJBWer-0pcmoA  bcjbaE6dDog4jkNY91ncLQ  e4Vwtrqf-wpJfwesgvdgxQ   \n",
      "\n",
      "   stars  useful  funny  cool   \n",
      "0    3.0       0      0     0  \\\n",
      "1    5.0       1      0     1   \n",
      "2    3.0       0      0     0   \n",
      "3    5.0       1      0     1   \n",
      "4    4.0       1      0     1   \n",
      "\n",
      "                                                text                date   \n",
      "0  If you decide to eat here, just be aware it is... 2018-07-07 22:09:11  \\\n",
      "1  I've taken a lot of spin classes over the year... 2012-01-03 15:28:18   \n",
      "2  Family diner. Had the buffet. Eclectic assortm... 2014-02-05 20:30:30   \n",
      "3  Wow!  Yummy, different,  delicious.   Our favo... 2015-01-04 00:01:03   \n",
      "4  Cute interior and owner (?) gave us tour of up... 2017-01-14 20:54:15   \n",
      "\n",
      "   length  \n",
      "0     513  \n",
      "1     829  \n",
      "2     339  \n",
      "3     243  \n",
      "4     534  \n",
      "\n",
      "Dataset Summary:\n"
     ]
    },
    {
     "data": {
      "text/html": [
       "<div>\n",
       "<style scoped>\n",
       "    .dataframe tbody tr th:only-of-type {\n",
       "        vertical-align: middle;\n",
       "    }\n",
       "\n",
       "    .dataframe tbody tr th {\n",
       "        vertical-align: top;\n",
       "    }\n",
       "\n",
       "    .dataframe thead th {\n",
       "        text-align: right;\n",
       "    }\n",
       "</style>\n",
       "<table border=\"1\" class=\"dataframe\">\n",
       "  <thead>\n",
       "    <tr style=\"text-align: right;\">\n",
       "      <th></th>\n",
       "      <th>review_id</th>\n",
       "      <th>user_id</th>\n",
       "      <th>business_id</th>\n",
       "      <th>stars</th>\n",
       "      <th>useful</th>\n",
       "      <th>funny</th>\n",
       "      <th>cool</th>\n",
       "      <th>text</th>\n",
       "      <th>date</th>\n",
       "      <th>length</th>\n",
       "    </tr>\n",
       "  </thead>\n",
       "  <tbody>\n",
       "    <tr>\n",
       "      <th>count</th>\n",
       "      <td>10000</td>\n",
       "      <td>10000</td>\n",
       "      <td>10000</td>\n",
       "      <td>10000.000000</td>\n",
       "      <td>10000.000000</td>\n",
       "      <td>10000.000000</td>\n",
       "      <td>10000.000000</td>\n",
       "      <td>10000</td>\n",
       "      <td>10000</td>\n",
       "      <td>10000.000000</td>\n",
       "    </tr>\n",
       "    <tr>\n",
       "      <th>unique</th>\n",
       "      <td>10000</td>\n",
       "      <td>9472</td>\n",
       "      <td>3930</td>\n",
       "      <td>NaN</td>\n",
       "      <td>NaN</td>\n",
       "      <td>NaN</td>\n",
       "      <td>NaN</td>\n",
       "      <td>10000</td>\n",
       "      <td>NaN</td>\n",
       "      <td>NaN</td>\n",
       "    </tr>\n",
       "    <tr>\n",
       "      <th>top</th>\n",
       "      <td>KU_O5udG6zpxOg-VcAEodg</td>\n",
       "      <td>n-lBS02-3yvlY5Q91mmwDA</td>\n",
       "      <td>GBTPC53ZrG1ZBY3DT8Mbcw</td>\n",
       "      <td>NaN</td>\n",
       "      <td>NaN</td>\n",
       "      <td>NaN</td>\n",
       "      <td>NaN</td>\n",
       "      <td>If you decide to eat here, just be aware it is...</td>\n",
       "      <td>NaN</td>\n",
       "      <td>NaN</td>\n",
       "    </tr>\n",
       "    <tr>\n",
       "      <th>freq</th>\n",
       "      <td>1</td>\n",
       "      <td>6</td>\n",
       "      <td>85</td>\n",
       "      <td>NaN</td>\n",
       "      <td>NaN</td>\n",
       "      <td>NaN</td>\n",
       "      <td>NaN</td>\n",
       "      <td>1</td>\n",
       "      <td>NaN</td>\n",
       "      <td>NaN</td>\n",
       "    </tr>\n",
       "    <tr>\n",
       "      <th>mean</th>\n",
       "      <td>NaN</td>\n",
       "      <td>NaN</td>\n",
       "      <td>NaN</td>\n",
       "      <td>3.854300</td>\n",
       "      <td>0.889100</td>\n",
       "      <td>0.246500</td>\n",
       "      <td>0.335500</td>\n",
       "      <td>NaN</td>\n",
       "      <td>2015-04-17 08:27:40.820000</td>\n",
       "      <td>549.039100</td>\n",
       "    </tr>\n",
       "    <tr>\n",
       "      <th>min</th>\n",
       "      <td>NaN</td>\n",
       "      <td>NaN</td>\n",
       "      <td>NaN</td>\n",
       "      <td>1.000000</td>\n",
       "      <td>0.000000</td>\n",
       "      <td>0.000000</td>\n",
       "      <td>0.000000</td>\n",
       "      <td>NaN</td>\n",
       "      <td>2005-03-01 17:47:15</td>\n",
       "      <td>26.000000</td>\n",
       "    </tr>\n",
       "    <tr>\n",
       "      <th>25%</th>\n",
       "      <td>NaN</td>\n",
       "      <td>NaN</td>\n",
       "      <td>NaN</td>\n",
       "      <td>3.000000</td>\n",
       "      <td>0.000000</td>\n",
       "      <td>0.000000</td>\n",
       "      <td>0.000000</td>\n",
       "      <td>NaN</td>\n",
       "      <td>2013-11-14 11:16:35.500000</td>\n",
       "      <td>224.000000</td>\n",
       "    </tr>\n",
       "    <tr>\n",
       "      <th>50%</th>\n",
       "      <td>NaN</td>\n",
       "      <td>NaN</td>\n",
       "      <td>NaN</td>\n",
       "      <td>4.000000</td>\n",
       "      <td>0.000000</td>\n",
       "      <td>0.000000</td>\n",
       "      <td>0.000000</td>\n",
       "      <td>NaN</td>\n",
       "      <td>2015-09-09 23:20:24</td>\n",
       "      <td>395.000000</td>\n",
       "    </tr>\n",
       "    <tr>\n",
       "      <th>75%</th>\n",
       "      <td>NaN</td>\n",
       "      <td>NaN</td>\n",
       "      <td>NaN</td>\n",
       "      <td>5.000000</td>\n",
       "      <td>1.000000</td>\n",
       "      <td>0.000000</td>\n",
       "      <td>0.000000</td>\n",
       "      <td>NaN</td>\n",
       "      <td>2017-03-27 02:25:32.500000</td>\n",
       "      <td>694.250000</td>\n",
       "    </tr>\n",
       "    <tr>\n",
       "      <th>max</th>\n",
       "      <td>NaN</td>\n",
       "      <td>NaN</td>\n",
       "      <td>NaN</td>\n",
       "      <td>5.000000</td>\n",
       "      <td>91.000000</td>\n",
       "      <td>26.000000</td>\n",
       "      <td>44.000000</td>\n",
       "      <td>NaN</td>\n",
       "      <td>2018-10-04 18:22:35</td>\n",
       "      <td>4994.000000</td>\n",
       "    </tr>\n",
       "    <tr>\n",
       "      <th>std</th>\n",
       "      <td>NaN</td>\n",
       "      <td>NaN</td>\n",
       "      <td>NaN</td>\n",
       "      <td>1.346719</td>\n",
       "      <td>2.092329</td>\n",
       "      <td>0.885221</td>\n",
       "      <td>1.051023</td>\n",
       "      <td>NaN</td>\n",
       "      <td>NaN</td>\n",
       "      <td>504.435838</td>\n",
       "    </tr>\n",
       "  </tbody>\n",
       "</table>\n",
       "</div>"
      ],
      "text/plain": [
       "                     review_id                 user_id   \n",
       "count                    10000                   10000  \\\n",
       "unique                   10000                    9472   \n",
       "top     KU_O5udG6zpxOg-VcAEodg  n-lBS02-3yvlY5Q91mmwDA   \n",
       "freq                         1                       6   \n",
       "mean                       NaN                     NaN   \n",
       "min                        NaN                     NaN   \n",
       "25%                        NaN                     NaN   \n",
       "50%                        NaN                     NaN   \n",
       "75%                        NaN                     NaN   \n",
       "max                        NaN                     NaN   \n",
       "std                        NaN                     NaN   \n",
       "\n",
       "                   business_id         stars        useful         funny   \n",
       "count                    10000  10000.000000  10000.000000  10000.000000  \\\n",
       "unique                    3930           NaN           NaN           NaN   \n",
       "top     GBTPC53ZrG1ZBY3DT8Mbcw           NaN           NaN           NaN   \n",
       "freq                        85           NaN           NaN           NaN   \n",
       "mean                       NaN      3.854300      0.889100      0.246500   \n",
       "min                        NaN      1.000000      0.000000      0.000000   \n",
       "25%                        NaN      3.000000      0.000000      0.000000   \n",
       "50%                        NaN      4.000000      0.000000      0.000000   \n",
       "75%                        NaN      5.000000      1.000000      0.000000   \n",
       "max                        NaN      5.000000     91.000000     26.000000   \n",
       "std                        NaN      1.346719      2.092329      0.885221   \n",
       "\n",
       "                cool                                               text   \n",
       "count   10000.000000                                              10000  \\\n",
       "unique           NaN                                              10000   \n",
       "top              NaN  If you decide to eat here, just be aware it is...   \n",
       "freq             NaN                                                  1   \n",
       "mean        0.335500                                                NaN   \n",
       "min         0.000000                                                NaN   \n",
       "25%         0.000000                                                NaN   \n",
       "50%         0.000000                                                NaN   \n",
       "75%         0.000000                                                NaN   \n",
       "max        44.000000                                                NaN   \n",
       "std         1.051023                                                NaN   \n",
       "\n",
       "                              date        length  \n",
       "count                        10000  10000.000000  \n",
       "unique                         NaN           NaN  \n",
       "top                            NaN           NaN  \n",
       "freq                           NaN           NaN  \n",
       "mean    2015-04-17 08:27:40.820000    549.039100  \n",
       "min            2005-03-01 17:47:15     26.000000  \n",
       "25%     2013-11-14 11:16:35.500000    224.000000  \n",
       "50%            2015-09-09 23:20:24    395.000000  \n",
       "75%     2017-03-27 02:25:32.500000    694.250000  \n",
       "max            2018-10-04 18:22:35   4994.000000  \n",
       "std                            NaN    504.435838  "
      ]
     },
     "execution_count": 36,
     "metadata": {},
     "output_type": "execute_result"
    }
   ],
   "source": [
    "yelp_data = pd.read_json('/Users/rsurridge/Downloads/yelp_data/yelp_academic_dataset_review.json', \n",
    "                         lines=True, chunksize=10_000)\n",
    "for chunk in yelp_data:\n",
    "    yelp_sample_ten_thou = chunk\n",
    "    result = chunk.to_json(orient=\"records\")\n",
    "    with open(\"yelp_sample.json\", \"w\") as f:\n",
    "        json.dump(result, f)\n",
    "    break\n",
    "\n",
    "yelp_sample_ten_thou['length'] = yelp_sample_ten_thou['text'].apply(len)\n",
    "yelp_sample_ten_thou['stars'] = yelp_sample_ten_thou['stars'].astype(float)\n",
    "\n",
    "print()\n",
    "print(\"Shape of the dataset:\", yelp_sample_ten_thou.shape)\n",
    "\n",
    "print()\n",
    "print(\"Column names:\", yelp_sample_ten_thou.columns)\n",
    "\n",
    "print()\n",
    "print(\"Datatype of each column:\")\n",
    "print(yelp_sample_ten_thou.dtypes)\n",
    "\n",
    "print()\n",
    "print(\"A few dataset entries:\")\n",
    "print(yelp_sample_ten_thou.head())\n",
    "\n",
    "print()\n",
    "print(\"Dataset Summary:\")\n",
    "yelp_sample_ten_thou.describe(include='all')\n"
   ]
  },
  {
   "attachments": {},
   "cell_type": "markdown",
   "metadata": {},
   "source": [
    "### 2b. Load the dataset with a sample of 100,000 Yelp reviews, explore the metadata, and add a column \"length\" that contains the number of words per review:"
   ]
  },
  {
   "cell_type": "code",
   "execution_count": 37,
   "metadata": {},
   "outputs": [
    {
     "name": "stdout",
     "output_type": "stream",
     "text": [
      "\n",
      "Shape of the dataset: (100000, 10)\n",
      "\n",
      "Dataset Summary:\n"
     ]
    },
    {
     "data": {
      "text/html": [
       "<div>\n",
       "<style scoped>\n",
       "    .dataframe tbody tr th:only-of-type {\n",
       "        vertical-align: middle;\n",
       "    }\n",
       "\n",
       "    .dataframe tbody tr th {\n",
       "        vertical-align: top;\n",
       "    }\n",
       "\n",
       "    .dataframe thead th {\n",
       "        text-align: right;\n",
       "    }\n",
       "</style>\n",
       "<table border=\"1\" class=\"dataframe\">\n",
       "  <thead>\n",
       "    <tr style=\"text-align: right;\">\n",
       "      <th></th>\n",
       "      <th>review_id</th>\n",
       "      <th>user_id</th>\n",
       "      <th>business_id</th>\n",
       "      <th>stars</th>\n",
       "      <th>useful</th>\n",
       "      <th>funny</th>\n",
       "      <th>cool</th>\n",
       "      <th>text</th>\n",
       "      <th>date</th>\n",
       "      <th>length</th>\n",
       "    </tr>\n",
       "  </thead>\n",
       "  <tbody>\n",
       "    <tr>\n",
       "      <th>count</th>\n",
       "      <td>100000</td>\n",
       "      <td>100000</td>\n",
       "      <td>100000</td>\n",
       "      <td>100000.000000</td>\n",
       "      <td>100000.000000</td>\n",
       "      <td>100000.000000</td>\n",
       "      <td>100000.000000</td>\n",
       "      <td>100000</td>\n",
       "      <td>100000</td>\n",
       "      <td>100000.000000</td>\n",
       "    </tr>\n",
       "    <tr>\n",
       "      <th>unique</th>\n",
       "      <td>100000</td>\n",
       "      <td>79345</td>\n",
       "      <td>9973</td>\n",
       "      <td>NaN</td>\n",
       "      <td>NaN</td>\n",
       "      <td>NaN</td>\n",
       "      <td>NaN</td>\n",
       "      <td>99964</td>\n",
       "      <td>NaN</td>\n",
       "      <td>NaN</td>\n",
       "    </tr>\n",
       "    <tr>\n",
       "      <th>top</th>\n",
       "      <td>KU_O5udG6zpxOg-VcAEodg</td>\n",
       "      <td>_BcWyKQL16ndpBdggh2kNA</td>\n",
       "      <td>GBTPC53ZrG1ZBY3DT8Mbcw</td>\n",
       "      <td>NaN</td>\n",
       "      <td>NaN</td>\n",
       "      <td>NaN</td>\n",
       "      <td>NaN</td>\n",
       "      <td>Service was a little slow to start but improve...</td>\n",
       "      <td>NaN</td>\n",
       "      <td>NaN</td>\n",
       "    </tr>\n",
       "    <tr>\n",
       "      <th>freq</th>\n",
       "      <td>1</td>\n",
       "      <td>65</td>\n",
       "      <td>950</td>\n",
       "      <td>NaN</td>\n",
       "      <td>NaN</td>\n",
       "      <td>NaN</td>\n",
       "      <td>NaN</td>\n",
       "      <td>2</td>\n",
       "      <td>NaN</td>\n",
       "      <td>NaN</td>\n",
       "    </tr>\n",
       "    <tr>\n",
       "      <th>mean</th>\n",
       "      <td>NaN</td>\n",
       "      <td>NaN</td>\n",
       "      <td>NaN</td>\n",
       "      <td>3.842910</td>\n",
       "      <td>0.898980</td>\n",
       "      <td>0.257180</td>\n",
       "      <td>0.347030</td>\n",
       "      <td>NaN</td>\n",
       "      <td>2015-05-02 14:36:08.625299968</td>\n",
       "      <td>548.438330</td>\n",
       "    </tr>\n",
       "    <tr>\n",
       "      <th>min</th>\n",
       "      <td>NaN</td>\n",
       "      <td>NaN</td>\n",
       "      <td>NaN</td>\n",
       "      <td>1.000000</td>\n",
       "      <td>0.000000</td>\n",
       "      <td>0.000000</td>\n",
       "      <td>0.000000</td>\n",
       "      <td>NaN</td>\n",
       "      <td>2005-03-01 17:47:15</td>\n",
       "      <td>3.000000</td>\n",
       "    </tr>\n",
       "    <tr>\n",
       "      <th>25%</th>\n",
       "      <td>NaN</td>\n",
       "      <td>NaN</td>\n",
       "      <td>NaN</td>\n",
       "      <td>3.000000</td>\n",
       "      <td>0.000000</td>\n",
       "      <td>0.000000</td>\n",
       "      <td>0.000000</td>\n",
       "      <td>NaN</td>\n",
       "      <td>2013-12-07 13:33:34.750000128</td>\n",
       "      <td>226.000000</td>\n",
       "    </tr>\n",
       "    <tr>\n",
       "      <th>50%</th>\n",
       "      <td>NaN</td>\n",
       "      <td>NaN</td>\n",
       "      <td>NaN</td>\n",
       "      <td>4.000000</td>\n",
       "      <td>0.000000</td>\n",
       "      <td>0.000000</td>\n",
       "      <td>0.000000</td>\n",
       "      <td>NaN</td>\n",
       "      <td>2015-09-26 23:21:59.500000</td>\n",
       "      <td>395.000000</td>\n",
       "    </tr>\n",
       "    <tr>\n",
       "      <th>75%</th>\n",
       "      <td>NaN</td>\n",
       "      <td>NaN</td>\n",
       "      <td>NaN</td>\n",
       "      <td>5.000000</td>\n",
       "      <td>1.000000</td>\n",
       "      <td>0.000000</td>\n",
       "      <td>0.000000</td>\n",
       "      <td>NaN</td>\n",
       "      <td>2017-04-08 12:26:05.249999872</td>\n",
       "      <td>693.000000</td>\n",
       "    </tr>\n",
       "    <tr>\n",
       "      <th>max</th>\n",
       "      <td>NaN</td>\n",
       "      <td>NaN</td>\n",
       "      <td>NaN</td>\n",
       "      <td>5.000000</td>\n",
       "      <td>320.000000</td>\n",
       "      <td>98.000000</td>\n",
       "      <td>49.000000</td>\n",
       "      <td>NaN</td>\n",
       "      <td>2018-10-04 18:22:35</td>\n",
       "      <td>5000.000000</td>\n",
       "    </tr>\n",
       "    <tr>\n",
       "      <th>std</th>\n",
       "      <td>NaN</td>\n",
       "      <td>NaN</td>\n",
       "      <td>NaN</td>\n",
       "      <td>1.354729</td>\n",
       "      <td>2.205186</td>\n",
       "      <td>1.010212</td>\n",
       "      <td>1.066382</td>\n",
       "      <td>NaN</td>\n",
       "      <td>NaN</td>\n",
       "      <td>501.703274</td>\n",
       "    </tr>\n",
       "  </tbody>\n",
       "</table>\n",
       "</div>"
      ],
      "text/plain": [
       "                     review_id                 user_id   \n",
       "count                   100000                  100000  \\\n",
       "unique                  100000                   79345   \n",
       "top     KU_O5udG6zpxOg-VcAEodg  _BcWyKQL16ndpBdggh2kNA   \n",
       "freq                         1                      65   \n",
       "mean                       NaN                     NaN   \n",
       "min                        NaN                     NaN   \n",
       "25%                        NaN                     NaN   \n",
       "50%                        NaN                     NaN   \n",
       "75%                        NaN                     NaN   \n",
       "max                        NaN                     NaN   \n",
       "std                        NaN                     NaN   \n",
       "\n",
       "                   business_id          stars         useful          funny   \n",
       "count                   100000  100000.000000  100000.000000  100000.000000  \\\n",
       "unique                    9973            NaN            NaN            NaN   \n",
       "top     GBTPC53ZrG1ZBY3DT8Mbcw            NaN            NaN            NaN   \n",
       "freq                       950            NaN            NaN            NaN   \n",
       "mean                       NaN       3.842910       0.898980       0.257180   \n",
       "min                        NaN       1.000000       0.000000       0.000000   \n",
       "25%                        NaN       3.000000       0.000000       0.000000   \n",
       "50%                        NaN       4.000000       0.000000       0.000000   \n",
       "75%                        NaN       5.000000       1.000000       0.000000   \n",
       "max                        NaN       5.000000     320.000000      98.000000   \n",
       "std                        NaN       1.354729       2.205186       1.010212   \n",
       "\n",
       "                 cool                                               text   \n",
       "count   100000.000000                                             100000  \\\n",
       "unique            NaN                                              99964   \n",
       "top               NaN  Service was a little slow to start but improve...   \n",
       "freq              NaN                                                  2   \n",
       "mean         0.347030                                                NaN   \n",
       "min          0.000000                                                NaN   \n",
       "25%          0.000000                                                NaN   \n",
       "50%          0.000000                                                NaN   \n",
       "75%          0.000000                                                NaN   \n",
       "max         49.000000                                                NaN   \n",
       "std          1.066382                                                NaN   \n",
       "\n",
       "                                 date         length  \n",
       "count                          100000  100000.000000  \n",
       "unique                            NaN            NaN  \n",
       "top                               NaN            NaN  \n",
       "freq                              NaN            NaN  \n",
       "mean    2015-05-02 14:36:08.625299968     548.438330  \n",
       "min               2005-03-01 17:47:15       3.000000  \n",
       "25%     2013-12-07 13:33:34.750000128     226.000000  \n",
       "50%        2015-09-26 23:21:59.500000     395.000000  \n",
       "75%     2017-04-08 12:26:05.249999872     693.000000  \n",
       "max               2018-10-04 18:22:35    5000.000000  \n",
       "std                               NaN     501.703274  "
      ]
     },
     "execution_count": 37,
     "metadata": {},
     "output_type": "execute_result"
    }
   ],
   "source": [
    "yelp_data = pd.read_json('/Users/rsurridge/Downloads/yelp_data/yelp_academic_dataset_review.json', \n",
    "                         lines=True, chunksize=100_000)\n",
    "for chunk in yelp_data:\n",
    "    yelp_sample_hund_thou = chunk\n",
    "    result = chunk.to_json(orient=\"records\")\n",
    "    with open(\"yelp_sample.json\", \"w\") as f:\n",
    "        json.dump(result, f)\n",
    "    break\n",
    "\n",
    "yelp_sample_hund_thou['length'] = yelp_sample_hund_thou['text'].apply(len)\n",
    "yelp_sample_hund_thou['stars'] = yelp_sample_hund_thou['stars'].astype(float)\n",
    "\n",
    "print()\n",
    "print(\"Shape of the dataset:\", yelp_sample_hund_thou.shape)\n",
    "\n",
    "print()\n",
    "print(\"Dataset Summary:\")\n",
    "yelp_sample_hund_thou.describe(include='all')\n"
   ]
  },
  {
   "attachments": {},
   "cell_type": "markdown",
   "metadata": {},
   "source": [
    "### 2c. Load the dataset with a sample of 1,000,000 Yelp reviews, explore the metadata, and add a column \"length\" that contains the number of words per review:"
   ]
  },
  {
   "cell_type": "code",
   "execution_count": 38,
   "metadata": {},
   "outputs": [
    {
     "name": "stdout",
     "output_type": "stream",
     "text": [
      "\n",
      "Shape of the dataset: (1000000, 10)\n",
      "\n",
      "Dataset Summary:\n"
     ]
    },
    {
     "data": {
      "text/html": [
       "<div>\n",
       "<style scoped>\n",
       "    .dataframe tbody tr th:only-of-type {\n",
       "        vertical-align: middle;\n",
       "    }\n",
       "\n",
       "    .dataframe tbody tr th {\n",
       "        vertical-align: top;\n",
       "    }\n",
       "\n",
       "    .dataframe thead th {\n",
       "        text-align: right;\n",
       "    }\n",
       "</style>\n",
       "<table border=\"1\" class=\"dataframe\">\n",
       "  <thead>\n",
       "    <tr style=\"text-align: right;\">\n",
       "      <th></th>\n",
       "      <th>review_id</th>\n",
       "      <th>user_id</th>\n",
       "      <th>business_id</th>\n",
       "      <th>stars</th>\n",
       "      <th>useful</th>\n",
       "      <th>funny</th>\n",
       "      <th>cool</th>\n",
       "      <th>text</th>\n",
       "      <th>date</th>\n",
       "      <th>length</th>\n",
       "    </tr>\n",
       "  </thead>\n",
       "  <tbody>\n",
       "    <tr>\n",
       "      <th>count</th>\n",
       "      <td>1000000</td>\n",
       "      <td>1000000</td>\n",
       "      <td>1000000</td>\n",
       "      <td>1000000.000000</td>\n",
       "      <td>1000000.000000</td>\n",
       "      <td>1000000.000000</td>\n",
       "      <td>1000000.000000</td>\n",
       "      <td>1000000</td>\n",
       "      <td>1000000</td>\n",
       "      <td>1000000.000000</td>\n",
       "    </tr>\n",
       "    <tr>\n",
       "      <th>unique</th>\n",
       "      <td>1000000</td>\n",
       "      <td>542003</td>\n",
       "      <td>27095</td>\n",
       "      <td>NaN</td>\n",
       "      <td>NaN</td>\n",
       "      <td>NaN</td>\n",
       "      <td>NaN</td>\n",
       "      <td>998357</td>\n",
       "      <td>NaN</td>\n",
       "      <td>NaN</td>\n",
       "    </tr>\n",
       "    <tr>\n",
       "      <th>top</th>\n",
       "      <td>KU_O5udG6zpxOg-VcAEodg</td>\n",
       "      <td>_BcWyKQL16ndpBdggh2kNA</td>\n",
       "      <td>GBTPC53ZrG1ZBY3DT8Mbcw</td>\n",
       "      <td>NaN</td>\n",
       "      <td>NaN</td>\n",
       "      <td>NaN</td>\n",
       "      <td>NaN</td>\n",
       "      <td>I have eaten at just about every decent Indian...</td>\n",
       "      <td>NaN</td>\n",
       "      <td>NaN</td>\n",
       "    </tr>\n",
       "    <tr>\n",
       "      <th>freq</th>\n",
       "      <td>1</td>\n",
       "      <td>483</td>\n",
       "      <td>4661</td>\n",
       "      <td>NaN</td>\n",
       "      <td>NaN</td>\n",
       "      <td>NaN</td>\n",
       "      <td>NaN</td>\n",
       "      <td>5</td>\n",
       "      <td>NaN</td>\n",
       "      <td>NaN</td>\n",
       "    </tr>\n",
       "    <tr>\n",
       "      <th>mean</th>\n",
       "      <td>NaN</td>\n",
       "      <td>NaN</td>\n",
       "      <td>NaN</td>\n",
       "      <td>3.783959</td>\n",
       "      <td>1.106594</td>\n",
       "      <td>0.307812</td>\n",
       "      <td>0.457129</td>\n",
       "      <td>NaN</td>\n",
       "      <td>2016-07-13 10:09:02.464016128</td>\n",
       "      <td>563.451724</td>\n",
       "    </tr>\n",
       "    <tr>\n",
       "      <th>min</th>\n",
       "      <td>NaN</td>\n",
       "      <td>NaN</td>\n",
       "      <td>NaN</td>\n",
       "      <td>1.000000</td>\n",
       "      <td>0.000000</td>\n",
       "      <td>0.000000</td>\n",
       "      <td>0.000000</td>\n",
       "      <td>NaN</td>\n",
       "      <td>2005-03-01 17:47:15</td>\n",
       "      <td>1.000000</td>\n",
       "    </tr>\n",
       "    <tr>\n",
       "      <th>25%</th>\n",
       "      <td>NaN</td>\n",
       "      <td>NaN</td>\n",
       "      <td>NaN</td>\n",
       "      <td>3.000000</td>\n",
       "      <td>0.000000</td>\n",
       "      <td>0.000000</td>\n",
       "      <td>0.000000</td>\n",
       "      <td>NaN</td>\n",
       "      <td>2014-08-07 16:29:16.500000</td>\n",
       "      <td>228.000000</td>\n",
       "    </tr>\n",
       "    <tr>\n",
       "      <th>50%</th>\n",
       "      <td>NaN</td>\n",
       "      <td>NaN</td>\n",
       "      <td>NaN</td>\n",
       "      <td>4.000000</td>\n",
       "      <td>0.000000</td>\n",
       "      <td>0.000000</td>\n",
       "      <td>0.000000</td>\n",
       "      <td>NaN</td>\n",
       "      <td>2016-10-11 16:02:42</td>\n",
       "      <td>403.000000</td>\n",
       "    </tr>\n",
       "    <tr>\n",
       "      <th>75%</th>\n",
       "      <td>NaN</td>\n",
       "      <td>NaN</td>\n",
       "      <td>NaN</td>\n",
       "      <td>5.000000</td>\n",
       "      <td>1.000000</td>\n",
       "      <td>0.000000</td>\n",
       "      <td>0.000000</td>\n",
       "      <td>NaN</td>\n",
       "      <td>2018-09-01 01:26:22.249999872</td>\n",
       "      <td>715.000000</td>\n",
       "    </tr>\n",
       "    <tr>\n",
       "      <th>max</th>\n",
       "      <td>NaN</td>\n",
       "      <td>NaN</td>\n",
       "      <td>NaN</td>\n",
       "      <td>5.000000</td>\n",
       "      <td>539.000000</td>\n",
       "      <td>284.000000</td>\n",
       "      <td>172.000000</td>\n",
       "      <td>NaN</td>\n",
       "      <td>2022-01-19 19:47:59</td>\n",
       "      <td>5000.000000</td>\n",
       "    </tr>\n",
       "    <tr>\n",
       "      <th>std</th>\n",
       "      <td>NaN</td>\n",
       "      <td>NaN</td>\n",
       "      <td>NaN</td>\n",
       "      <td>1.440197</td>\n",
       "      <td>2.848906</td>\n",
       "      <td>1.428185</td>\n",
       "      <td>1.799114</td>\n",
       "      <td>NaN</td>\n",
       "      <td>NaN</td>\n",
       "      <td>520.728919</td>\n",
       "    </tr>\n",
       "  </tbody>\n",
       "</table>\n",
       "</div>"
      ],
      "text/plain": [
       "                     review_id                 user_id   \n",
       "count                  1000000                 1000000  \\\n",
       "unique                 1000000                  542003   \n",
       "top     KU_O5udG6zpxOg-VcAEodg  _BcWyKQL16ndpBdggh2kNA   \n",
       "freq                         1                     483   \n",
       "mean                       NaN                     NaN   \n",
       "min                        NaN                     NaN   \n",
       "25%                        NaN                     NaN   \n",
       "50%                        NaN                     NaN   \n",
       "75%                        NaN                     NaN   \n",
       "max                        NaN                     NaN   \n",
       "std                        NaN                     NaN   \n",
       "\n",
       "                   business_id           stars          useful   \n",
       "count                  1000000  1000000.000000  1000000.000000  \\\n",
       "unique                   27095             NaN             NaN   \n",
       "top     GBTPC53ZrG1ZBY3DT8Mbcw             NaN             NaN   \n",
       "freq                      4661             NaN             NaN   \n",
       "mean                       NaN        3.783959        1.106594   \n",
       "min                        NaN        1.000000        0.000000   \n",
       "25%                        NaN        3.000000        0.000000   \n",
       "50%                        NaN        4.000000        0.000000   \n",
       "75%                        NaN        5.000000        1.000000   \n",
       "max                        NaN        5.000000      539.000000   \n",
       "std                        NaN        1.440197        2.848906   \n",
       "\n",
       "                 funny            cool   \n",
       "count   1000000.000000  1000000.000000  \\\n",
       "unique             NaN             NaN   \n",
       "top                NaN             NaN   \n",
       "freq               NaN             NaN   \n",
       "mean          0.307812        0.457129   \n",
       "min           0.000000        0.000000   \n",
       "25%           0.000000        0.000000   \n",
       "50%           0.000000        0.000000   \n",
       "75%           0.000000        0.000000   \n",
       "max         284.000000      172.000000   \n",
       "std           1.428185        1.799114   \n",
       "\n",
       "                                                     text   \n",
       "count                                             1000000  \\\n",
       "unique                                             998357   \n",
       "top     I have eaten at just about every decent Indian...   \n",
       "freq                                                    5   \n",
       "mean                                                  NaN   \n",
       "min                                                   NaN   \n",
       "25%                                                   NaN   \n",
       "50%                                                   NaN   \n",
       "75%                                                   NaN   \n",
       "max                                                   NaN   \n",
       "std                                                   NaN   \n",
       "\n",
       "                                 date          length  \n",
       "count                         1000000  1000000.000000  \n",
       "unique                            NaN             NaN  \n",
       "top                               NaN             NaN  \n",
       "freq                              NaN             NaN  \n",
       "mean    2016-07-13 10:09:02.464016128      563.451724  \n",
       "min               2005-03-01 17:47:15        1.000000  \n",
       "25%        2014-08-07 16:29:16.500000      228.000000  \n",
       "50%               2016-10-11 16:02:42      403.000000  \n",
       "75%     2018-09-01 01:26:22.249999872      715.000000  \n",
       "max               2022-01-19 19:47:59     5000.000000  \n",
       "std                               NaN      520.728919  "
      ]
     },
     "execution_count": 38,
     "metadata": {},
     "output_type": "execute_result"
    }
   ],
   "source": [
    "yelp_data = pd.read_json('/Users/rsurridge/Downloads/yelp_data/yelp_academic_dataset_review.json', \n",
    "                         lines=True, chunksize=1_000_000)\n",
    "for chunk in yelp_data:\n",
    "    yelp_sample_mil = chunk\n",
    "    result = chunk.to_json(orient=\"records\")\n",
    "    with open(\"yelp_sample.json\", \"w\") as f:\n",
    "        json.dump(result, f)\n",
    "    break\n",
    "\n",
    "yelp_sample_mil['length'] = yelp_sample_mil['text'].apply(len)\n",
    "yelp_sample_mil['stars'] = yelp_sample_mil['stars'].astype(float)\n",
    "\n",
    "print()\n",
    "print(\"Shape of the dataset:\", yelp_sample_mil.shape)\n",
    "\n",
    "print()\n",
    "print(\"Dataset Summary:\")\n",
    "yelp_sample_mil.describe(include='all')"
   ]
  },
  {
   "cell_type": "code",
   "execution_count": 39,
   "metadata": {},
   "outputs": [
    {
     "name": "stdout",
     "output_type": "stream",
     "text": [
      "\n",
      "Star count\n",
      "stars\n",
      "1.0    763\n",
      "2.0    763\n",
      "3.0    763\n",
      "4.0    763\n",
      "5.0    763\n",
      "Name: count, dtype: int64\n",
      "\n",
      "Star count\n",
      "stars\n",
      "1.0    7988\n",
      "2.0    7988\n",
      "3.0    7988\n",
      "4.0    7988\n",
      "5.0    7988\n",
      "Name: count, dtype: int64\n",
      "\n",
      "Star count\n",
      "stars\n",
      "1.0    77912\n",
      "2.0    77912\n",
      "3.0    77912\n",
      "4.0    77912\n",
      "5.0    77912\n",
      "Name: count, dtype: int64\n"
     ]
    }
   ],
   "source": [
    "star_counts = yelp_sample_ten_thou['stars'].value_counts()\n",
    "min_count = star_counts.min()\n",
    "yelp_sample_equal_ten_thou = yelp_sample_ten_thou.groupby('stars').apply(lambda x: x[:min_count])\n",
    "count_ten_thou = yelp_sample_equal_ten_thou['stars'].value_counts()\n",
    "\n",
    "print()\n",
    "print(\"Star count\")\n",
    "print(count_ten_thou)\n",
    "\n",
    "star_counts = yelp_sample_hund_thou['stars'].value_counts()\n",
    "min_count = star_counts.min()\n",
    "yelp_sample_equal_hund_thou = yelp_sample_hund_thou.groupby('stars').apply(lambda x: x[:min_count])\n",
    "count_hund_thou = yelp_sample_equal_hund_thou['stars'].value_counts()\n",
    "\n",
    "print()\n",
    "print(\"Star count\")\n",
    "print(count_hund_thou)\n",
    "\n",
    "star_counts = yelp_sample_mil['stars'].value_counts()\n",
    "min_count = star_counts.min()\n",
    "yelp_sample_equal_mil = yelp_sample_mil.groupby('stars').apply(lambda x: x[:min_count])\n",
    "count_mil = yelp_sample_equal_mil['stars'].value_counts()\n",
    "\n",
    "print()\n",
    "print(\"Star count\")\n",
    "print(count_mil)\n"
   ]
  },
  {
   "attachments": {},
   "cell_type": "markdown",
   "metadata": {},
   "source": [
    "### 3. Plot histograms of review length frenquencies by the star rating:"
   ]
  },
  {
   "cell_type": "code",
   "execution_count": 40,
   "metadata": {},
   "outputs": [
    {
     "data": {
      "text/plain": [
       "Text(0.5, 1.0, 'Star Rating Frequency with a RAW Sample of One Million Reviews')"
      ]
     },
     "execution_count": 40,
     "metadata": {},
     "output_type": "execute_result"
    },
    {
     "data": {
      "image/png": "[encoded data removed]",
      "text/plain": [
       "<Figure size 640x480 with 1 Axes>"
      ]
     },
     "metadata": {},
     "output_type": "display_data"
    }
   ],
   "source": [
    "graph_star_freq_raw = plt.hist(yelp_sample_mil['stars'], bins=5, color='blue')\n",
    "plt.title('Star Rating Frequency with a RAW Sample of One Million Reviews')"
   ]
  },
  {
   "cell_type": "code",
   "execution_count": 41,
   "metadata": {},
   "outputs": [
    {
     "data": {
      "text/plain": [
       "Text(0.5, 1.0, 'Star Rating Frequency with a NORMALIZED Sample of One Million Reviews')"
      ]
     },
     "execution_count": 41,
     "metadata": {},
     "output_type": "execute_result"
    },
    {
     "data": {
      "image/png": "[encoded data removed]",
      "text/plain": [
       "<Figure size 640x480 with 1 Axes>"
      ]
     },
     "metadata": {},
     "output_type": "display_data"
    }
   ],
   "source": [
    "graph_star_freq_normal = plt.hist(yelp_sample_equal_mil['stars'], bins=5, color='blue')\n",
    "plt.title('Star Rating Frequency with a NORMALIZED Sample of One Million Reviews')"
   ]
  },
  {
   "attachments": {},
   "cell_type": "markdown",
   "metadata": {},
   "source": [
    "We want to note here that our sample dataset is biased to more positive reviews than negative reviews. As a result, we should proceed with caution when classifying, training, and predicting with this dataset."
   ]
  },
  {
   "attachments": {},
   "cell_type": "markdown",
   "metadata": {},
   "source": [
    "### 4.a.i. Classify 10,000 standardized reviews into 1-star (negative), 2-star (negative), 3-star (neutral), 4-star (positive), and 5-star (positive) classes and separate the dataset into X and Y subsets for prediction:"
   ]
  },
  {
   "cell_type": "code",
   "execution_count": 42,
   "metadata": {},
   "outputs": [
    {
     "name": "stdout",
     "output_type": "stream",
     "text": [
      "\n",
      "Shape of the dataset: (3815, 2)\n",
      "\n",
      "A few X entries\n",
      "stars      \n",
      "1.0    5       I am a long term frequent customer of this est...\n",
      "       47      If you want to pay for everything a la carte t...\n",
      "       64      The TV shows are $4.99 and they have commercia...\n",
      "       73      If I could give it a zero, I would. I order a ...\n",
      "       79      We visited once and were very disappointed in ...\n",
      "                                     ...                        \n",
      "5.0    1661    This little unassuming shop is tucked away in ...\n",
      "       1662    Great food and good coffee. Wish they had more...\n",
      "       1663    holly grove is the best. I'm consistently impr...\n",
      "       1669    Henry was a rock star  getting us into a stora...\n",
      "       1670    Phenomenal restaurant. Great location. Great a...\n",
      "Name: text, Length: 3815, dtype: object\n",
      "\n",
      "A few Y entries\n",
      "stars      \n",
      "1.0    5       1.0\n",
      "       47      1.0\n",
      "       64      1.0\n",
      "       73      1.0\n",
      "       79      1.0\n",
      "              ... \n",
      "5.0    1661    5.0\n",
      "       1662    5.0\n",
      "       1663    5.0\n",
      "       1669    5.0\n",
      "       1670    5.0\n",
      "Name: stars, Length: 3815, dtype: float64\n"
     ]
    }
   ],
   "source": [
    "yelp_classify = yelp_sample_equal_ten_thou.loc[:, ['stars', 'text']]\n",
    "\n",
    "print()\n",
    "print(\"Shape of the dataset:\", yelp_classify.shape)\n",
    "\n",
    "x_ten_thou_five = yelp_classify['text']\n",
    "y_ten_thou_five = yelp_classify['stars']\n",
    "\n",
    "print()\n",
    "print(\"A few X entries\")\n",
    "print(x_ten_thou_five)\n",
    "\n",
    "print()\n",
    "print(\"A few Y entries\")\n",
    "print(y_ten_thou_five)"
   ]
  },
  {
   "attachments": {},
   "cell_type": "markdown",
   "metadata": {},
   "source": [
    "### 4.a.ii. Classify 10,000 standardized reviews into 1-star (negative) and 5-star (positive) classes and separate the dataset into X and Y subsets for prediction:"
   ]
  },
  {
   "cell_type": "code",
   "execution_count": 43,
   "metadata": {},
   "outputs": [
    {
     "name": "stdout",
     "output_type": "stream",
     "text": [
      "\n",
      "Shape of the dataset: (1526, 2)\n",
      "\n",
      "A few X entries\n",
      "stars      \n",
      "1.0    5       I am a long term frequent customer of this est...\n",
      "       47      If you want to pay for everything a la carte t...\n",
      "       64      The TV shows are $4.99 and they have commercia...\n",
      "       73      If I could give it a zero, I would. I order a ...\n",
      "       79      We visited once and were very disappointed in ...\n",
      "                                     ...                        \n",
      "5.0    1661    This little unassuming shop is tucked away in ...\n",
      "       1662    Great food and good coffee. Wish they had more...\n",
      "       1663    holly grove is the best. I'm consistently impr...\n",
      "       1669    Henry was a rock star  getting us into a stora...\n",
      "       1670    Phenomenal restaurant. Great location. Great a...\n",
      "Name: text, Length: 1526, dtype: object\n",
      "\n",
      "A few Y entries\n",
      "stars      \n",
      "1.0    5       1.0\n",
      "       47      1.0\n",
      "       64      1.0\n",
      "       73      1.0\n",
      "       79      1.0\n",
      "              ... \n",
      "5.0    1661    5.0\n",
      "       1662    5.0\n",
      "       1663    5.0\n",
      "       1669    5.0\n",
      "       1670    5.0\n",
      "Name: stars, Length: 1526, dtype: float64\n"
     ]
    }
   ],
   "source": [
    "yelp_classify = yelp_sample_equal_ten_thou.loc[:, ['stars', 'text']]\n",
    "data_classes = yelp_classify[(yelp_classify['stars']==1) | \n",
    "                           (yelp_classify['stars']==5)]\n",
    "\n",
    "print()\n",
    "print(\"Shape of the dataset:\", data_classes.shape)\n",
    "\n",
    "x_ten_thou_two = data_classes['text']\n",
    "y_ten_thou_two = data_classes['stars']\n",
    "\n",
    "print()\n",
    "print(\"A few X entries\")\n",
    "print(x_ten_thou_two)\n",
    "\n",
    "print()\n",
    "print(\"A few Y entries\")\n",
    "print(y_ten_thou_two)"
   ]
  },
  {
   "attachments": {},
   "cell_type": "markdown",
   "metadata": {},
   "source": [
    "### 4.a.iii. Classify 10,000 standardized reviews into 1-star (negative), 3-star (neutral), and 5-star (positive) classes and separate the dataset into X and Y subsets for prediction:"
   ]
  },
  {
   "cell_type": "code",
   "execution_count": 44,
   "metadata": {},
   "outputs": [
    {
     "name": "stdout",
     "output_type": "stream",
     "text": [
      "\n",
      "Shape of the dataset: (2289, 2)\n",
      "\n",
      "A few X entries\n",
      "stars      \n",
      "1.0    5       I am a long term frequent customer of this est...\n",
      "       47      If you want to pay for everything a la carte t...\n",
      "       64      The TV shows are $4.99 and they have commercia...\n",
      "       73      If I could give it a zero, I would. I order a ...\n",
      "       79      We visited once and were very disappointed in ...\n",
      "                                     ...                        \n",
      "5.0    1661    This little unassuming shop is tucked away in ...\n",
      "       1662    Great food and good coffee. Wish they had more...\n",
      "       1663    holly grove is the best. I'm consistently impr...\n",
      "       1669    Henry was a rock star  getting us into a stora...\n",
      "       1670    Phenomenal restaurant. Great location. Great a...\n",
      "Name: text, Length: 2289, dtype: object\n",
      "\n",
      "A few Y entries\n",
      "stars      \n",
      "1.0    5       1.0\n",
      "       47      1.0\n",
      "       64      1.0\n",
      "       73      1.0\n",
      "       79      1.0\n",
      "              ... \n",
      "5.0    1661    5.0\n",
      "       1662    5.0\n",
      "       1663    5.0\n",
      "       1669    5.0\n",
      "       1670    5.0\n",
      "Name: stars, Length: 2289, dtype: float64\n"
     ]
    }
   ],
   "source": [
    "yelp_classify = yelp_sample_equal_ten_thou.loc[:, ['stars', 'text']]\n",
    "data_classes = yelp_classify[(yelp_classify['stars']==1) | \n",
    "                           (yelp_classify['stars']==3) | \n",
    "                           (yelp_classify['stars']==5)]\n",
    "\n",
    "print()\n",
    "print(\"Shape of the dataset:\", data_classes.shape)\n",
    "\n",
    "x_ten_thou_three = data_classes['text']\n",
    "y_ten_thou_three = data_classes['stars']\n",
    "\n",
    "print()\n",
    "print(\"A few X entries\")\n",
    "print(x_ten_thou_three)\n",
    "\n",
    "print()\n",
    "print(\"A few Y entries\")\n",
    "print(y_ten_thou_three)"
   ]
  },
  {
   "attachments": {},
   "cell_type": "markdown",
   "metadata": {},
   "source": [
    "### 4.b.i. Classify 100,000 standardized reviews into 1-star (negative), 2-star (negative), 3-star (neutral), 4-star (positive), and 5-star (positive) classes and separate the dataset into X and Y subsets for prediction:"
   ]
  },
  {
   "cell_type": "code",
   "execution_count": 45,
   "metadata": {},
   "outputs": [
    {
     "name": "stdout",
     "output_type": "stream",
     "text": [
      "\n",
      "Shape of the dataset: (39940, 2)\n",
      "\n",
      "A few X entries\n",
      "stars       \n",
      "1.0    5        I am a long term frequent customer of this est...\n",
      "       47       If you want to pay for everything a la carte t...\n",
      "       64       The TV shows are $4.99 and they have commercia...\n",
      "       73       If I could give it a zero, I would. I order a ...\n",
      "       79       We visited once and were very disappointed in ...\n",
      "                                      ...                        \n",
      "5.0    17954    Amidst a long, exciting day of shopping, my fr...\n",
      "       17958    Great services for a great price! Nail techs a...\n",
      "       17959    The most amazing place for a guilt free breakf...\n",
      "       17961    Super cute florist shop. Nice gifts (they offe...\n",
      "       17964    Omg. The shrimp and grits were amazingly rich ...\n",
      "Name: text, Length: 39940, dtype: object\n",
      "\n",
      "A few Y entries\n",
      "stars       \n",
      "1.0    5        1.0\n",
      "       47       1.0\n",
      "       64       1.0\n",
      "       73       1.0\n",
      "       79       1.0\n",
      "               ... \n",
      "5.0    17954    5.0\n",
      "       17958    5.0\n",
      "       17959    5.0\n",
      "       17961    5.0\n",
      "       17964    5.0\n",
      "Name: stars, Length: 39940, dtype: float64\n"
     ]
    }
   ],
   "source": [
    "yelp_classify = yelp_sample_equal_hund_thou.loc[:, ['stars', 'text']]\n",
    "\n",
    "print()\n",
    "print(\"Shape of the dataset:\", yelp_classify.shape)\n",
    "\n",
    "x_hund_thou_five = yelp_classify['text']\n",
    "y_hund_thou_five = yelp_classify['stars']\n",
    "\n",
    "print()\n",
    "print(\"A few X entries\")\n",
    "print(x_hund_thou_five)\n",
    "\n",
    "print()\n",
    "print(\"A few Y entries\")\n",
    "print(y_hund_thou_five)"
   ]
  },
  {
   "attachments": {},
   "cell_type": "markdown",
   "metadata": {},
   "source": [
    "### 4.b.ii. Classify 100,000 standardized reviews into 1-star (negative) and 5-star (positive) classes and separate the dataset into X and Y subsets for prediction:"
   ]
  },
  {
   "cell_type": "code",
   "execution_count": 46,
   "metadata": {},
   "outputs": [
    {
     "name": "stdout",
     "output_type": "stream",
     "text": [
      "\n",
      "Shape of the dataset: (15976, 2)\n",
      "\n",
      "A few X entries\n",
      "stars       \n",
      "1.0    5        I am a long term frequent customer of this est...\n",
      "       47       If you want to pay for everything a la carte t...\n",
      "       64       The TV shows are $4.99 and they have commercia...\n",
      "       73       If I could give it a zero, I would. I order a ...\n",
      "       79       We visited once and were very disappointed in ...\n",
      "                                      ...                        \n",
      "5.0    17954    Amidst a long, exciting day of shopping, my fr...\n",
      "       17958    Great services for a great price! Nail techs a...\n",
      "       17959    The most amazing place for a guilt free breakf...\n",
      "       17961    Super cute florist shop. Nice gifts (they offe...\n",
      "       17964    Omg. The shrimp and grits were amazingly rich ...\n",
      "Name: text, Length: 15976, dtype: object\n",
      "\n",
      "A few Y entries\n",
      "stars       \n",
      "1.0    5        1.0\n",
      "       47       1.0\n",
      "       64       1.0\n",
      "       73       1.0\n",
      "       79       1.0\n",
      "               ... \n",
      "5.0    17954    5.0\n",
      "       17958    5.0\n",
      "       17959    5.0\n",
      "       17961    5.0\n",
      "       17964    5.0\n",
      "Name: stars, Length: 15976, dtype: float64\n"
     ]
    }
   ],
   "source": [
    "yelp_classify = yelp_sample_equal_hund_thou.loc[:, ['stars', 'text']]\n",
    "data_classes = yelp_classify[(yelp_classify['stars']==1) | \n",
    "                           (yelp_classify['stars']==5)]\n",
    "\n",
    "print()\n",
    "print(\"Shape of the dataset:\", data_classes.shape)\n",
    "\n",
    "x_hund_thou_two = data_classes['text']\n",
    "y_hund_thou_two = data_classes['stars']\n",
    "\n",
    "print()\n",
    "print(\"A few X entries\")\n",
    "print(x_hund_thou_two)\n",
    "\n",
    "print()\n",
    "print(\"A few Y entries\")\n",
    "print(y_hund_thou_two)"
   ]
  },
  {
   "attachments": {},
   "cell_type": "markdown",
   "metadata": {},
   "source": [
    "### 4.b.iii. Classify 100,000 standardized reviews into 1-star (negative), 3-star (neutral), and 5-star (positive) classes and separate the dataset into X and Y subsets for prediction:"
   ]
  },
  {
   "cell_type": "code",
   "execution_count": 47,
   "metadata": {},
   "outputs": [
    {
     "name": "stdout",
     "output_type": "stream",
     "text": [
      "\n",
      "Shape of the dataset: (23964, 2)\n",
      "\n",
      "A few X entries\n",
      "stars       \n",
      "1.0    5        I am a long term frequent customer of this est...\n",
      "       47       If you want to pay for everything a la carte t...\n",
      "       64       The TV shows are $4.99 and they have commercia...\n",
      "       73       If I could give it a zero, I would. I order a ...\n",
      "       79       We visited once and were very disappointed in ...\n",
      "                                      ...                        \n",
      "5.0    17954    Amidst a long, exciting day of shopping, my fr...\n",
      "       17958    Great services for a great price! Nail techs a...\n",
      "       17959    The most amazing place for a guilt free breakf...\n",
      "       17961    Super cute florist shop. Nice gifts (they offe...\n",
      "       17964    Omg. The shrimp and grits were amazingly rich ...\n",
      "Name: text, Length: 23964, dtype: object\n",
      "\n",
      "A few Y entries\n",
      "stars       \n",
      "1.0    5        1.0\n",
      "       47       1.0\n",
      "       64       1.0\n",
      "       73       1.0\n",
      "       79       1.0\n",
      "               ... \n",
      "5.0    17954    5.0\n",
      "       17958    5.0\n",
      "       17959    5.0\n",
      "       17961    5.0\n",
      "       17964    5.0\n",
      "Name: stars, Length: 23964, dtype: float64\n"
     ]
    }
   ],
   "source": [
    "yelp_classify = yelp_sample_equal_hund_thou.loc[:, ['stars', 'text']]\n",
    "data_classes = yelp_classify[(yelp_classify['stars']==1) | \n",
    "                           (yelp_classify['stars']==3) | \n",
    "                           (yelp_classify['stars']==5)]\n",
    "\n",
    "print()\n",
    "print(\"Shape of the dataset:\", data_classes.shape)\n",
    "\n",
    "x_hund_thou_three = data_classes['text']\n",
    "y_hund_thou_three = data_classes['stars']\n",
    "\n",
    "print()\n",
    "print(\"A few X entries\")\n",
    "print(x_hund_thou_three)\n",
    "\n",
    "print()\n",
    "print(\"A few Y entries\")\n",
    "print(y_hund_thou_three)"
   ]
  },
  {
   "attachments": {},
   "cell_type": "markdown",
   "metadata": {},
   "source": [
    "### 4.c.i. Classify 1,000,000 standardized reviews into 1-star (negative), 2-star (negative), 3-star (neutral), 4-star (positive), and 5-star (positive) classes and separate the dataset into X and Y subsets for prediction:"
   ]
  },
  {
   "cell_type": "code",
   "execution_count": 48,
   "metadata": {},
   "outputs": [
    {
     "name": "stdout",
     "output_type": "stream",
     "text": [
      "\n",
      "Shape of the dataset: (389560, 2)\n",
      "\n",
      "A few X entries\n",
      "stars       \n",
      "1.0    5        I am a long term frequent customer of this est...\n",
      "       47       If you want to pay for everything a la carte t...\n",
      "       64       The TV shows are $4.99 and they have commercia...\n",
      "       73       If I could give it a zero, I would. I order a ...\n",
      "       79       We visited once and were very disappointed in ...\n",
      "                                      ...                        \n",
      "5.0    17954    Amidst a long, exciting day of shopping, my fr...\n",
      "       17958    Great services for a great price! Nail techs a...\n",
      "       17959    The most amazing place for a guilt free breakf...\n",
      "       17961    Super cute florist shop. Nice gifts (they offe...\n",
      "       17964    Omg. The shrimp and grits were amazingly rich ...\n",
      "Name: text, Length: 23964, dtype: object\n",
      "\n",
      "A few Y entries\n",
      "stars       \n",
      "1.0    5        1.0\n",
      "       47       1.0\n",
      "       64       1.0\n",
      "       73       1.0\n",
      "       79       1.0\n",
      "               ... \n",
      "5.0    17954    5.0\n",
      "       17958    5.0\n",
      "       17959    5.0\n",
      "       17961    5.0\n",
      "       17964    5.0\n",
      "Name: stars, Length: 23964, dtype: float64\n"
     ]
    }
   ],
   "source": [
    "yelp_classify = yelp_sample_equal_mil.loc[:, ['stars', 'text']]\n",
    "\n",
    "print()\n",
    "print(\"Shape of the dataset:\", yelp_classify.shape)\n",
    "\n",
    "x_mil_five = data_classes['text']\n",
    "y_mil_five = data_classes['stars']\n",
    "\n",
    "print()\n",
    "print(\"A few X entries\")\n",
    "print(x_mil_five)\n",
    "\n",
    "print()\n",
    "print(\"A few Y entries\")\n",
    "print(y_mil_five)"
   ]
  },
  {
   "attachments": {},
   "cell_type": "markdown",
   "metadata": {},
   "source": [
    "### 4.c.ii. Classify 1,000,000 standardized reviews into 1-star (negative) and 5-star (positive) classes and separate the dataset into X and Y subsets for prediction:"
   ]
  },
  {
   "cell_type": "code",
   "execution_count": 49,
   "metadata": {},
   "outputs": [
    {
     "name": "stdout",
     "output_type": "stream",
     "text": [
      "\n",
      "Shape of the dataset: (155824, 2)\n",
      "\n",
      "A few X entries\n",
      "stars        \n",
      "1.0    5         I am a long term frequent customer of this est...\n",
      "       47        If you want to pay for everything a la carte t...\n",
      "       64        The TV shows are $4.99 and they have commercia...\n",
      "       73        If I could give it a zero, I would. I order a ...\n",
      "       79        We visited once and were very disappointed in ...\n",
      "                                       ...                        \n",
      "5.0    175390    Donuts are one of those indulgences I rarely a...\n",
      "       175398    Always delicious and clean! Jenny and manager ...\n",
      "       175401    Thank god we found this place. The nonni pizza...\n",
      "       175408    Such a great area.  South Street, Philly is fu...\n",
      "       175409    Great little place for lunch or dinner or grab...\n",
      "Name: text, Length: 155824, dtype: object\n",
      "\n",
      "A few Y entries\n",
      "stars        \n",
      "1.0    5         1.0\n",
      "       47        1.0\n",
      "       64        1.0\n",
      "       73        1.0\n",
      "       79        1.0\n",
      "                ... \n",
      "5.0    175390    5.0\n",
      "       175398    5.0\n",
      "       175401    5.0\n",
      "       175408    5.0\n",
      "       175409    5.0\n",
      "Name: stars, Length: 155824, dtype: float64\n"
     ]
    }
   ],
   "source": [
    "yelp_classify = yelp_sample_equal_mil.loc[:, ['stars', 'text']]\n",
    "data_classes = yelp_classify[(yelp_classify['stars']==1) | \n",
    "                           (yelp_classify['stars']==5)]\n",
    "\n",
    "print()\n",
    "print(\"Shape of the dataset:\", data_classes.shape)\n",
    "\n",
    "x_mil_two = data_classes['text']\n",
    "y_mil_two = data_classes['stars']\n",
    "\n",
    "print()\n",
    "print(\"A few X entries\")\n",
    "print(x_mil_two)\n",
    "\n",
    "print()\n",
    "print(\"A few Y entries\")\n",
    "print(y_mil_two)"
   ]
  },
  {
   "attachments": {},
   "cell_type": "markdown",
   "metadata": {},
   "source": [
    "### 4.c.iii. Classify 1,000,000 standardized reviews into 1-star (negative), 3-star (neutral), and 5-star (positive) classes and separate the dataset into X and Y subsets for prediction:"
   ]
  },
  {
   "cell_type": "code",
   "execution_count": 50,
   "metadata": {},
   "outputs": [
    {
     "name": "stdout",
     "output_type": "stream",
     "text": [
      "\n",
      "Shape of the dataset: (233736, 2)\n",
      "\n",
      "A few X entries\n",
      "stars        \n",
      "1.0    5         I am a long term frequent customer of this est...\n",
      "       47        If you want to pay for everything a la carte t...\n",
      "       64        The TV shows are $4.99 and they have commercia...\n",
      "       73        If I could give it a zero, I would. I order a ...\n",
      "       79        We visited once and were very disappointed in ...\n",
      "                                       ...                        \n",
      "5.0    175390    Donuts are one of those indulgences I rarely a...\n",
      "       175398    Always delicious and clean! Jenny and manager ...\n",
      "       175401    Thank god we found this place. The nonni pizza...\n",
      "       175408    Such a great area.  South Street, Philly is fu...\n",
      "       175409    Great little place for lunch or dinner or grab...\n",
      "Name: text, Length: 233736, dtype: object\n",
      "\n",
      "A few Y entries\n",
      "stars        \n",
      "1.0    5         1.0\n",
      "       47        1.0\n",
      "       64        1.0\n",
      "       73        1.0\n",
      "       79        1.0\n",
      "                ... \n",
      "5.0    175390    5.0\n",
      "       175398    5.0\n",
      "       175401    5.0\n",
      "       175408    5.0\n",
      "       175409    5.0\n",
      "Name: stars, Length: 233736, dtype: float64\n"
     ]
    }
   ],
   "source": [
    "yelp_classify = yelp_sample_equal_mil.loc[:, ['stars', 'text']]\n",
    "data_classes = yelp_classify[(yelp_classify['stars']==1) | \n",
    "                           (yelp_classify['stars']==3) | \n",
    "                           (yelp_classify['stars']==5)]\n",
    "\n",
    "print()\n",
    "print(\"Shape of the dataset:\", data_classes.shape)\n",
    "\n",
    "x_mil_three = data_classes['text']\n",
    "y_mil_three = data_classes['stars']\n",
    "\n",
    "print()\n",
    "print(\"A few X entries\")\n",
    "print(x_mil_three)\n",
    "\n",
    "print()\n",
    "print(\"A few Y entries\")\n",
    "print(y_mil_three)"
   ]
  },
  {
   "attachments": {},
   "cell_type": "markdown",
   "metadata": {},
   "source": [
    "### 5. Clean the review text by removing stopwords and punctuation:"
   ]
  },
  {
   "cell_type": "code",
   "execution_count": 51,
   "metadata": {},
   "outputs": [],
   "source": [
    "def process_text(text):\n",
    "    nopunc = [char for char in text if char not in string.punctuation]\n",
    "    nopunc = ''.join(nopunc)\n",
    "    return [word for word in nopunc.split() if word.lower() not in stopwords.words('english')]"
   ]
  },
  {
   "attachments": {},
   "cell_type": "markdown",
   "metadata": {},
   "source": [
    "### 6.a.i. Convert 10,000 (1-star, 2-star, 3-star, 4-star, and 5-star) reviews into vectors:"
   ]
  },
  {
   "cell_type": "code",
   "execution_count": 52,
   "metadata": {},
   "outputs": [
    {
     "name": "stdout",
     "output_type": "stream",
     "text": [
      "\n",
      "Number of possible words: 21208\n",
      "\n",
      "Sample Uncleaned Review:\n",
      "5       I am a long term frequent customer of this est...\n",
      "47      If you want to pay for everything a la carte t...\n",
      "64      The TV shows are $4.99 and they have commercia...\n",
      "73      If I could give it a zero, I would. I order a ...\n",
      "79      We visited once and were very disappointed in ...\n",
      "                              ...                        \n",
      "6983    Awful. Avoid this place. I took my car here on...\n",
      "6988    This was my second time going \\nFirst time ser...\n",
      "6989    One star isn't even low enough for how I am fe...\n",
      "6998    I went to the drive thru hopefully I can get s...\n",
      "7009    Horrible customer service.  Customers should b...\n",
      "Name: text, Length: 763, dtype: object\n",
      "\n",
      "Vectorized Review:\n",
      "  (0, 0)\t7\n",
      "  (0, 22)\t45\n",
      "  (0, 23)\t46\n",
      "  (0, 24)\t2\n",
      "  (0, 33)\t1\n",
      "  (0, 51)\t1\n",
      "  (0, 54)\t1\n",
      "  (0, 57)\t1\n",
      "  (0, 58)\t1\n",
      "  (0, 60)\t2\n",
      "  (0, 61)\t1\n",
      "  (0, 84)\t1\n",
      "  (0, 86)\t1\n",
      "  (0, 88)\t2\n",
      "  (0, 90)\t1\n",
      "  (0, 123)\t1\n",
      "  (0, 124)\t2\n",
      "  (0, 133)\t1\n",
      "  (0, 139)\t50\n",
      "  (0, 140)\t3\n",
      "  (0, 152)\t2\n",
      "  (0, 153)\t3\n",
      "  (0, 166)\t1\n",
      "  (0, 173)\t2\n",
      "  (0, 186)\t1\n",
      "  :\t:\n",
      "  (0, 21121)\t1\n",
      "  (0, 21123)\t1\n",
      "  (0, 21124)\t1\n",
      "  (0, 21126)\t6\n",
      "  (0, 21128)\t1\n",
      "  (0, 21130)\t1\n",
      "  (0, 21131)\t1\n",
      "  (0, 21132)\t5\n",
      "  (0, 21134)\t6\n",
      "  (0, 21135)\t1\n",
      "  (0, 21136)\t24\n",
      "  (0, 21137)\t2\n",
      "  (0, 21138)\t1\n",
      "  (0, 21141)\t1\n",
      "  (0, 21146)\t22\n",
      "  (0, 21148)\t1\n",
      "  (0, 21156)\t1\n",
      "  (0, 21159)\t1\n",
      "  (0, 21162)\t1\n",
      "  (0, 21168)\t1\n",
      "  (0, 21174)\t19\n",
      "  (0, 21178)\t1\n",
      "  (0, 21180)\t1\n",
      "  (0, 21182)\t1\n",
      "  (0, 21189)\t1\n",
      "\n",
      "Return word from index 5000: Rabbit\n",
      "Return word from index 20000: declared\n"
     ]
    }
   ],
   "source": [
    "vocab_ten_thou_five = CountVectorizer(analyzer=process_text).fit(x_ten_thou_five)\n",
    "r1 = x_ten_thou_five[1]\n",
    "vocab1 = vocab_ten_thou_five.transform([r1])\n",
    "\n",
    "print()\n",
    "print(\"Number of possible words:\", len(vocab_ten_thou_five.vocabulary_))\n",
    "\n",
    "print()\n",
    "print(\"Sample Uncleaned Review:\")\n",
    "print(r1)\n",
    "\n",
    "print()\n",
    "print(\"Vectorized Review:\")\n",
    "print(vocab1)\n",
    "\n",
    "print()\n",
    "print(\"Return word from index 5000:\", vocab_ten_thou_five.get_feature_names_out()[5000])\n",
    "print(\"Return word from index 20000:\", vocab_ten_thou_five.get_feature_names_out()[10000])"
   ]
  },
  {
   "attachments": {},
   "cell_type": "markdown",
   "metadata": {},
   "source": [
    "### 6.a.ii. Convert 10,000 (1-star and 5-star) reviews into vectors:"
   ]
  },
  {
   "cell_type": "code",
   "execution_count": 53,
   "metadata": {},
   "outputs": [
    {
     "name": "stdout",
     "output_type": "stream",
     "text": [
      "\n",
      "Number of possible words: 12741\n",
      "\n",
      "Sample Uncleaned Review:\n",
      "5       I am a long term frequent customer of this est...\n",
      "47      If you want to pay for everything a la carte t...\n",
      "64      The TV shows are $4.99 and they have commercia...\n",
      "73      If I could give it a zero, I would. I order a ...\n",
      "79      We visited once and were very disappointed in ...\n",
      "                              ...                        \n",
      "6983    Awful. Avoid this place. I took my car here on...\n",
      "6988    This was my second time going \\nFirst time ser...\n",
      "6989    One star isn't even low enough for how I am fe...\n",
      "6998    I went to the drive thru hopefully I can get s...\n",
      "7009    Horrible customer service.  Customers should b...\n",
      "Name: text, Length: 763, dtype: object\n",
      "\n",
      "Vectorized Review:\n",
      "  (0, 0)\t7\n",
      "  (0, 10)\t45\n",
      "  (0, 11)\t46\n",
      "  (0, 12)\t2\n",
      "  (0, 20)\t1\n",
      "  (0, 31)\t1\n",
      "  (0, 34)\t1\n",
      "  (0, 35)\t1\n",
      "  (0, 36)\t1\n",
      "  (0, 37)\t2\n",
      "  (0, 38)\t1\n",
      "  (0, 49)\t1\n",
      "  (0, 50)\t1\n",
      "  (0, 52)\t2\n",
      "  (0, 54)\t1\n",
      "  (0, 70)\t1\n",
      "  (0, 71)\t2\n",
      "  (0, 76)\t1\n",
      "  (0, 80)\t50\n",
      "  (0, 81)\t3\n",
      "  (0, 86)\t2\n",
      "  (0, 87)\t3\n",
      "  (0, 95)\t1\n",
      "  (0, 97)\t2\n",
      "  (0, 106)\t1\n",
      "  :\t:\n",
      "  (0, 12700)\t1\n",
      "  (0, 12701)\t1\n",
      "  (0, 12702)\t1\n",
      "  (0, 12704)\t6\n",
      "  (0, 12705)\t1\n",
      "  (0, 12706)\t1\n",
      "  (0, 12707)\t1\n",
      "  (0, 12708)\t5\n",
      "  (0, 12709)\t6\n",
      "  (0, 12710)\t1\n",
      "  (0, 12711)\t24\n",
      "  (0, 12712)\t2\n",
      "  (0, 12713)\t1\n",
      "  (0, 12715)\t1\n",
      "  (0, 12719)\t22\n",
      "  (0, 12721)\t1\n",
      "  (0, 12724)\t1\n",
      "  (0, 12725)\t1\n",
      "  (0, 12728)\t1\n",
      "  (0, 12730)\t1\n",
      "  (0, 12733)\t19\n",
      "  (0, 12735)\t1\n",
      "  (0, 12736)\t1\n",
      "  (0, 12737)\t1\n",
      "  (0, 12738)\t1\n",
      "\n",
      "Return word from index 5000: chefas\n",
      "Return word from index 20000: recommend\n"
     ]
    }
   ],
   "source": [
    "vocab_ten_thou_two = CountVectorizer(analyzer=process_text).fit(x_ten_thou_two)\n",
    "r1 = x_ten_thou_two[1]\n",
    "vocab1 = vocab_ten_thou_two.transform([r1])\n",
    "\n",
    "print()\n",
    "print(\"Number of possible words:\", len(vocab_ten_thou_two.vocabulary_))\n",
    "\n",
    "print()\n",
    "print(\"Sample Uncleaned Review:\")\n",
    "print(r1)\n",
    "\n",
    "print()\n",
    "print(\"Vectorized Review:\")\n",
    "print(vocab1)\n",
    "\n",
    "print()\n",
    "print(\"Return word from index 5000:\", vocab_ten_thou_two.get_feature_names_out()[5000])\n",
    "print(\"Return word from index 20000:\", vocab_ten_thou_two.get_feature_names_out()[10000])"
   ]
  },
  {
   "attachments": {},
   "cell_type": "markdown",
   "metadata": {},
   "source": [
    "### 6.a.iii. Convert 10,000 (1-star, 3-star, and 5-star) reviews into vectors:"
   ]
  },
  {
   "cell_type": "code",
   "execution_count": 54,
   "metadata": {},
   "outputs": [
    {
     "name": "stdout",
     "output_type": "stream",
     "text": [
      "\n",
      "Number of possible words: 15946\n",
      "\n",
      "Sample Uncleaned Review:\n",
      "5       I am a long term frequent customer of this est...\n",
      "47      If you want to pay for everything a la carte t...\n",
      "64      The TV shows are $4.99 and they have commercia...\n",
      "73      If I could give it a zero, I would. I order a ...\n",
      "79      We visited once and were very disappointed in ...\n",
      "                              ...                        \n",
      "6983    Awful. Avoid this place. I took my car here on...\n",
      "6988    This was my second time going \\nFirst time ser...\n",
      "6989    One star isn't even low enough for how I am fe...\n",
      "6998    I went to the drive thru hopefully I can get s...\n",
      "7009    Horrible customer service.  Customers should b...\n",
      "Name: text, Length: 763, dtype: object\n",
      "\n",
      "Vectorized Review:\n",
      "  (0, 0)\t7\n",
      "  (0, 15)\t45\n",
      "  (0, 16)\t46\n",
      "  (0, 17)\t2\n",
      "  (0, 25)\t1\n",
      "  (0, 38)\t1\n",
      "  (0, 41)\t1\n",
      "  (0, 43)\t1\n",
      "  (0, 44)\t1\n",
      "  (0, 45)\t2\n",
      "  (0, 46)\t1\n",
      "  (0, 62)\t1\n",
      "  (0, 63)\t1\n",
      "  (0, 65)\t2\n",
      "  (0, 67)\t1\n",
      "  (0, 85)\t1\n",
      "  (0, 86)\t2\n",
      "  (0, 91)\t1\n",
      "  (0, 95)\t50\n",
      "  (0, 96)\t3\n",
      "  (0, 104)\t2\n",
      "  (0, 105)\t3\n",
      "  (0, 116)\t1\n",
      "  (0, 120)\t2\n",
      "  (0, 130)\t1\n",
      "  :\t:\n",
      "  (0, 15889)\t1\n",
      "  (0, 15891)\t1\n",
      "  (0, 15892)\t1\n",
      "  (0, 15894)\t6\n",
      "  (0, 15896)\t1\n",
      "  (0, 15897)\t1\n",
      "  (0, 15898)\t1\n",
      "  (0, 15899)\t5\n",
      "  (0, 15900)\t6\n",
      "  (0, 15901)\t1\n",
      "  (0, 15902)\t24\n",
      "  (0, 15903)\t2\n",
      "  (0, 15904)\t1\n",
      "  (0, 15906)\t1\n",
      "  (0, 15910)\t22\n",
      "  (0, 15912)\t1\n",
      "  (0, 15917)\t1\n",
      "  (0, 15919)\t1\n",
      "  (0, 15922)\t1\n",
      "  (0, 15925)\t1\n",
      "  (0, 15930)\t19\n",
      "  (0, 15934)\t1\n",
      "  (0, 15935)\t1\n",
      "  (0, 15937)\t1\n",
      "  (0, 15941)\t1\n",
      "\n",
      "Return word from index 5000: alert\n",
      "Return word from index 20000: jaded\n"
     ]
    }
   ],
   "source": [
    "vocab_ten_thou_three = CountVectorizer(analyzer=process_text).fit(x_ten_thou_three)\n",
    "r1 = x_ten_thou_three[1]\n",
    "vocab1 = vocab_ten_thou_three.transform([r1])\n",
    "\n",
    "print()\n",
    "print(\"Number of possible words:\", len(vocab_ten_thou_three.vocabulary_))\n",
    "\n",
    "print()\n",
    "print(\"Sample Uncleaned Review:\")\n",
    "print(r1)\n",
    "\n",
    "print()\n",
    "print(\"Vectorized Review:\")\n",
    "print(vocab1)\n",
    "\n",
    "print()\n",
    "print(\"Return word from index 5000:\", vocab_ten_thou_three.get_feature_names_out()[5000])\n",
    "print(\"Return word from index 20000:\", vocab_ten_thou_three.get_feature_names_out()[10000])"
   ]
  },
  {
   "attachments": {},
   "cell_type": "markdown",
   "metadata": {},
   "source": [
    "### 6.b.i. Convert 100,000 (1-star, 2-star, 3-star, 4-star, and 5-star) reviews into vectors:"
   ]
  },
  {
   "cell_type": "code",
   "execution_count": 55,
   "metadata": {},
   "outputs": [
    {
     "name": "stdout",
     "output_type": "stream",
     "text": [
      "\n",
      "Number of possible words: 76896\n",
      "\n",
      "Sample Uncleaned Review:\n",
      "5        I am a long term frequent customer of this est...\n",
      "47       If you want to pay for everything a la carte t...\n",
      "64       The TV shows are $4.99 and they have commercia...\n",
      "73       If I could give it a zero, I would. I order a ...\n",
      "79       We visited once and were very disappointed in ...\n",
      "                               ...                        \n",
      "73375    So I've never been to BK, but I'd always heard...\n",
      "73382    Went to Praline Connection in 2004 and loved i...\n",
      "73390    There's a reason a nail salon is empty at noon...\n",
      "73401    TERRIBLE, TERRIBLE SERVICE. Got the wild salmo...\n",
      "73426    The order was not correct and a member of the ...\n",
      "Name: text, Length: 7988, dtype: object\n",
      "\n",
      "Vectorized Review:\n",
      "  (0, 0)\t79\n",
      "  (0, 85)\t1\n",
      "  (0, 88)\t1\n",
      "  (0, 89)\t419\n",
      "  (0, 90)\t493\n",
      "  (0, 91)\t23\n",
      "  (0, 92)\t7\n",
      "  (0, 106)\t1\n",
      "  (0, 108)\t1\n",
      "  (0, 109)\t1\n",
      "  (0, 120)\t1\n",
      "  (0, 123)\t1\n",
      "  (0, 125)\t2\n",
      "  (0, 162)\t1\n",
      "  (0, 207)\t1\n",
      "  (0, 210)\t1\n",
      "  (0, 215)\t1\n",
      "  (0, 216)\t3\n",
      "  (0, 217)\t3\n",
      "  (0, 230)\t1\n",
      "  (0, 232)\t4\n",
      "  (0, 234)\t5\n",
      "  (0, 237)\t2\n",
      "  (0, 241)\t1\n",
      "  (0, 242)\t1\n",
      "  :\t:\n",
      "  (0, 76765)\t1\n",
      "  (0, 76772)\t1\n",
      "  (0, 76784)\t172\n",
      "  (0, 76798)\t1\n",
      "  (0, 76800)\t1\n",
      "  (0, 76802)\t2\n",
      "  (0, 76803)\t1\n",
      "  (0, 76804)\t2\n",
      "  (0, 76805)\t2\n",
      "  (0, 76806)\t1\n",
      "  (0, 76807)\t2\n",
      "  (0, 76811)\t1\n",
      "  (0, 76813)\t1\n",
      "  (0, 76815)\t1\n",
      "  (0, 76817)\t2\n",
      "  (0, 76819)\t3\n",
      "  (0, 76823)\t5\n",
      "  (0, 76834)\t8\n",
      "  (0, 76846)\t1\n",
      "  (0, 76849)\t1\n",
      "  (0, 76853)\t1\n",
      "  (0, 76854)\t1\n",
      "  (0, 76870)\t1\n",
      "  (0, 76871)\t1\n",
      "  (0, 76895)\t1\n",
      "\n",
      "Return word from index 5000: Bellied\n",
      "Return word from index 20000: Philly\n"
     ]
    }
   ],
   "source": [
    "vocab_hund_thou_five = CountVectorizer(analyzer=process_text).fit(x_hund_thou_five)\n",
    "r1 = x_hund_thou_five[1]\n",
    "vocab1 = vocab_hund_thou_five.transform([r1])\n",
    "\n",
    "print()\n",
    "print(\"Number of possible words:\", len(vocab_hund_thou_five.vocabulary_))\n",
    "\n",
    "print()\n",
    "print(\"Sample Uncleaned Review:\")\n",
    "print(r1)\n",
    "\n",
    "print()\n",
    "print(\"Vectorized Review:\")\n",
    "print(vocab1)\n",
    "\n",
    "print()\n",
    "print(\"Return word from index 5000:\", vocab_hund_thou_five.get_feature_names_out()[5000])\n",
    "print(\"Return word from index 20000:\", vocab_hund_thou_five.get_feature_names_out()[20000])"
   ]
  },
  {
   "attachments": {},
   "cell_type": "markdown",
   "metadata": {},
   "source": [
    "### 6.b.ii. Convert 100,000 (1-star and 5-star) reviews into vectors:"
   ]
  },
  {
   "cell_type": "code",
   "execution_count": 56,
   "metadata": {},
   "outputs": [
    {
     "name": "stdout",
     "output_type": "stream",
     "text": [
      "\n",
      "Number of possible words: 45501\n",
      "\n",
      "Sample Uncleaned Review:\n",
      "5        I am a long term frequent customer of this est...\n",
      "47       If you want to pay for everything a la carte t...\n",
      "64       The TV shows are $4.99 and they have commercia...\n",
      "73       If I could give it a zero, I would. I order a ...\n",
      "79       We visited once and were very disappointed in ...\n",
      "                               ...                        \n",
      "73375    So I've never been to BK, but I'd always heard...\n",
      "73382    Went to Praline Connection in 2004 and loved i...\n",
      "73390    There's a reason a nail salon is empty at noon...\n",
      "73401    TERRIBLE, TERRIBLE SERVICE. Got the wild salmo...\n",
      "73426    The order was not correct and a member of the ...\n",
      "Name: text, Length: 7988, dtype: object\n",
      "\n",
      "Vectorized Review:\n",
      "  (0, 0)\t79\n",
      "  (0, 48)\t1\n",
      "  (0, 50)\t1\n",
      "  (0, 51)\t419\n",
      "  (0, 52)\t493\n",
      "  (0, 53)\t23\n",
      "  (0, 54)\t7\n",
      "  (0, 65)\t1\n",
      "  (0, 67)\t1\n",
      "  (0, 68)\t1\n",
      "  (0, 75)\t1\n",
      "  (0, 77)\t1\n",
      "  (0, 78)\t2\n",
      "  (0, 100)\t1\n",
      "  (0, 127)\t1\n",
      "  (0, 129)\t1\n",
      "  (0, 131)\t1\n",
      "  (0, 132)\t3\n",
      "  (0, 133)\t3\n",
      "  (0, 138)\t1\n",
      "  (0, 140)\t4\n",
      "  (0, 141)\t5\n",
      "  (0, 144)\t2\n",
      "  (0, 145)\t1\n",
      "  (0, 146)\t1\n",
      "  :\t:\n",
      "  (0, 45440)\t1\n",
      "  (0, 45442)\t1\n",
      "  (0, 45451)\t172\n",
      "  (0, 45460)\t1\n",
      "  (0, 45461)\t1\n",
      "  (0, 45463)\t2\n",
      "  (0, 45464)\t1\n",
      "  (0, 45465)\t2\n",
      "  (0, 45466)\t2\n",
      "  (0, 45467)\t1\n",
      "  (0, 45468)\t2\n",
      "  (0, 45469)\t1\n",
      "  (0, 45471)\t1\n",
      "  (0, 45472)\t1\n",
      "  (0, 45473)\t2\n",
      "  (0, 45474)\t3\n",
      "  (0, 45475)\t5\n",
      "  (0, 45481)\t8\n",
      "  (0, 45484)\t1\n",
      "  (0, 45486)\t1\n",
      "  (0, 45490)\t1\n",
      "  (0, 45491)\t1\n",
      "  (0, 45495)\t1\n",
      "  (0, 45496)\t1\n",
      "  (0, 45500)\t1\n",
      "\n",
      "Return word from index 5000: Curious\n",
      "Return word from index 20000: buggy\n"
     ]
    }
   ],
   "source": [
    "vocab_hund_thou_two = CountVectorizer(analyzer=process_text).fit(x_hund_thou_two)\n",
    "r1 = x_hund_thou_two[1]\n",
    "vocab1 = vocab_hund_thou_two.transform([r1])\n",
    "\n",
    "print()\n",
    "print(\"Number of possible words:\", len(vocab_hund_thou_two.vocabulary_))\n",
    "\n",
    "print()\n",
    "print(\"Sample Uncleaned Review:\")\n",
    "print(r1)\n",
    "\n",
    "print()\n",
    "print(\"Vectorized Review:\")\n",
    "print(vocab1)\n",
    "\n",
    "print()\n",
    "print(\"Return word from index 5000:\", vocab_hund_thou_two.get_feature_names_out()[5000])\n",
    "print(\"Return word from index 20000:\", vocab_hund_thou_two.get_feature_names_out()[20000])"
   ]
  },
  {
   "attachments": {},
   "cell_type": "markdown",
   "metadata": {},
   "source": [
    "### 6.b.iii. Convert 100,000 (1-star, 3-star, and 5-star) reviews into vectors:"
   ]
  },
  {
   "cell_type": "code",
   "execution_count": 57,
   "metadata": {},
   "outputs": [
    {
     "name": "stdout",
     "output_type": "stream",
     "text": [
      "\n",
      "Number of possible words: 57720\n",
      "\n",
      "Sample Uncleaned Review:\n",
      "5        I am a long term frequent customer of this est...\n",
      "47       If you want to pay for everything a la carte t...\n",
      "64       The TV shows are $4.99 and they have commercia...\n",
      "73       If I could give it a zero, I would. I order a ...\n",
      "79       We visited once and were very disappointed in ...\n",
      "                               ...                        \n",
      "73375    So I've never been to BK, but I'd always heard...\n",
      "73382    Went to Praline Connection in 2004 and loved i...\n",
      "73390    There's a reason a nail salon is empty at noon...\n",
      "73401    TERRIBLE, TERRIBLE SERVICE. Got the wild salmo...\n",
      "73426    The order was not correct and a member of the ...\n",
      "Name: text, Length: 7988, dtype: object\n",
      "\n",
      "Vectorized Review:\n",
      "  (0, 0)\t79\n",
      "  (0, 59)\t1\n",
      "  (0, 61)\t1\n",
      "  (0, 62)\t419\n",
      "  (0, 63)\t493\n",
      "  (0, 64)\t23\n",
      "  (0, 65)\t7\n",
      "  (0, 77)\t1\n",
      "  (0, 79)\t1\n",
      "  (0, 80)\t1\n",
      "  (0, 88)\t1\n",
      "  (0, 90)\t1\n",
      "  (0, 92)\t2\n",
      "  (0, 119)\t1\n",
      "  (0, 151)\t1\n",
      "  (0, 153)\t1\n",
      "  (0, 156)\t1\n",
      "  (0, 157)\t3\n",
      "  (0, 158)\t3\n",
      "  (0, 169)\t1\n",
      "  (0, 171)\t4\n",
      "  (0, 172)\t5\n",
      "  (0, 175)\t2\n",
      "  (0, 177)\t1\n",
      "  (0, 178)\t1\n",
      "  :\t:\n",
      "  (0, 57628)\t1\n",
      "  (0, 57633)\t1\n",
      "  (0, 57643)\t172\n",
      "  (0, 57654)\t1\n",
      "  (0, 57655)\t1\n",
      "  (0, 57657)\t2\n",
      "  (0, 57658)\t1\n",
      "  (0, 57659)\t2\n",
      "  (0, 57660)\t2\n",
      "  (0, 57661)\t1\n",
      "  (0, 57662)\t2\n",
      "  (0, 57665)\t1\n",
      "  (0, 57667)\t1\n",
      "  (0, 57668)\t1\n",
      "  (0, 57670)\t2\n",
      "  (0, 57672)\t3\n",
      "  (0, 57675)\t5\n",
      "  (0, 57684)\t8\n",
      "  (0, 57692)\t1\n",
      "  (0, 57694)\t1\n",
      "  (0, 57698)\t1\n",
      "  (0, 57699)\t1\n",
      "  (0, 57711)\t1\n",
      "  (0, 57712)\t1\n",
      "  (0, 57719)\t1\n",
      "\n",
      "Return word from index 5000: Cappuccino\n",
      "Return word from index 20000: Venison\n"
     ]
    }
   ],
   "source": [
    "vocab_hund_thou_three = CountVectorizer(analyzer=process_text).fit(x_hund_thou_three)\n",
    "r1 = x_hund_thou_three[1]\n",
    "vocab1 = vocab_hund_thou_three.transform([r1])\n",
    "\n",
    "print()\n",
    "print(\"Number of possible words:\", len(vocab_hund_thou_three.vocabulary_))\n",
    "\n",
    "print()\n",
    "print(\"Sample Uncleaned Review:\")\n",
    "print(r1)\n",
    "\n",
    "print()\n",
    "print(\"Vectorized Review:\")\n",
    "print(vocab1)\n",
    "\n",
    "print()\n",
    "print(\"Return word from index 5000:\", vocab_hund_thou_three.get_feature_names_out()[5000])\n",
    "print(\"Return word from index 20000:\", vocab_hund_thou_three.get_feature_names_out()[20000])"
   ]
  },
  {
   "attachments": {},
   "cell_type": "markdown",
   "metadata": {},
   "source": [
    "### 6.c.i. Convert 1,000,000 (1-star, 2-star, 3-star, 4-star, and 5-star) reviews into vectors:"
   ]
  },
  {
   "cell_type": "code",
   "execution_count": 58,
   "metadata": {},
   "outputs": [
    {
     "name": "stdout",
     "output_type": "stream",
     "text": [
      "\n",
      "Number of possible words: 57720\n",
      "\n",
      "Sample Uncleaned Review:\n",
      "5        I am a long term frequent customer of this est...\n",
      "47       If you want to pay for everything a la carte t...\n",
      "64       The TV shows are $4.99 and they have commercia...\n",
      "73       If I could give it a zero, I would. I order a ...\n",
      "79       We visited once and were very disappointed in ...\n",
      "                               ...                        \n",
      "73375    So I've never been to BK, but I'd always heard...\n",
      "73382    Went to Praline Connection in 2004 and loved i...\n",
      "73390    There's a reason a nail salon is empty at noon...\n",
      "73401    TERRIBLE, TERRIBLE SERVICE. Got the wild salmo...\n",
      "73426    The order was not correct and a member of the ...\n",
      "Name: text, Length: 7988, dtype: object\n",
      "\n",
      "Vectorized Review:\n",
      "  (0, 0)\t79\n",
      "  (0, 59)\t1\n",
      "  (0, 61)\t1\n",
      "  (0, 62)\t419\n",
      "  (0, 63)\t493\n",
      "  (0, 64)\t23\n",
      "  (0, 65)\t7\n",
      "  (0, 77)\t1\n",
      "  (0, 79)\t1\n",
      "  (0, 80)\t1\n",
      "  (0, 88)\t1\n",
      "  (0, 90)\t1\n",
      "  (0, 92)\t2\n",
      "  (0, 119)\t1\n",
      "  (0, 151)\t1\n",
      "  (0, 153)\t1\n",
      "  (0, 156)\t1\n",
      "  (0, 157)\t3\n",
      "  (0, 158)\t3\n",
      "  (0, 169)\t1\n",
      "  (0, 171)\t4\n",
      "  (0, 172)\t5\n",
      "  (0, 175)\t2\n",
      "  (0, 177)\t1\n",
      "  (0, 178)\t1\n",
      "  :\t:\n",
      "  (0, 57628)\t1\n",
      "  (0, 57633)\t1\n",
      "  (0, 57643)\t172\n",
      "  (0, 57654)\t1\n",
      "  (0, 57655)\t1\n",
      "  (0, 57657)\t2\n",
      "  (0, 57658)\t1\n",
      "  (0, 57659)\t2\n",
      "  (0, 57660)\t2\n",
      "  (0, 57661)\t1\n",
      "  (0, 57662)\t2\n",
      "  (0, 57665)\t1\n",
      "  (0, 57667)\t1\n",
      "  (0, 57668)\t1\n",
      "  (0, 57670)\t2\n",
      "  (0, 57672)\t3\n",
      "  (0, 57675)\t5\n",
      "  (0, 57684)\t8\n",
      "  (0, 57692)\t1\n",
      "  (0, 57694)\t1\n",
      "  (0, 57698)\t1\n",
      "  (0, 57699)\t1\n",
      "  (0, 57711)\t1\n",
      "  (0, 57712)\t1\n",
      "  (0, 57719)\t1\n",
      "\n",
      "Return word from index 5000: Cappuccino\n",
      "Return word from index 20000: Venison\n"
     ]
    }
   ],
   "source": [
    "vocab_mil_five = CountVectorizer(analyzer=process_text).fit(x_mil_five)\n",
    "r1 = x_mil_five[1]\n",
    "vocab1 = vocab_mil_five.transform([r1])\n",
    "\n",
    "print()\n",
    "print(\"Number of possible words:\", len(vocab_mil_five.vocabulary_))\n",
    "\n",
    "print()\n",
    "print(\"Sample Uncleaned Review:\")\n",
    "print(r1)\n",
    "\n",
    "print()\n",
    "print(\"Vectorized Review:\")\n",
    "print(vocab1)\n",
    "\n",
    "print()\n",
    "print(\"Return word from index 5000:\", vocab_mil_five.get_feature_names_out()[5000])\n",
    "print(\"Return word from index 20000:\", vocab_mil_five.get_feature_names_out()[20000])"
   ]
  },
  {
   "attachments": {},
   "cell_type": "markdown",
   "metadata": {},
   "source": [
    "### 6.c.ii. Convert 1,000,000 (1-star and 5-star) reviews into vectors:"
   ]
  },
  {
   "cell_type": "code",
   "execution_count": 59,
   "metadata": {},
   "outputs": [
    {
     "name": "stdout",
     "output_type": "stream",
     "text": [
      "\n",
      "Number of possible words: 167844\n",
      "\n",
      "Sample Uncleaned Review:\n",
      "5         I am a long term frequent customer of this est...\n",
      "47        If you want to pay for everything a la carte t...\n",
      "64        The TV shows are $4.99 and they have commercia...\n",
      "73        If I could give it a zero, I would. I order a ...\n",
      "79        We visited once and were very disappointed in ...\n",
      "                                ...                        \n",
      "566370    Not a real problem with the food, it is McDona...\n",
      "566371    Horrible!Horrible!Horrible! False claims! My l...\n",
      "566380    I used this company to manage a rental propert...\n",
      "566382    Very disappointing.  Fried okra and French fri...\n",
      "566386    Let me start out with the one positive and rea...\n",
      "Name: text, Length: 77912, dtype: object\n",
      "\n",
      "Vectorized Review:\n",
      "  (0, 0)\t1021\n",
      "  (0, 1)\t6\n",
      "  (0, 2)\t3\n",
      "  (0, 3)\t1\n",
      "  (0, 5)\t1\n",
      "  (0, 9)\t1\n",
      "  (0, 31)\t2\n",
      "  (0, 47)\t1\n",
      "  (0, 58)\t1\n",
      "  (0, 84)\t1\n",
      "  (0, 126)\t1\n",
      "  (0, 138)\t1\n",
      "  (0, 162)\t6\n",
      "  (0, 191)\t2\n",
      "  (0, 216)\t2\n",
      "  (0, 217)\t1\n",
      "  (0, 229)\t1\n",
      "  (0, 241)\t1\n",
      "  (0, 248)\t5\n",
      "  (0, 250)\t1\n",
      "  (0, 251)\t1\n",
      "  (0, 258)\t1\n",
      "  (0, 280)\t3\n",
      "  (0, 286)\t1\n",
      "  (0, 287)\t2\n",
      "  :\t:\n",
      "  (0, 167784)\t1\n",
      "  (0, 167787)\t1\n",
      "  (0, 167788)\t1\n",
      "  (0, 167789)\t1\n",
      "  (0, 167790)\t1\n",
      "  (0, 167791)\t1\n",
      "  (0, 167794)\t1\n",
      "  (0, 167795)\t36\n",
      "  (0, 167796)\t1\n",
      "  (0, 167797)\t1\n",
      "  (0, 167798)\t1\n",
      "  (0, 167799)\t4\n",
      "  (0, 167800)\t1\n",
      "  (0, 167801)\t1\n",
      "  (0, 167803)\t5\n",
      "  (0, 167807)\t1\n",
      "  (0, 167810)\t1\n",
      "  (0, 167816)\t1\n",
      "  (0, 167827)\t1\n",
      "  (0, 167830)\t1\n",
      "  (0, 167838)\t1\n",
      "  (0, 167839)\t1\n",
      "  (0, 167840)\t1\n",
      "  (0, 167841)\t1\n",
      "  (0, 167843)\t1\n",
      "\n",
      "Return word from index 5000: 40400\n",
      "Return word from index 20000: Competitive\n"
     ]
    }
   ],
   "source": [
    "vocab_mil_two = CountVectorizer(analyzer=process_text).fit(x_mil_two)\n",
    "r1 = x_mil_two[1]\n",
    "vocab1 = vocab_mil_two.transform([r1])\n",
    "\n",
    "print()\n",
    "print(\"Number of possible words:\", len(vocab_mil_two.vocabulary_))\n",
    "\n",
    "print()\n",
    "print(\"Sample Uncleaned Review:\")\n",
    "print(r1)\n",
    "\n",
    "print()\n",
    "print(\"Vectorized Review:\")\n",
    "print(vocab1)\n",
    "\n",
    "print()\n",
    "print(\"Return word from index 5000:\", vocab_mil_two.get_feature_names_out()[5000])\n",
    "print(\"Return word from index 20000:\", vocab_mil_two.get_feature_names_out()[20000])"
   ]
  },
  {
   "attachments": {},
   "cell_type": "markdown",
   "metadata": {},
   "source": [
    "### 6.c.iii. Convert 1,000,000 (1-star, 3-star, and 5-star) reviews into vectors:"
   ]
  },
  {
   "cell_type": "code",
   "execution_count": 60,
   "metadata": {},
   "outputs": [
    {
     "name": "stdout",
     "output_type": "stream",
     "text": [
      "\n",
      "Number of possible words: 218502\n",
      "\n",
      "Sample Uncleaned Review:\n",
      "5         I am a long term frequent customer of this est...\n",
      "47        If you want to pay for everything a la carte t...\n",
      "64        The TV shows are $4.99 and they have commercia...\n",
      "73        If I could give it a zero, I would. I order a ...\n",
      "79        We visited once and were very disappointed in ...\n",
      "                                ...                        \n",
      "566370    Not a real problem with the food, it is McDona...\n",
      "566371    Horrible!Horrible!Horrible! False claims! My l...\n",
      "566380    I used this company to manage a rental propert...\n",
      "566382    Very disappointing.  Fried okra and French fri...\n",
      "566386    Let me start out with the one positive and rea...\n",
      "Name: text, Length: 77912, dtype: object\n",
      "\n",
      "Vectorized Review:\n",
      "  (0, 0)\t1021\n",
      "  (0, 1)\t6\n",
      "  (0, 2)\t3\n",
      "  (0, 3)\t1\n",
      "  (0, 5)\t1\n",
      "  (0, 9)\t1\n",
      "  (0, 34)\t2\n",
      "  (0, 51)\t1\n",
      "  (0, 62)\t1\n",
      "  (0, 95)\t1\n",
      "  (0, 145)\t1\n",
      "  (0, 159)\t1\n",
      "  (0, 185)\t6\n",
      "  (0, 223)\t2\n",
      "  (0, 254)\t2\n",
      "  (0, 255)\t1\n",
      "  (0, 268)\t1\n",
      "  (0, 280)\t1\n",
      "  (0, 289)\t5\n",
      "  (0, 291)\t1\n",
      "  (0, 292)\t1\n",
      "  (0, 299)\t1\n",
      "  (0, 326)\t3\n",
      "  (0, 332)\t1\n",
      "  (0, 333)\t2\n",
      "  :\t:\n",
      "  (0, 218407)\t1\n",
      "  (0, 218409)\t1\n",
      "  (0, 218410)\t1\n",
      "  (0, 218411)\t1\n",
      "  (0, 218413)\t1\n",
      "  (0, 218418)\t1\n",
      "  (0, 218419)\t36\n",
      "  (0, 218421)\t1\n",
      "  (0, 218423)\t1\n",
      "  (0, 218424)\t1\n",
      "  (0, 218425)\t1\n",
      "  (0, 218426)\t4\n",
      "  (0, 218427)\t1\n",
      "  (0, 218428)\t1\n",
      "  (0, 218430)\t5\n",
      "  (0, 218434)\t1\n",
      "  (0, 218437)\t1\n",
      "  (0, 218449)\t1\n",
      "  (0, 218468)\t1\n",
      "  (0, 218471)\t1\n",
      "  (0, 218490)\t1\n",
      "  (0, 218491)\t1\n",
      "  (0, 218492)\t1\n",
      "  (0, 218499)\t1\n",
      "  (0, 218501)\t1\n",
      "\n",
      "Return word from index 5000: 2pcs\n",
      "Return word from index 20000: Bus\n"
     ]
    }
   ],
   "source": [
    "vocab_mil_three = CountVectorizer(analyzer=process_text).fit(x_mil_three)\n",
    "r1 = x_mil_three[1]\n",
    "vocab1 = vocab_mil_three.transform([r1])\n",
    "\n",
    "print()\n",
    "print(\"Number of possible words:\", len(vocab_mil_three.vocabulary_))\n",
    "\n",
    "print()\n",
    "print(\"Sample Uncleaned Review:\")\n",
    "print(r1)\n",
    "\n",
    "print()\n",
    "print(\"Vectorized Review:\")\n",
    "print(vocab1)\n",
    "\n",
    "print()\n",
    "print(\"Return word from index 5000:\", vocab_mil_three.get_feature_names_out()[5000])\n",
    "print(\"Return word from index 20000:\", vocab_mil_three.get_feature_names_out()[20000])"
   ]
  },
  {
   "attachments": {},
   "cell_type": "markdown",
   "metadata": {},
   "source": [
    "### 7.a.i. Vectorize all 10,000 (1-star, 2-star, 3-star, 4-star, and 5-star) reviews and split processed dataset into training and testing sets:"
   ]
  },
  {
   "cell_type": "code",
   "execution_count": 61,
   "metadata": {},
   "outputs": [],
   "source": [
    "x_ten_thou_five = vocab_ten_thou_five.transform(x_ten_thou_five)\n",
    "x_train_ten_thou_five, x_test_ten_thou_five, y_train_ten_thou_five, y_test_ten_thou_five = train_test_split(x_ten_thou_five, y_ten_thou_five, test_size=0.2, random_state=101)"
   ]
  },
  {
   "attachments": {},
   "cell_type": "markdown",
   "metadata": {},
   "source": [
    "### 7.a.ii. Vectorize all 10,000 (1-star and 5-star) reviews and split processed dataset into training and testing sets:"
   ]
  },
  {
   "cell_type": "code",
   "execution_count": 62,
   "metadata": {},
   "outputs": [],
   "source": [
    "x_ten_thou_two = vocab_ten_thou_two.transform(x_ten_thou_two)\n",
    "x_train_ten_thou_two, x_test_ten_thou_two, y_train_ten_thou_two, y_test_ten_thou_two = train_test_split(x_ten_thou_two, y_ten_thou_two, test_size=0.2, random_state=101)"
   ]
  },
  {
   "attachments": {},
   "cell_type": "markdown",
   "metadata": {},
   "source": [
    "### 7.a.iii. Vectorize all 10,000 (1-star, 3-star, and 5-star) reviews and split processed dataset into training and testing sets:"
   ]
  },
  {
   "cell_type": "code",
   "execution_count": 63,
   "metadata": {},
   "outputs": [],
   "source": [
    "x_ten_thou_three = vocab_ten_thou_three.transform(x_ten_thou_three)\n",
    "x_train_ten_thou_three, x_test_ten_thou_three, y_train_ten_thou_three, y_test_ten_thou_three = train_test_split(x_ten_thou_three, y_ten_thou_three, test_size=0.2, random_state=101)"
   ]
  },
  {
   "attachments": {},
   "cell_type": "markdown",
   "metadata": {},
   "source": [
    "### 7.b.i. Vectorize all 100,000 (1-star, 2-star, 3-star, 4-star, and 5-star) reviews and split processed dataset into training and testing sets:"
   ]
  },
  {
   "cell_type": "code",
   "execution_count": 64,
   "metadata": {},
   "outputs": [],
   "source": [
    "x_hund_thou_five = vocab_hund_thou_five.transform(x_hund_thou_five)\n",
    "x_train_hund_thou_five, x_test_hund_thou_five, y_train_hund_thou_five, y_test_hund_thou_five = train_test_split(x_hund_thou_five, y_hund_thou_five, test_size=0.2, random_state=101)"
   ]
  },
  {
   "attachments": {},
   "cell_type": "markdown",
   "metadata": {},
   "source": [
    "### 7.b.ii. Vectorize all 100,000 (1-star and 5-star) reviews and split processed dataset into training and testing sets:"
   ]
  },
  {
   "cell_type": "code",
   "execution_count": 65,
   "metadata": {},
   "outputs": [],
   "source": [
    "x_hund_thou_two = vocab_hund_thou_two.transform(x_hund_thou_two)\n",
    "x_train_hund_thou_two, x_test_hund_thou_two, y_train_hund_thou_two, y_test_hund_thou_two = train_test_split(x_hund_thou_two, y_hund_thou_two, test_size=0.2, random_state=101)"
   ]
  },
  {
   "attachments": {},
   "cell_type": "markdown",
   "metadata": {},
   "source": [
    "### 7.b.iii. Vectorize all 100,000 (1-star, 3-star, and 5-star) reviews and split processed dataset into training and testing sets:"
   ]
  },
  {
   "cell_type": "code",
   "execution_count": 66,
   "metadata": {},
   "outputs": [],
   "source": [
    "x_hund_thou_three = vocab_hund_thou_three.transform(x_hund_thou_three)\n",
    "x_train_hund_thou_three, x_test_hund_thou_three, y_train_hund_thou_three, y_test_hund_thou_three = train_test_split(x_hund_thou_three, y_hund_thou_three, test_size=0.2, random_state=101)"
   ]
  },
  {
   "attachments": {},
   "cell_type": "markdown",
   "metadata": {},
   "source": [
    "### 7.c.i. Vectorize all 1,000,000 (1-star, 2-star, 3-star, 4-star, and 5-star) reviews and split processed dataset into training and testing sets:"
   ]
  },
  {
   "cell_type": "code",
   "execution_count": 67,
   "metadata": {},
   "outputs": [],
   "source": [
    "x_mil_five = vocab_mil_five.transform(x_mil_five)\n",
    "x_train_mil_five, x_test_mil_five, y_train_mil_five, y_test_mil_five = train_test_split(x_mil_five, y_mil_five, test_size=0.2, random_state=101)"
   ]
  },
  {
   "attachments": {},
   "cell_type": "markdown",
   "metadata": {},
   "source": [
    "### 7.c.ii. Vectorize all 1,000,000 (1-star and 5-star) reviews and split processed dataset into training and testing sets:"
   ]
  },
  {
   "cell_type": "code",
   "execution_count": 68,
   "metadata": {},
   "outputs": [],
   "source": [
    "x_mil_two = vocab_mil_two.transform(x_mil_two)\n",
    "x_train_mil_two, x_test_mil_two, y_train_mil_two, y_test_mil_two = train_test_split(x_mil_two, y_mil_two, test_size=0.2, random_state=101)"
   ]
  },
  {
   "attachments": {},
   "cell_type": "markdown",
   "metadata": {},
   "source": [
    "### 7.c.iii. Vectorize all 1,000,000 (1-star, 3-star, and 5-star) reviews and split processed dataset into training and testing sets:"
   ]
  },
  {
   "cell_type": "code",
   "execution_count": 69,
   "metadata": {},
   "outputs": [],
   "source": [
    "x_mil_three = vocab_mil_three.transform(x_mil_three)\n",
    "x_train_mil_three, x_test_mil_three, y_train_mil_three, y_test_mil_three = train_test_split(x_mil_three, y_mil_three, test_size=0.2, random_state=101)"
   ]
  },
  {
   "attachments": {},
   "cell_type": "markdown",
   "metadata": {},
   "source": [
    "### 8.a.i. Modeling 10,000 (1-star, 2-star, 3-star, 4-star, and 5-star) reviews with Multinomial Naive Bayes (since we're working with sparse data, we cannot rely on the Gaussian Naive Bayes assumptions):"
   ]
  },
  {
   "cell_type": "code",
   "execution_count": 70,
   "metadata": {},
   "outputs": [
    {
     "name": "stdout",
     "output_type": "stream",
     "text": [
      "\n",
      "Score: 47.05\n",
      "\n",
      "Classification Report:\n",
      "              precision    recall  f1-score   support\n",
      "\n",
      "         1.0       0.59      0.68      0.63       145\n",
      "         2.0       0.43      0.39      0.41       163\n",
      "         3.0       0.37      0.48      0.42       149\n",
      "         4.0       0.41      0.47      0.44       156\n",
      "         5.0       0.70      0.34      0.46       150\n",
      "\n",
      "    accuracy                           0.47       763\n",
      "   macro avg       0.50      0.47      0.47       763\n",
      "weighted avg       0.50      0.47      0.47       763\n",
      "\n"
     ]
    }
   ],
   "source": [
    "# Multinomial Naive Bayes\n",
    "from sklearn.naive_bayes import MultinomialNB\n",
    "mnb_ten_5 = MultinomialNB()\n",
    "mnb_ten_5.fit(x_train_ten_thou_five, y_train_ten_thou_five)\n",
    "predmnb = mnb_ten_5.predict(x_test_ten_thou_five)\n",
    "\n",
    "print()\n",
    "print(\"Score:\", round(accuracy_score(y_test_ten_thou_five, predmnb) * 100, 2))\n",
    "\n",
    "print()\n",
    "print(\"Classification Report:\")\n",
    "print(classification_report(y_test_ten_thou_five, predmnb))"
   ]
  },
  {
   "attachments": {},
   "cell_type": "markdown",
   "metadata": {},
   "source": [
    "### 8.a.ii. Modeling 10,000 (1-star and 5-star) reviews with Multinomial Naive Bayes:"
   ]
  },
  {
   "cell_type": "code",
   "execution_count": 71,
   "metadata": {},
   "outputs": [
    {
     "name": "stdout",
     "output_type": "stream",
     "text": [
      "\n",
      "Score: 90.52\n",
      "\n",
      "Classification Report:\n",
      "              precision    recall  f1-score   support\n",
      "\n",
      "         1.0       0.92      0.90      0.91       156\n",
      "         5.0       0.90      0.91      0.90       150\n",
      "\n",
      "    accuracy                           0.91       306\n",
      "   macro avg       0.91      0.91      0.91       306\n",
      "weighted avg       0.91      0.91      0.91       306\n",
      "\n"
     ]
    }
   ],
   "source": [
    "# Multinomial Naive Bayes\n",
    "from sklearn.naive_bayes import MultinomialNB\n",
    "mnb_ten_2 = MultinomialNB()\n",
    "mnb_ten_2.fit(x_train_ten_thou_two, y_train_ten_thou_two)\n",
    "predmnb = mnb_ten_2.predict(x_test_ten_thou_two)\n",
    "\n",
    "print()\n",
    "print(\"Score:\", round(accuracy_score(y_test_ten_thou_two, predmnb) * 100, 2))\n",
    "\n",
    "print()\n",
    "print(\"Classification Report:\")\n",
    "print(classification_report(y_test_ten_thou_two, predmnb))"
   ]
  },
  {
   "attachments": {},
   "cell_type": "markdown",
   "metadata": {},
   "source": [
    "### 8.a.iii. Modeling 10,000 (1-star, 3-star, and 5-star) reviews with Multinomial Naive Bayes:"
   ]
  },
  {
   "cell_type": "code",
   "execution_count": 72,
   "metadata": {},
   "outputs": [
    {
     "name": "stdout",
     "output_type": "stream",
     "text": [
      "\n",
      "Score: 74.67\n",
      "\n",
      "Classification Report:\n",
      "              precision    recall  f1-score   support\n",
      "\n",
      "         1.0       0.78      0.81      0.79       153\n",
      "         3.0       0.67      0.75      0.70       166\n",
      "         5.0       0.83      0.68      0.75       139\n",
      "\n",
      "    accuracy                           0.75       458\n",
      "   macro avg       0.76      0.74      0.75       458\n",
      "weighted avg       0.75      0.75      0.75       458\n",
      "\n"
     ]
    }
   ],
   "source": [
    "# Multinomial Naive Bayes\n",
    "from sklearn.naive_bayes import MultinomialNB\n",
    "mnb_ten_3 = MultinomialNB()\n",
    "mnb_ten_3.fit(x_train_ten_thou_three, y_train_ten_thou_three)\n",
    "predmnb = mnb_ten_3.predict(x_test_ten_thou_three)\n",
    "\n",
    "print()\n",
    "print(\"Score:\", round(accuracy_score(y_test_ten_thou_three, predmnb) * 100, 2))\n",
    "\n",
    "print()\n",
    "print(\"Classification Report:\")\n",
    "print(classification_report(y_test_ten_thou_three, predmnb))"
   ]
  },
  {
   "attachments": {},
   "cell_type": "markdown",
   "metadata": {},
   "source": [
    "### 8.b.i. Modeling 100,000 (1-star, 2-star, 3-star, 4-star, and 5-star) reviews with Multinomial Naive Bayes:"
   ]
  },
  {
   "cell_type": "code",
   "execution_count": 73,
   "metadata": {},
   "outputs": [
    {
     "name": "stdout",
     "output_type": "stream",
     "text": [
      "\n",
      "Score: 52.77\n",
      "\n",
      "Classification Report:\n",
      "              precision    recall  f1-score   support\n",
      "\n",
      "         1.0       0.63      0.67      0.65      1626\n",
      "         2.0       0.45      0.46      0.46      1584\n",
      "         3.0       0.44      0.47      0.46      1650\n",
      "         4.0       0.47      0.50      0.48      1596\n",
      "         5.0       0.68      0.54      0.60      1532\n",
      "\n",
      "    accuracy                           0.53      7988\n",
      "   macro avg       0.54      0.53      0.53      7988\n",
      "weighted avg       0.54      0.53      0.53      7988\n",
      "\n"
     ]
    }
   ],
   "source": [
    "# Multinomial Naive Bayes\n",
    "from sklearn.naive_bayes import MultinomialNB\n",
    "mnb_hund_5 = MultinomialNB()\n",
    "mnb_hund_5.fit(x_train_hund_thou_five, y_train_hund_thou_five)\n",
    "predmnb = mnb_hund_5.predict(x_test_hund_thou_five)\n",
    "\n",
    "print()\n",
    "print(\"Score:\", round(accuracy_score(y_test_hund_thou_five, predmnb) * 100, 2))\n",
    "\n",
    "print()\n",
    "print(\"Classification Report:\")\n",
    "print(classification_report(y_test_hund_thou_five, predmnb))"
   ]
  },
  {
   "attachments": {},
   "cell_type": "markdown",
   "metadata": {},
   "source": [
    "### 8.b.ii. Modeling 100,000 (1-star and 5-star) reviews with Multinomial Naive Bayes:"
   ]
  },
  {
   "cell_type": "code",
   "execution_count": 100,
   "metadata": {},
   "outputs": [
    {
     "name": "stdout",
     "output_type": "stream",
     "text": [
      "\n",
      "Score: 94.9\n",
      "\n",
      "Classification Report:\n",
      "              precision    recall  f1-score   support\n",
      "\n",
      "         1.0       0.94      0.96      0.95      1604\n",
      "         5.0       0.95      0.94      0.95      1592\n",
      "\n",
      "    accuracy                           0.95      3196\n",
      "   macro avg       0.95      0.95      0.95      3196\n",
      "weighted avg       0.95      0.95      0.95      3196\n",
      "\n"
     ]
    }
   ],
   "source": [
    "# Multinomial Naive Bayes\n",
    "from sklearn.naive_bayes import MultinomialNB\n",
    "mnb_hund_2 = MultinomialNB()\n",
    "mnb_hund_2.fit(x_train_hund_thou_two, y_train_hund_thou_two)\n",
    "predmnb = mnb_hund_2.predict(x_test_hund_thou_two)\n",
    "\n",
    "print()\n",
    "print(\"Score:\", round(accuracy_score(y_test_hund_thou_two, predmnb) * 100, 2))\n",
    "\n",
    "print()\n",
    "print(\"Classification Report:\")\n",
    "print(classification_report(y_test_hund_thou_two, predmnb))"
   ]
  },
  {
   "attachments": {},
   "cell_type": "markdown",
   "metadata": {},
   "source": [
    "### 8.b.iii. Modeling 100,000 (1-star, 3-star, and 5-star) reviews with Multinomial Naive Bayes:"
   ]
  },
  {
   "cell_type": "code",
   "execution_count": 75,
   "metadata": {},
   "outputs": [
    {
     "name": "stdout",
     "output_type": "stream",
     "text": [
      "\n",
      "Score: 78.24\n",
      "\n",
      "Classification Report:\n",
      "              precision    recall  f1-score   support\n",
      "\n",
      "         1.0       0.83      0.80      0.81      1640\n",
      "         3.0       0.68      0.78      0.73      1604\n",
      "         5.0       0.87      0.77      0.81      1549\n",
      "\n",
      "    accuracy                           0.78      4793\n",
      "   macro avg       0.79      0.78      0.78      4793\n",
      "weighted avg       0.79      0.78      0.78      4793\n",
      "\n"
     ]
    }
   ],
   "source": [
    "# Multinomial Naive Bayes\n",
    "from sklearn.naive_bayes import MultinomialNB\n",
    "mnb_hund_3 = MultinomialNB()\n",
    "mnb_hund_3.fit(x_train_hund_thou_three, y_train_hund_thou_three)\n",
    "predmnb = mnb_hund_3.predict(x_test_hund_thou_three)\n",
    "\n",
    "print()\n",
    "print(\"Score:\", round(accuracy_score(y_test_hund_thou_three, predmnb) * 100, 2))\n",
    "\n",
    "print()\n",
    "print(\"Classification Report:\")\n",
    "print(classification_report(y_test_hund_thou_three, predmnb))"
   ]
  },
  {
   "attachments": {},
   "cell_type": "markdown",
   "metadata": {},
   "source": [
    "### 8.c.i. Modeling 1,000,000 (1-star, 2-star, 3-star, 4-star, and 5-star) reviews with Multinomial Naive Bayes:"
   ]
  },
  {
   "cell_type": "code",
   "execution_count": 76,
   "metadata": {},
   "outputs": [
    {
     "name": "stdout",
     "output_type": "stream",
     "text": [
      "\n",
      "Score: 78.24\n",
      "\n",
      "Classification Report:\n",
      "              precision    recall  f1-score   support\n",
      "\n",
      "         1.0       0.83      0.80      0.81      1640\n",
      "         3.0       0.68      0.78      0.73      1604\n",
      "         5.0       0.87      0.77      0.81      1549\n",
      "\n",
      "    accuracy                           0.78      4793\n",
      "   macro avg       0.79      0.78      0.78      4793\n",
      "weighted avg       0.79      0.78      0.78      4793\n",
      "\n"
     ]
    }
   ],
   "source": [
    "# Multinomial Naive Bayes\n",
    "from sklearn.naive_bayes import MultinomialNB\n",
    "mnb_mil_5 = MultinomialNB()\n",
    "mnb_mil_5.fit(x_train_mil_five, y_train_mil_five)\n",
    "predmnb = mnb_mil_5.predict(x_test_mil_five)\n",
    "\n",
    "print()\n",
    "print(\"Score:\", round(accuracy_score(y_test_mil_five, predmnb) * 100, 2))\n",
    "\n",
    "print()\n",
    "print(\"Classification Report:\")\n",
    "print(classification_report(y_test_mil_five, predmnb))"
   ]
  },
  {
   "attachments": {},
   "cell_type": "markdown",
   "metadata": {},
   "source": [
    "### 8.c.ii. Modeling 1,000,000 (1-star and 5-star) reviews with Multinomial Naive Bayes:"
   ]
  },
  {
   "cell_type": "code",
   "execution_count": 77,
   "metadata": {},
   "outputs": [
    {
     "name": "stdout",
     "output_type": "stream",
     "text": [
      "\n",
      "Score: 93.54\n",
      "\n",
      "Classification Report:\n",
      "              precision    recall  f1-score   support\n",
      "\n",
      "         1.0       0.94      0.93      0.93     15574\n",
      "         5.0       0.93      0.94      0.94     15591\n",
      "\n",
      "    accuracy                           0.94     31165\n",
      "   macro avg       0.94      0.94      0.94     31165\n",
      "weighted avg       0.94      0.94      0.94     31165\n",
      "\n"
     ]
    }
   ],
   "source": [
    "# Multinomial Naive Bayes\n",
    "from sklearn.naive_bayes import MultinomialNB\n",
    "mnb_mil_2 = MultinomialNB()\n",
    "mnb_mil_2.fit(x_train_mil_two, y_train_mil_two)\n",
    "predmnb = mnb_mil_2.predict(x_test_mil_two)\n",
    "\n",
    "print()\n",
    "print(\"Score:\", round(accuracy_score(y_test_mil_two, predmnb) * 100, 2))\n",
    "\n",
    "print()\n",
    "print(\"Classification Report:\")\n",
    "print(classification_report(y_test_mil_two, predmnb))"
   ]
  },
  {
   "attachments": {},
   "cell_type": "markdown",
   "metadata": {},
   "source": [
    "### 8.c.iii. Modeling 1,000,000 (1-star, 3-star, and 5-star) reviews with Multinomial Naive Bayes:"
   ]
  },
  {
   "cell_type": "code",
   "execution_count": 78,
   "metadata": {},
   "outputs": [
    {
     "name": "stdout",
     "output_type": "stream",
     "text": [
      "\n",
      "Score: 79.66\n",
      "\n",
      "Classification Report:\n",
      "              precision    recall  f1-score   support\n",
      "\n",
      "         1.0       0.81      0.78      0.80     15566\n",
      "         3.0       0.70      0.78      0.74     15502\n",
      "         5.0       0.89      0.83      0.86     15680\n",
      "\n",
      "    accuracy                           0.80     46748\n",
      "   macro avg       0.80      0.80      0.80     46748\n",
      "weighted avg       0.80      0.80      0.80     46748\n",
      "\n"
     ]
    }
   ],
   "source": [
    "# Multinomial Naive Bayes\n",
    "from sklearn.naive_bayes import MultinomialNB\n",
    "mnb_mil_3= MultinomialNB()\n",
    "mnb_mil_3.fit(x_train_mil_three, y_train_mil_three)\n",
    "predmnb = mnb_mil_3.predict(x_test_mil_three)\n",
    "\n",
    "print()\n",
    "print(\"Score:\", round(accuracy_score(y_test_mil_three, predmnb) * 100, 2))\n",
    "\n",
    "print()\n",
    "print(\"Classification Report:\")\n",
    "print(classification_report(y_test_mil_three, predmnb))"
   ]
  },
  {
   "attachments": {},
   "cell_type": "markdown",
   "metadata": {},
   "source": [
    "### 9.a.i. Modeling 10,000 (1-star, 2-star, 3-star, 4-star, and 5-star) reviews with Random Forest Classifier:"
   ]
  },
  {
   "cell_type": "code",
   "execution_count": 79,
   "metadata": {},
   "outputs": [
    {
     "name": "stdout",
     "output_type": "stream",
     "text": [
      "\n",
      "Score: 41.81\n",
      "\n",
      "Classification Report:\n",
      "              precision    recall  f1-score   support\n",
      "\n",
      "         1.0       0.47      0.66      0.55       145\n",
      "         2.0       0.44      0.23      0.30       163\n",
      "         3.0       0.33      0.36      0.35       149\n",
      "         4.0       0.38      0.25      0.30       156\n",
      "         5.0       0.45      0.62      0.52       150\n",
      "\n",
      "    accuracy                           0.42       763\n",
      "   macro avg       0.41      0.42      0.40       763\n",
      "weighted avg       0.41      0.42      0.40       763\n",
      "\n"
     ]
    }
   ],
   "source": [
    "from sklearn.ensemble import RandomForestClassifier\n",
    "rmfr_ten_5 = RandomForestClassifier()\n",
    "rmfr_ten_5.fit(x_train_ten_thou_five, y_train_ten_thou_five)\n",
    "predrmfr = rmfr_ten_5.predict(x_test_ten_thou_five)\n",
    "\n",
    "print()\n",
    "print(\"Score:\", round(accuracy_score(y_test_ten_thou_five, predrmfr) * 100, 2))\n",
    "\n",
    "print()\n",
    "print(\"Classification Report:\")\n",
    "print(classification_report(y_test_ten_thou_five, predrmfr))"
   ]
  },
  {
   "attachments": {},
   "cell_type": "markdown",
   "metadata": {},
   "source": [
    "### 9.a.ii. Modeling 10,000 (1-star and 5-star) reviews with Random Forest Classifier:"
   ]
  },
  {
   "cell_type": "code",
   "execution_count": 80,
   "metadata": {},
   "outputs": [
    {
     "name": "stdout",
     "output_type": "stream",
     "text": [
      "\n",
      "Score: 91.18\n",
      "\n",
      "Classification Report:\n",
      "              precision    recall  f1-score   support\n",
      "\n",
      "         1.0       0.92      0.91      0.91       156\n",
      "         5.0       0.91      0.91      0.91       150\n",
      "\n",
      "    accuracy                           0.91       306\n",
      "   macro avg       0.91      0.91      0.91       306\n",
      "weighted avg       0.91      0.91      0.91       306\n",
      "\n"
     ]
    }
   ],
   "source": [
    "from sklearn.ensemble import RandomForestClassifier\n",
    "rmfr_ten_2 = RandomForestClassifier()\n",
    "rmfr_ten_2.fit(x_train_ten_thou_two, y_train_ten_thou_two)\n",
    "predrmfr = rmfr_ten_2.predict(x_test_ten_thou_two)\n",
    "\n",
    "print()\n",
    "print(\"Score:\", round(accuracy_score(y_test_ten_thou_two, predrmfr) * 100, 2))\n",
    "\n",
    "print()\n",
    "print(\"Classification Report:\")\n",
    "print(classification_report(y_test_ten_thou_two, predrmfr))"
   ]
  },
  {
   "attachments": {},
   "cell_type": "markdown",
   "metadata": {},
   "source": [
    "### 9.a.iii. Modeling 10,000 (1-star, 3-star, and 5-star) reviews with Random Forest Classifier:"
   ]
  },
  {
   "cell_type": "code",
   "execution_count": 81,
   "metadata": {},
   "outputs": [
    {
     "name": "stdout",
     "output_type": "stream",
     "text": [
      "\n",
      "Score: 70.09\n",
      "\n",
      "Classification Report:\n",
      "              precision    recall  f1-score   support\n",
      "\n",
      "         1.0       0.72      0.86      0.78       153\n",
      "         3.0       0.72      0.54      0.62       166\n",
      "         5.0       0.66      0.71      0.69       139\n",
      "\n",
      "    accuracy                           0.70       458\n",
      "   macro avg       0.70      0.71      0.70       458\n",
      "weighted avg       0.70      0.70      0.69       458\n",
      "\n"
     ]
    }
   ],
   "source": [
    "from sklearn.ensemble import RandomForestClassifier\n",
    "rmfr_ten_3 = RandomForestClassifier()\n",
    "rmfr_ten_3.fit(x_train_ten_thou_three, y_train_ten_thou_three)\n",
    "predrmfr = rmfr_ten_3.predict(x_test_ten_thou_three)\n",
    "\n",
    "print()\n",
    "print(\"Score:\", round(accuracy_score(y_test_ten_thou_three, predrmfr) * 100, 2))\n",
    "\n",
    "print()\n",
    "print(\"Classification Report:\")\n",
    "print(classification_report(y_test_ten_thou_three, predrmfr))"
   ]
  },
  {
   "attachments": {},
   "cell_type": "markdown",
   "metadata": {},
   "source": [
    "### 9.b.i. Modeling 100,000 (1-star, 2-star, 3-star, 4-star, and 5-star) reviews with Random Forest Classifier:"
   ]
  },
  {
   "cell_type": "code",
   "execution_count": 82,
   "metadata": {},
   "outputs": [
    {
     "name": "stdout",
     "output_type": "stream",
     "text": [
      "\n",
      "Score: 49.67\n",
      "\n",
      "Classification Report:\n",
      "              precision    recall  f1-score   support\n",
      "\n",
      "         1.0       0.55      0.78      0.64      1626\n",
      "         2.0       0.45      0.33      0.38      1584\n",
      "         3.0       0.45      0.36      0.40      1650\n",
      "         4.0       0.43      0.32      0.37      1596\n",
      "         5.0       0.54      0.69      0.61      1532\n",
      "\n",
      "    accuracy                           0.50      7988\n",
      "   macro avg       0.48      0.50      0.48      7988\n",
      "weighted avg       0.48      0.50      0.48      7988\n",
      "\n"
     ]
    }
   ],
   "source": [
    "from sklearn.ensemble import RandomForestClassifier\n",
    "rmfr_hund_5 = RandomForestClassifier()\n",
    "rmfr_hund_5.fit(x_train_hund_thou_five, y_train_hund_thou_five)\n",
    "predrmfr = rmfr_hund_5.predict(x_test_hund_thou_five)\n",
    "\n",
    "print()\n",
    "print(\"Score:\", round(accuracy_score(y_test_hund_thou_five, predrmfr) * 100, 2))\n",
    "\n",
    "print()\n",
    "print(\"Classification Report:\")\n",
    "print(classification_report(y_test_hund_thou_five, predrmfr))"
   ]
  },
  {
   "attachments": {},
   "cell_type": "markdown",
   "metadata": {},
   "source": [
    "### 9.b.ii. Modeling 100,000 (1-star and 5-star) reviews with Random Forest Classifier:"
   ]
  },
  {
   "cell_type": "code",
   "execution_count": 83,
   "metadata": {},
   "outputs": [
    {
     "name": "stdout",
     "output_type": "stream",
     "text": [
      "\n",
      "Score: 93.71\n",
      "\n",
      "Classification Report:\n",
      "              precision    recall  f1-score   support\n",
      "\n",
      "         1.0       0.92      0.96      0.94      1604\n",
      "         5.0       0.95      0.92      0.94      1592\n",
      "\n",
      "    accuracy                           0.94      3196\n",
      "   macro avg       0.94      0.94      0.94      3196\n",
      "weighted avg       0.94      0.94      0.94      3196\n",
      "\n"
     ]
    }
   ],
   "source": [
    "from sklearn.ensemble import RandomForestClassifier\n",
    "rmfr_hund_2 = RandomForestClassifier()\n",
    "rmfr_hund_2.fit(x_train_hund_thou_two, y_train_hund_thou_two)\n",
    "predrmfr = rmfr_hund_2.predict(x_test_hund_thou_two)\n",
    "\n",
    "print()\n",
    "print(\"Score:\", round(accuracy_score(y_test_hund_thou_two, predrmfr) * 100, 2))\n",
    "\n",
    "print()\n",
    "print(\"Classification Report:\")\n",
    "print(classification_report(y_test_hund_thou_two, predrmfr))"
   ]
  },
  {
   "attachments": {},
   "cell_type": "markdown",
   "metadata": {},
   "source": [
    "### 9.b.iii. Modeling 100,000 (1-star, 3-star, and 5-star) reviews with Random Forest Classifier:"
   ]
  },
  {
   "cell_type": "code",
   "execution_count": 84,
   "metadata": {},
   "outputs": [
    {
     "name": "stdout",
     "output_type": "stream",
     "text": [
      "\n",
      "Score: 76.84\n",
      "\n",
      "Classification Report:\n",
      "              precision    recall  f1-score   support\n",
      "\n",
      "         1.0       0.78      0.85      0.81      1640\n",
      "         3.0       0.73      0.65      0.69      1604\n",
      "         5.0       0.79      0.81      0.80      1549\n",
      "\n",
      "    accuracy                           0.77      4793\n",
      "   macro avg       0.77      0.77      0.77      4793\n",
      "weighted avg       0.77      0.77      0.77      4793\n",
      "\n"
     ]
    }
   ],
   "source": [
    "from sklearn.ensemble import RandomForestClassifier\n",
    "rmfr_hund_3 = RandomForestClassifier()\n",
    "rmfr_hund_3.fit(x_train_hund_thou_three, y_train_hund_thou_three)\n",
    "predrmfr = rmfr_hund_3.predict(x_test_hund_thou_three)\n",
    "\n",
    "print()\n",
    "print(\"Score:\", round(accuracy_score(y_test_hund_thou_three, predrmfr) * 100, 2))\n",
    "\n",
    "print()\n",
    "print(\"Classification Report:\")\n",
    "print(classification_report(y_test_hund_thou_three, predrmfr))"
   ]
  },
  {
   "attachments": {},
   "cell_type": "markdown",
   "metadata": {},
   "source": [
    "### 9.c.i. Modeling 1,000,000 (1-star, 2-star, 3-star, 4-star, and 5-star) reviews with Random Forest Classifier:"
   ]
  },
  {
   "cell_type": "code",
   "execution_count": 85,
   "metadata": {},
   "outputs": [
    {
     "name": "stdout",
     "output_type": "stream",
     "text": [
      "\n",
      "Score: 77.93\n",
      "\n",
      "Classification Report:\n",
      "              precision    recall  f1-score   support\n",
      "\n",
      "         1.0       0.79      0.85      0.82      1640\n",
      "         3.0       0.75      0.66      0.70      1604\n",
      "         5.0       0.79      0.82      0.81      1549\n",
      "\n",
      "    accuracy                           0.78      4793\n",
      "   macro avg       0.78      0.78      0.78      4793\n",
      "weighted avg       0.78      0.78      0.78      4793\n",
      "\n"
     ]
    }
   ],
   "source": [
    "from sklearn.ensemble import RandomForestClassifier\n",
    "rmfr_mil_5 = RandomForestClassifier()\n",
    "rmfr_mil_5.fit(x_train_mil_five, y_train_mil_five)\n",
    "predrmfr = rmfr_mil_5.predict(x_test_mil_five)\n",
    "\n",
    "print()\n",
    "print(\"Score:\", round(accuracy_score(y_test_mil_five, predrmfr) * 100, 2))\n",
    "\n",
    "print()\n",
    "print(\"Classification Report:\")\n",
    "print(classification_report(y_test_mil_five, predrmfr))"
   ]
  },
  {
   "attachments": {},
   "cell_type": "markdown",
   "metadata": {},
   "source": [
    "### 9.c.ii. Modeling 1,000,000 (1-star and 5-star) reviews with Random Forest Classifier:"
   ]
  },
  {
   "cell_type": "code",
   "execution_count": 86,
   "metadata": {},
   "outputs": [
    {
     "name": "stdout",
     "output_type": "stream",
     "text": [
      "\n",
      "Score: 94.64\n",
      "\n",
      "Classification Report:\n",
      "              precision    recall  f1-score   support\n",
      "\n",
      "         1.0       0.93      0.96      0.95     15574\n",
      "         5.0       0.96      0.93      0.95     15591\n",
      "\n",
      "    accuracy                           0.95     31165\n",
      "   macro avg       0.95      0.95      0.95     31165\n",
      "weighted avg       0.95      0.95      0.95     31165\n",
      "\n"
     ]
    }
   ],
   "source": [
    "from sklearn.ensemble import RandomForestClassifier\n",
    "rmfr_mil_2 = RandomForestClassifier()\n",
    "rmfr_mil_2.fit(x_train_mil_two, y_train_mil_two)\n",
    "predrmfr = rmfr_mil_2.predict(x_test_mil_two)\n",
    "\n",
    "print()\n",
    "print(\"Score:\", round(accuracy_score(y_test_mil_two, predrmfr) * 100, 2))\n",
    "\n",
    "print()\n",
    "print(\"Classification Report:\")\n",
    "print(classification_report(y_test_mil_two, predrmfr))"
   ]
  },
  {
   "attachments": {},
   "cell_type": "markdown",
   "metadata": {},
   "source": [
    "### 9.c.iii. Modeling 1,000,000 (1-star, 3-star, and 5-star) reviews with Random Forest Classifier:"
   ]
  },
  {
   "cell_type": "code",
   "execution_count": 87,
   "metadata": {},
   "outputs": [
    {
     "name": "stdout",
     "output_type": "stream",
     "text": [
      "\n",
      "Score: 79.98\n",
      "\n",
      "Classification Report:\n",
      "              precision    recall  f1-score   support\n",
      "\n",
      "         1.0       0.80      0.87      0.84     15566\n",
      "         3.0       0.76      0.70      0.73     15502\n",
      "         5.0       0.84      0.83      0.83     15680\n",
      "\n",
      "    accuracy                           0.80     46748\n",
      "   macro avg       0.80      0.80      0.80     46748\n",
      "weighted avg       0.80      0.80      0.80     46748\n",
      "\n"
     ]
    }
   ],
   "source": [
    "from sklearn.ensemble import RandomForestClassifier\n",
    "rmfr_mil_3 = RandomForestClassifier()\n",
    "rmfr_mil_3.fit(x_train_mil_three, y_train_mil_three)\n",
    "predrmfr = rmfr_mil_3.predict(x_test_mil_three)\n",
    "\n",
    "print()\n",
    "print(\"Score:\", round(accuracy_score(y_test_mil_three, predrmfr) * 100, 2))\n",
    "\n",
    "print()\n",
    "print(\"Classification Report:\")\n",
    "print(classification_report(y_test_mil_three, predrmfr))"
   ]
  },
  {
   "attachments": {},
   "cell_type": "markdown",
   "metadata": {},
   "source": [
    "### 10.a.i. Modeling 10,000 (1-star, 2-star, 3-star, 4-star, and 5-star) reviews with the Decision Tree Classifier:"
   ]
  },
  {
   "cell_type": "code",
   "execution_count": 89,
   "metadata": {},
   "outputs": [
    {
     "name": "stdout",
     "output_type": "stream",
     "text": [
      "\n",
      "Score: 30.14\n",
      "\n",
      "Classification Report:\n",
      "              precision    recall  f1-score   support\n",
      "\n",
      "         1.0       0.43      0.41      0.42       145\n",
      "         2.0       0.33      0.29      0.31       163\n",
      "         3.0       0.20      0.21      0.21       149\n",
      "         4.0       0.26      0.23      0.25       156\n",
      "         5.0       0.30      0.37      0.33       150\n",
      "\n",
      "    accuracy                           0.30       763\n",
      "   macro avg       0.30      0.30      0.30       763\n",
      "weighted avg       0.30      0.30      0.30       763\n",
      "\n"
     ]
    }
   ],
   "source": [
    "from sklearn.tree import DecisionTreeClassifier\n",
    "dt_ten_5 = DecisionTreeClassifier()\n",
    "dt_ten_5.fit(x_train_ten_thou_five, y_train_ten_thou_five)\n",
    "preddt = dt_ten_5.predict(x_test_ten_thou_five)\n",
    "\n",
    "print()\n",
    "print(\"Score:\",round(accuracy_score(y_test_ten_thou_five, preddt) * 100, 2))\n",
    "\n",
    "print()\n",
    "print(\"Classification Report:\")\n",
    "print(classification_report(y_test_ten_thou_five, preddt))"
   ]
  },
  {
   "attachments": {},
   "cell_type": "markdown",
   "metadata": {},
   "source": [
    "### 10.a.ii. Modeling 10,000 (1-star and 5-star) reviews with the Decision Tree Classifier:"
   ]
  },
  {
   "cell_type": "code",
   "execution_count": 90,
   "metadata": {},
   "outputs": [
    {
     "name": "stdout",
     "output_type": "stream",
     "text": [
      "\n",
      "Score: 77.45\n",
      "\n",
      "Classification Report:\n",
      "              precision    recall  f1-score   support\n",
      "\n",
      "         1.0       0.78      0.78      0.78       156\n",
      "         5.0       0.77      0.77      0.77       150\n",
      "\n",
      "    accuracy                           0.77       306\n",
      "   macro avg       0.77      0.77      0.77       306\n",
      "weighted avg       0.77      0.77      0.77       306\n",
      "\n"
     ]
    }
   ],
   "source": [
    "from sklearn.tree import DecisionTreeClassifier\n",
    "dt_ten_2 = DecisionTreeClassifier()\n",
    "dt_ten_2.fit(x_train_ten_thou_two, y_train_ten_thou_two)\n",
    "preddt = dt_ten_2.predict(x_test_ten_thou_two)\n",
    "\n",
    "print()\n",
    "print(\"Score:\",round(accuracy_score(y_test_ten_thou_two, preddt) * 100, 2))\n",
    "\n",
    "print()\n",
    "print(\"Classification Report:\")\n",
    "print(classification_report(y_test_ten_thou_two, preddt))"
   ]
  },
  {
   "attachments": {},
   "cell_type": "markdown",
   "metadata": {},
   "source": [
    "### 10.a.iii. Modeling 10,000 (1-star, 3-star, and 5-star) reviews with the Decision Tree Classifier:"
   ]
  },
  {
   "cell_type": "code",
   "execution_count": 91,
   "metadata": {},
   "outputs": [
    {
     "name": "stdout",
     "output_type": "stream",
     "text": [
      "\n",
      "Score: 52.62\n",
      "\n",
      "Classification Report:\n",
      "              precision    recall  f1-score   support\n",
      "\n",
      "         1.0       0.63      0.62      0.63       153\n",
      "         3.0       0.49      0.46      0.48       166\n",
      "         5.0       0.46      0.50      0.48       139\n",
      "\n",
      "    accuracy                           0.53       458\n",
      "   macro avg       0.53      0.53      0.53       458\n",
      "weighted avg       0.53      0.53      0.53       458\n",
      "\n"
     ]
    }
   ],
   "source": [
    "from sklearn.tree import DecisionTreeClassifier\n",
    "dt_ten_3 = DecisionTreeClassifier()\n",
    "dt_ten_3.fit(x_train_ten_thou_three, y_train_ten_thou_three)\n",
    "preddt = dt_ten_3.predict(x_test_ten_thou_three)\n",
    "\n",
    "print()\n",
    "print(\"Score:\",round(accuracy_score(y_test_ten_thou_three, preddt) * 100, 2))\n",
    "\n",
    "print()\n",
    "print(\"Classification Report:\")\n",
    "print(classification_report(y_test_ten_thou_three, preddt))"
   ]
  },
  {
   "attachments": {},
   "cell_type": "markdown",
   "metadata": {},
   "source": [
    "### 10.b.i. Modeling 100,000 (1-star, 2-star, 3-star, 4-star, and 5-star) reviews with the Decision Tree Classifier:"
   ]
  },
  {
   "cell_type": "code",
   "execution_count": 92,
   "metadata": {},
   "outputs": [
    {
     "name": "stdout",
     "output_type": "stream",
     "text": [
      "\n",
      "Score: 37.56\n",
      "\n",
      "Classification Report:\n",
      "              precision    recall  f1-score   support\n",
      "\n",
      "         1.0       0.50      0.51      0.50      1626\n",
      "         2.0       0.30      0.29      0.30      1584\n",
      "         3.0       0.32      0.31      0.31      1650\n",
      "         4.0       0.32      0.30      0.31      1596\n",
      "         5.0       0.42      0.47      0.45      1532\n",
      "\n",
      "    accuracy                           0.38      7988\n",
      "   macro avg       0.37      0.38      0.37      7988\n",
      "weighted avg       0.37      0.38      0.37      7988\n",
      "\n"
     ]
    }
   ],
   "source": [
    "from sklearn.tree import DecisionTreeClassifier\n",
    "dt_hund_5 = DecisionTreeClassifier()\n",
    "dt_hund_5.fit(x_train_hund_thou_five, y_train_hund_thou_five)\n",
    "preddt = dt_hund_5.predict(x_test_hund_thou_five)\n",
    "\n",
    "print()\n",
    "print(\"Score:\",round(accuracy_score(y_test_hund_thou_five, preddt) * 100, 2))\n",
    "\n",
    "print()\n",
    "print(\"Classification Report:\")\n",
    "print(classification_report(y_test_hund_thou_five, preddt))"
   ]
  },
  {
   "attachments": {},
   "cell_type": "markdown",
   "metadata": {},
   "source": [
    "### 10.b.ii. Modeling 100,000 (1-star and 5-star) reviews with the Decision Tree Classifier:"
   ]
  },
  {
   "cell_type": "code",
   "execution_count": 93,
   "metadata": {},
   "outputs": [
    {
     "name": "stdout",
     "output_type": "stream",
     "text": [
      "\n",
      "Score: 85.67\n",
      "\n",
      "Classification Report:\n",
      "              precision    recall  f1-score   support\n",
      "\n",
      "         1.0       0.86      0.86      0.86      1604\n",
      "         5.0       0.86      0.85      0.86      1592\n",
      "\n",
      "    accuracy                           0.86      3196\n",
      "   macro avg       0.86      0.86      0.86      3196\n",
      "weighted avg       0.86      0.86      0.86      3196\n",
      "\n"
     ]
    }
   ],
   "source": [
    "from sklearn.tree import DecisionTreeClassifier\n",
    "dt_hund_2 = DecisionTreeClassifier()\n",
    "dt_hund_2.fit(x_train_hund_thou_two, y_train_hund_thou_two)\n",
    "preddt = dt_hund_2.predict(x_test_hund_thou_two)\n",
    "\n",
    "print()\n",
    "print(\"Score:\",round(accuracy_score(y_test_hund_thou_two, preddt) * 100, 2))\n",
    "\n",
    "print()\n",
    "print(\"Classification Report:\")\n",
    "print(classification_report(y_test_hund_thou_two, preddt))"
   ]
  },
  {
   "attachments": {},
   "cell_type": "markdown",
   "metadata": {},
   "source": [
    "### 10.b.iii. Modeling 100,000 (1-star, 3-star, and 5-star) reviews with the Decision Tree Classifier:"
   ]
  },
  {
   "cell_type": "code",
   "execution_count": 94,
   "metadata": {},
   "outputs": [
    {
     "name": "stdout",
     "output_type": "stream",
     "text": [
      "\n",
      "Score: 63.78\n",
      "\n",
      "Classification Report:\n",
      "              precision    recall  f1-score   support\n",
      "\n",
      "         1.0       0.70      0.67      0.68      1640\n",
      "         3.0       0.57      0.55      0.56      1604\n",
      "         5.0       0.64      0.70      0.67      1549\n",
      "\n",
      "    accuracy                           0.64      4793\n",
      "   macro avg       0.64      0.64      0.64      4793\n",
      "weighted avg       0.64      0.64      0.64      4793\n",
      "\n"
     ]
    }
   ],
   "source": [
    "from sklearn.tree import DecisionTreeClassifier\n",
    "dt_hund_3 = DecisionTreeClassifier()\n",
    "dt_hund_3.fit(x_train_hund_thou_three, y_train_hund_thou_three)\n",
    "preddt = dt_hund_3.predict(x_test_hund_thou_three)\n",
    "\n",
    "print()\n",
    "print(\"Score:\",round(accuracy_score(y_test_hund_thou_three, preddt) * 100, 2))\n",
    "\n",
    "print()\n",
    "print(\"Classification Report:\")\n",
    "print(classification_report(y_test_hund_thou_three, preddt))"
   ]
  },
  {
   "attachments": {},
   "cell_type": "markdown",
   "metadata": {},
   "source": [
    "### 10.c.i. Modeling 1,000,000 (1-star, 2-star, 3-star, 4-star, and 5-star) reviews with the Decision Tree Classifier:"
   ]
  },
  {
   "cell_type": "code",
   "execution_count": 95,
   "metadata": {},
   "outputs": [
    {
     "name": "stdout",
     "output_type": "stream",
     "text": [
      "\n",
      "Score: 63.45\n",
      "\n",
      "Classification Report:\n",
      "              precision    recall  f1-score   support\n",
      "\n",
      "         1.0       0.70      0.66      0.68      1640\n",
      "         3.0       0.56      0.56      0.56      1604\n",
      "         5.0       0.64      0.68      0.66      1549\n",
      "\n",
      "    accuracy                           0.63      4793\n",
      "   macro avg       0.63      0.63      0.63      4793\n",
      "weighted avg       0.64      0.63      0.63      4793\n",
      "\n"
     ]
    }
   ],
   "source": [
    "from sklearn.tree import DecisionTreeClassifier\n",
    "dt_mil_5 = DecisionTreeClassifier()\n",
    "dt_mil_5.fit(x_train_mil_five, y_train_mil_five)\n",
    "preddt = dt_mil_5.predict(x_test_mil_five)\n",
    "\n",
    "print()\n",
    "print(\"Score:\",round(accuracy_score(y_test_mil_five, preddt) * 100, 2))\n",
    "\n",
    "print()\n",
    "print(\"Classification Report:\")\n",
    "print(classification_report(y_test_mil_five, preddt))"
   ]
  },
  {
   "attachments": {},
   "cell_type": "markdown",
   "metadata": {},
   "source": [
    "### 10.c.ii. Modeling 1,000,000 (1-star and 5-star) reviews with the Decision Tree Classifier:"
   ]
  },
  {
   "cell_type": "code",
   "execution_count": 96,
   "metadata": {},
   "outputs": [
    {
     "name": "stdout",
     "output_type": "stream",
     "text": [
      "\n",
      "Score: 88.18\n",
      "\n",
      "Classification Report:\n",
      "              precision    recall  f1-score   support\n",
      "\n",
      "         1.0       0.88      0.88      0.88     15574\n",
      "         5.0       0.88      0.88      0.88     15591\n",
      "\n",
      "    accuracy                           0.88     31165\n",
      "   macro avg       0.88      0.88      0.88     31165\n",
      "weighted avg       0.88      0.88      0.88     31165\n",
      "\n"
     ]
    }
   ],
   "source": [
    "from sklearn.tree import DecisionTreeClassifier\n",
    "dt_mil_2 = DecisionTreeClassifier()\n",
    "dt_mil_2.fit(x_train_mil_two, y_train_mil_two)\n",
    "preddt = dt_mil_2.predict(x_test_mil_two)\n",
    "\n",
    "print()\n",
    "print(\"Score:\",round(accuracy_score(y_test_mil_two, preddt) * 100, 2))\n",
    "\n",
    "print()\n",
    "print(\"Classification Report:\")\n",
    "print(classification_report(y_test_mil_two, preddt))"
   ]
  },
  {
   "attachments": {},
   "cell_type": "markdown",
   "metadata": {},
   "source": [
    "### 10.c.iii. Modeling 1,000,000 (1-star, 3-star, and 5-star) reviews with the Decision Tree Classifier:"
   ]
  },
  {
   "cell_type": "code",
   "execution_count": 97,
   "metadata": {},
   "outputs": [
    {
     "name": "stdout",
     "output_type": "stream",
     "text": [
      "\n",
      "Score: 67.77\n",
      "\n",
      "Classification Report:\n",
      "              precision    recall  f1-score   support\n",
      "\n",
      "         1.0       0.73      0.72      0.72     15566\n",
      "         3.0       0.59      0.60      0.59     15502\n",
      "         5.0       0.71      0.72      0.71     15680\n",
      "\n",
      "    accuracy                           0.68     46748\n",
      "   macro avg       0.68      0.68      0.68     46748\n",
      "weighted avg       0.68      0.68      0.68     46748\n",
      "\n"
     ]
    }
   ],
   "source": [
    "from sklearn.tree import DecisionTreeClassifier\n",
    "dt_mil_3 = DecisionTreeClassifier()\n",
    "dt_mil_3.fit(x_train_mil_three, y_train_mil_three)\n",
    "preddt = dt_mil_3.predict(x_test_mil_three)\n",
    "\n",
    "print()\n",
    "print(\"Score:\",round(accuracy_score(y_test_mil_three, preddt) * 100, 2))\n",
    "\n",
    "print()\n",
    "print(\"Classification Report:\")\n",
    "print(classification_report(y_test_mil_three, preddt))"
   ]
  },
  {
   "attachments": {},
   "cell_type": "markdown",
   "metadata": {},
   "source": [
    "From the above models, we can compare the accuracy scores:\n",
    "* Multinomial Naive Bayes: \n",
    "\n",
    "|           | 1-5 star | 1 & 5 star | 1, 3, 5 star |\n",
    "|-----------|----------|------------|--------------|\n",
    "| 10,000    | <span style='background:lightcoral'> 47.05  </span>| <span style='background:lightgreen'> 90.52  </span>   | <span style='background:lightgoldenrodyellow'> 74.67 </span> |\n",
    "| 100,000   | <span style='background:lightcoral'> 52.77 </span> | <span style='background:lightgreen'> **94.9** </span> | <span style='background:lightgoldenrodyellow'> 78.24 </span> |\n",
    "| 1,000,000 | <span style='background:lightgoldenrodyellow'> 78.24 </span>     | <span style='background:lightgreen'> 93.54 </span>    | <span style='background:lightgoldenrodyellow'> 79.66 </span> |\n",
    "\n",
    "\n",
    "* Random Forest Classifier:\n",
    "\n",
    "|           | 1-5 star | 1 & 5 star | 1, 3, 5 star |\n",
    "|-----------|----------|------------|--------------|\n",
    "| 10,000    | <span style='background:lightcoral'> 41.81 </span> | <span style='background:lightgreen'> 91.18 </span>     | <span style='background:lightgoldenrodyellow'> 70.09 </span> |\n",
    "| 100,000   | <span style='background:lightcoral'> 49.67 </span> | <span style='background:lightgreen'> 93.71 </span>     | <span style='background:lightgoldenrodyellow'> 76.84 </span> |\n",
    "| 1,000,000 | <span style='background:lightgoldenrodyellow'> 77.93 </span>     | <span style='background:lightgreen'> **94.64** </span> | <span style='background:lightgoldenrodyellow'> 79.98 </span> |\n",
    "\n",
    "* Decision Tree Classifier:\n",
    "\n",
    "|           | 1-5 star | 1 & 5 star | 1, 3, 5 star |\n",
    "|-----------|----------|------------|--------------|\n",
    "| 10,000    | <span style='background:lightcoral'> 30.14 </span> | <span style='background:lightgoldenrodyellow'> 77.45 </span>         | <span style='background:lightcoral'> 52.62 </span> |\n",
    "| 100,000   | <span style='background:lightcoral'> 37.56 </span> | <span style='background:lightgreen'> 85.67 </span>     | <span style='background:lightgoldenrodyellow'> 63.78 </span>     |\n",
    "| 1,000,000 | <span style='background:lightgoldenrodyellow'> 63.45 </span>     | <span style='background:lightgreen'> **88.18** </span> | <span style='background:lightgoldenrodyellow'> 67.77 </span>     |\n",
    "\n",
    "Since the Multinomial Naive Bayes makes the most accurate prediction, let's use it to predict a sample positive, a sample neutral, and a sample negative review:"
   ]
  },
  {
   "attachments": {},
   "cell_type": "markdown",
   "metadata": {},
   "source": [
    "### 11. Classify a positive review:"
   ]
  },
  {
   "cell_type": "code",
   "execution_count": 108,
   "metadata": {},
   "outputs": [
    {
     "name": "stdout",
     "output_type": "stream",
     "text": [
      "\n",
      "Sample positive review:\n",
      "I've taken a lot of spin classes over the years, and nothing compares to the classes at Body Cycle. From the nice, clean space and amazing bikes, to the welcoming and motivating instructors, every class is a top notch work out.\n",
      "\n",
      "For anyone who struggles to fit workouts in, the online scheduling system makes it easy to plan ahead (and there's no need to line up way in advanced like many gyms make you do).\n",
      "\n",
      "There is no way I can write this review without giving Russell, the owner of Body Cycle, a shout out. Russell's passion for fitness and cycling is so evident, as is his desire for all of his clients to succeed. He is always dropping in to classes to check in/provide encouragement, and is open to ideas and recommendations from anyone. Russell always wears a smile on his face, even when he's kicking your butt in class!\n",
      "\n",
      "Actual Rating:  5.0\n",
      "Predicted Rating: 5.0\n"
     ]
    }
   ],
   "source": [
    "pos_rev = yelp_sample_equal_hund_thou['text'][5][1]\n",
    "pos_rev_trans = vocab_hund_thou_two.transform([pos_rev])\n",
    "\n",
    "print()\n",
    "print(\"Sample positive review:\")\n",
    "print(pos_rev)\n",
    "\n",
    "print()\n",
    "print(\"Actual Rating: \", yelp_sample_equal_hund_thou['stars'][5][1])\n",
    "print(\"Predicted Rating:\", mnb_hund_2.predict(pos_rev_trans)[0])\n"
   ]
  },
  {
   "attachments": {},
   "cell_type": "markdown",
   "metadata": {},
   "source": [
    "### 12. Classify a negative review:"
   ]
  },
  {
   "cell_type": "code",
   "execution_count": 113,
   "metadata": {},
   "outputs": [
    {
     "name": "stdout",
     "output_type": "stream",
     "text": [
      "\n",
      "Sample negative review:\n",
      "I am a long term frequent customer of this establishment. I just went in to order take out (3 apps) and was told they're too busy to do it. Really? The place is maybe half full at best. Does your dick reach your ass? Yes? Go fuck yourself! I'm a frequent customer AND great tipper. Glad that Kanella just opened. NEVER going back to dmitris!\n",
      "\n",
      "Actual Rating:  1.0\n",
      "Predicted Rating: 1.0\n"
     ]
    }
   ],
   "source": [
    "neg_rev = yelp_sample_equal_hund_thou['text'][1][5]\n",
    "neg_rev_trans = vocab_hund_thou_two.transform([neg_rev])\n",
    "\n",
    "print()\n",
    "print(\"Sample negative review:\")\n",
    "print(neg_rev)\n",
    "\n",
    "print()\n",
    "print(\"Actual Rating: \", yelp_sample_equal_hund_thou['stars'][1][5])\n",
    "print(\"Predicted Rating:\", mnb_hund_2.predict(neg_rev_trans)[0])\n"
   ]
  }
 ],
 "metadata": {
  "kernelspec": {
   "display_name": "Python 3",
   "language": "python",
   "name": "python3"
  },
  "language_info": {
   "codemirror_mode": {
    "name": "ipython",
    "version": 3
   },
   "file_extension": ".py",
   "mimetype": "text/x-python",
   "name": "python",
   "nbconvert_exporter": "python",
   "pygments_lexer": "ipython3",
   "version": "3.11.3"
  },
  "orig_nbformat": 4
 },
 "nbformat": 4,
 "nbformat_minor": 2
}
